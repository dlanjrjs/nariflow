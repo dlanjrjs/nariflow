{
 "cells": [
  {
   "cell_type": "code",
   "execution_count": 1,
   "metadata": {},
   "outputs": [],
   "source": [
    "from nariflow import Variable\n",
    "from nariflow import optimizer\n",
    "from nariflow import GradientTape\n",
    "#from nariflow import calc_gradient\n",
    "from nariflow import layer\n",
    "from nariflow.models import Model\n",
    "from nariflow import functions as f\n",
    "from nariflow.core import elementary_function as ef\n",
    "from nariflow.core import shape_function as sf\n",
    "import numpy as np\n",
    "import pandas as pd\n",
    "\n",
    "import tensorflow as tf\n",
    "\n",
    "import matplotlib.pyplot as plt\n",
    "\n",
    "import time\n",
    "\n",
    "from sklearn.model_selection import train_test_split\n",
    "from sklearn.metrics import accuracy_score, f1_score, confusion_matrix\n",
    "\n",
    "from tensorflow.keras.layers.experimental import preprocessing"
   ]
  },
  {
   "cell_type": "code",
   "execution_count": 2,
   "metadata": {},
   "outputs": [],
   "source": [
    "dataset_url = 'http://storage.googleapis.com/download.tensorflow.org/data/petfinder-mini.zip'\n",
    "csv_file = 'datasets/petfinder-mini/petfinder-mini.csv'\n",
    "\n",
    "tf.keras.utils.get_file('petfinder_mini.zip', dataset_url,\n",
    "                        extract=True, cache_dir='.')\n",
    "dataframe = pd.read_csv(csv_file)"
   ]
  },
  {
   "cell_type": "code",
   "execution_count": 3,
   "metadata": {},
   "outputs": [],
   "source": [
    "# In the original dataset \"4\" indicates the pet was not adopted.\n",
    "dataframe['target'] = np.where(dataframe['AdoptionSpeed']==4, 0, 1)\n",
    "\n",
    "# Drop un-used columns.\n",
    "dataframe = dataframe.drop(columns=['AdoptionSpeed', 'Description'])"
   ]
  },
  {
   "cell_type": "code",
   "execution_count": 4,
   "metadata": {
    "scrolled": true
   },
   "outputs": [
    {
     "name": "stdout",
     "output_type": "stream",
     "text": [
      "7383 train examples\n",
      "1846 validation examples\n",
      "2308 test examples\n"
     ]
    }
   ],
   "source": [
    "train, test = train_test_split(dataframe, test_size=0.2)\n",
    "train, val = train_test_split(train, test_size=0.2)\n",
    "print(len(train), 'train examples')\n",
    "print(len(val), 'validation examples')\n",
    "print(len(test), 'test examples')"
   ]
  },
  {
   "cell_type": "code",
   "execution_count": 5,
   "metadata": {},
   "outputs": [],
   "source": [
    "train_processing = pd.concat([pd.get_dummies(train.loc[:, train.apply(lambda x : x.dtype == 'object')]),\n",
    "           train.loc[:,train.apply(lambda x : x.dtype != 'object')].apply(lambda x : (x - min(x)) / (max(x) - min(x)) )], \n",
    "          axis = 1)"
   ]
  },
  {
   "cell_type": "code",
   "execution_count": 6,
   "metadata": {},
   "outputs": [],
   "source": [
    "y_train = np.array(pd.get_dummies(train_processing.loc[:,'target']))"
   ]
  },
  {
   "cell_type": "code",
   "execution_count": 7,
   "metadata": {},
   "outputs": [],
   "source": [
    "X_train = train_processing.drop(['target'], axis = 1).to_numpy()"
   ]
  },
  {
   "cell_type": "code",
   "execution_count": 22,
   "metadata": {},
   "outputs": [],
   "source": [
    "test_processing = pd.concat([pd.get_dummies(test.loc[:, test.apply(lambda x : x.dtype == 'object')]),\n",
    "           test.loc[:,test.apply(lambda x : x.dtype != 'object')].apply(lambda x : (x - min(x)) / (max(x) - min(x)) )], \n",
    "          axis = 1)\n",
    "\n",
    "test_processing = pd.concat([pd.DataFrame(columns = train_processing.columns),\n",
    "           test_processing])[train_processing.columns].fillna(0)"
   ]
  },
  {
   "cell_type": "code",
   "execution_count": 23,
   "metadata": {},
   "outputs": [],
   "source": [
    "y_test = np.array(pd.get_dummies(test_processing.loc[:,'target']))"
   ]
  },
  {
   "cell_type": "code",
   "execution_count": 24,
   "metadata": {},
   "outputs": [],
   "source": [
    "X_test= test_processing.drop(['target'], axis = 1).to_numpy()"
   ]
  },
  {
   "cell_type": "code",
   "execution_count": 11,
   "metadata": {},
   "outputs": [],
   "source": [
    "lr = 0.2\n",
    "max_iter = 10000\n",
    "hidden_size = 200\n",
    "out_size = 2"
   ]
  },
  {
   "cell_type": "code",
   "execution_count": 12,
   "metadata": {},
   "outputs": [],
   "source": [
    "class Models(Model):\n",
    "    def __init__(self, hidden_size, out_size):\n",
    "        super().__init__()\n",
    "        self.l1 = layer.Linear(hidden_size, initializer_func='he_uniform')\n",
    "        self.l2 = layer.Linear(hidden_size, initializer_func='he_uniform')\n",
    "        self.l3 = layer.Linear(out_size, initializer_func='he_uniform')\n",
    "        \n",
    "    def forward(self, x):\n",
    "        y = self.l1(x)\n",
    "        y = f.activation.relu(y)\n",
    "        y = self.l2(y)\n",
    "        y = f.activation.relu(y)\n",
    "        y = self.l3(y)\n",
    "        y = f.activation.softmax(y)\n",
    "        return y"
   ]
  },
  {
   "cell_type": "code",
   "execution_count": 13,
   "metadata": {},
   "outputs": [],
   "source": [
    "lr = 0.001"
   ]
  },
  {
   "cell_type": "code",
   "execution_count": 14,
   "metadata": {},
   "outputs": [
    {
     "data": {
      "text/plain": [
       "<nariflow.optimizer.Adam.Adam at 0x24d670dc7f0>"
      ]
     },
     "execution_count": 14,
     "metadata": {},
     "output_type": "execute_result"
    }
   ],
   "source": [
    "model = Models(hidden_size, out_size)\n",
    "\n",
    "optimizers = optimizer.Adam(lr)\n",
    "\n",
    "optimizers.setup(model)"
   ]
  },
  {
   "cell_type": "code",
   "execution_count": 15,
   "metadata": {},
   "outputs": [],
   "source": [
    "X_train = Variable(np.array(X_train))"
   ]
  },
  {
   "cell_type": "code",
   "execution_count": 16,
   "metadata": {},
   "outputs": [],
   "source": [
    "y_train = Variable(y_train)"
   ]
  },
  {
   "cell_type": "code",
   "execution_count": 17,
   "metadata": {
    "scrolled": false
   },
   "outputs": [
    {
     "name": "stdout",
     "output_type": "stream",
     "text": [
      "0.6931831233946868\n",
      "0.6754441202633934\n",
      "0.6033499111347325\n",
      "0.6043617703511832\n",
      "0.6111916327126737\n",
      "0.5834299119647848\n",
      "0.59000265864862\n",
      "0.5869876625133923\n",
      "0.5803393245111558\n",
      "0.576062959299528\n",
      "0.5792727475938164\n",
      "0.5726181290667092\n",
      "0.567564030411308\n",
      "0.5658966225058641\n",
      "0.5643681041795446\n",
      "0.5631360138600756\n",
      "0.562275522622809\n",
      "0.5580200210615406\n",
      "0.5561463120872129\n",
      "0.5531259465141979\n",
      "0.5394528508663881\n",
      "0.544614291779582\n",
      "0.550278751640917\n",
      "0.5359849355007865\n",
      "0.5350226521203726\n",
      "0.5355807907969174\n",
      "0.5287257165875052\n",
      "0.5167074797547105\n",
      "0.5112440848728657\n",
      "0.5202697695447559\n",
      "0.524621274050521\n",
      "0.5053470811095445\n",
      "0.49765670562905856\n",
      "0.4924726486140301\n",
      "0.4981872445715982\n",
      "0.5113023206040391\n",
      "0.5113047535997681\n",
      "0.46890468773948524\n",
      "0.47790086254844943\n",
      "0.4824344421910018\n",
      "0.45584902558175094\n",
      "0.4534039132742109\n",
      "0.44810746541052704\n",
      "0.4379277186050694\n",
      "0.43564509033830806\n",
      "0.44952234994545825\n",
      "0.4620631687152774\n",
      "0.4291767641855274\n",
      "0.43716339823481637\n",
      "0.425332913128518\n",
      "0.4264012035485206\n",
      "0.45411260840050244\n",
      "0.509063979720017\n",
      "0.4300299389828623\n",
      "0.4239947921246826\n",
      "0.45741324265017835\n",
      "0.42529207458949964\n",
      "0.4171735590791603\n",
      "0.42952840124668984\n",
      "0.4146560918309454\n",
      "0.4073609098324548\n",
      "0.40929492269002105\n",
      "0.4095057000167533\n",
      "0.40646945777545684\n",
      "0.40289961241910055\n",
      "0.4006130277000268\n",
      "0.3993095298062583\n",
      "0.39869283552168383\n",
      "0.3987185732954874\n",
      "0.39769134783707827\n",
      "0.3971137325806297\n",
      "0.3965599921733989\n",
      "0.3990804815052391\n",
      "0.5513575559258618\n",
      "0.4662877931188844\n",
      "0.4894379186156786\n",
      "0.4517390961825068\n",
      "0.5321504373774081\n",
      "0.4735252102039999\n",
      "0.47627325058857656\n",
      "0.48997041880326897\n",
      "0.4702856456553114\n",
      "0.4634009043413722\n",
      "0.46749210239349265\n",
      "0.4639176134023262\n",
      "0.45436131331574775\n",
      "0.45097371430871924\n",
      "0.4491579098268583\n",
      "0.4436660873730944\n",
      "0.4405260675451832\n",
      "0.4377651575019664\n",
      "0.43378934099005373\n",
      "0.4319140833191075\n",
      "0.42766762438076894\n",
      "0.4244071848715064\n",
      "0.42149428433467034\n",
      "0.4189593168725327\n",
      "0.41646765864607743\n",
      "0.4144286912849758\n",
      "0.4122064105639166\n",
      "0.40866055088446046\n",
      "0.4097394094294482\n",
      "0.40513432964380874\n",
      "0.40437845965171465\n",
      "0.40166573029754715\n",
      "0.4009069905675429\n",
      "0.3984359060398966\n",
      "0.3965601709789296\n",
      "0.3950580750479639\n",
      "0.39427025149410394\n",
      "0.3910790420096503\n",
      "0.39078765061058895\n",
      "0.39004566262163376\n",
      "0.3895775410574821\n",
      "0.3866945267709035\n",
      "0.38343232857701337\n",
      "0.38742757121984855\n",
      "0.3862634264232042\n",
      "0.38568358707021905\n",
      "0.3815049950961954\n",
      "total_time :  47.36608290672302\n"
     ]
    }
   ],
   "source": [
    "start_time = time.time()\n",
    "for i in range(600):\n",
    "    with GradientTape() as tape:\n",
    "        y_pred = model(X_train)\n",
    "        \n",
    "        loss = f.loss.categorical_crossentropy(y_train, y_pred)\n",
    "        \n",
    "    tape.CalcGradient()\n",
    "    \n",
    "    optimizers.update()\n",
    "    \n",
    "    if i % 5 == 0:\n",
    "        print(loss.data)\n",
    "\n",
    "print('total_time : ', time.time() - start_time)"
   ]
  },
  {
   "cell_type": "code",
   "execution_count": 18,
   "metadata": {},
   "outputs": [],
   "source": [
    "X_test = Variable(np.array(X_test))"
   ]
  },
  {
   "cell_type": "code",
   "execution_count": 25,
   "metadata": {},
   "outputs": [],
   "source": [
    "y_pred = model(X_test)"
   ]
  },
  {
   "cell_type": "code",
   "execution_count": 26,
   "metadata": {},
   "outputs": [
    {
     "data": {
      "text/plain": [
       "0.8313513513513513"
      ]
     },
     "execution_count": 26,
     "metadata": {},
     "output_type": "execute_result"
    }
   ],
   "source": [
    "f1_score(np.argmax(y_pred.data, axis = -1), \n",
    "               np.argmax(y_test.data, axis = -1))"
   ]
  },
  {
   "cell_type": "code",
   "execution_count": 27,
   "metadata": {},
   "outputs": [
    {
     "data": {
      "text/plain": [
       "0.729636048526863"
      ]
     },
     "execution_count": 27,
     "metadata": {},
     "output_type": "execute_result"
    }
   ],
   "source": [
    "accuracy_score(np.argmax(y_pred.data, axis = -1), \n",
    "               np.argmax(y_test.data, axis = -1))"
   ]
  },
  {
   "cell_type": "code",
   "execution_count": 28,
   "metadata": {
    "scrolled": true
   },
   "outputs": [
    {
     "data": {
      "text/plain": [
       "array([[ 146,  177],\n",
       "       [ 447, 1538]], dtype=int64)"
      ]
     },
     "execution_count": 28,
     "metadata": {},
     "output_type": "execute_result"
    }
   ],
   "source": [
    "confusion_matrix(np.argmax(y_pred.data, axis = -1), \n",
    "               np.argmax(y_test.data, axis = -1))"
   ]
  },
  {
   "cell_type": "markdown",
   "metadata": {},
   "source": [
    "### 텐서플로우 공식 도큐의 Accuracy는 74%이다.\n",
    "### 결론 : 다중분류도 문제없이 작동한다."
   ]
  }
 ],
 "metadata": {
  "kernelspec": {
   "display_name": "Python 3",
   "language": "python",
   "name": "python3"
  },
  "language_info": {
   "codemirror_mode": {
    "name": "ipython",
    "version": 3
   },
   "file_extension": ".py",
   "mimetype": "text/x-python",
   "name": "python",
   "nbconvert_exporter": "python",
   "pygments_lexer": "ipython3",
   "version": "3.8.5"
  }
 },
 "nbformat": 4,
 "nbformat_minor": 4
}
