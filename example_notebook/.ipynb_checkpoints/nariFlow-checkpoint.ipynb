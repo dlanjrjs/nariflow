{
 "cells": [
  {
   "cell_type": "code",
   "execution_count": 1,
   "id": "f3df64d2",
   "metadata": {},
   "outputs": [
    {
     "name": "stderr",
     "output_type": "stream",
     "text": [
      "C:\\Users\\never\\anaconda3\\envs\\nariflow\\lib\\site-packages\\cupy\\_environment.py:213: UserWarning: CUDA path could not be detected. Set CUDA_PATH environment variable if CuPy fails to load.\n",
      "  warnings.warn(\n"
     ]
    },
    {
     "name": "stdout",
     "output_type": "stream",
     "text": [
      "\n",
      "================================================================\n",
      "Failed to import CuPy.\n",
      "\n",
      "If you installed CuPy via wheels (cupy-cudaXXX or cupy-rocm-X-X), make sure that the package matches with the version of CUDA or ROCm installed.\n",
      "\n",
      "On Linux, you may need to set LD_LIBRARY_PATH environment variable depending on how you installed CUDA/ROCm.\n",
      "On Windows, try setting CUDA_PATH environment variable.\n",
      "\n",
      "Check the Installation Guide for details:\n",
      "  https://docs.cupy.dev/en/latest/install.html\n",
      "\n",
      "Original error:\n",
      "  ImportError: DLL load failed while importing runtime: 지정된 모듈을 찾을 수 없습니다.\n",
      "================================================================\n",
      "\n"
     ]
    }
   ],
   "source": [
    "import numpy as np\n",
    "import pandas as pd\n",
    "#import cupy as cp\n",
    "\n",
    "from nariflow import Variable\n",
    "from nariflow import optimizer\n",
    "from nariflow import GradientTape\n",
    "#from nariflow import calc_gradient\n",
    "from nariflow import layer\n",
    "from nariflow.models import Model\n",
    "from nariflow import functions as f\n",
    "from nariflow.core import elementary_function as ef\n",
    "from nariflow.core import shape_function as sf\n",
    "from nariflow.utils import unit_test\n",
    "from nariflow.functions import linalg\n",
    "import numpy as np\n",
    "import pandas as pd\n",
    "\n",
    "#import tensorflow as tf\n",
    "\n",
    "#import torch\n",
    "\n",
    "import time"
   ]
  },
  {
   "cell_type": "code",
   "execution_count": 2,
   "id": "156c7e37",
   "metadata": {},
   "outputs": [],
   "source": [
    "test_module = unit_test.UnitTest()"
   ]
  },
  {
   "cell_type": "code",
   "execution_count": 3,
   "id": "cc06f231",
   "metadata": {},
   "outputs": [
    {
     "name": "stdout",
     "output_type": "stream",
     "text": [
      "matrix_order_test_0 is failed : 'float' object has no attribute 'reshape'\n",
      "matrix_order_test_0  : ok\n",
      "matrix_order_test_1  : ok\n",
      "matrix_order_test_2  : ok\n",
      "matmul  : ok\n",
      "WARNING:tensorflow:5 out of the last 5 calls to <function pfor.<locals>.f at 0x0000017E504EEDC0> triggered tf.function retracing. Tracing is expensive and the excessive number of tracings could be due to (1) creating @tf.function repeatedly in a loop, (2) passing tensors with different shapes, (3) passing Python objects instead of tensors. For (1), please define your @tf.function outside of the loop. For (2), @tf.function has experimental_relax_shapes=True option that relaxes argument shapes that can avoid unnecessary retracing. For (3), please refer to https://www.tensorflow.org/guide/function#controlling_retracing and https://www.tensorflow.org/api_docs/python/tf/function for  more details.\n",
      "WARNING:tensorflow:6 out of the last 6 calls to <function pfor.<locals>.f at 0x0000017E504EEC10> triggered tf.function retracing. Tracing is expensive and the excessive number of tracings could be due to (1) creating @tf.function repeatedly in a loop, (2) passing tensors with different shapes, (3) passing Python objects instead of tensors. For (1), please define your @tf.function outside of the loop. For (2), @tf.function has experimental_relax_shapes=True option that relaxes argument shapes that can avoid unnecessary retracing. For (3), please refer to https://www.tensorflow.org/guide/function#controlling_retracing and https://www.tensorflow.org/api_docs/python/tf/function for  more details.\n",
      "reduce_sum  : ok\n",
      "div  : ok\n",
      "sum  : ok\n",
      "mul  : ok\n",
      "gradient_start_middle  : ok\n",
      "gradient_stop_test  : ok\n",
      "linalg_concat_test  : ok\n",
      "linalg_stack_test  : ok\n",
      "loss_value : [0.13585692667797852, 1.4280852160622767e-05, 1.2639637167356952e-05, 1.0894251660314378e-05, 1.0300161140574081e-05, 9.836135231961768e-06]\n",
      "model training test : ok\n"
     ]
    }
   ],
   "source": [
    "test_module.start_testing()"
   ]
  },
  {
   "cell_type": "markdown",
   "id": "f44314c0",
   "metadata": {},
   "source": [
    "## CORE_TAPE"
   ]
  },
  {
   "cell_type": "code",
   "execution_count": 12,
   "id": "2a4921a5",
   "metadata": {},
   "outputs": [],
   "source": [
    "class Variable():\n",
    "    def __init__(self, data):\n",
    "        self.data = data\n",
    "        self.generation = 0\n",
    "        self.grad = None\n",
    "\n",
    "    def set_generation(self, generation):\n",
    "        self.generation = generation + 1\n",
    "\n",
    "    def resetgrad(self):\n",
    "        self.grad = None\n",
    "\n",
    "    def shape(self):\n",
    "        return self.data.shape\n",
    "\n",
    "    def dtype(self):\n",
    "        return self.data.dtype\n",
    "\n",
    "    def __len__(self):\n",
    "        return len(self.data)"
   ]
  },
  {
   "cell_type": "code",
   "execution_count": 13,
   "id": "58766c59",
   "metadata": {},
   "outputs": [],
   "source": [
    "class Function():\n",
    "    def __call__(self, *inputs):\n",
    "        def as_array(x):\n",
    "            if np.isscalar(x):\n",
    "                return np.array(x)\n",
    "            return x\n",
    "\n",
    "        def as_variable(x):\n",
    "            if isinstance(x, Variable):\n",
    "                return x\n",
    "            return Variable(x)\n",
    "        inputs = [as_variable(as_array(x)) for x in inputs]\n",
    "        x_list = [i.data for i in inputs]\n",
    "        y_list = self.forward(*x_list)\n",
    "        if not isinstance(y_list, tuple):\n",
    "            y_list = (y_list,)\n",
    "\n",
    "        output_list = [Variable(as_array(y)) for y in y_list]\n",
    "        generation = np.max([i.generation for i in inputs])\n",
    "        for output in output_list:\n",
    "            output.set_generation(generation)\n",
    "        self.generation = generation\n",
    "\n",
    "        if 'GRADIENT_NUM' in globals():\n",
    "            GRADIENT_NUM = globals()['GRADIENT_NUM']\n",
    "            self.making_gradient_tape(output_list, inputs)\n",
    "\n",
    "        if len(output_list) > 1:\n",
    "            return output_list\n",
    "        else:\n",
    "            return output_list[0]\n",
    "\n",
    "    def making_gradient_tape(self, output, inputs):\n",
    "        for i in output:\n",
    "            GRADIENT_NUM = globals()['GRADIENT_NUM']\n",
    "            for j in range(GRADIENT_NUM + 1):\n",
    "                globals()[f'GRADIENT_TAPE_{j}'][i] = (self, inputs, self.generation)\n",
    "\n",
    "    def forward(self, x_list):\n",
    "        raise NotImplementedError()\n",
    "\n",
    "    def backward(self, gy_list):\n",
    "        raise NotImplementedError()\n"
   ]
  },
  {
   "cell_type": "code",
   "execution_count": 4,
   "id": "b69a0876",
   "metadata": {},
   "outputs": [],
   "source": [
    "\n",
    "class GradientTape():\n",
    "\n",
    "    def __init__(self):\n",
    "        if 'GRADIENT_NUM' not in globals():\n",
    "            globals()['GRADIENT_NUM'] = 0\n",
    "        else:\n",
    "            globals()['GRADIENT_NUM'] += 1\n",
    "        GRADIENT_NUM = globals()['GRADIENT_NUM']\n",
    "        globals()[f'GRADIENT_TAPE_{GRADIENT_NUM}'] = dict()\n",
    "        self.gradient_tape = globals()[f'GRADIENT_TAPE_{GRADIENT_NUM}']\n",
    "        self.gradient_num = globals()['GRADIENT_NUM']\n",
    "\n",
    "    def __enter__(self):\n",
    "        return self\n",
    "\n",
    "    def __exit__(self, type, value, traceback):\n",
    "        if f'GRADIENT_TAPE_{self.gradient_num}' in globals():\n",
    "            del globals()[f'GRADIENT_TAPE_{self.gradient_num}']\n",
    "        if 'GRADIENT_NUM' in globals():\n",
    "            del globals()['GRADIENT_NUM']\n",
    "        return\n",
    "\n",
    "    def unlist_inputs(self, x):\n",
    "        input_list = list()\n",
    "        if len(np.array(x.data).shape) == 0:\n",
    "            return x\n",
    "        else:\n",
    "            for inp in x.data:\n",
    "                if isinstance(inp, Variable):\n",
    "                    input_list.append(inp)\n",
    "                else:\n",
    "                    return x\n",
    "            return input_list\n",
    "\n",
    "    def unlist(self, x):\n",
    "        inputs = [self.unlist_inputs(i) for i in x]\n",
    "        if inputs is not None:\n",
    "            if isinstance(inputs[0], list):\n",
    "                inputs = sum(inputs, [])\n",
    "\n",
    "        return inputs\n",
    "\n",
    "    def CalcGradient(self, target=None, tapes=None, resetgrad=False):\n",
    "        if tapes is None:\n",
    "            tapes = self.gradient_tape\n",
    "        tapes = dict(sorted(tapes.items(), key=lambda x: x[1][2]))\n",
    "\n",
    "        if target is not None:\n",
    "            target_ind = [i for i, j in enumerate([i == target for i in list(tapes)]) if j][0]\n",
    "            tapes_dict = dict()\n",
    "            [tapes_dict.update(i) for i in [{i[0]: i[1]} for i in tapes.items()][0:target_ind + 1]]\n",
    "            tapes = dict(reversed(tapes_dict.items()))\n",
    "        else:\n",
    "            tapes = dict(reversed(tapes.items()))\n",
    "\n",
    "        def as_array(x):\n",
    "            if np.isscalar(x):\n",
    "                return np.array(x)\n",
    "            return x\n",
    "\n",
    "        def as_variable(x):\n",
    "            if isinstance(x, Variable):\n",
    "                return x\n",
    "            return Variable(x)\n",
    "\n",
    "        for tape in tapes.items():\n",
    "            outputs = tape[0]\n",
    "            generation = tape[1][2]\n",
    "            inputs = tape[1][1]\n",
    "            func = tape[1][0]\n",
    "\n",
    "            if isinstance(outputs, Variable):\n",
    "                outputs = [outputs]\n",
    "\n",
    "            for j in outputs:\n",
    "                if j.grad is None:\n",
    "                    j.grad = Variable(np.ones_like(j.data))\n",
    "\n",
    "            gy_list = [output.grad for output in outputs]\n",
    "            func.input_list = inputs\n",
    "            gx_list = func.backward(*gy_list)\n",
    "            if not isinstance(gx_list, tuple):\n",
    "                gx_list = (gx_list,)\n",
    "            inputs = self.unlist(inputs)\n",
    "\n",
    "            for x, gx in zip(inputs, gx_list):\n",
    "                if x.grad is None:\n",
    "                    x.grad = gx\n",
    "                else:\n",
    "                    x.grad = x.grad + gx\n",
    "            if resetgrad:\n",
    "                self.resetgrads()\n",
    "\n",
    "    def resetgrads(self):\n",
    "        tapes = self.gradient_tape\n",
    "        for tape in tapes.items():\n",
    "            outputs = tape[0]\n",
    "            inputs = tape[1][1]\n",
    "            if isinstance(outputs, Variable):\n",
    "                outputs = [outputs]\n",
    "            inputs = self.unlist(inputs)\n",
    "\n",
    "            for x in inputs:\n",
    "                x.grad = None\n",
    "\n",
    "            for x in outputs:\n",
    "                x.grad = None\n",
    "\n",
    "    def jacobian(self, target=None, tapes=None, var=None, var_return='Variable'):\n",
    "        if tapes is None:\n",
    "            tapes = self.gradient_tape.copy()\n",
    "        tapes = dict(sorted(tapes.items(), key=lambda x: x[1][2]))\n",
    "\n",
    "        if target is not None:\n",
    "            target_ind = [i for i, j in enumerate([i == target for i in list(tapes)]) if j][0]\n",
    "            tapes_dict = dict()\n",
    "            [tapes_dict.update(i) for i in [{i[0]: i[1]} for i in tapes.items()][0:target_ind + 1]]\n",
    "            tapes = dict(reversed(tapes_dict.items()))\n",
    "        else:\n",
    "            tapes = dict(reversed(tapes.items()))\n",
    "\n",
    "        def as_array(x):\n",
    "            if np.isscalar(x):\n",
    "                return np.array(x)\n",
    "            if isinstance(x, type(np.array([]))):\n",
    "                if len(x.shape) == 0:\n",
    "                    return np.array([[x]])\n",
    "            return x\n",
    "\n",
    "        def as_variable(x):\n",
    "            if isinstance(x, Variable):\n",
    "                return x\n",
    "            return Variable(x)\n",
    "\n",
    "        if len(list(tapes.keys())[0].data.shape) >= 2:\n",
    "            i_max = list(tapes.keys())[0].data.shape[0]\n",
    "            j_max = list(tapes.keys())[0].data.shape[1]\n",
    "        else:\n",
    "            i_max = 1\n",
    "            j_max = 1\n",
    "\n",
    "        jacobian_dict = dict()\n",
    "        for jacobian_iter_i in range(i_max):\n",
    "            jacobian_dict_j = dict()\n",
    "            for jacobian_iter_j in range(j_max):\n",
    "                temp_dict = dict()\n",
    "                for tape in tapes.items():\n",
    "                    outputs = tape[0]\n",
    "                    generation = tape[1][2]\n",
    "                    inputs = tape[1][1]\n",
    "                    func = tape[1][0]\n",
    "\n",
    "                    if isinstance(outputs, Variable):\n",
    "                        outputs = [outputs]\n",
    "\n",
    "                    for j in outputs:\n",
    "                        if j.grad is None:\n",
    "                            j.data = as_array(j.data)\n",
    "                            grad_matrix = np.zeros_like(j.data)\n",
    "                            grad_matrix[jacobian_iter_i][jacobian_iter_j] = 1\n",
    "                            j.grad = Variable(grad_matrix)\n",
    "\n",
    "                    gy_list = [output.grad for output in outputs]\n",
    "                    func.input_list = inputs\n",
    "                    gx_list = func.backward(*gy_list)\n",
    "                    if not isinstance(gx_list, tuple):\n",
    "                        gx_list = (gx_list,)\n",
    "                    inputs = self.unlist(inputs)\n",
    "                    for x, gx in zip(inputs, gx_list):\n",
    "                        if x.grad is None:\n",
    "                            x.grad = gx\n",
    "                        else:\n",
    "                            x.grad = x.grad + gx\n",
    "                        temp_dict[x] = x.grad.data\n",
    "                self.resetgrads()\n",
    "                jacobian_dict_j[jacobian_iter_j] = temp_dict\n",
    "            jacobian_dict[jacobian_iter_i] = jacobian_dict_j\n",
    "        if var is None:\n",
    "            return jacobian_dict\n",
    "\n",
    "        selected_jacobian = list()\n",
    "        for i in jacobian_dict:\n",
    "            for j in jacobian_dict[i]:\n",
    "                selected_jacobian.append(jacobian_dict[i][j][var])\n",
    "        if var_return == 'numpy':\n",
    "            return np.array(selected_jacobian)\n",
    "        if var_return == 'list':\n",
    "            return selected_jacobian\n",
    "        if var_return == 'Variable':\n",
    "            return [as_variable(x) for x in selected_jacobian]\n",
    "        else:\n",
    "            raise Exception('var_return only accpet \"numpy\", \"list\" or \"Variable\"')\n"
   ]
  },
  {
   "cell_type": "markdown",
   "id": "261ebc35",
   "metadata": {},
   "source": [
    "# 함수"
   ]
  },
  {
   "cell_type": "markdown",
   "id": "b821487c",
   "metadata": {},
   "source": [
    "## 미분 기본 공식"
   ]
  },
  {
   "cell_type": "code",
   "execution_count": 5,
   "id": "e9c0eac9",
   "metadata": {},
   "outputs": [],
   "source": [
    "from nariflow.thirdparty.functions import reshape_sum_backward\n",
    "import numpy as np\n",
    "\n",
    "# 덧셈\n",
    "class Add(Function):\n",
    "    # 정전파 : 두 변수를 더한다.\n",
    "    def forward(self, x_0, x_1):\n",
    "        self.x_0_shape = x_0.shape\n",
    "        self.x_1_shape = x_1.shape\n",
    "        y = x_0 + x_1\n",
    "        return y\n",
    "\n",
    "    # 역전파 : 뒷 단계에서 들어온 그레디언트를 양쪽으로 균등하게 흘려보낸다.\n",
    "    def backward(self, gy):\n",
    "        gx0, gx1 = gy, gy\n",
    "        if self.x_0_shape != self.x_1_shape:\n",
    "            gx0 = sumto(gx0, self.x_0_shape)\n",
    "            gx1 = sumto(gx1, self.x_1_shape)\n",
    "        return gx0, gx1\n",
    "\n",
    "\n",
    "# 곱셈\n",
    "class Mul(Function):\n",
    "    # 정전파 : 두 변수를 곱한다.\n",
    "    def forward(self, x_0, x_1):\n",
    "        y = x_0 * x_1\n",
    "        return y\n",
    "\n",
    "    # 역전파 : 방향을 스위치해서 뒷 단계의 그레디언트와 입력 변수를 곱해 흘려보낸다.\n",
    "    def backward(self, gy):\n",
    "        x_0 = self.input_list[0]\n",
    "        x_1 = self.input_list[1]\n",
    "        self.x_0_shape = x_0.data.shape\n",
    "        self.x_1_shape = x_1.data.shape\n",
    "        gx0, gx1 = gy, gy\n",
    "        x0 = x_1 * gx1\n",
    "        x1 = x_0 * gx0\n",
    "        if self.x_0_shape != self.x_1_shape:\n",
    "            x0 = sumto(x0, self.x_0_shape)\n",
    "            x1 = sumto(x1, self.x_1_shape)\n",
    "        return x0, x1\n",
    "\n",
    "    # 음수 변환\n",
    "\n",
    "\n",
    "class Neg(Function):\n",
    "    # 정전파 : 음수로 바꾼다.\n",
    "    def forward(self, x):\n",
    "        return -x\n",
    "\n",
    "    # 역전파 : 음수로 바꿔 흘려보낸다.\n",
    "    def backward(self, gy):\n",
    "        return -gy\n",
    "\n",
    "\n",
    "# 뺄셈\n",
    "class Sub(Function):\n",
    "    # 정전파 : 두 변수를 뺀다.\n",
    "    def forward(self, x_0, x_1):\n",
    "        self.x_0_shape = x_0.shape\n",
    "        self.x_1_shape = x_1.shape\n",
    "        y = x_0 - x_1\n",
    "        return y\n",
    "\n",
    "    # 역전파 : 앞 변수는 그레디언트를, 뒤 변수는 그레디언트 음수를 흘려보낸다.\n",
    "    def backward(self, gy):\n",
    "        gx0, gx1 = gy, gy\n",
    "        if self.x_0_shape != self.x_1_shape:\n",
    "            gx0 = sumto(gx0, self.x_0_shape)\n",
    "            gx1 = sumto(gx1, self.x_1_shape)\n",
    "        return gx0, -gx1\n",
    "\n",
    "\n",
    "# 나눗셈\n",
    "class Div(Function):\n",
    "    # 정전파 : 변수간 나눗셈을 구한다.\n",
    "    def forward(self, x_0, x_1):\n",
    "        self.x_0_shape = x_0.shape\n",
    "        self.x_1_shape = x_1.shape\n",
    "        y = x_0 / x_1\n",
    "        return y\n",
    "\n",
    "    # 역전파 : 앞 변수의 경우 1 / a를, 뒤 변수의 경우 (- a / b **2)를 그레디언트와 곱해 흘려보낸다.\n",
    "    def backward(self, gy):\n",
    "        x_0, x_1 = self.input_list\n",
    "        gx0, gx1 = gy, gy\n",
    "        if self.x_0_shape != self.x_1_shape:\n",
    "            gx0 = sumto(gx0, self.x_0_shape)\n",
    "            gx1 = sumto(gx1, self.x_1_shape)\n",
    "        gx_0 = (1 / x_1) * gx0\n",
    "        gx_1 = (- x_0 / (x_1) ** 2) * gx1\n",
    "        return gx_0, gx_1\n",
    "\n",
    "    # 거듭제곱\n",
    "\n",
    "\n",
    "class Pow(Function):\n",
    "    # Function 클래스에 거듭제곱 수를 init으로 정의한다.\n",
    "    def __init__(self, power):\n",
    "        self.power = power\n",
    "\n",
    "    # 정전파 : 변수에 거듭제곱을 한다.\n",
    "    def forward(self, x):\n",
    "        y = x ** self.power\n",
    "        return y\n",
    "\n",
    "    # 역전파 : power * x ^ (power - 1) 에 그레디언트를 곱해 흘려보낸다.\n",
    "    def backward(self, gy):\n",
    "        x = self.input_list[0]\n",
    "        gx = self.power * x ** (self.power - 1) * gy\n",
    "        return gx\n",
    "\n",
    "\n",
    "def add(x_0, x_1):\n",
    "    return Add()(x_0, x_1)\n",
    "\n",
    "\n",
    "def mul(x_0, x_1):\n",
    "    return Mul()(x_0, x_1)\n",
    "\n",
    "\n",
    "def neg(x):\n",
    "    return Neg()(x)\n",
    "\n",
    "\n",
    "def sub(x_0, x_1):\n",
    "    return Sub()(x_0, x_1)\n",
    "\n",
    "\n",
    "def rsub(x_0, x_1):\n",
    "    return Sub()(x_1, x_0)\n",
    "\n",
    "\n",
    "def div(x_0, x_1):\n",
    "    return Div()(x_0, x_1)\n",
    "\n",
    "\n",
    "def rdiv(x_0, x_1):\n",
    "    return Div()(x_1, x_0)\n",
    "\n",
    "\n",
    "def power(x, power):\n",
    "    return Pow(power)(x)\n",
    "\n",
    "class Sum(Function):\n",
    "    def __init__(self, axis, keepdims):\n",
    "        self.axis = axis\n",
    "        self.keepdims = keepdims\n",
    "        self.x_shape = None\n",
    "\n",
    "    def forward(self, x):\n",
    "        self.x_shape = x.shape\n",
    "        y = np.sum(x, axis=self.axis, keepdims=self.keepdims)\n",
    "        return y\n",
    "\n",
    "    def backward(self, gy):\n",
    "        gy, shape = reshape_sum_backward(gy,\n",
    "                              x_shape=self.x_shape,\n",
    "                              axis=self.axis,\n",
    "                              keepdims=self.keepdims)\n",
    "        gy = reshape(gy, shape)\n",
    "        gx = broadcast_to(gy, self.x_shape)\n",
    "        return gx\n",
    "\n",
    "class MatMul(Function):\n",
    "    def forward(self, x, w):\n",
    "        y = x.dot(w)\n",
    "        return y\n",
    "\n",
    "    def backward(self, gy):\n",
    "        x = self.input_list[0]\n",
    "        w = self.input_list[1]\n",
    "        gw = matmul(transpose(x), gy)\n",
    "        gx = matmul(gy, transpose(w))\n",
    "        return gx, gw\n",
    "\n",
    "def flowsum(x, axis = None, keepdims = False):\n",
    "    return Sum(axis, keepdims)(x)\n",
    "\n",
    "def matmul(x, w):\n",
    "    return MatMul()(x, w)\n",
    "\n",
    "class Parameter(Variable):\n",
    "    pass\n",
    "\n",
    "\n",
    "# 연산 기본 메소드들을 덮어씌워\n",
    "# Variable과 연관된 연산은 기호(+, -, *, /)만 사용해도\n",
    "# 우리가 정의한 연산을 수행하도록 대치한다.\n",
    "def setup_variable():\n",
    "    Variable.__add__ = add\n",
    "    Variable.__radd__ = add\n",
    "    Variable.__mul__ = mul\n",
    "    Variable.__rmul__ = mul\n",
    "    Variable.__neg__ = neg\n",
    "    Variable.__sub__ = sub\n",
    "    Variable.__rsub__ = rsub\n",
    "    Variable.__truediv__ = div\n",
    "    Variable.__rtruediv__ = rdiv\n",
    "    Variable.__pow__ = power\n",
    "    Variable.__getitem__ = get_item\n",
    "\n",
    "class Exp(Function):\n",
    "    def forward(self, x):\n",
    "        y = np.exp(x)\n",
    "        return y\n",
    "\n",
    "    def backward(self, gy):\n",
    "        x = self.input_list[0]\n",
    "        gx = exp(x) * gy\n",
    "        return gx\n",
    "\n",
    "class Log(Function):\n",
    "    def forward(self, x):\n",
    "        y = np.log(x)\n",
    "        return y\n",
    "\n",
    "    def backward(self, gy):\n",
    "        x = self.input_list[0]\n",
    "        gx = (1 / x) * gy\n",
    "        return gx\n",
    "\n",
    "def exp(x):\n",
    "    return Exp()(x)\n",
    "\n",
    "def log(x):\n",
    "    return Log()(x)\n",
    "\n",
    "class Sin(Function):\n",
    "    def forward(self, x):\n",
    "        y = np.sin(x)\n",
    "        return y\n",
    "\n",
    "    def backward(self, gy):\n",
    "        x = self.input_list[0]\n",
    "        gx = cos(x) * gy\n",
    "        return gx\n",
    "\n",
    "def sin(x):\n",
    "    return Sin()(x)\n",
    "\n",
    "class Cos(Function):\n",
    "    def forward(self, x):\n",
    "        y = np.cos(x)\n",
    "        return y\n",
    "\n",
    "    def backward(self, gy):\n",
    "        x = self.input_list[0]\n",
    "        return -sin(x) * gy\n",
    "\n",
    "def cos(x):\n",
    "    return Cos()(x)\n",
    "\n",
    "class StopGradient(Function):\n",
    "    def forward(self, x):\n",
    "        return x\n",
    "\n",
    "    def backward(self, gy):\n",
    "        return 0\n",
    "\n",
    "def stop_gradient(x):\n",
    "    return StopGradient()(x)"
   ]
  },
  {
   "cell_type": "markdown",
   "id": "65b4ab27",
   "metadata": {},
   "source": [
    "## 텐서 형상 함수"
   ]
  },
  {
   "cell_type": "code",
   "execution_count": 7,
   "id": "ad5035d9",
   "metadata": {},
   "outputs": [],
   "source": [
    "\n",
    "from nariflow.thirdparty.functions import sum_to\n",
    "import numpy as np\n",
    "\n",
    "\n",
    "class Reshape(Function):\n",
    "    def __init__(self, shape):\n",
    "        # 변환을 원하는 모양을 지정한다.\n",
    "        self.shape = shape\n",
    "\n",
    "    def forward(self, x):\n",
    "        # 원본 모양을 저장해준다.\n",
    "        self.x_shape = x.shape\n",
    "        # 모양을 reshpae로 바꾼다.\n",
    "        y = x.reshape(self.shape)\n",
    "        return y\n",
    "\n",
    "    def backward(self, gy):\n",
    "        # 역전파시에는 원본 모양을 복원한다.\n",
    "        gx = reshape(gy, self.x_shape)\n",
    "        return gx\n",
    "\n",
    "\n",
    "def reshape(x, shape):\n",
    "    return Reshape(shape)(x)\n",
    "\n",
    "\n",
    "class Transpose(Function):\n",
    "    def __init__(self, shape=None):\n",
    "        self.shape = shape\n",
    "\n",
    "    def forward(self, x):\n",
    "        # 원본 텐서의 모양을 저장해둔다.\n",
    "        # transpose를 실시한다.\n",
    "        y = np.transpose(x, self.shape)\n",
    "        return y\n",
    "\n",
    "    def backward(self, gy):\n",
    "        if self.shape is None:\n",
    "            gx = transpose(gy)\n",
    "        # Variable 변수를 받으므로, np.transpose가 아닌 GoteoFlow의 transpose를 받는다.\n",
    "        # 저장되어있던 원본 모양을 복원한다.\n",
    "        else:\n",
    "            axes_len = len(self.shape)\n",
    "            inv_axes = tuple(np.argsort([ax % axes_len for ax in self.shape]))\n",
    "            gx = transpose(gy, shape=inv_axes)\n",
    "        return gx\n",
    "\n",
    "def transpose(x, shape=None):\n",
    "    return Transpose(shape)(x)\n",
    "\n",
    "class SumTo(Function):\n",
    "    def __init__(self, shape):\n",
    "        # 모양을 바꾸면서 덧연산을 실시할 목표 모양을 지정한다.\n",
    "        self.shape = shape\n",
    "\n",
    "    def forward(self, x):\n",
    "        # 원본 모양을 기억한다.\n",
    "        # sum_to 함수로 모양을 바꾸며 합을 실시한다.\n",
    "        y = sum_to(x, self.shape)\n",
    "        return y\n",
    "\n",
    "    def backward(self, gy):\n",
    "        self.x_shape = self.input_list[0].data.shape\n",
    "        # 역전파시엔 sum_to로 인해 바뀌었던 모양을 원본 모양으로 복원한다.\n",
    "        gx = broadcast_to(gy, self.x_shape)\n",
    "        return gx\n",
    "\n",
    "\n",
    "def sumto(x, shape):\n",
    "    return SumTo(shape)(x)\n",
    "\n",
    "\n",
    "class BroadcastTo(Function):\n",
    "    def __init__(self, shape):\n",
    "        self.shape = shape\n",
    "\n",
    "    def forward(self, x):\n",
    "        self.x_shape = x.shape\n",
    "        y = np.broadcast_to(x, self.shape)\n",
    "        return y\n",
    "\n",
    "    def backward(self, gy):\n",
    "        x = self.input_list[0]\n",
    "        gx = sumto(x, self.x_shape)\n",
    "        return gx\n",
    "\n",
    "\n",
    "def broadcast_to(x, shape):\n",
    "    return BroadcastTo(shape)(x)\n",
    "\n",
    "class GetItem(Function):\n",
    "    def __init__(self, slices):\n",
    "        self.slices = slices\n",
    "\n",
    "    # 정전파 : 슬라이싱을 수행한다.\n",
    "    def forward(self, x):\n",
    "        y = x[self.slices]\n",
    "        return y\n",
    "\n",
    "    # 역전파 : 입력 크기와 슬라이싱 정보를 역함수인 GetItemGrad에 전달한다.\n",
    "    def backward(self, gy):\n",
    "        x = self.input_list[0]\n",
    "        f = GetItemGrad(self.slices, x.data.shape)\n",
    "        return f(gy)\n",
    "\n",
    "def get_item(x, slices):\n",
    "    return GetItem(slices)(x)\n",
    "\n",
    "#GetItemGrad는 GetItem의 역함수다.\n",
    "class GetItemGrad(Function):\n",
    "    def __init__(self, slices, shape):\n",
    "        self.slices = slices\n",
    "        self.shape = shape\n",
    "\n",
    "    #정전파(슬라이싱의 역전파) : 입력 크기만큼의 0행렬을 생성한 후, 슬라이싱 위치에 gy를 채워 반환한다.\n",
    "    # 슬라이싱에서 잘린 성분은 0 그대로 남는다.\n",
    "    def forward(self, gy):\n",
    "        gx = np.zeros(self.shape)\n",
    "        np.add.at(gx, self.slices, gy)\n",
    "        return gx\n",
    "\n",
    "    # 역전파(슬라이싱) : 슬라이싱을 수행한다.\n",
    "    def backward(self, ggx):\n",
    "        return get_item(ggx, self.slices)"
   ]
  },
  {
   "cell_type": "code",
   "execution_count": 8,
   "id": "c0c305a6",
   "metadata": {},
   "outputs": [],
   "source": [
    "setup_variable()"
   ]
  },
  {
   "cell_type": "code",
   "execution_count": 9,
   "id": "c72f6ec3",
   "metadata": {},
   "outputs": [],
   "source": [
    "class DiagonalMat(Function):\n",
    "    def forward(self, x):\n",
    "        self.x_shape = x.shape\n",
    "        y = np.diag(x)\n",
    "        return y\n",
    "   \n",
    "    def backward(self, gy):\n",
    "        \n",
    "        gx = diagmat(gy)\n",
    "        return gx"
   ]
  },
  {
   "cell_type": "code",
   "execution_count": 10,
   "id": "4f76328e",
   "metadata": {},
   "outputs": [],
   "source": [
    "def diagmat(x):\n",
    "    return DiagonalMat()(x)"
   ]
  },
  {
   "cell_type": "code",
   "execution_count": 11,
   "id": "194715a2",
   "metadata": {},
   "outputs": [],
   "source": [
    "a = Variable(np.array([[3.0,2.0,3.0]]))\n",
    "b = Variable(np.array([[3.0,2.0,3.0]]))\n",
    "c = Variable(np.array([[1.0,2.0,3.0]]))"
   ]
  },
  {
   "cell_type": "code",
   "execution_count": 12,
   "id": "7513d635",
   "metadata": {},
   "outputs": [],
   "source": [
    "class Concatenate(Function):\n",
    "    def __init__(self, axis = None):\n",
    "        if axis is None:\n",
    "            self.axis = 0\n",
    "        else:\n",
    "            self.axis = axis\n",
    "        \n",
    "    def forward(self, x):\n",
    "        x = [i.data for i in x]\n",
    "        y = np.concatenate(x, axis = self.axis)\n",
    "        return y\n",
    "    \n",
    "    def backward(self, gy):\n",
    "        x = self.input_list[0]\n",
    "        shapes = [len(i) for i in x.data]\n",
    "        concats = list()\n",
    "        for i in shapes:\n",
    "            temp = gy[:i]          \n",
    "            gy = gy[i:]\n",
    "            concats.append(temp)\n",
    "        return tuple(concats)\n",
    "    "
   ]
  },
  {
   "cell_type": "code",
   "execution_count": 13,
   "id": "b00a8e42",
   "metadata": {},
   "outputs": [],
   "source": [
    "class Stack(Function):\n",
    "    def __init__(self, axis = None):\n",
    "        if axis is None:\n",
    "            self.axis = 0\n",
    "        else:\n",
    "            self.axis = axis\n",
    "    \n",
    "    def forward(self, x):\n",
    "        x = [i.data for i in x]\n",
    "        y = np.stack(x, axis = self.axis)\n",
    "        return y\n",
    "    \n",
    "    def backward(self, gy):\n",
    "        x = self.input_list[0]\n",
    "        shapes = gy.shape()\n",
    "        concats = list()\n",
    "        for axis in range(len(x)):\n",
    "            ind = ''.join(([':,' if i != self.axis else f'{axis},' for i,j in enumerate(shapes)]))\n",
    "            temp = eval(f'gy[{ind[:-1]}]')\n",
    "            concats.append(temp)\n",
    "        return tuple(concats)"
   ]
  },
  {
   "cell_type": "code",
   "execution_count": 14,
   "id": "22ab26cf",
   "metadata": {},
   "outputs": [],
   "source": [
    "def flowconcat(x, axis = None):\n",
    "    return Concatenate(axis)(x)\n",
    "\n",
    "def flowstack(x, axis = None):\n",
    "    return Stack(axis)(x)"
   ]
  },
  {
   "cell_type": "code",
   "execution_count": 15,
   "id": "2875223d",
   "metadata": {},
   "outputs": [],
   "source": [
    "a = Variable(np.array([[[3.0,2.0,1.0]],[[6.,5.,4.]]]))\n",
    "b = Variable(np.array([[[1.0,2.0,3.0]],[[4.,5.,6.]]]))\n",
    "c = Variable(np.array([[[1.0,2.0,5.0]],[[7.,8.,9.]]]))"
   ]
  },
  {
   "cell_type": "code",
   "execution_count": 16,
   "id": "faef7b9e",
   "metadata": {},
   "outputs": [],
   "source": [
    "with GradientTape() as tape:\n",
    "    d = a * b\n",
    "    concats = linalg.flowconcat([c,d])\n",
    "    result = concats * concats"
   ]
  },
  {
   "cell_type": "code",
   "execution_count": 18,
   "id": "5a52936f",
   "metadata": {},
   "outputs": [],
   "source": [
    "tape.CalcGradient()"
   ]
  },
  {
   "cell_type": "code",
   "execution_count": 19,
   "id": "331299c4",
   "metadata": {},
   "outputs": [
    {
     "data": {
      "text/plain": [
       "array([[[ 2.,  4., 10.]],\n",
       "\n",
       "       [[14., 16., 18.]],\n",
       "\n",
       "       [[ 6.,  8.,  6.]],\n",
       "\n",
       "       [[48., 50., 48.]]])"
      ]
     },
     "execution_count": 19,
     "metadata": {},
     "output_type": "execute_result"
    }
   ],
   "source": [
    "concats.grad.data"
   ]
  },
  {
   "cell_type": "code",
   "execution_count": 20,
   "id": "557f179f",
   "metadata": {},
   "outputs": [
    {
     "data": {
      "text/plain": [
       "array([[[ 2.,  4., 10.]],\n",
       "\n",
       "       [[14., 16., 18.]]])"
      ]
     },
     "execution_count": 20,
     "metadata": {},
     "output_type": "execute_result"
    }
   ],
   "source": [
    "c.grad.data"
   ]
  },
  {
   "cell_type": "code",
   "execution_count": 21,
   "id": "d76e0f39",
   "metadata": {},
   "outputs": [
    {
     "data": {
      "text/plain": [
       "array([[[ 6.,  8.,  6.]],\n",
       "\n",
       "       [[48., 50., 48.]]])"
      ]
     },
     "execution_count": 21,
     "metadata": {},
     "output_type": "execute_result"
    }
   ],
   "source": [
    "d.grad.data"
   ]
  },
  {
   "cell_type": "code",
   "execution_count": 22,
   "id": "6506c611",
   "metadata": {},
   "outputs": [
    {
     "data": {
      "text/plain": [
       "array([[[  6.,  16.,  18.]],\n",
       "\n",
       "       [[192., 250., 288.]]])"
      ]
     },
     "execution_count": 22,
     "metadata": {},
     "output_type": "execute_result"
    }
   ],
   "source": [
    "a.grad.data"
   ]
  },
  {
   "cell_type": "code",
   "execution_count": 23,
   "id": "ebf8c446",
   "metadata": {},
   "outputs": [
    {
     "data": {
      "text/plain": [
       "array([[[ 18.,  16.,   6.]],\n",
       "\n",
       "       [[288., 250., 192.]]])"
      ]
     },
     "execution_count": 23,
     "metadata": {},
     "output_type": "execute_result"
    }
   ],
   "source": [
    "b.grad.data"
   ]
  },
  {
   "cell_type": "code",
   "execution_count": 25,
   "id": "991b4f7f",
   "metadata": {},
   "outputs": [],
   "source": [
    "with GradientTape() as tape:\n",
    "    d = a * b\n",
    "    concats = linalg.flowstack([c,d])\n",
    "    result = concats * concats"
   ]
  },
  {
   "cell_type": "code",
   "execution_count": 26,
   "id": "f44e9f48",
   "metadata": {},
   "outputs": [],
   "source": [
    "tape.CalcGradient()"
   ]
  },
  {
   "cell_type": "code",
   "execution_count": 27,
   "id": "40571f16",
   "metadata": {},
   "outputs": [
    {
     "data": {
      "text/plain": [
       "array([[[[1., 1., 1.]],\n",
       "\n",
       "        [[1., 1., 1.]]],\n",
       "\n",
       "\n",
       "       [[[1., 1., 1.]],\n",
       "\n",
       "        [[1., 1., 1.]]]])"
      ]
     },
     "execution_count": 27,
     "metadata": {},
     "output_type": "execute_result"
    }
   ],
   "source": [
    "result.grad.data"
   ]
  },
  {
   "cell_type": "code",
   "execution_count": 28,
   "id": "f7471759",
   "metadata": {},
   "outputs": [
    {
     "data": {
      "text/plain": [
       "array([[[[ 2.,  4., 10.]],\n",
       "\n",
       "        [[14., 16., 18.]]],\n",
       "\n",
       "\n",
       "       [[[ 6.,  8.,  6.]],\n",
       "\n",
       "        [[48., 50., 48.]]]])"
      ]
     },
     "execution_count": 28,
     "metadata": {},
     "output_type": "execute_result"
    }
   ],
   "source": [
    "concats.grad.data"
   ]
  },
  {
   "cell_type": "code",
   "execution_count": 29,
   "id": "ecaacf65",
   "metadata": {},
   "outputs": [
    {
     "data": {
      "text/plain": [
       "array([[[ 4.,  8., 20.]],\n",
       "\n",
       "       [[28., 32., 36.]]])"
      ]
     },
     "execution_count": 29,
     "metadata": {},
     "output_type": "execute_result"
    }
   ],
   "source": [
    "c.grad.data"
   ]
  },
  {
   "cell_type": "code",
   "execution_count": 30,
   "id": "cbb2bab0",
   "metadata": {},
   "outputs": [
    {
     "data": {
      "text/plain": [
       "array([[[ 6.,  8.,  6.]],\n",
       "\n",
       "       [[48., 50., 48.]]])"
      ]
     },
     "execution_count": 30,
     "metadata": {},
     "output_type": "execute_result"
    }
   ],
   "source": [
    "d.grad.data"
   ]
  },
  {
   "cell_type": "code",
   "execution_count": 31,
   "id": "0ee2f368",
   "metadata": {},
   "outputs": [
    {
     "data": {
      "text/plain": [
       "array([[[ 12.,  32.,  36.]],\n",
       "\n",
       "       [[384., 500., 576.]]])"
      ]
     },
     "execution_count": 31,
     "metadata": {},
     "output_type": "execute_result"
    }
   ],
   "source": [
    "a.grad.data"
   ]
  },
  {
   "cell_type": "code",
   "execution_count": 32,
   "id": "d31c0c76",
   "metadata": {},
   "outputs": [
    {
     "data": {
      "text/plain": [
       "array([[[ 36.,  32.,  12.]],\n",
       "\n",
       "       [[576., 500., 384.]]])"
      ]
     },
     "execution_count": 32,
     "metadata": {},
     "output_type": "execute_result"
    }
   ],
   "source": [
    "b.grad.data"
   ]
  },
  {
   "cell_type": "code",
   "execution_count": 17,
   "id": "2f6fa6c7",
   "metadata": {},
   "outputs": [],
   "source": [
    "a = Variable(np.array([[3.0,2.0,1.0],[6.,5.,4.]]))\n",
    "b = Variable(np.array([[1.0,2.0,3.0],[4.,5.,6.]]))\n",
    "c = Variable(np.array([[[1.0,2.0,5.0]],[[7.,8.,9.]]]))"
   ]
  },
  {
   "cell_type": "code",
   "execution_count": 10,
   "id": "0e21bbdc",
   "metadata": {},
   "outputs": [],
   "source": [
    "class Outer(Function):\n",
    "    \n",
    "    def forward(self, x1, x2):\n",
    "        y = []\n",
    "        if len(x1.shape) > 2 | len(x2.shape) > 2:\n",
    "            raise Excetion('Variable must not exceed tensor dimension over 2')\n",
    "        for i,j in zip(x1, x2):\n",
    "            y.append(np.outer(i, j))\n",
    "        return np.array(y)\n",
    "    \n",
    "    def backward(self, gy):\n",
    "        x1, x2 = self.input_list\n",
    "        main_axis_i = x1.shape()[-1]\n",
    "        main_axis_j = x2.shape()[-1]\n",
    "        stack_var_x1 = Variable(np.array([]).reshape(0, main_axis_i))\n",
    "        stack_var_x2 = Variable(np.array([]).reshape(0, main_axis_j))\n",
    "        \n",
    "        for i,j in zip(x1, x2):\n",
    "            i = reshape(i, [-1,1])\n",
    "            j = reshape(j, [1,-1])\n",
    "            \n",
    "            i = i * main_axis_j\n",
    "            j = j * main_axis_i\n",
    "            \n",
    "            gy_i = sumto(gy, (main_axis_i, 1))\n",
    "            gy_j = sumto(gy, (1, main_axis_j))\n",
    "            \n",
    "            i = i * gy_i\n",
    "            j = j * gy_j\n",
    "            i = reshape(i, [1, -1])\n",
    "            j = reshape(j, [1, -1])\n",
    "            \n",
    "            stack_var_x1 = flowconcat([stack_var_x1, i])\n",
    "            stack_var_x2 = flowconcat([stack_var_x2, j])\n",
    "                   \n",
    "        return stack_var_x1, stack_var_x2\n",
    "    \n",
    "def outer(x_1, x_2):\n",
    "    return Outer()(x_1, x_2)"
   ]
  },
  {
   "cell_type": "code",
   "execution_count": 17,
   "id": "28b27d3d",
   "metadata": {},
   "outputs": [],
   "source": [
    "a = Variable(np.array([[[3.0,2.0,1.0]],[[6.,5.,4.]]]))\n",
    "b = Variable(np.array([[[1.0,2.0,3.0,4.]],[[4.,5.,6.,7.]]]))"
   ]
  },
  {
   "cell_type": "code",
   "execution_count": 18,
   "id": "62b86107",
   "metadata": {},
   "outputs": [],
   "source": [
    "from nariflow.core.core import Function\n",
    "from nariflow.core.core import Variable"
   ]
  },
  {
   "cell_type": "code",
   "execution_count": 19,
   "id": "a357ef2b",
   "metadata": {},
   "outputs": [],
   "source": [
    "with GradientTape() as tape:\n",
    "    result = linalg.outer(a,b)"
   ]
  },
  {
   "cell_type": "code",
   "execution_count": 20,
   "id": "274c8258",
   "metadata": {},
   "outputs": [
    {
     "data": {
      "text/plain": [
       "array([[[ 3.,  6.,  9., 12.],\n",
       "        [ 2.,  4.,  6.,  8.],\n",
       "        [ 1.,  2.,  3.,  4.]],\n",
       "\n",
       "       [[24., 30., 36., 42.],\n",
       "        [20., 25., 30., 35.],\n",
       "        [16., 20., 24., 28.]]])"
      ]
     },
     "execution_count": 20,
     "metadata": {},
     "output_type": "execute_result"
    }
   ],
   "source": [
    "result.data"
   ]
  },
  {
   "cell_type": "code",
   "execution_count": 21,
   "id": "cb8f4389",
   "metadata": {},
   "outputs": [
    {
     "data": {
      "text/plain": [
       "3"
      ]
     },
     "execution_count": 21,
     "metadata": {},
     "output_type": "execute_result"
    }
   ],
   "source": [
    "len(a.data.shape)"
   ]
  },
  {
   "cell_type": "code",
   "execution_count": 22,
   "id": "30a80b35",
   "metadata": {},
   "outputs": [
    {
     "data": {
      "text/plain": [
       "{<nariflow.core.core_tape.Variable at 0x17e52654c70>: (<nariflow.functions.linalg.Outer at 0x17e52654be0>,\n",
       "  [<nariflow.core.core_tape.Variable at 0x17e52654880>,\n",
       "   <nariflow.core.core_tape.Variable at 0x17e52654c10>],\n",
       "  0)}"
      ]
     },
     "execution_count": 22,
     "metadata": {},
     "output_type": "execute_result"
    }
   ],
   "source": [
    "tape.gradient_tape"
   ]
  },
  {
   "cell_type": "code",
   "execution_count": 23,
   "id": "721d37f0",
   "metadata": {},
   "outputs": [],
   "source": [
    "with GradientTape() as tape_2:\n",
    "    tape.CalcGradient()"
   ]
  },
  {
   "cell_type": "code",
   "execution_count": 10,
   "id": "7f00eafb",
   "metadata": {
    "scrolled": true
   },
   "outputs": [
    {
     "data": {
      "text/plain": [
       "{<nariflow.core.core_tape.Variable at 0x17e291be070>: (<nariflow.core.shape_function.GetItem at 0x17e291bea60>,\n",
       "  [<nariflow.core.core_tape.Variable at 0x17e525e6880>],\n",
       "  0),\n",
       " <nariflow.core.core_tape.Variable at 0x17e291befd0>: (<nariflow.core.shape_function.GetItem at 0x17e291be970>,\n",
       "  [<nariflow.core.core_tape.Variable at 0x17e525e6730>],\n",
       "  0),\n",
       " <nariflow.core.core_tape.Variable at 0x17e291be370>: (<nariflow.core.shape_function.Reshape at 0x17e291be790>,\n",
       "  [<nariflow.core.core_tape.Variable at 0x17e291be070>],\n",
       "  1),\n",
       " <nariflow.core.core_tape.Variable at 0x17e291bea00>: (<nariflow.core.shape_function.Reshape at 0x17e291beb20>,\n",
       "  [<nariflow.core.core_tape.Variable at 0x17e291befd0>],\n",
       "  1),\n",
       " <nariflow.core.core_tape.Variable at 0x17e291be700>: (<nariflow.core.elementary_function.Mul at 0x17e291be610>,\n",
       "  [<nariflow.core.core_tape.Variable at 0x17e291be370>,\n",
       "   <nariflow.core.core_tape.Variable at 0x17e291bea90>],\n",
       "  2),\n",
       " <nariflow.core.core_tape.Variable at 0x17e525890a0>: (<nariflow.core.elementary_function.Mul at 0x17e291be6d0>,\n",
       "  [<nariflow.core.core_tape.Variable at 0x17e291bea00>,\n",
       "   <nariflow.core.core_tape.Variable at 0x17e52589550>],\n",
       "  2),\n",
       " <nariflow.core.core_tape.Variable at 0x17e525897f0>: (<nariflow.core.shape_function.SumTo at 0x17e291be670>,\n",
       "  [<nariflow.core.core_tape.Variable at 0x17e291be640>],\n",
       "  0),\n",
       " <nariflow.core.core_tape.Variable at 0x17e52589c70>: (<nariflow.core.shape_function.SumTo at 0x17e52589670>,\n",
       "  [<nariflow.core.core_tape.Variable at 0x17e291be640>],\n",
       "  0),\n",
       " <nariflow.core.core_tape.Variable at 0x17e52589e80>: (<nariflow.core.elementary_function.Mul at 0x17e52589b80>,\n",
       "  [<nariflow.core.core_tape.Variable at 0x17e291be700>,\n",
       "   <nariflow.core.core_tape.Variable at 0x17e525897f0>],\n",
       "  3),\n",
       " <nariflow.core.core_tape.Variable at 0x17e52589a00>: (<nariflow.core.elementary_function.Mul at 0x17e52589640>,\n",
       "  [<nariflow.core.core_tape.Variable at 0x17e525890a0>,\n",
       "   <nariflow.core.core_tape.Variable at 0x17e52589c70>],\n",
       "  3),\n",
       " <nariflow.core.core_tape.Variable at 0x17e52589940>: (<nariflow.core.shape_function.Reshape at 0x17e52589bb0>,\n",
       "  [<nariflow.core.core_tape.Variable at 0x17e52589e80>],\n",
       "  4),\n",
       " <nariflow.core.core_tape.Variable at 0x17e52589250>: (<nariflow.core.shape_function.Reshape at 0x17e52589070>,\n",
       "  [<nariflow.core.core_tape.Variable at 0x17e52589a00>],\n",
       "  4),\n",
       " <nariflow.core.core_tape.Variable at 0x17e52589460>: (<nariflow.functions.linalg.Concatenate at 0x17e52589a90>,\n",
       "  [<nariflow.core.core_tape.Variable at 0x17e52589610>],\n",
       "  0),\n",
       " <nariflow.core.core_tape.Variable at 0x17e52589fd0>: (<nariflow.functions.linalg.Concatenate at 0x17e52589cd0>,\n",
       "  [<nariflow.core.core_tape.Variable at 0x17e52589160>],\n",
       "  0),\n",
       " <nariflow.core.core_tape.Variable at 0x17e52589fa0>: (<nariflow.core.shape_function.GetItem at 0x17e52589f40>,\n",
       "  [<nariflow.core.core_tape.Variable at 0x17e525e6880>],\n",
       "  0),\n",
       " <nariflow.core.core_tape.Variable at 0x17e52589490>: (<nariflow.core.shape_function.GetItem at 0x17e52589c10>,\n",
       "  [<nariflow.core.core_tape.Variable at 0x17e525e6730>],\n",
       "  0),\n",
       " <nariflow.core.core_tape.Variable at 0x17e504f7400>: (<nariflow.core.shape_function.Reshape at 0x17e525891c0>,\n",
       "  [<nariflow.core.core_tape.Variable at 0x17e52589fa0>],\n",
       "  1),\n",
       " <nariflow.core.core_tape.Variable at 0x17e504f75e0>: (<nariflow.core.shape_function.Reshape at 0x17e525898b0>,\n",
       "  [<nariflow.core.core_tape.Variable at 0x17e52589490>],\n",
       "  1),\n",
       " <nariflow.core.core_tape.Variable at 0x17e504f7d60>: (<nariflow.core.elementary_function.Mul at 0x17e504f7c40>,\n",
       "  [<nariflow.core.core_tape.Variable at 0x17e504f7400>,\n",
       "   <nariflow.core.core_tape.Variable at 0x17e504f7c70>],\n",
       "  2),\n",
       " <nariflow.core.core_tape.Variable at 0x17e504f7490>: (<nariflow.core.elementary_function.Mul at 0x17e504f7310>,\n",
       "  [<nariflow.core.core_tape.Variable at 0x17e504f75e0>,\n",
       "   <nariflow.core.core_tape.Variable at 0x17e504f7be0>],\n",
       "  2),\n",
       " <nariflow.core.core_tape.Variable at 0x17e504f7a90>: (<nariflow.core.shape_function.SumTo at 0x17e504f7fa0>,\n",
       "  [<nariflow.core.core_tape.Variable at 0x17e291be640>],\n",
       "  0),\n",
       " <nariflow.core.core_tape.Variable at 0x17e504f71c0>: (<nariflow.core.shape_function.SumTo at 0x17e504f7250>,\n",
       "  [<nariflow.core.core_tape.Variable at 0x17e291be640>],\n",
       "  0),\n",
       " <nariflow.core.core_tape.Variable at 0x17e504f7820>: (<nariflow.core.elementary_function.Mul at 0x17e504f76d0>,\n",
       "  [<nariflow.core.core_tape.Variable at 0x17e504f7d60>,\n",
       "   <nariflow.core.core_tape.Variable at 0x17e504f7a90>],\n",
       "  3),\n",
       " <nariflow.core.core_tape.Variable at 0x17e504f7bb0>: (<nariflow.core.elementary_function.Mul at 0x17e504f7df0>,\n",
       "  [<nariflow.core.core_tape.Variable at 0x17e504f7490>,\n",
       "   <nariflow.core.core_tape.Variable at 0x17e504f71c0>],\n",
       "  3),\n",
       " <nariflow.core.core_tape.Variable at 0x17e504f74f0>: (<nariflow.core.shape_function.Reshape at 0x17e504f7f10>,\n",
       "  [<nariflow.core.core_tape.Variable at 0x17e504f7820>],\n",
       "  4),\n",
       " <nariflow.core.core_tape.Variable at 0x17e504f76a0>: (<nariflow.core.shape_function.Reshape at 0x17e504f79d0>,\n",
       "  [<nariflow.core.core_tape.Variable at 0x17e504f7bb0>],\n",
       "  4),\n",
       " <nariflow.core.core_tape.Variable at 0x17e504f7b20>: (<nariflow.functions.linalg.Concatenate at 0x17e504f70d0>,\n",
       "  [<nariflow.core.core_tape.Variable at 0x17e504f7d00>],\n",
       "  0),\n",
       " <nariflow.core.core_tape.Variable at 0x17e504f7e80>: (<nariflow.functions.linalg.Concatenate at 0x17e504f7460>,\n",
       "  [<nariflow.core.core_tape.Variable at 0x17e504f7e50>],\n",
       "  0)}"
      ]
     },
     "execution_count": 10,
     "metadata": {},
     "output_type": "execute_result"
    }
   ],
   "source": [
    "tape_2.gradient_tape"
   ]
  },
  {
   "cell_type": "code",
   "execution_count": 11,
   "id": "7de1d100",
   "metadata": {},
   "outputs": [],
   "source": [
    "tape.resetgrads()"
   ]
  },
  {
   "cell_type": "code",
   "execution_count": 12,
   "id": "149bda1e",
   "metadata": {},
   "outputs": [
    {
     "name": "stderr",
     "output_type": "stream",
     "text": [
      "C:\\Users\\never\\anaconda3\\envs\\nariflow\\lib\\site-packages\\nariflow\\core\\core_tape.py:95: VisibleDeprecationWarning: Creating an ndarray from ragged nested sequences (which is a list-or-tuple of lists-or-tuples-or ndarrays with different lengths or shapes) is deprecated. If you meant to do this, you must specify 'dtype=object' when creating the ndarray.\n",
      "  if len(np.array(x.data).shape) == 0:\n"
     ]
    }
   ],
   "source": [
    "tape_2.CalcGradient()"
   ]
  },
  {
   "cell_type": "code",
   "execution_count": 24,
   "id": "c00f2e4b",
   "metadata": {},
   "outputs": [
    {
     "data": {
      "text/plain": [
       "array([[ 96.,  64.,  32.],\n",
       "       [192., 160., 128.]])"
      ]
     },
     "execution_count": 24,
     "metadata": {},
     "output_type": "execute_result"
    }
   ],
   "source": [
    "a.grad.data"
   ]
  },
  {
   "cell_type": "code",
   "execution_count": 25,
   "id": "508a0a5b",
   "metadata": {},
   "outputs": [
    {
     "data": {
      "text/plain": [
       "array([[ 18.,  36.,  54.,  72.],\n",
       "       [ 72.,  90., 108., 126.]])"
      ]
     },
     "execution_count": 25,
     "metadata": {},
     "output_type": "execute_result"
    }
   ],
   "source": [
    "b.grad.data"
   ]
  },
  {
   "cell_type": "code",
   "execution_count": 15,
   "id": "6ea0f1dd",
   "metadata": {},
   "outputs": [
    {
     "data": {
      "text/plain": [
       "array([[[32., 32., 32.]],\n",
       "\n",
       "       [[32., 32., 32.]]])"
      ]
     },
     "execution_count": 15,
     "metadata": {},
     "output_type": "execute_result"
    }
   ],
   "source": [
    "a.grad.data"
   ]
  },
  {
   "cell_type": "code",
   "execution_count": 16,
   "id": "17d9204f",
   "metadata": {},
   "outputs": [
    {
     "data": {
      "text/plain": [
       "array([[[18., 18., 18., 18.]],\n",
       "\n",
       "       [[18., 18., 18., 18.]]])"
      ]
     },
     "execution_count": 16,
     "metadata": {},
     "output_type": "execute_result"
    }
   ],
   "source": [
    "b.grad.data"
   ]
  },
  {
   "cell_type": "code",
   "execution_count": 3,
   "id": "e68aa084",
   "metadata": {},
   "outputs": [],
   "source": [
    "from nariflow.core.core import Variable, Function"
   ]
  },
  {
   "cell_type": "code",
   "execution_count": 18,
   "id": "9d22c8b5",
   "metadata": {},
   "outputs": [],
   "source": [
    "class EigenVec(Function):\n",
    "    \n",
    "    def forward(self, x):\n",
    "        self.eigval, self.eigvec = np.linalg.eig(x)\n",
    "        return self.eigvec\n",
    "    \n",
    "    def backward(self, gy):\n",
    "        x = self.input_list[0]\n",
    "        second_term = diagmat(self.eigval) - x\n",
    "        second_term = transpose(second_term)\n",
    "        geigvec = matmul(self.eigvec, second_term)\n",
    "        return geigvec * gy"
   ]
  },
  {
   "cell_type": "code",
   "execution_count": 19,
   "id": "7862e205",
   "metadata": {},
   "outputs": [],
   "source": [
    "class EigenVal(Function):\n",
    "    def forward(self, x):\n",
    "        eigval, eigvec = np.linalg.eig(x)\n",
    "        self.eigval, self.eigvec = eigval, eigvec\n",
    "        return eigval\n",
    "    \n",
    "    def backward(self, gy):\n",
    "        eigvec = Variable(self.eigvec)\n",
    "        geigval = linalg.outer(eigvec, eigvec)\n",
    "        gy = broadcast_to(gy, eigvec.shape())\n",
    "        print(geigval, gy)\n",
    "        return geigval * gy"
   ]
  },
  {
   "cell_type": "code",
   "execution_count": 20,
   "id": "1c2ba797",
   "metadata": {},
   "outputs": [],
   "source": [
    "X = Variable(np.array([[3.0,3.0,2.0],[1.,5.,4.], [2.,3.,4.]]))"
   ]
  },
  {
   "cell_type": "code",
   "execution_count": 21,
   "id": "f3c88d7c",
   "metadata": {},
   "outputs": [],
   "source": [
    "class Symmetric(Function):\n",
    "    \n",
    "    def forward(self, x):\n",
    "        y = (1 / 2) * (x + np.transpose(x))\n",
    "        return y\n",
    "    \n",
    "    def backward(self, gy):\n",
    "        return gy"
   ]
  },
  {
   "cell_type": "code",
   "execution_count": 22,
   "id": "5d455afe",
   "metadata": {},
   "outputs": [],
   "source": [
    "class TriangleUpper(Function):\n",
    "    def __init__(self, k):\n",
    "        if k is not None:\n",
    "            self.k = k\n",
    "        else :\n",
    "            self.k = 0\n",
    "        \n",
    "    def forward(self, x):\n",
    "        y = np.triu(x, k = self.k)\n",
    "        return y\n",
    "    \n",
    "    def backward(self, gy):\n",
    "        return gy"
   ]
  },
  {
   "cell_type": "code",
   "execution_count": 23,
   "id": "741d53b6",
   "metadata": {},
   "outputs": [],
   "source": [
    "class TriangleLow(Function):\n",
    "    def __init__(self, k):\n",
    "        if k is not None:\n",
    "            self.k = k\n",
    "        else :\n",
    "            self.k = 0\n",
    "    \n",
    "    def forward(self, x):\n",
    "        y = np.tril(x, k = self.k)\n",
    "        return y\n",
    "    \n",
    "    def backward(self, gy):\n",
    "        return gy\n",
    "    \n",
    "def trilower(x):\n",
    "    return TriangleLow()(x)"
   ]
  },
  {
   "cell_type": "code",
   "execution_count": 24,
   "id": "3ba64832",
   "metadata": {},
   "outputs": [],
   "source": [
    "class CopyLowtoUpper(Function):\n",
    "    def forward(self, x):\n",
    "        y = np.tril(x)\n",
    "        y_lower = np.tril(x, k = -1)\n",
    "        y = y + np.transpose(y_lower)\n",
    "        return y\n",
    "        \n",
    "    def backward(self, gy):\n",
    "        return gy\n",
    "    \n",
    "def copyltu(x):\n",
    "    return CopyLowtoUpper()(x)"
   ]
  },
  {
   "cell_type": "code",
   "execution_count": 5,
   "id": "0e6075b3",
   "metadata": {},
   "outputs": [],
   "source": [
    "class MatrixInv(Function):\n",
    "    def forward(self, x):\n",
    "        self.cholesky = np.linalg.cholesky(x)\n",
    "        y = np.linalg.inv(self.cholesky)\n",
    "        return y\n",
    "    \n",
    "    def backward(self, gy):\n",
    "        x = self.input_list[0]\n",
    "        Lt = transpose(matinv(self.cholesky))\n",
    "        gx = -2 * trilower(matmul(x, matmul(linalg.symmetric(gy), Lt)))\n",
    "        return gx\n",
    "    \n",
    "def matinv(x):\n",
    "    return MatrixInv()(x)"
   ]
  },
  {
   "cell_type": "code",
   "execution_count": null,
   "id": "bca23fa1",
   "metadata": {},
   "outputs": [],
   "source": [
    "class CholeskyDecomp(Function):\n",
    "    def forward(self, x):\n",
    "        y = np.linalg.cholesky(x)\n",
    "        self.cholesky = y\n",
    "        return y\n",
    "    \n",
    "    def backward(self, gy):\n",
    "        cholesky = Variable(self.cholesky)\n",
    "        cholesky_transpose = transpose(cholesky)\n",
    "        copyl matmul(cholesky_transpose, gy)"
   ]
  },
  {
   "cell_type": "code",
   "execution_count": 34,
   "id": "b7655313",
   "metadata": {},
   "outputs": [],
   "source": [
    "def eigvec(x):\n",
    "    return EigenVec()(x)\n",
    "\n",
    "def eigval(x):\n",
    "    return EigenVal()(x)"
   ]
  },
  {
   "cell_type": "code",
   "execution_count": 3,
   "id": "43101713",
   "metadata": {},
   "outputs": [],
   "source": [
    "with GradientTape() as tape:\n",
    "    eig_vec = linalg.eigval(X)"
   ]
  },
  {
   "cell_type": "code",
   "execution_count": 4,
   "id": "4b220b28",
   "metadata": {},
   "outputs": [
    {
     "data": {
      "text/plain": [
       "array([8.88961751, 0.52139704, 2.58898545])"
      ]
     },
     "execution_count": 4,
     "metadata": {},
     "output_type": "execute_result"
    }
   ],
   "source": [
    "eig_vec.data"
   ]
  },
  {
   "cell_type": "code",
   "execution_count": 5,
   "id": "68b3ac2f",
   "metadata": {},
   "outputs": [],
   "source": [
    "tape.CalcGradient()"
   ]
  },
  {
   "cell_type": "code",
   "execution_count": 6,
   "id": "7bd33ef0",
   "metadata": {},
   "outputs": [
    {
     "data": {
      "text/plain": [
       "array([[[ 0.12465231,  0.2327565 ,  0.15071802],\n",
       "        [ 0.2327565 ,  0.4346136 ,  0.28142759],\n",
       "        [ 0.15071802,  0.28142759,  0.18223427]],\n",
       "\n",
       "       [[ 0.77042162, -0.64323165,  0.29203059],\n",
       "        [-0.64323165,  0.53703965, -0.24381886],\n",
       "        [ 0.29203059, -0.24381886,  0.11069506]],\n",
       "\n",
       "       [[ 0.10492608, -0.05453726, -0.27237869],\n",
       "        [-0.05453726,  0.02834675,  0.14157384],\n",
       "        [-0.27237869,  0.14157384,  0.70707068]]])"
      ]
     },
     "execution_count": 6,
     "metadata": {},
     "output_type": "execute_result"
    }
   ],
   "source": [
    "X.grad.data"
   ]
  },
  {
   "cell_type": "code",
   "execution_count": 3,
   "id": "100ef1a1",
   "metadata": {},
   "outputs": [],
   "source": [
    "with GradientTape() as tape:\n",
    "    eig_vec = linalg.eigvec(X)"
   ]
  },
  {
   "cell_type": "code",
   "execution_count": 4,
   "id": "5fb72634",
   "metadata": {
    "scrolled": true
   },
   "outputs": [
    {
     "name": "stdout",
     "output_type": "stream",
     "text": [
      "[[[-2.07939624  0.70612268  0.35306134]\n",
      "  [-3.88274391  1.31850461  0.6592523 ]\n",
      "  [-2.51421327  0.85377812  0.42688906]]\n",
      "\n",
      " [[ 2.11836803  1.58122155  1.41224535]\n",
      "  [ 3.95551382  2.95252932  2.63700921]\n",
      "  [ 2.56133435  1.9118666   1.70755623]]\n",
      "\n",
      " [[ 0.70612268  0.35306134  0.49817468]\n",
      "  [ 1.31850461  0.6592523   0.93021459]\n",
      "  [ 0.85377812  0.42688906  0.60234667]]\n",
      "\n",
      " [[-5.16953311  1.75547329  0.87773664]\n",
      "  [ 4.31608778 -1.46565979 -0.73282989]\n",
      "  [-1.95952679  0.66541733  0.33270867]]\n",
      "\n",
      " [[ 5.26641986  3.93103393  3.51094657]\n",
      "  [-4.39697937 -3.28205414 -2.93131958]\n",
      "  [ 1.996252    1.49007002  1.33083467]]\n",
      "\n",
      " [[ 1.75547329  0.87773664  1.23849917]\n",
      "  [-1.46565979 -0.73282989 -1.03403364]\n",
      "  [ 0.66541733  0.33270867  0.46945677]]\n",
      "\n",
      " [[-1.90778227  0.6478459   0.32392295]\n",
      "  [ 0.99160498 -0.33672984 -0.16836492]\n",
      "  [ 4.95243181 -1.68174989 -0.84087495]]\n",
      "\n",
      " [[ 1.94353769  1.45072227  1.29569179]\n",
      "  [-1.01018952 -0.75403963 -0.67345968]\n",
      "  [-5.04524968 -3.76594502 -3.36349979]]\n",
      "\n",
      " [[ 0.6478459   0.32392295  0.45705999]\n",
      "  [-0.33672984 -0.16836492 -0.23756535]\n",
      "  [-1.68174989 -0.84087495 -1.18648678]]]\n"
     ]
    }
   ],
   "source": [
    "tape.CalcGradient()"
   ]
  },
  {
   "cell_type": "code",
   "execution_count": 5,
   "id": "ceff62ac",
   "metadata": {},
   "outputs": [
    {
     "data": {
      "text/plain": [
       "array([[[-1.90778227,  0.6478459 ,  0.32392295],\n",
       "        [-1.90778227,  0.6478459 ,  0.32392295],\n",
       "        [-1.90778227,  0.6478459 ,  0.32392295]],\n",
       "\n",
       "       [[-1.01018952, -0.75403963, -0.67345968],\n",
       "        [-1.01018952, -0.75403963, -0.67345968],\n",
       "        [-1.01018952, -0.75403963, -0.67345968]],\n",
       "\n",
       "       [[-1.68174989, -0.84087495, -1.18648678],\n",
       "        [-1.68174989, -0.84087495, -1.18648678],\n",
       "        [-1.68174989, -0.84087495, -1.18648678]]])"
      ]
     },
     "execution_count": 5,
     "metadata": {},
     "output_type": "execute_result"
    }
   ],
   "source": [
    "X.grad.data"
   ]
  },
  {
   "cell_type": "code",
   "execution_count": 69,
   "id": "a868fa4a",
   "metadata": {},
   "outputs": [],
   "source": [
    "test = list(tape.gradient_tape.values())[0]"
   ]
  },
  {
   "cell_type": "code",
   "execution_count": 79,
   "id": "efb9d2db",
   "metadata": {},
   "outputs": [
    {
     "data": {
      "text/plain": [
       "array([[ 0.3479616 ,  0.41433447, -0.18058386,  0.28365183, -0.15460638,\n",
       "         0.51121962,  0.38265646, -0.39036575, -0.232391  ],\n",
       "       [ 0.41433447,  0.4933678 , -0.21502981,  0.33775775, -0.18409719,\n",
       "         0.60873357,  0.45564729, -0.46482711, -0.27671904],\n",
       "       [-0.18058386, -0.21502981,  0.09371876, -0.1472086 ,  0.08023706,\n",
       "        -0.26531092, -0.19858967,  0.20259061,  0.12060544],\n",
       "       [ 0.28365183,  0.33775775, -0.1472086 ,  0.23122769, -0.12603225,\n",
       "         0.41673672,  0.31193443, -0.3182189 , -0.18944082],\n",
       "       [-0.15460638, -0.18409719,  0.08023706, -0.12603225,  0.06869475,\n",
       "        -0.22714522, -0.17002201,  0.1734474 ,  0.10325602],\n",
       "       [ 0.51121962,  0.60873357, -0.26531092,  0.41673672, -0.22714522,\n",
       "         0.75107568,  0.56219275, -0.57351911, -0.34142513],\n",
       "       [ 0.38265646,  0.45564729, -0.19858967,  0.31193443, -0.17002201,\n",
       "         0.56219275,  0.4208107 , -0.42928868, -0.25556244],\n",
       "       [-0.39036575, -0.46482711,  0.20259061, -0.3182189 ,  0.1734474 ,\n",
       "        -0.57351911, -0.42928868,  0.43793745,  0.2607112 ],\n",
       "       [-0.232391  , -0.27671904,  0.12060544, -0.18944082,  0.10325602,\n",
       "        -0.34142513, -0.25556244,  0.2607112 ,  0.15520556]])"
      ]
     },
     "execution_count": 79,
     "metadata": {},
     "output_type": "execute_result"
    }
   ],
   "source": [
    "np.outer(test[0].eigvec, test[0].eigvec)"
   ]
  },
  {
   "cell_type": "code",
   "execution_count": 81,
   "id": "cb5c3bd1",
   "metadata": {},
   "outputs": [
    {
     "ename": "AttributeError",
     "evalue": "'EigenVec' object has no attribute 'result_list'",
     "output_type": "error",
     "traceback": [
      "\u001b[1;31m---------------------------------------------------------------------------\u001b[0m",
      "\u001b[1;31mAttributeError\u001b[0m                            Traceback (most recent call last)",
      "\u001b[1;32m~\\AppData\\Local\\Temp/ipykernel_7272/2730695717.py\u001b[0m in \u001b[0;36m<module>\u001b[1;34m\u001b[0m\n\u001b[1;32m----> 1\u001b[1;33m \u001b[0mtest\u001b[0m\u001b[1;33m[\u001b[0m\u001b[1;36m0\u001b[0m\u001b[1;33m]\u001b[0m\u001b[1;33m.\u001b[0m\u001b[0mresult_list\u001b[0m\u001b[1;33m\u001b[0m\u001b[1;33m\u001b[0m\u001b[0m\n\u001b[0m",
      "\u001b[1;31mAttributeError\u001b[0m: 'EigenVec' object has no attribute 'result_list'"
     ]
    }
   ],
   "source": [
    "test[0]."
   ]
  },
  {
   "cell_type": "code",
   "execution_count": 41,
   "id": "e8459e4b",
   "metadata": {},
   "outputs": [
    {
     "data": {
      "text/plain": [
       "array([[-3.37625768,  5.33718173,  4.19676946],\n",
       "       [ 0.04318249,  0.86379451,  2.32583414],\n",
       "       [-6.81051867, -2.09744569,  1.71734291]])"
      ]
     },
     "execution_count": 41,
     "metadata": {},
     "output_type": "execute_result"
    }
   ],
   "source": [
    "X.grad.data"
   ]
  },
  {
   "cell_type": "code",
   "execution_count": 309,
   "id": "d05b0878",
   "metadata": {},
   "outputs": [],
   "source": [
    "tape.resetgrads()"
   ]
  },
  {
   "cell_type": "code",
   "execution_count": 310,
   "id": "03a9e2f8",
   "metadata": {},
   "outputs": [],
   "source": [
    "with GradientTape() as tape:\n",
    "    eig_val = eigval(X)"
   ]
  },
  {
   "cell_type": "code",
   "execution_count": 313,
   "id": "488f1147",
   "metadata": {},
   "outputs": [],
   "source": [
    "a = list(tape.gradient_tape.values())[0][0]"
   ]
  },
  {
   "cell_type": "code",
   "execution_count": 317,
   "id": "c452dc23",
   "metadata": {},
   "outputs": [
    {
     "data": {
      "text/plain": [
       "[[<__main__.Variable at 0x1ff32662d30>, <__main__.Variable at 0x1ff32668880>],\n",
       " [<__main__.Variable at 0x1ff32668850>, <__main__.Variable at 0x1ff32668760>],\n",
       " [<__main__.Variable at 0x1ff32668700>, <__main__.Variable at 0x1ff326686a0>]]"
      ]
     },
     "execution_count": 317,
     "metadata": {},
     "output_type": "execute_result"
    }
   ],
   "source": [
    "a.result_list"
   ]
  },
  {
   "cell_type": "code",
   "execution_count": 312,
   "id": "a348b705",
   "metadata": {},
   "outputs": [
    {
     "ename": "TypeError",
     "evalue": "can't multiply sequence by non-int of type 'list'",
     "output_type": "error",
     "traceback": [
      "\u001b[1;31m---------------------------------------------------------------------------\u001b[0m",
      "\u001b[1;31mTypeError\u001b[0m                                 Traceback (most recent call last)",
      "\u001b[1;32m~\\AppData\\Local\\Temp/ipykernel_27336/850768104.py\u001b[0m in \u001b[0;36m<module>\u001b[1;34m\u001b[0m\n\u001b[1;32m----> 1\u001b[1;33m \u001b[0mtape\u001b[0m\u001b[1;33m.\u001b[0m\u001b[0mCalcGradient\u001b[0m\u001b[1;33m(\u001b[0m\u001b[1;33m)\u001b[0m\u001b[1;33m\u001b[0m\u001b[1;33m\u001b[0m\u001b[0m\n\u001b[0m",
      "\u001b[1;32m~\\AppData\\Local\\Temp/ipykernel_27336/1310889502.py\u001b[0m in \u001b[0;36mCalcGradient\u001b[1;34m(self, target, tapes, resetgrad)\u001b[0m\n\u001b[0;32m     59\u001b[0m             \u001b[0mgy_list\u001b[0m \u001b[1;33m=\u001b[0m \u001b[1;33m[\u001b[0m\u001b[0moutput\u001b[0m\u001b[1;33m.\u001b[0m\u001b[0mgrad\u001b[0m \u001b[1;32mfor\u001b[0m \u001b[0moutput\u001b[0m \u001b[1;32min\u001b[0m \u001b[0moutputs\u001b[0m\u001b[1;33m]\u001b[0m\u001b[1;33m\u001b[0m\u001b[1;33m\u001b[0m\u001b[0m\n\u001b[0;32m     60\u001b[0m             \u001b[0mfunc\u001b[0m\u001b[1;33m.\u001b[0m\u001b[0minput_list\u001b[0m \u001b[1;33m=\u001b[0m \u001b[0minputs\u001b[0m\u001b[1;33m\u001b[0m\u001b[1;33m\u001b[0m\u001b[0m\n\u001b[1;32m---> 61\u001b[1;33m             \u001b[0mgx_list\u001b[0m \u001b[1;33m=\u001b[0m \u001b[0mfunc\u001b[0m\u001b[1;33m.\u001b[0m\u001b[0mbackward\u001b[0m\u001b[1;33m(\u001b[0m\u001b[1;33m*\u001b[0m\u001b[0mgy_list\u001b[0m\u001b[1;33m)\u001b[0m\u001b[1;33m\u001b[0m\u001b[1;33m\u001b[0m\u001b[0m\n\u001b[0m\u001b[0;32m     62\u001b[0m             \u001b[1;32mif\u001b[0m \u001b[1;32mnot\u001b[0m \u001b[0misinstance\u001b[0m\u001b[1;33m(\u001b[0m\u001b[0mgx_list\u001b[0m\u001b[1;33m,\u001b[0m \u001b[0mtuple\u001b[0m\u001b[1;33m)\u001b[0m\u001b[1;33m:\u001b[0m\u001b[1;33m\u001b[0m\u001b[1;33m\u001b[0m\u001b[0m\n\u001b[0;32m     63\u001b[0m                 \u001b[0mgx_list\u001b[0m \u001b[1;33m=\u001b[0m \u001b[1;33m(\u001b[0m\u001b[0mgx_list\u001b[0m\u001b[1;33m,\u001b[0m\u001b[1;33m)\u001b[0m\u001b[1;33m\u001b[0m\u001b[1;33m\u001b[0m\u001b[0m\n",
      "\u001b[1;32m~\\AppData\\Local\\Temp/ipykernel_27336/2113583416.py\u001b[0m in \u001b[0;36mbackward\u001b[1;34m(self, gy)\u001b[0m\n\u001b[0;32m     22\u001b[0m         \u001b[0mresult_list\u001b[0m \u001b[1;33m=\u001b[0m \u001b[0mlist\u001b[0m\u001b[1;33m(\u001b[0m\u001b[1;33m)\u001b[0m\u001b[1;33m\u001b[0m\u001b[1;33m\u001b[0m\u001b[0m\n\u001b[0;32m     23\u001b[0m         \u001b[0mself\u001b[0m\u001b[1;33m.\u001b[0m\u001b[0mresult_list\u001b[0m \u001b[1;33m=\u001b[0m \u001b[0mself\u001b[0m\u001b[1;33m.\u001b[0m\u001b[0meigvec_reshape\u001b[0m\u001b[1;33m(\u001b[0m\u001b[0mself\u001b[0m\u001b[1;33m.\u001b[0m\u001b[0meigvec\u001b[0m\u001b[1;33m,\u001b[0m \u001b[0mresult_list\u001b[0m\u001b[1;33m)\u001b[0m\u001b[1;33m\u001b[0m\u001b[1;33m\u001b[0m\u001b[0m\n\u001b[1;32m---> 24\u001b[1;33m         \u001b[0mgeigval\u001b[0m \u001b[1;33m=\u001b[0m \u001b[0mself\u001b[0m\u001b[1;33m.\u001b[0m\u001b[0mresult_list\u001b[0m\u001b[1;33m[\u001b[0m\u001b[1;36m0\u001b[0m\u001b[1;33m]\u001b[0m \u001b[1;33m*\u001b[0m \u001b[0mself\u001b[0m\u001b[1;33m.\u001b[0m\u001b[0mresult_list\u001b[0m\u001b[1;33m[\u001b[0m\u001b[1;36m0\u001b[0m\u001b[1;33m]\u001b[0m\u001b[1;33m\u001b[0m\u001b[1;33m\u001b[0m\u001b[0m\n\u001b[0m\u001b[0;32m     25\u001b[0m         \u001b[1;32mreturn\u001b[0m \u001b[0mgeigval\u001b[0m \u001b[1;33m*\u001b[0m \u001b[0mgy\u001b[0m\u001b[1;33m\u001b[0m\u001b[1;33m\u001b[0m\u001b[0m\n",
      "\u001b[1;31mTypeError\u001b[0m: can't multiply sequence by non-int of type 'list'"
     ]
    }
   ],
   "source": [
    "tape.CalcGradient()"
   ]
  },
  {
   "cell_type": "code",
   "execution_count": 143,
   "id": "9e41b9c9",
   "metadata": {},
   "outputs": [
    {
     "data": {
      "text/plain": [
       "array([[ 0.3479616 ,  0.41433447, -0.18058386],\n",
       "       [ 0.41433447,  0.4933678 , -0.21502981],\n",
       "       [-0.18058386, -0.21502981,  0.09371876]])"
      ]
     },
     "execution_count": 143,
     "metadata": {},
     "output_type": "execute_result"
    }
   ],
   "source": [
    "np.reshape(a.eigvec[0], (-1,1)) * np.broadcast_to(a.eigvec[0], (3,3))"
   ]
  },
  {
   "cell_type": "code",
   "execution_count": 53,
   "id": "7ae91cc8",
   "metadata": {},
   "outputs": [
    {
     "data": {
      "text/plain": [
       "(3, 3)"
      ]
     },
     "execution_count": 53,
     "metadata": {},
     "output_type": "execute_result"
    }
   ],
   "source": [
    "len(a.eigvec.shape"
   ]
  },
  {
   "cell_type": "code",
   "execution_count": 52,
   "id": "43937d18",
   "metadata": {},
   "outputs": [
    {
     "data": {
      "text/plain": [
       "[3, 3, -1, 1]"
      ]
     },
     "execution_count": 52,
     "metadata": {},
     "output_type": "execute_result"
    }
   ],
   "source": [
    "list(a.eigvec.shape) + [-1, 1]"
   ]
  },
  {
   "cell_type": "code",
   "execution_count": 32,
   "id": "9aa34995",
   "metadata": {},
   "outputs": [
    {
     "ename": "TypeError",
     "evalue": "'int' object is not iterable",
     "output_type": "error",
     "traceback": [
      "\u001b[1;31m---------------------------------------------------------------------------\u001b[0m",
      "\u001b[1;31mTypeError\u001b[0m                                 Traceback (most recent call last)",
      "\u001b[1;32m~\\AppData\\Local\\Temp/ipykernel_47640/963071600.py\u001b[0m in \u001b[0;36m<module>\u001b[1;34m\u001b[0m\n\u001b[1;32m----> 1\u001b[1;33m \u001b[0mlist\u001b[0m\u001b[1;33m(\u001b[0m\u001b[0ma\u001b[0m\u001b[1;33m.\u001b[0m\u001b[0meigvec\u001b[0m\u001b[1;33m.\u001b[0m\u001b[0mshape\u001b[0m\u001b[1;33m)\u001b[0m \u001b[1;33m+\u001b[0m \u001b[0mlist\u001b[0m\u001b[1;33m(\u001b[0m\u001b[0ma\u001b[0m\u001b[1;33m.\u001b[0m\u001b[0meigvec\u001b[0m\u001b[1;33m.\u001b[0m\u001b[0mshape\u001b[0m\u001b[1;33m[\u001b[0m\u001b[1;33m-\u001b[0m\u001b[1;36m1\u001b[0m\u001b[1;33m]\u001b[0m\u001b[1;33m)\u001b[0m\u001b[1;33m\u001b[0m\u001b[1;33m\u001b[0m\u001b[0m\n\u001b[0m",
      "\u001b[1;31mTypeError\u001b[0m: 'int' object is not iterable"
     ]
    }
   ],
   "source": [
    "list(a.eigvec.shape) + list(a.eigvec.shape[-1])"
   ]
  },
  {
   "cell_type": "code",
   "execution_count": 27,
   "id": "50156f40",
   "metadata": {},
   "outputs": [
    {
     "data": {
      "text/plain": [
       "array([[[ 0.48712968,  0.43282789,  0.54875515],\n",
       "        [ 0.71981232, -0.16706661, -0.71577896],\n",
       "        [-0.19112488,  0.88980589, -0.61690322]],\n",
       "\n",
       "       [[ 0.48712968,  0.43282789,  0.54875515],\n",
       "        [ 0.71981232, -0.16706661, -0.71577896],\n",
       "        [-0.19112488,  0.88980589, -0.61690322]],\n",
       "\n",
       "       [[ 0.48712968,  0.43282789,  0.54875515],\n",
       "        [ 0.71981232, -0.16706661, -0.71577896],\n",
       "        [-0.19112488,  0.88980589, -0.61690322]]])"
      ]
     },
     "execution_count": 27,
     "metadata": {},
     "output_type": "execute_result"
    }
   ],
   "source": [
    "np.matmul(np.broadcast_to(a.eigvec, (3,3,3)),\n",
    "          a.eigvec)"
   ]
  },
  {
   "cell_type": "code",
   "execution_count": 28,
   "id": "80f8b21c",
   "metadata": {},
   "outputs": [
    {
     "data": {
      "text/plain": [
       "array([[ 0.3479616 ,  0.41433447, -0.18058386],\n",
       "       [ 0.41433447,  0.4933678 , -0.21502981],\n",
       "       [-0.18058386, -0.21502981,  0.09371876]])"
      ]
     },
     "execution_count": 28,
     "metadata": {},
     "output_type": "execute_result"
    }
   ],
   "source": [
    "np.reshape(a.eigvec[0], (a.eigvec.shape[-1], 1)) * np.broadcast_to(a.eigvec[0], (3,3))"
   ]
  },
  {
   "cell_type": "code",
   "execution_count": 29,
   "id": "9b974732",
   "metadata": {},
   "outputs": [],
   "source": [
    "X = tf.Variable(np.array([[1.,2.,4.],[3.,2,1],[5.,2.,1.]]))"
   ]
  },
  {
   "cell_type": "code",
   "execution_count": 30,
   "id": "b369a088",
   "metadata": {},
   "outputs": [],
   "source": [
    "with tf.GradientTape() as tape:\n",
    "    eig_val, eig_vec = tf.linalg.eigh(X)"
   ]
  },
  {
   "cell_type": "code",
   "execution_count": 31,
   "id": "e58c7d95",
   "metadata": {},
   "outputs": [
    {
     "ename": "TypeError",
     "evalue": "'NoneType' object is not subscriptable",
     "output_type": "error",
     "traceback": [
      "\u001b[1;31m---------------------------------------------------------------------------\u001b[0m",
      "\u001b[1;31mTypeError\u001b[0m                                 Traceback (most recent call last)",
      "\u001b[1;32m~\\AppData\\Local\\Temp/ipykernel_56132/134902881.py\u001b[0m in \u001b[0;36m<module>\u001b[1;34m\u001b[0m\n\u001b[1;32m----> 1\u001b[1;33m \u001b[0mtape\u001b[0m\u001b[1;33m.\u001b[0m\u001b[0mgradient\u001b[0m\u001b[1;33m(\u001b[0m\u001b[0meig_val\u001b[0m\u001b[1;33m[\u001b[0m\u001b[1;36m0\u001b[0m\u001b[1;33m]\u001b[0m\u001b[1;33m,\u001b[0m \u001b[0mX\u001b[0m\u001b[1;33m)\u001b[0m\u001b[1;33m[\u001b[0m\u001b[1;36m0\u001b[0m\u001b[1;33m]\u001b[0m\u001b[1;33m\u001b[0m\u001b[1;33m\u001b[0m\u001b[0m\n\u001b[0m",
      "\u001b[1;31mTypeError\u001b[0m: 'NoneType' object is not subscriptable"
     ]
    }
   ],
   "source": [
    "tape.gradient(eig_val[0], X)[0]"
   ]
  },
  {
   "cell_type": "code",
   "execution_count": 32,
   "id": "bfc3a208",
   "metadata": {},
   "outputs": [],
   "source": [
    "import torch"
   ]
  },
  {
   "cell_type": "code",
   "execution_count": 33,
   "id": "d1906eb5",
   "metadata": {},
   "outputs": [],
   "source": [
    "matrix_torch = torch.autograd.Variable(torch.from_numpy(np.array([[1.,2.,4.],[3.,2,1],[5.,2.,1.]])), requires_grad=True)"
   ]
  },
  {
   "cell_type": "code",
   "execution_count": 34,
   "id": "b6d987e9",
   "metadata": {},
   "outputs": [],
   "source": [
    "eigvals_torch, eigvecs_torch = torch.linalg.eigh(matrix_torch)"
   ]
  },
  {
   "cell_type": "code",
   "execution_count": 35,
   "id": "07bc4475",
   "metadata": {},
   "outputs": [
    {
     "name": "stdout",
     "output_type": "stream",
     "text": [
      "[[ 0.53936585 -0.10549042 -0.48715716]\n",
      " [-0.10549042  0.02063206  0.09527933]\n",
      " [-0.48715716  0.09527933  0.44000209]]\n"
     ]
    }
   ],
   "source": [
    "eigvals_torch[0].backward()\n",
    "grad_torch = matrix_torch.grad.numpy()\n",
    "print(grad_torch)"
   ]
  },
  {
   "cell_type": "code",
   "execution_count": 33,
   "id": "4c20a81c",
   "metadata": {},
   "outputs": [
    {
     "ename": "ModuleNotFoundError",
     "evalue": "No module named 'torch'",
     "output_type": "error",
     "traceback": [
      "\u001b[1;31m---------------------------------------------------------------------------\u001b[0m",
      "\u001b[1;31mModuleNotFoundError\u001b[0m                       Traceback (most recent call last)",
      "\u001b[1;32m~\\AppData\\Local\\Temp/ipykernel_27984/1982526000.py\u001b[0m in \u001b[0;36m<module>\u001b[1;34m\u001b[0m\n\u001b[0;32m      1\u001b[0m \u001b[1;32mimport\u001b[0m \u001b[0mnumpy\u001b[0m \u001b[1;32mas\u001b[0m \u001b[0mnp\u001b[0m\u001b[1;33m\u001b[0m\u001b[1;33m\u001b[0m\u001b[0m\n\u001b[1;32m----> 2\u001b[1;33m \u001b[1;32mimport\u001b[0m \u001b[0mtorch\u001b[0m\u001b[1;33m\u001b[0m\u001b[1;33m\u001b[0m\u001b[0m\n\u001b[0m\u001b[0;32m      3\u001b[0m \u001b[1;32mimport\u001b[0m \u001b[0mtensorflow\u001b[0m \u001b[1;32mas\u001b[0m \u001b[0mtf\u001b[0m\u001b[1;33m\u001b[0m\u001b[1;33m\u001b[0m\u001b[0m\n\u001b[0;32m      4\u001b[0m \u001b[1;33m\u001b[0m\u001b[0m\n\u001b[0;32m      5\u001b[0m \u001b[1;33m\u001b[0m\u001b[0m\n",
      "\u001b[1;31mModuleNotFoundError\u001b[0m: No module named 'torch'"
     ]
    }
   ],
   "source": [
    "import numpy as np\n",
    "import torch\n",
    "import tensorflow as tf\n",
    "\n",
    "\n",
    "np.set_printoptions(precision=3)\n",
    "np.random.seed(123)\n",
    "\n",
    "# random matrix\n",
    "matrix_np = np.random.randn(4, 4)\n",
    "# make symmetric\n",
    "matrix_np = matrix_np + matrix_np.T\n",
    "matrix_torch = torch.autograd.Variable(torch.from_numpy(matrix_np), requires_grad=True)\n",
    "matrix_tf = tf.constant(matrix_np, dtype=tf.float64)\n",
    "\n",
    "#\n",
    "# compute eigenvalue decompositions\n",
    "#\n",
    "# NumPy\n",
    "eigvals_np, eigvecs_np = np.linalg.eigh(matrix_np)\n",
    "# PyTorch\n",
    "eigvals_torch, eigvecs_torch = torch.symeig(matrix_torch, eigenvectors=True, upper=True)\n",
    "# TensorFlow\n",
    "eigvals_tf, eigvecs_tf = tf.linalg.eigh(matrix_tf)\n",
    "\n",
    "# make sure all three versions computed the same eigenvalues\n",
    "if not np.allclose(eigvals_np, eigvals_torch.data.numpy()):\n",
    "    print('NumPy and PyTorch have different eigenvalues')\n",
    "if not np.allclose(eigvals_np, tf.keras.backend.eval(eigvals_tf)):\n",
    "    print('NumPy and TensorFlow have different eigenvalues')\n",
    "\n",
    "#\n",
    "# compute derivative of first eigenvalue with respect to the matrix\n",
    "#\n",
    "# analytic gradient, see \"On differentiating eigenvalues and eigenvectors\" by Jan R. Magnus\n",
    "grad_analytic = np.outer(eigvecs_np[:, 0], eigvecs_np[:, 0])\n",
    "# PyTorch gradient\n",
    "eigvals_torch[0].backward()\n",
    "grad_torch = matrix_torch.grad.numpy()\n",
    "# TensorFlow gradient\n",
    "grad_tf = tf.gradients(eigvals_tf[0], matrix_tf)[0]\n",
    "grad_tf = tf.keras.backend.eval(grad_tf)\n",
    "\n",
    "#\n",
    "# print all derivatives\n",
    "#\n",
    "print('-'*6, 'analytic gradient', '-'*6)\n",
    "print(grad_analytic)\n",
    "print('-'*6, 'Pytorch gradient', '-'*6)\n",
    "print(grad_torch)\n",
    "print('-'*6, 'TensorFlow gradient', '-'*6)"
   ]
  },
  {
   "cell_type": "markdown",
   "id": "8140135e",
   "metadata": {},
   "source": [
    "## 테스트 함수"
   ]
  },
  {
   "cell_type": "code",
   "execution_count": 336,
   "id": "d0f4ca59",
   "metadata": {},
   "outputs": [],
   "source": [
    "class TestFunction():\n",
    "    def matyas(self, x, y):\n",
    "        z = 0.26 * (x ** 2 + y ** 2) - 0.48 * x * y\n",
    "        return z\n",
    "\n",
    "    def goldstein(self, x,y):\n",
    "        z = (1 + (x + y + 1) ** 2 * (19 - 14 * x + 3 * x **2 - 14 * y + 6 * x * y + 3 * y ** 2)) * \\\n",
    "        (30 + (2 * x - 3 * y)**2 * (18 - 32*x + 12*x**2 + 48*y - 36*x*y + 27*y**2))\n",
    "        return z\n",
    "    \n",
    "class OrderFunction():\n",
    "    def high_order_function(self, x, y):\n",
    "        z = x ** 4 + y ** 3 + x ** 2 + y ** (1/2)\n",
    "        return z\n",
    "    def matrix_order_function(self, x):\n",
    "        y = 2 * x ** 3\n",
    "        return y\n",
    "    \n",
    "class JacobianFunction():\n",
    "    def matmul(self, x, y, k):\n",
    "        with GradientTape() as tape:\n",
    "            result = ef.matmul(x,sf.transpose(y))\n",
    "            result_2 = ef.matmul(result, k)\n",
    "        return tape\n",
    "    \n",
    "    def reduce_sum(self, x, y, k):\n",
    "        with GradientTape() as tape:\n",
    "            result = ef.matmul(x,sf.transpose(y))\n",
    "            result_2 = ef.matmul(result, k)\n",
    "            result_3 = ef.flowsum(result_2)\n",
    "        return tape\n",
    "    \n",
    "    def div(self, x, y, k):\n",
    "        with GradientTape() as tape:\n",
    "            result = ef.matmul(x,sf.transpose(y))\n",
    "            result_2 = ef.matmul(result, k)\n",
    "            result_3 = result_2 / result\n",
    "        return tape\n",
    "    \n",
    "    def sum(self, x, y, k):\n",
    "        with GradientTape() as tape:\n",
    "            result = ef.matmul(x,sf.transpose(y))\n",
    "            result_2 = ef.matmul(result, k)\n",
    "            result_3 = result_2 + result\n",
    "        return tape\n",
    "    \n",
    "    def mul(self, x, y, k):\n",
    "        with GradientTape() as tape:\n",
    "            result = ef.matmul(x,sf.transpose(y))\n",
    "            result_2 = ef.matmul(result, k)\n",
    "            result_3 = result_2 * result\n",
    "        return tape\n",
    "\n",
    "class GradientStartFunction():\n",
    "    def gradient_start_middle(self, x, y, k):\n",
    "        x = Variable(np.array([[1.,2.],[4.,5.]]))\n",
    "        v = Variable(np.array([[4.,5.],[6.,7.]]))\n",
    "        k = Variable(np.array([[1.,3.],[4.,6.]]))\n",
    "        \n",
    "        with GradientTape() as tape:\n",
    "            result = ef.matmul(x,sf.transpose(v))\n",
    "            result_2 = ef.matmul(result, k)\n",
    "            result_3 = result_2 / x\n",
    "        \n",
    "        tape.CalcGradient(target = result_2)\n",
    "        return x.grad.data, v.grad.data, k.grad.data\n",
    "    \n",
    "    def gradient_stop_test(self, x, y, k):\n",
    "        x = Variable(np.array([[1.,2.],[4.,5.]]))\n",
    "        v = Variable(np.array([[4.,5.],[6.,7.]]))\n",
    "        k = Variable(np.array([[1.,3.],[4.,6.]]))\n",
    "        \n",
    "        with GradientTape() as tape_1, GradientTape() as tape_2:\n",
    "            result = ef.matmul(x,sf.transpose(v))\n",
    "            result_2 = ef.matmul(ef.stop_gradient(result), k)\n",
    "            result_2 = result_2 ** 2\n",
    "            result_3 = result_2 * x\n",
    "        tape_2.CalcGradient()\n",
    "        return x.grad.data, k.grad.data\n",
    "    \n",
    "class LinalgFunction():\n",
    "    def linalg_concat_test(self):\n",
    "        x = Variable(np.array([[[3.0,2.0,1.0]],[[6.,5.,4.]]]))\n",
    "        y = Variable(np.array([[[1.0,2.0,3.0]],[[4.,5.,6.]]]))\n",
    "        k = Variable(np.array([[[1.0,2.0,5.0]],[[7.,8.,9.]]]))\n",
    "\n",
    "        with GradientTape() as tape:\n",
    "            d = x * y\n",
    "            concats = flowconcat([k,d])\n",
    "            result = concats * concats\n",
    "\n",
    "        tape.CalcGradient()\n",
    "\n",
    "        return concats.grad.data, k.grad.data, d.grad.data, x.grad.data, y.grad.data\n",
    "    \n",
    "    def linalg_stack_test(self):\n",
    "        x = Variable(np.array([[[3.0,2.0,1.0]],[[6.,5.,4.]]]))\n",
    "        y = Variable(np.array([[[1.0,2.0,3.0]],[[4.,5.,6.]]]))\n",
    "        k = Variable(np.array([[[1.0,2.0,5.0]],[[7.,8.,9.]]]))\n",
    "       \n",
    "        with GradientTape() as tape:\n",
    "            d = x * y\n",
    "            concats = flowstack([k,d])\n",
    "            result = concats * concats\n",
    "\n",
    "        tape.CalcGradient()\n",
    "        \n",
    "        return concats.grad.data, k.grad.data, d.grad.data, x.grad.data, y.grad.data"
   ]
  },
  {
   "cell_type": "code",
   "execution_count": 342,
   "id": "d8b3cfcd",
   "metadata": {},
   "outputs": [],
   "source": [
    "class UnitTest():\n",
    "    def __init__(self):\n",
    "        self.dataset_path = tf.keras.utils.get_file(\n",
    "            \"auto-mpg.data\", \"http://archive.ics.uci.edu/ml/machine-learning-databases/auto-mpg/auto-mpg.data\")\n",
    "        self.jacobian_preset = JacobianFunction()\n",
    "        self.function_preset = TestFunction()\n",
    "        self.order_preset = OrderFunction()\n",
    "        self.start_preset = GradientStartFunction()\n",
    "        self.answer_preset = TestAnswer()\n",
    "        self.linalg_preset = LinalgFunction()\n",
    "        \n",
    "    def data_preprocessing(self):\n",
    "        def norm(x):\n",
    "            return (x - train_stats['mean']) / train_stats['std']\n",
    "        column_names = ['MPG','Cylinders','Displacement','Horsepower','Weight',\n",
    "                        'Acceleration', 'Model Year', 'Origin']\n",
    "        raw_dataset = pd.read_csv(self.dataset_path, names=column_names,\n",
    "                              na_values = \"?\", comment='\\t',\n",
    "                              sep=\" \", skipinitialspace=True)\n",
    "\n",
    "        dataset = raw_dataset.copy()\n",
    "        dataset = dataset.dropna()\n",
    "        origin = dataset.pop('Origin')\n",
    "        \n",
    "        dataset['USA'] = (origin == 1)*1.0\n",
    "        dataset['Europe'] = (origin == 2)*1.0\n",
    "        dataset['Japan'] = (origin == 3)*1.0\n",
    "        \n",
    "        train_dataset = dataset.sample(frac=0.8,random_state=0)\n",
    "        test_dataset = dataset.drop(train_dataset.index)\n",
    "        \n",
    "        train_stats = train_dataset.describe()\n",
    "        train_stats.pop(\"MPG\")\n",
    "        train_stats = train_stats.transpose()\n",
    "        \n",
    "        normed_train_data = norm(train_dataset)\n",
    "        normed_test_data = norm(test_dataset)\n",
    "        train_labels = train_dataset.pop('MPG')\n",
    "        \n",
    "        X = Variable(np.array(normed_train_data.drop('MPG',axis = 1)))\n",
    "        y = (np.array(train_labels) - np.mean(np.array(train_dataset))) / np.std(np.array(train_dataset))\n",
    "        y = Variable(np.array(y).reshape([-1,1]))\n",
    "        \n",
    "        return X,y\n",
    "    \n",
    "    def answer_correction(self, function, answer, pred, tor):\n",
    "        answer = [np.abs(i.reshape(j.shape)) for i,j in zip(answer, pred)]\n",
    "        pred = [np.abs(x) for x in pred]\n",
    "        loss = [np.abs(i - j) for i,j in zip(answer, pred)]\n",
    "        loss = np.array([i.sum() for i in loss])\n",
    "        if np.all(loss < tor):\n",
    "            print(function, ' : ok')\n",
    "        else :\n",
    "            print(function, ' : Failed')\n",
    "            print('answer :', answer)\n",
    "            print('pred :', pred)\n",
    "            print('error :', loss)\n",
    "\n",
    "    def preset_test(self, tor = 0.01, function = None, x = None, y = None):\n",
    "        try: \n",
    "            if x is None:\n",
    "                x = Variable(np.array(1.0))\n",
    "            if y is None:\n",
    "                y = Variable(np.array(1.0))\n",
    "            function_list = [i for i in self.function_preset.__dir__() if not i.startswith('_')]\n",
    "            for function in function_list:\n",
    "                current_function = self.function_preset.__getattribute__(function)\n",
    "                with GradientTape() as tape:\n",
    "                    z = current_function(x, y)\n",
    "                tape.CalcGradient()\n",
    "                pred = (x.grad.data, y.grad.data)\n",
    "                answer = self.answer_preset.__getattribute__(function)()\n",
    "                self.answer_correction(function, answer, pred, tor)\n",
    "                tape.resetgrads()\n",
    "        except Exception as e:\n",
    "            print(f'matrix_order_test_{order} is failed :', e)\n",
    "            \n",
    "    def high_order_test(self, orders = 2):\n",
    "        try:        \n",
    "            x = Variable(np.array(2.0))\n",
    "            y = Variable(np.array(2.0))\n",
    "            order_function = self.order_preset.high_order_function\n",
    "            tape_dict = dict()\n",
    "            with GradientTape() as tape:\n",
    "                f = order_function(x, y)\n",
    "            tape_dict[0] = tape\n",
    "            for order in range(orders):\n",
    "                with GradientTape() as tape_1:\n",
    "                    tape_dict[order].CalcGradient()\n",
    "                tape_dict[order + 1] = tape_1\n",
    "                pred = (x.grad.data, y.grad.data)\n",
    "                tape_dict[order].resetgrads()\n",
    "                answer = self.answer_preset.high_order_function(order)\n",
    "                self.answer_correction(f'high_order_test_{order}', answer, pred, 0.01)\n",
    "                tape.resetgrads()\n",
    "        except Exception as e:\n",
    "            print(f'matrix_order_test_{order} is failed :', e)\n",
    "            \n",
    "    def matrix_test(self, orders = 3):\n",
    "        try:\n",
    "            X = Variable(np.array([[1.,2.],[4.,5.]]))\n",
    "            matrix_function = self.order_preset.matrix_order_function\n",
    "            tape_dict = dict()\n",
    "            with GradientTape() as tape:\n",
    "                result = matrix_function(X)\n",
    "            tape_dict[0] = tape\n",
    "            for order in range(orders):    \n",
    "                with GradientTape() as tape_1:\n",
    "                    tape_dict[order].CalcGradient()\n",
    "                tape_dict[order + 1] = tape_1\n",
    "                pred = X.grad.data\n",
    "                tape_dict[order].resetgrads()\n",
    "                answer = self.answer_preset.matrix_order_function(order)\n",
    "                self.answer_correction(f'matrix_order_test_{order}',\n",
    "                                      answer,\n",
    "                                      pred,\n",
    "                                      0.01)\n",
    "        except Exception as e:\n",
    "            print(f'matrix_order_test_{order} is failed :', e)\n",
    "            \n",
    "    def jacobian_test(self, tor = 0.01, x = None, v = None, k = None, target = None):\n",
    "        try :\n",
    "            if x is None:\n",
    "                x = Variable(np.array([[1.,2.],[4.,5.]]))\n",
    "            if v is None:\n",
    "                v = Variable(np.array([[4.,5.],[6.,7.]]))\n",
    "            if k is None:\n",
    "                k = Variable(np.array([[1.,3.],[4.,6.]]))\n",
    "            jacobian_function = self.jacobian_preset\n",
    "            function_list = [i for i in jacobian_function.__dir__() if not i.startswith('_')]\n",
    "            for function in function_list:\n",
    "                current_function = jacobian_function.__getattribute__(function)\n",
    "                tape = current_function(x,v,k)\n",
    "                if target is not None:\n",
    "                    pred = (tape.jacobian(target = target, var = x, var_return = 'numpy'),\n",
    "                     tape.jacobian(target = target, var = v, var_return = 'numpy'),\n",
    "                     tape.jacobian(target = target, var = k, var_return = 'numpy'))\n",
    "                else :\n",
    "                    pred = (tape.jacobian(var = x, var_return = 'numpy'),\n",
    "                     tape.jacobian(var = v, var_return = 'numpy'),\n",
    "                     tape.jacobian(var = k, var_return = 'numpy'))\n",
    "                answer = self.answer_preset.__getattribute__(function)()\n",
    "                self.answer_correction(function, answer, pred, tor)\n",
    "                tape.resetgrads()\n",
    "        except Exception as e:\n",
    "            print(f'matrix_order_test_{order} is failed :', e) \n",
    "\n",
    "    def gradient_start_index_test(self, tor = 0.01, x = None, v = None, k = None):\n",
    "        try :\n",
    "            if x is None:\n",
    "                x = Variable(np.array([[1.,2.],[4.,5.]]))\n",
    "            if v is None:\n",
    "                v = Variable(np.array([[4.,5.],[6.,7.]]))\n",
    "            if k is None:\n",
    "                k = Variable(np.array([[1.,3.],[4.,6.]]))\n",
    "            start_index_function = self.start_preset\n",
    "            function_list = [i for i in start_index_function.__dir__() if not i.startswith('_')]\n",
    "            for function in function_list:\n",
    "                current_function = start_index_function.__getattribute__(function)\n",
    "                pred = current_function(x, v, k)\n",
    "                answer = self.answer_preset.__getattribute__(function)()\n",
    "                self.answer_correction(function, answer, pred, tor)\n",
    "        except Exception as e:\n",
    "            print(f'{function} is failed :', e) \n",
    "            \n",
    "    def linalg_test(self, tor = 0.01):\n",
    "        try:\n",
    "            linalg_function = self.linalg_preset\n",
    "            function_list = [i for i in linalg_function.__dir__() if not i.startswith('_')]\n",
    "            for function in function_list:\n",
    "                current_function = linalg_function.__getattribute__(function)\n",
    "                preds = current_function()\n",
    "                answers = self.answer_preset.__getattribute__(function)()\n",
    "                self.answer_correction(function, answers, preds, tor)\n",
    "        except Exception as e:\n",
    "            print(f'{function} is failed :', e) \n",
    "            \n",
    "    def modeling_test(self, tor = 1e-7, end_iter = 4):\n",
    "        try:\n",
    "            X,y = self.data_preprocessing()\n",
    "\n",
    "            lr = 0.1\n",
    "            loss_flow = []\n",
    "            loss_iter = 0\n",
    "\n",
    "            start_time = time.time()\n",
    "            model = Models(100, 1)\n",
    "            optimizers = optimizer.Adam()\n",
    "            optimizers.setup(model)\n",
    "            for i in range(10000):\n",
    "                with GradientTape() as tape:\n",
    "                    y_pred = model(X)\n",
    "\n",
    "                    loss = f.loss.mean_squared_error(y, y_pred)\n",
    "\n",
    "                tape.CalcGradient()\n",
    "\n",
    "                optimizers.update()\n",
    "\n",
    "                if i % 1000 == 0:\n",
    "                    loss_flow.append(loss.data)\n",
    "                    if (loss_iter > end_iter):\n",
    "                        if (abs(loss_flow[loss_iter - 1]) - (\n",
    "                            abs(loss_flow[loss_iter]))) < tor:\n",
    "                            print('loss_value :' , [float(i) for i in loss_flow])\n",
    "                            print('model is under local minima, Attempt to retry..')\n",
    "                            self.modeling_test()\n",
    "                            break\n",
    "                        else :\n",
    "                            print('loss_value :' , [float(i) for i in loss_flow])\n",
    "                            print('model training test : ok')\n",
    "                            break\n",
    "                    loss_iter += 1\n",
    "        except Exception as e:\n",
    "            print(f'model_training test is failed : {e}')\n",
    "    def start_testing(self):\n",
    "        self.high_order_test()\n",
    "        self.matrix_test()\n",
    "        self.jacobian_test()\n",
    "        self.gradient_start_index_test()\n",
    "        self.modeling_test()\n",
    "        self.linalg_test()"
   ]
  },
  {
   "cell_type": "code",
   "execution_count": 343,
   "id": "b3a29e69",
   "metadata": {},
   "outputs": [],
   "source": [
    "class TestAnswer():\n",
    "    \n",
    "    def matyas(self, x = None, y = None):\n",
    "        if (x is None) | (y is None):\n",
    "            return (0.040000000000000036, 0.040000000000000036)\n",
    "        else :\n",
    "            return\n",
    "\n",
    "    def goldstein(self, x = None, y = None):\n",
    "        if (x is None) | (y is None):\n",
    "            return (-5376.0, 8064.0)\n",
    "        else :\n",
    "            return\n",
    "        \n",
    "    def high_order_function(self, order, x = None, y = None):        \n",
    "        if order == 0:\n",
    "            if (x is None) | (y is None):\n",
    "                return 36., 12.3535\n",
    "            else :\n",
    "                return\n",
    "            \n",
    "        if order == 1:\n",
    "            if (x is None) | (y is None):\n",
    "                return 50, 11.911\n",
    "            else :\n",
    "                return\n",
    "    \n",
    "        else :\n",
    "            return\n",
    "    \n",
    "    def matrix_order_function(self, order, x = None, y = None):\n",
    "        if order == 0:\n",
    "            if (x is None) | (y is None):\n",
    "                return np.array([[  6.,  24.], [ 96., 150.]])\n",
    "            else :\n",
    "                return\n",
    "            \n",
    "        if order == 1:\n",
    "            if (x is None) | (y is None):\n",
    "                return np.array([[12., 24.], [48., 60.]])\n",
    "            else :\n",
    "                return\n",
    "    \n",
    "        if order == 2:\n",
    "            if (x is None) | (y is None):\n",
    "                return np.array([[12., 12.], [12., 12.]])\n",
    "            else :\n",
    "                return\n",
    "            \n",
    "    def matmul(self, x = None, y = None, k = None):\n",
    "        answer = []\n",
    "        if x is None:\n",
    "            x = tf.Variable(np.array([[1.,2.],[4.,5.]]))\n",
    "            y = tf.Variable(np.array([[4.,5.],[6.,7.]]))\n",
    "            k = tf.Variable(np.array([[1.,3.],[4.,6.]]))\n",
    "            for i in ['x','y','k']:\n",
    "                with tf.GradientTape() as tape:\n",
    "                    result = tf.matmul(x,tf.transpose(y))\n",
    "                    result_2 = tf.matmul(result, k)\n",
    "\n",
    "                answer.append(tape.jacobian(result_2, eval(i)).numpy())\n",
    "            return tuple(answer)\n",
    "        \n",
    "    def reduce_sum(self, x = None, y = None, k = None):\n",
    "        if x is None:\n",
    "            x = tf.Variable(np.array([[1.,2.],[4.,5.]]))\n",
    "            y = tf.Variable(np.array([[4.,5.],[6.,7.]]))\n",
    "            k = tf.Variable(np.array([[1.,3.],[4.,6.]]))\n",
    "            answer = []\n",
    "            for i in ['x','y','k']:        \n",
    "                with tf.GradientTape() as tape:\n",
    "                    result = tf.matmul(x,tf.transpose(y))\n",
    "                    result_2 = tf.matmul(result, k)\n",
    "                    result_3 = tf.math.reduce_sum(result_2)\n",
    "\n",
    "                answer.append(tape.jacobian(result_3, eval(i)).numpy())\n",
    "            \n",
    "            return tuple(answer)\n",
    "        \n",
    "    def div(self, x = None, y = None, k = None):\n",
    "        if x is None:\n",
    "            x = tf.Variable(np.array([[1.,2.],[4.,5.]]))\n",
    "            y = tf.Variable(np.array([[4.,5.],[6.,7.]]))\n",
    "            k = tf.Variable(np.array([[1.,3.],[4.,6.]]))\n",
    "            answer = []\n",
    "            for i in ['x','y','k']: \n",
    "                with tf.GradientTape() as tape:\n",
    "                    result = tf.matmul(x,tf.transpose(y))\n",
    "                    result_2 = tf.matmul(result, k)\n",
    "                    result_3 = result_2 / result\n",
    "\n",
    "                answer.append(tape.jacobian(result_3, eval(i)).numpy())\n",
    "\n",
    "            return tuple(answer)\n",
    "    \n",
    "    def sum(self, x = None, y = None, k = None):\n",
    "        if x is None:\n",
    "            x = tf.Variable(np.array([[1.,2.],[4.,5.]]))\n",
    "            y = tf.Variable(np.array([[4.,5.],[6.,7.]]))\n",
    "            k = tf.Variable(np.array([[1.,3.],[4.,6.]]))\n",
    "            answer = []\n",
    "            for i in ['x','y','k']:             \n",
    "                with tf.GradientTape() as tape:\n",
    "                    result = tf.matmul(x,tf.transpose(y))\n",
    "                    result_2 = tf.matmul(result, k)\n",
    "                    result_3 = result_2 + result\n",
    "\n",
    "                answer.append(tape.jacobian(result_3, eval(i)).numpy())\n",
    "            \n",
    "            return tuple(answer)\n",
    "        \n",
    "    def mul(self, x = None, y = None, k = None):\n",
    "        if x is None:\n",
    "            x = tf.Variable(np.array([[1.,2.],[4.,5.]]))\n",
    "            y = tf.Variable(np.array([[4.,5.],[6.,7.]]))\n",
    "            k = tf.Variable(np.array([[1.,3.],[4.,6.]]))\n",
    "            answer = []\n",
    "            for i in ['x','y','k']:             \n",
    "                with tf.GradientTape() as tape:\n",
    "                    result = tf.matmul(x,tf.transpose(y))\n",
    "                    result_2 = tf.matmul(result, k)\n",
    "                    result_3 = result_2 * result\n",
    "\n",
    "                answer.append(tape.jacobian(result_3, eval(i)).numpy())\n",
    "            \n",
    "            return tuple(answer)\n",
    "        \n",
    "    def start_middle(self, x = None, y = None, k = None):\n",
    "        x = tf.Variable(np.array([[1.,2.],[4.,5.]]))\n",
    "        v = tf.Variable(np.array([[4.,5.],[6.,7.]]))\n",
    "        k = tf.Variable(np.array([[1.,3.],[4.,6.]]))\n",
    "        \n",
    "        with tf.GradientTape() as tape:\n",
    "            result = tf.matmul(x,tf.transpose(v))\n",
    "            result_2 = tf.matmul(result, k)\n",
    "            result_3 = result_2 / x\n",
    "            \n",
    "        answer = tape.gradient(result_2, [x, v])\n",
    "        \n",
    "        return answer\n",
    "    \n",
    "    def gradient_start_middle(self, x = None, y = None, k = None):\n",
    "        x = tf.Variable(np.array([[1.,2.],[4.,5.]]))\n",
    "        v = tf.Variable(np.array([[4.,5.],[6.,7.]]))\n",
    "        k = tf.Variable(np.array([[1.,3.],[4.,6.]]))\n",
    "        \n",
    "        with tf.GradientTape() as tape:\n",
    "            result = tf.matmul(x,tf.transpose(v))\n",
    "            result_2 = tf.matmul(result, k)\n",
    "            result_3 = result_2 / x\n",
    "            \n",
    "        answer = tape.gradient(result_2, [x, v, k])\n",
    "        answer = [i.numpy() for i in answer]\n",
    "        \n",
    "        return answer\n",
    "    \n",
    "    def gradient_stop_test(self, x = None, y = None, k = None):\n",
    "        x = tf.Variable(np.array([[1.,2.],[4.,5.]]))\n",
    "        v = tf.Variable(np.array([[4.,5.],[6.,7.]]))\n",
    "        k = tf.Variable(np.array([[1.,3.],[4.,6.]]))\n",
    "        \n",
    "        with tf.GradientTape() as tape:\n",
    "            result = tf.matmul(x,tf.transpose(v))\n",
    "            result_2 = tf.matmul(tf.stop_gradient(result), k)\n",
    "            result_2 = result_2 ** 2\n",
    "            result_3 = result_2 * x\n",
    "            \n",
    "        answer = tape.gradient(result_3, [x, k])\n",
    "        answer = [i.numpy() for i in answer]\n",
    "        \n",
    "        return answer\n",
    "    \n",
    "    def linalg_concat_test(self):\n",
    "        a = np.array([[[ 2.,  4., 10.]],\n",
    "                      [[14., 16., 18.]],\n",
    "                      [[ 6.,  8.,  6.]],\n",
    "                      [[48., 50., 48.]]])\n",
    "\n",
    "        b = np.array([[[ 2.,  4., 10.]],\n",
    "                      [[14., 16., 18.]]])\n",
    "\n",
    "        c = np.array([[[ 6.,  8.,  6.]],\n",
    "                      [[48., 50., 48.]]])\n",
    "\n",
    "        d = np.array([[[  6.,  16.,  18.]],\n",
    "                      [[192., 250., 288.]]])\n",
    "\n",
    "        e = np.array([[[ 18.,  16.,   6.]],\n",
    "                      [[288., 250., 192.]]])\n",
    "\n",
    "        return a,b,c,d,e\n",
    "        \n",
    "    def linalg_stack_test(self):\n",
    "        a = np.array([[[[ 2.,  4., 10.]],\n",
    "                       [[14., 16., 18.]]],\n",
    "                      [[[ 6.,  8.,  6.]],\n",
    "                       [[48., 50., 48.]]]])\n",
    "\n",
    "        b = np.array([[[ 2.,  4., 10.]],\n",
    "                      [[14., 16., 18.]]])\n",
    "\n",
    "        c = np.array([[[ 6.,  8.,  6.]],\n",
    "                      [[48., 50., 48.]]])\n",
    "\n",
    "        d = np.array([[[  6.,  16.,  18.]],\n",
    "                      [[192., 250., 288.]]])\n",
    "\n",
    "        e = np.array([[[ 18.,  16.,   6.]],\n",
    "                      [[288., 250., 192.]]])\n",
    "            \n",
    "        return a,b,c,d,e"
   ]
  },
  {
   "cell_type": "code",
   "execution_count": 344,
   "id": "882e7330",
   "metadata": {},
   "outputs": [],
   "source": [
    "class Models(Model):\n",
    "    def __init__(self, hidden_size, out_size):\n",
    "        super().__init__()\n",
    "        self.l1 = layer.Linear(hidden_size, initializer_func='he_uniform')\n",
    "        self.l2 = layer.Linear(hidden_size, initializer_func='he_uniform')\n",
    "        self.l3 = layer.Linear(out_size, initializer_func='he_uniform')\n",
    "        \n",
    "    def forward(self, x):\n",
    "        y = self.l1(x)\n",
    "        y = f.activation.relu(y)\n",
    "        y = self.l2(y)\n",
    "        y = f.activation.relu(y)\n",
    "        y = self.l3(y)\n",
    "        return y"
   ]
  },
  {
   "cell_type": "code",
   "execution_count": 345,
   "id": "a8f8ad27",
   "metadata": {},
   "outputs": [],
   "source": [
    "test = UnitTest()"
   ]
  },
  {
   "cell_type": "code",
   "execution_count": 346,
   "id": "a66553c1",
   "metadata": {},
   "outputs": [
    {
     "name": "stdout",
     "output_type": "stream",
     "text": [
      "linalg_concat_test  : ok\n",
      "linalg_stack_test  : ok\n"
     ]
    }
   ],
   "source": [
    "test.linalg_test()"
   ]
  },
  {
   "cell_type": "code",
   "execution_count": 255,
   "id": "f2abdc17",
   "metadata": {},
   "outputs": [
    {
     "ename": "AttributeError",
     "evalue": "'UnitTest' object has no attribute 'test'",
     "output_type": "error",
     "traceback": [
      "\u001b[1;31m---------------------------------------------------------------------------\u001b[0m",
      "\u001b[1;31mAttributeError\u001b[0m                            Traceback (most recent call last)",
      "\u001b[1;32m~\\AppData\\Local\\Temp/ipykernel_9736/1614704887.py\u001b[0m in \u001b[0;36m<module>\u001b[1;34m\u001b[0m\n\u001b[1;32m----> 1\u001b[1;33m \u001b[1;33m[\u001b[0m\u001b[0mi\u001b[0m\u001b[1;33m.\u001b[0m\u001b[0msum\u001b[0m\u001b[1;33m(\u001b[0m\u001b[1;33m)\u001b[0m \u001b[1;32mfor\u001b[0m \u001b[0mi\u001b[0m \u001b[1;32min\u001b[0m \u001b[0mtest\u001b[0m\u001b[1;33m.\u001b[0m\u001b[0mtest\u001b[0m\u001b[1;33m.\u001b[0m\u001b[0mtolist\u001b[0m\u001b[1;33m(\u001b[0m\u001b[1;33m)\u001b[0m\u001b[1;33m]\u001b[0m\u001b[1;33m\u001b[0m\u001b[1;33m\u001b[0m\u001b[0m\n\u001b[0m",
      "\u001b[1;31mAttributeError\u001b[0m: 'UnitTest' object has no attribute 'test'"
     ]
    }
   ],
   "source": [
    "[i.sum() for i in test.test.tolist()]"
   ]
  },
  {
   "cell_type": "code",
   "execution_count": 18,
   "id": "bc4dc137",
   "metadata": {},
   "outputs": [
    {
     "name": "stdout",
     "output_type": "stream",
     "text": [
      "high_order_test_0  : ok\n",
      "high_order_test_1  : ok\n",
      "matrix_order_test_0  : ok\n",
      "matrix_order_test_1  : ok\n",
      "matrix_order_test_2  : ok\n"
     ]
    },
    {
     "ename": "NameError",
     "evalue": "name 'order' is not defined",
     "output_type": "error",
     "traceback": [
      "\u001b[1;31m---------------------------------------------------------------------------\u001b[0m",
      "\u001b[1;31mAttributeError\u001b[0m                            Traceback (most recent call last)",
      "\u001b[1;32m~\\AppData\\Local\\Temp/ipykernel_9736/4016385530.py\u001b[0m in \u001b[0;36mjacobian_test\u001b[1;34m(self, tor, x, v, k, target)\u001b[0m\n\u001b[0;32m    130\u001b[0m                 \u001b[0mcurrent_function\u001b[0m \u001b[1;33m=\u001b[0m \u001b[0mjacobian_function\u001b[0m\u001b[1;33m.\u001b[0m\u001b[0m__getattribute__\u001b[0m\u001b[1;33m(\u001b[0m\u001b[0mfunction\u001b[0m\u001b[1;33m)\u001b[0m\u001b[1;33m\u001b[0m\u001b[1;33m\u001b[0m\u001b[0m\n\u001b[1;32m--> 131\u001b[1;33m                 \u001b[0mtape\u001b[0m \u001b[1;33m=\u001b[0m \u001b[0mcurrent_function\u001b[0m\u001b[1;33m(\u001b[0m\u001b[0mx\u001b[0m\u001b[1;33m,\u001b[0m\u001b[0mv\u001b[0m\u001b[1;33m,\u001b[0m\u001b[0mk\u001b[0m\u001b[1;33m)\u001b[0m\u001b[1;33m\u001b[0m\u001b[1;33m\u001b[0m\u001b[0m\n\u001b[0m\u001b[0;32m    132\u001b[0m                 \u001b[1;32mif\u001b[0m \u001b[0mtarget\u001b[0m \u001b[1;32mis\u001b[0m \u001b[1;32mnot\u001b[0m \u001b[1;32mNone\u001b[0m\u001b[1;33m:\u001b[0m\u001b[1;33m\u001b[0m\u001b[1;33m\u001b[0m\u001b[0m\n",
      "\u001b[1;32m~\\AppData\\Local\\Temp/ipykernel_9736/241291164.py\u001b[0m in \u001b[0;36mmatmul\u001b[1;34m(self, x, y, k)\u001b[0m\n\u001b[0;32m     21\u001b[0m         \u001b[1;32mwith\u001b[0m \u001b[0mGradientTape\u001b[0m\u001b[1;33m(\u001b[0m\u001b[1;33m)\u001b[0m \u001b[1;32mas\u001b[0m \u001b[0mtape\u001b[0m\u001b[1;33m:\u001b[0m\u001b[1;33m\u001b[0m\u001b[1;33m\u001b[0m\u001b[0m\n\u001b[1;32m---> 22\u001b[1;33m             \u001b[0mresult\u001b[0m \u001b[1;33m=\u001b[0m \u001b[0mef\u001b[0m\u001b[1;33m.\u001b[0m\u001b[0mmatmul\u001b[0m\u001b[1;33m(\u001b[0m\u001b[0mx\u001b[0m\u001b[1;33m,\u001b[0m\u001b[0msf\u001b[0m\u001b[1;33m.\u001b[0m\u001b[0mtranspose\u001b[0m\u001b[1;33m(\u001b[0m\u001b[0my\u001b[0m\u001b[1;33m)\u001b[0m\u001b[1;33m)\u001b[0m\u001b[1;33m\u001b[0m\u001b[1;33m\u001b[0m\u001b[0m\n\u001b[0m\u001b[0;32m     23\u001b[0m             \u001b[0mresult_2\u001b[0m \u001b[1;33m=\u001b[0m \u001b[0mef\u001b[0m\u001b[1;33m.\u001b[0m\u001b[0mmatmul\u001b[0m\u001b[1;33m(\u001b[0m\u001b[0mresult\u001b[0m\u001b[1;33m,\u001b[0m \u001b[0mk\u001b[0m\u001b[1;33m)\u001b[0m\u001b[1;33m\u001b[0m\u001b[1;33m\u001b[0m\u001b[0m\n",
      "\u001b[1;32m~\\anaconda3\\envs\\nariflow\\lib\\site-packages\\nariflow\\core\\elementary_function.py\u001b[0m in \u001b[0;36mmatmul\u001b[1;34m(x, w)\u001b[0m\n\u001b[0;32m    191\u001b[0m \u001b[1;32mdef\u001b[0m \u001b[0mmatmul\u001b[0m\u001b[1;33m(\u001b[0m\u001b[0mx\u001b[0m\u001b[1;33m,\u001b[0m \u001b[0mw\u001b[0m\u001b[1;33m)\u001b[0m\u001b[1;33m:\u001b[0m\u001b[1;33m\u001b[0m\u001b[1;33m\u001b[0m\u001b[0m\n\u001b[1;32m--> 192\u001b[1;33m     \u001b[1;32mreturn\u001b[0m \u001b[0mMatMul\u001b[0m\u001b[1;33m(\u001b[0m\u001b[1;33m)\u001b[0m\u001b[1;33m(\u001b[0m\u001b[0mx\u001b[0m\u001b[1;33m,\u001b[0m \u001b[0mw\u001b[0m\u001b[1;33m)\u001b[0m\u001b[1;33m\u001b[0m\u001b[1;33m\u001b[0m\u001b[0m\n\u001b[0m\u001b[0;32m    193\u001b[0m \u001b[1;33m\u001b[0m\u001b[0m\n",
      "\u001b[1;32m~\\anaconda3\\envs\\nariflow\\lib\\site-packages\\nariflow\\core\\core_tape.py\u001b[0m in \u001b[0;36m__call__\u001b[1;34m(self, *inputs)\u001b[0m\n\u001b[0;32m     38\u001b[0m         \u001b[0mx_list\u001b[0m \u001b[1;33m=\u001b[0m \u001b[1;33m[\u001b[0m\u001b[0mi\u001b[0m\u001b[1;33m.\u001b[0m\u001b[0mdata\u001b[0m \u001b[1;32mfor\u001b[0m \u001b[0mi\u001b[0m \u001b[1;32min\u001b[0m \u001b[0minputs\u001b[0m\u001b[1;33m]\u001b[0m\u001b[1;33m\u001b[0m\u001b[1;33m\u001b[0m\u001b[0m\n\u001b[1;32m---> 39\u001b[1;33m         \u001b[0my_list\u001b[0m \u001b[1;33m=\u001b[0m \u001b[0mself\u001b[0m\u001b[1;33m.\u001b[0m\u001b[0mforward\u001b[0m\u001b[1;33m(\u001b[0m\u001b[1;33m*\u001b[0m\u001b[0mx_list\u001b[0m\u001b[1;33m)\u001b[0m\u001b[1;33m\u001b[0m\u001b[1;33m\u001b[0m\u001b[0m\n\u001b[0m\u001b[0;32m     40\u001b[0m         \u001b[1;32mif\u001b[0m \u001b[1;32mnot\u001b[0m \u001b[0misinstance\u001b[0m\u001b[1;33m(\u001b[0m\u001b[0my_list\u001b[0m\u001b[1;33m,\u001b[0m \u001b[0mtuple\u001b[0m\u001b[1;33m)\u001b[0m\u001b[1;33m:\u001b[0m\u001b[1;33m\u001b[0m\u001b[1;33m\u001b[0m\u001b[0m\n",
      "\u001b[1;32m~\\anaconda3\\envs\\nariflow\\lib\\site-packages\\nariflow\\core\\elementary_function.py\u001b[0m in \u001b[0;36mforward\u001b[1;34m(self, x, w)\u001b[0m\n\u001b[0;32m    177\u001b[0m     \u001b[1;32mdef\u001b[0m \u001b[0mforward\u001b[0m\u001b[1;33m(\u001b[0m\u001b[0mself\u001b[0m\u001b[1;33m,\u001b[0m \u001b[0mx\u001b[0m\u001b[1;33m,\u001b[0m \u001b[0mw\u001b[0m\u001b[1;33m)\u001b[0m\u001b[1;33m:\u001b[0m\u001b[1;33m\u001b[0m\u001b[1;33m\u001b[0m\u001b[0m\n\u001b[1;32m--> 178\u001b[1;33m         \u001b[0my\u001b[0m \u001b[1;33m=\u001b[0m \u001b[0mx\u001b[0m\u001b[1;33m.\u001b[0m\u001b[0mdot\u001b[0m\u001b[1;33m(\u001b[0m\u001b[0mw\u001b[0m\u001b[1;33m)\u001b[0m\u001b[1;33m\u001b[0m\u001b[1;33m\u001b[0m\u001b[0m\n\u001b[0m\u001b[0;32m    179\u001b[0m         \u001b[1;32mreturn\u001b[0m \u001b[0my\u001b[0m\u001b[1;33m\u001b[0m\u001b[1;33m\u001b[0m\u001b[0m\n",
      "\u001b[1;31mAttributeError\u001b[0m: 'Variable' object has no attribute 'dot'",
      "\nDuring handling of the above exception, another exception occurred:\n",
      "\u001b[1;31mNameError\u001b[0m                                 Traceback (most recent call last)",
      "\u001b[1;32m~\\AppData\\Local\\Temp/ipykernel_9736/208567620.py\u001b[0m in \u001b[0;36m<module>\u001b[1;34m\u001b[0m\n\u001b[1;32m----> 1\u001b[1;33m \u001b[0mtest\u001b[0m\u001b[1;33m.\u001b[0m\u001b[0mstart_testing\u001b[0m\u001b[1;33m(\u001b[0m\u001b[1;33m)\u001b[0m\u001b[1;33m\u001b[0m\u001b[1;33m\u001b[0m\u001b[0m\n\u001b[0m",
      "\u001b[1;32m~\\AppData\\Local\\Temp/ipykernel_9736/4016385530.py\u001b[0m in \u001b[0;36mstart_testing\u001b[1;34m(self)\u001b[0m\n\u001b[0;32m    217\u001b[0m         \u001b[0mself\u001b[0m\u001b[1;33m.\u001b[0m\u001b[0mhigh_order_test\u001b[0m\u001b[1;33m(\u001b[0m\u001b[1;33m)\u001b[0m\u001b[1;33m\u001b[0m\u001b[1;33m\u001b[0m\u001b[0m\n\u001b[0;32m    218\u001b[0m         \u001b[0mself\u001b[0m\u001b[1;33m.\u001b[0m\u001b[0mmatrix_test\u001b[0m\u001b[1;33m(\u001b[0m\u001b[1;33m)\u001b[0m\u001b[1;33m\u001b[0m\u001b[1;33m\u001b[0m\u001b[0m\n\u001b[1;32m--> 219\u001b[1;33m         \u001b[0mself\u001b[0m\u001b[1;33m.\u001b[0m\u001b[0mjacobian_test\u001b[0m\u001b[1;33m(\u001b[0m\u001b[1;33m)\u001b[0m\u001b[1;33m\u001b[0m\u001b[1;33m\u001b[0m\u001b[0m\n\u001b[0m\u001b[0;32m    220\u001b[0m         \u001b[0mself\u001b[0m\u001b[1;33m.\u001b[0m\u001b[0mgradient_start_index_test\u001b[0m\u001b[1;33m(\u001b[0m\u001b[1;33m)\u001b[0m\u001b[1;33m\u001b[0m\u001b[1;33m\u001b[0m\u001b[0m\n\u001b[0;32m    221\u001b[0m         \u001b[0mself\u001b[0m\u001b[1;33m.\u001b[0m\u001b[0mmodeling_test\u001b[0m\u001b[1;33m(\u001b[0m\u001b[1;33m)\u001b[0m\u001b[1;33m\u001b[0m\u001b[1;33m\u001b[0m\u001b[0m\n",
      "\u001b[1;32m~\\AppData\\Local\\Temp/ipykernel_9736/4016385530.py\u001b[0m in \u001b[0;36mjacobian_test\u001b[1;34m(self, tor, x, v, k, target)\u001b[0m\n\u001b[0;32m    142\u001b[0m                 \u001b[0mtape\u001b[0m\u001b[1;33m.\u001b[0m\u001b[0mresetgrads\u001b[0m\u001b[1;33m(\u001b[0m\u001b[1;33m)\u001b[0m\u001b[1;33m\u001b[0m\u001b[1;33m\u001b[0m\u001b[0m\n\u001b[0;32m    143\u001b[0m         \u001b[1;32mexcept\u001b[0m \u001b[0mException\u001b[0m \u001b[1;32mas\u001b[0m \u001b[0me\u001b[0m\u001b[1;33m:\u001b[0m\u001b[1;33m\u001b[0m\u001b[1;33m\u001b[0m\u001b[0m\n\u001b[1;32m--> 144\u001b[1;33m             \u001b[0mprint\u001b[0m\u001b[1;33m(\u001b[0m\u001b[1;34mf'matrix_order_test_{order} is failed :'\u001b[0m\u001b[1;33m,\u001b[0m \u001b[0me\u001b[0m\u001b[1;33m)\u001b[0m\u001b[1;33m\u001b[0m\u001b[1;33m\u001b[0m\u001b[0m\n\u001b[0m\u001b[0;32m    145\u001b[0m \u001b[1;33m\u001b[0m\u001b[0m\n\u001b[0;32m    146\u001b[0m     \u001b[1;32mdef\u001b[0m \u001b[0mgradient_start_index_test\u001b[0m\u001b[1;33m(\u001b[0m\u001b[0mself\u001b[0m\u001b[1;33m,\u001b[0m \u001b[0mtor\u001b[0m \u001b[1;33m=\u001b[0m \u001b[1;36m0.01\u001b[0m\u001b[1;33m,\u001b[0m \u001b[0mx\u001b[0m \u001b[1;33m=\u001b[0m \u001b[1;32mNone\u001b[0m\u001b[1;33m,\u001b[0m \u001b[0mv\u001b[0m \u001b[1;33m=\u001b[0m \u001b[1;32mNone\u001b[0m\u001b[1;33m,\u001b[0m \u001b[0mk\u001b[0m \u001b[1;33m=\u001b[0m \u001b[1;32mNone\u001b[0m\u001b[1;33m)\u001b[0m\u001b[1;33m:\u001b[0m\u001b[1;33m\u001b[0m\u001b[1;33m\u001b[0m\u001b[0m\n",
      "\u001b[1;31mNameError\u001b[0m: name 'order' is not defined"
     ]
    }
   ],
   "source": [
    "test.start_testing()"
   ]
  },
  {
   "cell_type": "code",
   "execution_count": 169,
   "id": "7d365a8c",
   "metadata": {},
   "outputs": [
    {
     "name": "stdout",
     "output_type": "stream",
     "text": [
      "high_order_test_0  : ok\n",
      "high_order_test_1  : ok\n"
     ]
    }
   ],
   "source": [
    "test.high_order_test()"
   ]
  },
  {
   "cell_type": "code",
   "execution_count": 170,
   "id": "05c5db14",
   "metadata": {},
   "outputs": [
    {
     "name": "stdout",
     "output_type": "stream",
     "text": [
      "matrix_order_test_0  : ok\n",
      "matrix_order_test_1  : ok\n",
      "matrix_order_test_2  : ok\n"
     ]
    }
   ],
   "source": [
    "test.matrix_test()"
   ]
  },
  {
   "cell_type": "code",
   "execution_count": 171,
   "id": "6c32e3e2",
   "metadata": {},
   "outputs": [
    {
     "name": "stdout",
     "output_type": "stream",
     "text": [
      "matmul  : ok\n",
      "reduce_sum  : ok\n",
      "div  : ok\n",
      "sum  : ok\n",
      "mul  : ok\n"
     ]
    }
   ],
   "source": [
    "test.jacobian_test()"
   ]
  },
  {
   "cell_type": "code",
   "execution_count": 172,
   "id": "8459cfe7",
   "metadata": {
    "scrolled": false
   },
   "outputs": [
    {
     "name": "stdout",
     "output_type": "stream",
     "text": [
      "gradient_start_middle  : ok\n",
      "gradient_stop_test  : ok\n"
     ]
    }
   ],
   "source": [
    "test.gradient_start_index_test()"
   ]
  },
  {
   "cell_type": "code",
   "execution_count": 173,
   "id": "3cd1ab9f",
   "metadata": {},
   "outputs": [
    {
     "name": "stdout",
     "output_type": "stream",
     "text": [
      "loss_value : [array(0.12923438), array(4.02457493e-06), array(3.32494054e-06), array(3.18126507e-06), array(2.89203548e-06), array(2.65531922e-06)]\n",
      "model training test : ok\n"
     ]
    }
   ],
   "source": [
    "test.modeling_test()"
   ]
  },
  {
   "cell_type": "code",
   "execution_count": 67,
   "id": "7fc166ed",
   "metadata": {},
   "outputs": [],
   "source": [
    "class Models(Model):\n",
    "    def __init__(self, hidden_size, out_size):\n",
    "        super().__init__()\n",
    "        self.l1 = layer.Linear(hidden_size, initializer_func='he_uniform')\n",
    "        self.l2 = layer.Linear(hidden_size, initializer_func='he_uniform')\n",
    "        self.l3 = layer.Linear(out_size, initializer_func='he_uniform')\n",
    "        \n",
    "    def forward(self, x):\n",
    "        y = self.l1(x)\n",
    "        y = f.activation.relu(y)\n",
    "        y = self.l2(y)\n",
    "        y = f.activation.relu(y)\n",
    "        y = self.l3(y)\n",
    "        return y"
   ]
  },
  {
   "cell_type": "code",
   "execution_count": 68,
   "id": "bf233e8c",
   "metadata": {},
   "outputs": [
    {
     "data": {
      "text/plain": [
       "<nariflow.optimizer.Adam.Adam at 0x2cf854bfbb0>"
      ]
     },
     "execution_count": 68,
     "metadata": {},
     "output_type": "execute_result"
    }
   ],
   "source": [
    "model = Models(100, 1)\n",
    "\n",
    "optimizers = optimizer.Adam()\n",
    "\n",
    "optimizers.setup(model)"
   ]
  },
  {
   "cell_type": "code",
   "execution_count": 69,
   "id": "864c8d1c",
   "metadata": {},
   "outputs": [
    {
     "name": "stdout",
     "output_type": "stream",
     "text": [
      "0.13316079589785426\n",
      "4.678867569526384e-06\n",
      "3.323818075624142e-06\n",
      "2.434985858024435e-06\n",
      "1.7888589763894105e-06\n",
      "1.3856699026652211e-06\n",
      "1.1175656879502677e-06\n",
      "9.268755179942446e-07\n",
      "8.51791997634991e-07\n",
      "6.456100152307053e-07\n",
      "total_time :  12.611826419830322\n"
     ]
    }
   ],
   "source": [
    "start_time = time.time()\n",
    "for i in range(10000):\n",
    "    with GradientTape() as tape:\n",
    "        y_pred = model(X)\n",
    "        \n",
    "        loss = f.loss.mean_squared_error(y, y_pred)\n",
    "        \n",
    "    tape.CalcGradient()\n",
    "    \n",
    "    optimizers.update()\n",
    "    \n",
    "    if i % 1000 == 0:\n",
    "        print(loss.data)\n",
    "\n",
    "print('total_time : ', time.time() - start_time)"
   ]
  },
  {
   "cell_type": "code",
   "execution_count": 318,
   "id": "a5ffe185",
   "metadata": {},
   "outputs": [],
   "source": [
    "a = np.array([1,2])"
   ]
  },
  {
   "cell_type": "code",
   "execution_count": 24,
   "id": "803e2cb2",
   "metadata": {},
   "outputs": [],
   "source": [
    "b = cp.asarray(a)"
   ]
  },
  {
   "cell_type": "code",
   "execution_count": 39,
   "id": "e31aa70c",
   "metadata": {},
   "outputs": [],
   "source": [
    "a_cp = cp.get_array_module(a.data)"
   ]
  },
  {
   "cell_type": "code",
   "execution_count": 42,
   "id": "768f3768",
   "metadata": {},
   "outputs": [
    {
     "data": {
      "text/plain": [
       "array([[1, 3],\n",
       "       [4, 5],\n",
       "       [6, 8]])"
      ]
     },
     "execution_count": 42,
     "metadata": {},
     "output_type": "execute_result"
    }
   ],
   "source": [
    "a_cp.array(a.data)"
   ]
  },
  {
   "cell_type": "code",
   "execution_count": 20,
   "id": "b2a0ece3",
   "metadata": {},
   "outputs": [
    {
     "ename": "ValueError",
     "evalue": "cannot reshape array of size 5 into shape (2, 3)",
     "output_type": "error",
     "traceback": [
      "\u001b[1;31m---------------------------------------------------------------------------\u001b[0m",
      "\u001b[1;31mValueError\u001b[0m                                Traceback (most recent call last)",
      "\u001b[1;32m~\\AppData\\Local\\Temp/ipykernel_37440/2802029601.py\u001b[0m in \u001b[0;36m<module>\u001b[1;34m\u001b[0m\n\u001b[1;32m----> 1\u001b[1;33m \u001b[0mcp\u001b[0m\u001b[1;33m.\u001b[0m\u001b[0marange\u001b[0m\u001b[1;33m(\u001b[0m\u001b[1;36m5\u001b[0m\u001b[1;33m)\u001b[0m\u001b[1;33m.\u001b[0m\u001b[0mreshape\u001b[0m\u001b[1;33m(\u001b[0m\u001b[1;36m2\u001b[0m\u001b[1;33m,\u001b[0m\u001b[1;36m3\u001b[0m\u001b[1;33m)\u001b[0m\u001b[1;33m\u001b[0m\u001b[1;33m\u001b[0m\u001b[0m\n\u001b[0m",
      "\u001b[1;32mcupy\\_core\\core.pyx\u001b[0m in \u001b[0;36mcupy._core.core.ndarray.reshape\u001b[1;34m()\u001b[0m\n",
      "\u001b[1;32mcupy\\_core\\_routines_manipulation.pyx\u001b[0m in \u001b[0;36mcupy._core._routines_manipulation._ndarray_reshape\u001b[1;34m()\u001b[0m\n",
      "\u001b[1;32mcupy\\_core\\_routines_manipulation.pyx\u001b[0m in \u001b[0;36mcupy._core._routines_manipulation._reshape\u001b[1;34m()\u001b[0m\n",
      "\u001b[1;32mcupy\\_core\\internal.pyx\u001b[0m in \u001b[0;36mcupy._core.internal.infer_unknown_dimension\u001b[1;34m()\u001b[0m\n",
      "\u001b[1;31mValueError\u001b[0m: cannot reshape array of size 5 into shape (2, 3)"
     ]
    }
   ],
   "source": [
    "cp.arange(5).reshape(2,3)"
   ]
  }
 ],
 "metadata": {
  "kernelspec": {
   "display_name": "Python 3 (ipykernel)",
   "language": "python",
   "name": "python3"
  },
  "language_info": {
   "codemirror_mode": {
    "name": "ipython",
    "version": 3
   },
   "file_extension": ".py",
   "mimetype": "text/x-python",
   "name": "python",
   "nbconvert_exporter": "python",
   "pygments_lexer": "ipython3",
   "version": "3.9.7"
  }
 },
 "nbformat": 4,
 "nbformat_minor": 5
}
