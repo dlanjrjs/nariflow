{
 "cells": [
  {
   "cell_type": "code",
   "execution_count": 2,
   "id": "72fb46a7",
   "metadata": {},
   "outputs": [],
   "source": [
    "from nariflow import start_initializer"
   ]
  },
  {
   "cell_type": "code",
   "execution_count": 3,
   "id": "1cbdd05e",
   "metadata": {},
   "outputs": [],
   "source": [
    "start_initializer().initializer('tape')"
   ]
  },
  {
   "cell_type": "code",
   "execution_count": 4,
   "id": "c2be1148",
   "metadata": {},
   "outputs": [],
   "source": [
    "from nariflow import Variable\n",
    "from nariflow import optimizer\n",
    "from nariflow import GradientTape\n",
    "#from nariflow import calc_gradient\n",
    "from nariflow import layer\n",
    "from nariflow.models import Model\n",
    "from nariflow import functions as f\n",
    "from nariflow.core import elementary_function as ef\n",
    "from nariflow.core import shape_function as sf\n",
    "import numpy as np\n",
    "import pandas as pd\n",
    "\n",
    "import tensorflow as tf\n",
    "from tensorflow.keras import datasets, layers, models\n",
    "\n",
    "import matplotlib.pyplot as plt\n",
    "\n",
    "import time\n",
    "\n",
    "import os\n",
    "import urllib\n",
    "\n",
    "import datetime\n",
    "\n"
   ]
  },
  {
   "cell_type": "code",
   "execution_count": 137,
   "id": "ea7eae70",
   "metadata": {},
   "outputs": [],
   "source": [
    "\n",
    "def prepare():\n",
    "    num_data = 100000\n",
    "    dtype = np.float64\n",
    "\n",
    "    x = np.linspace(0, 2 * np.pi, num_data)\n",
    "    noise_range = (-0.05, 0.05)\n",
    "    noise = np.random.uniform(noise_range[0], noise_range[1], size=x.shape)\n",
    "    y = np.sin(x) + noise\n",
    "    y = y.astype(dtype)\n",
    "    data = y[:-1][:, np.newaxis]\n",
    "    label = y[1:][:, np.newaxis]\n",
    "    \n",
    "    return data,label"
   ]
  },
  {
   "cell_type": "code",
   "execution_count": 138,
   "id": "2c2f5c08",
   "metadata": {},
   "outputs": [],
   "source": [
    "class SimpleRNN(Model):\n",
    "    def __init__(self, hidden_size, out_size):\n",
    "        super().__init__()\n",
    "        self.l1 = layer.RNN(hidden_size)\n",
    "        self.l2 = layer.Linear(out_size, initializer_func='he_uniform')\n",
    "        \n",
    "    def forward(self, x):\n",
    "        y = self.l1(x)\n",
    "        y = self.l2(y)\n",
    "        return y\n",
    "    "
   ]
  },
  {
   "cell_type": "code",
   "execution_count": 139,
   "id": "c067cebb",
   "metadata": {},
   "outputs": [],
   "source": [
    "train_set = prepare()"
   ]
  },
  {
   "cell_type": "code",
   "execution_count": 140,
   "id": "a0f53696",
   "metadata": {},
   "outputs": [
    {
     "data": {
      "text/plain": [
       "<nariflow.optimizer.Adam.Adam at 0x18bbfa5f460>"
      ]
     },
     "execution_count": 140,
     "metadata": {},
     "output_type": "execute_result"
    }
   ],
   "source": [
    "model = SimpleRNN(100, 1)\n",
    "\n",
    "optimizers = optimizer.Adam(0.001)\n",
    "\n",
    "optimizers.setup(model)"
   ]
  },
  {
   "cell_type": "code",
   "execution_count": 141,
   "id": "6c2b2500",
   "metadata": {},
   "outputs": [],
   "source": [
    "step = 10\n",
    "mini_batch_size = 20"
   ]
  },
  {
   "cell_type": "code",
   "execution_count": 142,
   "id": "fa6f605a",
   "metadata": {},
   "outputs": [
    {
     "ename": "ValueError",
     "evalue": "all the input array dimensions for the concatenation axis must match exactly, but along dimension 0, the array at index 0 has size 5000 and the array at index 1 has size 4999",
     "output_type": "error",
     "traceback": [
      "\u001b[1;31m---------------------------------------------------------------------------\u001b[0m",
      "\u001b[1;31mValueError\u001b[0m                                Traceback (most recent call last)",
      "Input \u001b[1;32mIn [142]\u001b[0m, in \u001b[0;36m<cell line: 1>\u001b[1;34m()\u001b[0m\n\u001b[0;32m      3\u001b[0m     mini_batch \u001b[38;5;241m=\u001b[39m np\u001b[38;5;241m.\u001b[39mexpand_dims(train_set[\u001b[38;5;241m0\u001b[39m][i:][::mini_batch_size], axis \u001b[38;5;241m=\u001b[39m \u001b[38;5;241m1\u001b[39m)\n\u001b[0;32m      4\u001b[0m \u001b[38;5;28;01melse\u001b[39;00m :\n\u001b[1;32m----> 5\u001b[0m     mini_batch \u001b[38;5;241m=\u001b[39m \u001b[43mnp\u001b[49m\u001b[38;5;241;43m.\u001b[39;49m\u001b[43mhstack\u001b[49m\u001b[43m(\u001b[49m\u001b[43m[\u001b[49m\u001b[43mmini_batch\u001b[49m\u001b[43m,\u001b[49m\u001b[43m \u001b[49m\n\u001b[0;32m      6\u001b[0m \u001b[43m                            \u001b[49m\u001b[43mnp\u001b[49m\u001b[38;5;241;43m.\u001b[39;49m\u001b[43mexpand_dims\u001b[49m\u001b[43m(\u001b[49m\u001b[43mtrain_set\u001b[49m\u001b[43m[\u001b[49m\u001b[38;5;241;43m0\u001b[39;49m\u001b[43m]\u001b[49m\u001b[43m[\u001b[49m\u001b[43mi\u001b[49m\u001b[43m:\u001b[49m\u001b[43m]\u001b[49m\u001b[43m[\u001b[49m\u001b[43m:\u001b[49m\u001b[43m:\u001b[49m\u001b[43mmini_batch_size\u001b[49m\u001b[43m]\u001b[49m\u001b[43m,\u001b[49m\u001b[43m \u001b[49m\u001b[43maxis\u001b[49m\u001b[43m \u001b[49m\u001b[38;5;241;43m=\u001b[39;49m\u001b[43m \u001b[49m\u001b[38;5;241;43m1\u001b[39;49m\u001b[43m)\u001b[49m\u001b[43m]\u001b[49m\u001b[43m)\u001b[49m\n",
      "File \u001b[1;32m<__array_function__ internals>:5\u001b[0m, in \u001b[0;36mhstack\u001b[1;34m(*args, **kwargs)\u001b[0m\n",
      "File \u001b[1;32mC:\\ProgramData\\Anaconda3\\lib\\site-packages\\numpy\\core\\shape_base.py:345\u001b[0m, in \u001b[0;36mhstack\u001b[1;34m(tup)\u001b[0m\n\u001b[0;32m    343\u001b[0m     \u001b[38;5;28;01mreturn\u001b[39;00m _nx\u001b[38;5;241m.\u001b[39mconcatenate(arrs, \u001b[38;5;241m0\u001b[39m)\n\u001b[0;32m    344\u001b[0m \u001b[38;5;28;01melse\u001b[39;00m:\n\u001b[1;32m--> 345\u001b[0m     \u001b[38;5;28;01mreturn\u001b[39;00m \u001b[43m_nx\u001b[49m\u001b[38;5;241;43m.\u001b[39;49m\u001b[43mconcatenate\u001b[49m\u001b[43m(\u001b[49m\u001b[43marrs\u001b[49m\u001b[43m,\u001b[49m\u001b[43m \u001b[49m\u001b[38;5;241;43m1\u001b[39;49m\u001b[43m)\u001b[49m\n",
      "File \u001b[1;32m<__array_function__ internals>:5\u001b[0m, in \u001b[0;36mconcatenate\u001b[1;34m(*args, **kwargs)\u001b[0m\n",
      "\u001b[1;31mValueError\u001b[0m: all the input array dimensions for the concatenation axis must match exactly, but along dimension 0, the array at index 0 has size 5000 and the array at index 1 has size 4999"
     ]
    }
   ],
   "source": [
    "for i in range(mini_batch_size):\n",
    "    if i == 0:\n",
    "        mini_batch = np.expand_dims(train_set[0][i:][::mini_batch_size], axis = 1)\n",
    "    else :\n",
    "        mini_batch = np.hstack([mini_batch, \n",
    "                                np.expand_dims(train_set[0][i:][::mini_batch_size], axis = 1)])"
   ]
  },
  {
   "cell_type": "code",
   "execution_count": 190,
   "id": "7cb2a88b",
   "metadata": {},
   "outputs": [
    {
     "name": "stdout",
     "output_type": "stream",
     "text": [
      "0.0009599588469181182\n",
      "0.0009448124433802328\n",
      "0.0009138984388367824\n",
      "0.000892283385372209\n",
      "0.0008884325151182184\n",
      "0.0008889254238596773\n",
      "0.000889256585738879\n",
      "0.0008884661047094797\n",
      "0.0008884215517505885\n",
      "0.000888576985937913\n",
      "0.0008886116635682759\n",
      "0.0008886742578814276\n",
      "0.0008887319621882677\n",
      "0.0008887775296924597\n",
      "0.0008888221896592212\n",
      "0.0008888624166422108\n",
      "0.0008888998043540637\n",
      "0.000888934568172858\n",
      "0.0008889668491133262\n",
      "0.000888996961363927\n"
     ]
    }
   ],
   "source": [
    "model = SimpleRNN(100, 1)\n",
    "optimizers = optimizer.Adam(0.001)\n",
    "optimizers.setup(model)\n",
    "    \n",
    "for epoch in range(EPOCHS):\n",
    "    i = 1\n",
    "    \n",
    "    inp = Variable(mini_batch[(i - 1) * batch_size : (i * batch_size)][:,:18,:])\n",
    "    tar = Variable(mini_batch[(i - 1) * batch_size : (i * batch_size)][:,1:,:])\n",
    "\n",
    "    for teps in range(inp.shape()[1]):\n",
    "        with GradientTape() as tape:  \n",
    "            y_pred = model(inp[:,teps,:])\n",
    "            loss = f.loss.mean_squared_error(sf.reshape(y_pred, [-1]), \n",
    "                                             sf.reshape(tar[:,teps,:], [-1]))\n",
    "        tape.CalcGradient()\n",
    "        optimizers.update()\n",
    "        model.l1.reset_state()\n",
    "    #model.l2.reset_state()\n",
    "    #model.l3.reset_state()\n",
    "    \n",
    "    #if epoch % 10 == 0:\n",
    "    print(loss.data)\n",
    "\n",
    "    if i % 5 == 0:\n",
    "        print(f'Epoch {epoch + 1} Batch {i} Loss {loss} Accuracy ')\n",
    "\n",
    "    if i > int(len(mini_batch) / batch_size) :\n",
    "        print(f'Time taken for 1 epoch: {time.time() - start:.2f} secs\\n')"
   ]
  },
  {
   "cell_type": "code",
   "execution_count": 27,
   "id": "79924cdb",
   "metadata": {},
   "outputs": [
    {
     "name": "stdout",
     "output_type": "stream",
     "text": [
      "0.0010810086534317343\n"
     ]
    },
    {
     "ename": "KeyboardInterrupt",
     "evalue": "",
     "output_type": "error",
     "traceback": [
      "\u001b[1;31m---------------------------------------------------------------------------\u001b[0m",
      "\u001b[1;31mKeyboardInterrupt\u001b[0m                         Traceback (most recent call last)",
      "Input \u001b[1;32mIn [27]\u001b[0m, in \u001b[0;36m<cell line: 1>\u001b[1;34m()\u001b[0m\n\u001b[0;32m      5\u001b[0m         y_pred \u001b[38;5;241m=\u001b[39m model(train_set[\u001b[38;5;241m0\u001b[39m][teps  : teps \u001b[38;5;241m+\u001b[39m step])\n\u001b[0;32m      6\u001b[0m     loss \u001b[38;5;241m=\u001b[39m f\u001b[38;5;241m.\u001b[39mloss\u001b[38;5;241m.\u001b[39mmean_squared_error(y_pred, train_set[\u001b[38;5;241m1\u001b[39m][(teps \u001b[38;5;241m+\u001b[39m \u001b[38;5;241m1\u001b[39m) \u001b[38;5;241m+\u001b[39m step])\n\u001b[1;32m----> 8\u001b[0m     \u001b[43mtape\u001b[49m\u001b[38;5;241;43m.\u001b[39;49m\u001b[43mCalcGradient\u001b[49m\u001b[43m(\u001b[49m\u001b[43m)\u001b[49m\n\u001b[0;32m      9\u001b[0m     optimizers\u001b[38;5;241m.\u001b[39mupdate()\n\u001b[0;32m     10\u001b[0m \u001b[38;5;28;01mif\u001b[39;00m epoch \u001b[38;5;241m%\u001b[39m \u001b[38;5;241m10\u001b[39m \u001b[38;5;241m==\u001b[39m \u001b[38;5;241m0\u001b[39m:\n",
      "File \u001b[1;32mC:\\ProgramData\\Anaconda3\\lib\\site-packages\\nariflow\\core\\core_tape.py:160\u001b[0m, in \u001b[0;36mGradientTape.CalcGradient\u001b[1;34m(self, target, tapes, resetgrad)\u001b[0m\n\u001b[0;32m    158\u001b[0m \u001b[38;5;28;01mif\u001b[39;00m \u001b[38;5;129;01mnot\u001b[39;00m \u001b[38;5;28misinstance\u001b[39m(gx_list, \u001b[38;5;28mtuple\u001b[39m):\n\u001b[0;32m    159\u001b[0m     gx_list \u001b[38;5;241m=\u001b[39m (gx_list,)\n\u001b[1;32m--> 160\u001b[0m inputs \u001b[38;5;241m=\u001b[39m \u001b[38;5;28;43mself\u001b[39;49m\u001b[38;5;241;43m.\u001b[39;49m\u001b[43munlist\u001b[49m\u001b[43m(\u001b[49m\u001b[43minputs\u001b[49m\u001b[43m)\u001b[49m\n\u001b[0;32m    162\u001b[0m \u001b[38;5;28;01mfor\u001b[39;00m x, gx \u001b[38;5;129;01min\u001b[39;00m \u001b[38;5;28mzip\u001b[39m(inputs, gx_list):\n\u001b[0;32m    163\u001b[0m     \u001b[38;5;28;01mif\u001b[39;00m \u001b[38;5;28misinstance\u001b[39m(x\u001b[38;5;241m.\u001b[39mdata, (\u001b[38;5;28mtuple\u001b[39m, \u001b[38;5;28mdict\u001b[39m)):\n",
      "File \u001b[1;32mC:\\ProgramData\\Anaconda3\\lib\\site-packages\\nariflow\\core\\core_tape.py:108\u001b[0m, in \u001b[0;36mGradientTape.unlist\u001b[1;34m(self, x)\u001b[0m\n\u001b[0;32m    107\u001b[0m \u001b[38;5;28;01mdef\u001b[39;00m \u001b[38;5;21munlist\u001b[39m(\u001b[38;5;28mself\u001b[39m, x):\n\u001b[1;32m--> 108\u001b[0m     inputs \u001b[38;5;241m=\u001b[39m [\u001b[38;5;28mself\u001b[39m\u001b[38;5;241m.\u001b[39munlist_inputs(i) \u001b[38;5;28;01mfor\u001b[39;00m i \u001b[38;5;129;01min\u001b[39;00m x]\n\u001b[0;32m    109\u001b[0m     \u001b[38;5;28;01mif\u001b[39;00m inputs \u001b[38;5;129;01mis\u001b[39;00m \u001b[38;5;129;01mnot\u001b[39;00m \u001b[38;5;28;01mNone\u001b[39;00m:\n\u001b[0;32m    110\u001b[0m         \u001b[38;5;28;01mif\u001b[39;00m \u001b[38;5;28misinstance\u001b[39m(inputs[\u001b[38;5;241m0\u001b[39m], \u001b[38;5;28mlist\u001b[39m):\n",
      "File \u001b[1;32mC:\\ProgramData\\Anaconda3\\lib\\site-packages\\nariflow\\core\\core_tape.py:108\u001b[0m, in \u001b[0;36m<listcomp>\u001b[1;34m(.0)\u001b[0m\n\u001b[0;32m    107\u001b[0m \u001b[38;5;28;01mdef\u001b[39;00m \u001b[38;5;21munlist\u001b[39m(\u001b[38;5;28mself\u001b[39m, x):\n\u001b[1;32m--> 108\u001b[0m     inputs \u001b[38;5;241m=\u001b[39m [\u001b[38;5;28;43mself\u001b[39;49m\u001b[38;5;241;43m.\u001b[39;49m\u001b[43munlist_inputs\u001b[49m\u001b[43m(\u001b[49m\u001b[43mi\u001b[49m\u001b[43m)\u001b[49m \u001b[38;5;28;01mfor\u001b[39;00m i \u001b[38;5;129;01min\u001b[39;00m x]\n\u001b[0;32m    109\u001b[0m     \u001b[38;5;28;01mif\u001b[39;00m inputs \u001b[38;5;129;01mis\u001b[39;00m \u001b[38;5;129;01mnot\u001b[39;00m \u001b[38;5;28;01mNone\u001b[39;00m:\n\u001b[0;32m    110\u001b[0m         \u001b[38;5;28;01mif\u001b[39;00m \u001b[38;5;28misinstance\u001b[39m(inputs[\u001b[38;5;241m0\u001b[39m], \u001b[38;5;28mlist\u001b[39m):\n",
      "File \u001b[1;32mC:\\ProgramData\\Anaconda3\\lib\\site-packages\\nariflow\\core\\core_tape.py:97\u001b[0m, in \u001b[0;36mGradientTape.unlist_inputs\u001b[1;34m(self, x)\u001b[0m\n\u001b[0;32m     95\u001b[0m \u001b[38;5;28;01mif\u001b[39;00m \u001b[38;5;28misinstance\u001b[39m(x\u001b[38;5;241m.\u001b[39mdata, (\u001b[38;5;28mtuple\u001b[39m, \u001b[38;5;28mdict\u001b[39m)):\n\u001b[0;32m     96\u001b[0m     \u001b[38;5;28;01mreturn\u001b[39;00m x\n\u001b[1;32m---> 97\u001b[0m \u001b[38;5;28;01mif\u001b[39;00m \u001b[38;5;28mlen\u001b[39m(\u001b[43mnp\u001b[49m\u001b[38;5;241;43m.\u001b[39;49m\u001b[43marray\u001b[49m\u001b[43m(\u001b[49m\u001b[43mx\u001b[49m\u001b[38;5;241;43m.\u001b[39;49m\u001b[43mdata\u001b[49m\u001b[43m)\u001b[49m\u001b[38;5;241m.\u001b[39mshape) \u001b[38;5;241m==\u001b[39m \u001b[38;5;241m0\u001b[39m:\n\u001b[0;32m     98\u001b[0m     \u001b[38;5;28;01mreturn\u001b[39;00m x\n\u001b[0;32m     99\u001b[0m \u001b[38;5;28;01melse\u001b[39;00m:\n",
      "\u001b[1;31mKeyboardInterrupt\u001b[0m: "
     ]
    }
   ],
   "source": [
    "for epoch in range(100):\n",
    "    for teps in range(len(train_set[0]) - step - 1):\n",
    "        with GradientTape() as tape:\n",
    "            y_pred = model(train_set[0][teps  : teps + step])\n",
    "            loss = f.loss.mean_squared_error(y_pred, train_set[1][(teps + 1) + step])\n",
    "        \n",
    "        tape.CalcGradient()\n",
    "        optimizers.update()\n",
    "    if epoch % 10 == 0:\n",
    "        print(loss.data)"
   ]
  },
  {
   "cell_type": "code",
   "execution_count": 193,
   "id": "a4bbd461",
   "metadata": {},
   "outputs": [],
   "source": [
    "y_pred = list()\n",
    "for teps in range(int(len(train_set[0]) - step)):\n",
    "    y_pred.append(model(train_set[0][teps  : teps + step]).data)"
   ]
  },
  {
   "cell_type": "code",
   "execution_count": 194,
   "id": "290fa81f",
   "metadata": {},
   "outputs": [
    {
     "data": {
      "text/plain": [
       "[<matplotlib.lines.Line2D at 0x18bc3eb6be0>]"
      ]
     },
     "execution_count": 194,
     "metadata": {},
     "output_type": "execute_result"
    },
    {
     "data": {
      "image/png": "[encoded data removed]",
      "text/plain": [
       "<Figure size 432x288 with 1 Axes>"
      ]
     },
     "metadata": {
      "needs_background": "light"
     },
     "output_type": "display_data"
    }
   ],
   "source": [
    "plt.plot(np.squeeze(np.squeeze(y_pred)))\n",
    "plt.plot(np.squeeze(train_set[1]))"
   ]
  }
 ],
 "metadata": {
  "kernelspec": {
   "display_name": "Python 3 (ipykernel)",
   "language": "python",
   "name": "python3"
  },
  "language_info": {
   "codemirror_mode": {
    "name": "ipython",
    "version": 3
   },
   "file_extension": ".py",
   "mimetype": "text/x-python",
   "name": "python",
   "nbconvert_exporter": "python",
   "pygments_lexer": "ipython3",
   "version": "3.9.12"
  }
 },
 "nbformat": 4,
 "nbformat_minor": 5
}
