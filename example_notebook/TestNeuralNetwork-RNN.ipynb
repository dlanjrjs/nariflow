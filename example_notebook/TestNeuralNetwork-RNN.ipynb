{
 "cells": [
  {
   "cell_type": "code",
   "execution_count": 1,
   "id": "72fb46a7",
   "metadata": {},
   "outputs": [],
   "source": [
    "from nariflow import start_initializer"
   ]
  },
  {
   "cell_type": "code",
   "execution_count": 11,
   "id": "1cbdd05e",
   "metadata": {},
   "outputs": [],
   "source": [
    "start_initializer().initializer('tape')"
   ]
  },
  {
   "cell_type": "code",
   "execution_count": 96,
   "id": "c2be1148",
   "metadata": {},
   "outputs": [],
   "source": [
    "from nariflow import Variable\n",
    "from nariflow import optimizer\n",
    "from nariflow import GradientTape\n",
    "#from nariflow import calc_gradient\n",
    "from nariflow import layer\n",
    "from nariflow.models import Model\n",
    "from nariflow import functions as f\n",
    "from nariflow.core import elementary_function as ef\n",
    "from nariflow.core import shape_function as sf\n",
    "import numpy as np\n",
    "import pandas as pd\n",
    "\n",
    "import tensorflow as tf\n",
    "from tensorflow.keras import datasets, layers, models\n",
    "\n",
    "import matplotlib.pyplot as plt\n",
    "\n",
    "import time\n",
    "\n",
    "import os\n",
    "import urllib\n",
    "\n",
    "import datetime\n",
    "\n"
   ]
  },
  {
   "cell_type": "code",
   "execution_count": 166,
   "id": "ea7eae70",
   "metadata": {},
   "outputs": [],
   "source": [
    "\n",
    "def prepare():\n",
    "    num_data = 1000\n",
    "    dtype = np.float64\n",
    "\n",
    "    x = np.linspace(0, 2 * np.pi, num_data)\n",
    "    noise_range = (-0.05, 0.05)\n",
    "    noise = np.random.uniform(noise_range[0], noise_range[1], size=x.shape)\n",
    "    y = np.sin(x) + noise\n",
    "    y = y.astype(dtype)\n",
    "    data = y[:-1][:, np.newaxis]\n",
    "    label = y[1:][:, np.newaxis]\n",
    "    \n",
    "    return data,label"
   ]
  },
  {
   "cell_type": "code",
   "execution_count": 167,
   "id": "2c2f5c08",
   "metadata": {},
   "outputs": [],
   "source": [
    "class SimpleRNN(Model):\n",
    "    def __init__(self, hidden_size, out_size):\n",
    "        super().__init__()\n",
    "        self.l1 = layer.RNN(hidden_size)\n",
    "        self.l2 = layer.Linear(out_size, initializer_func='he_uniform')\n",
    "        \n",
    "    def forward(self, x):\n",
    "        y = self.l1(x)\n",
    "        y = y[-2:-1]\n",
    "        y = self.l2(y)\n",
    "        return y\n",
    "    "
   ]
  },
  {
   "cell_type": "code",
   "execution_count": 186,
   "id": "c067cebb",
   "metadata": {},
   "outputs": [],
   "source": [
    "train_set = prepare()"
   ]
  },
  {
   "cell_type": "code",
   "execution_count": 218,
   "id": "a0f53696",
   "metadata": {},
   "outputs": [
    {
     "data": {
      "text/plain": [
       "<nariflow.optimizer.sgd.SGD at 0x27a76ec86a0>"
      ]
     },
     "execution_count": 218,
     "metadata": {},
     "output_type": "execute_result"
    }
   ],
   "source": [
    "model = SimpleRNN(100, 1)\n",
    "\n",
    "optimizers = optimizer.SGD()\n",
    "\n",
    "optimizers.setup(model)"
   ]
  },
  {
   "cell_type": "code",
   "execution_count": 219,
   "id": "79924cdb",
   "metadata": {},
   "outputs": [
    {
     "name": "stdout",
     "output_type": "stream",
     "text": [
      "0.0054205528539780674\n",
      "0.00014511136479305664\n",
      "9.233092203563794e-05\n",
      "5.53430284073198e-05\n",
      "2.9972938285111977e-05\n",
      "1.3459877570839444e-05\n",
      "3.944264110786258e-06\n",
      "1.5774360529778188e-07\n",
      "1.2667534172214512e-06\n",
      "6.8273811004295724e-06\n"
     ]
    }
   ],
   "source": [
    "for epoch in range(100):\n",
    "    \n",
    "    for teps in range(len(train_set[0]) - step - 1):\n",
    "        with GradientTape() as tape:\n",
    "            y_pred = model(train_set[0][teps  : teps + step])\n",
    "            loss = f.loss.mean_squared_error(y_pred, train_set[1][(teps + 1) + step])\n",
    "        \n",
    "        tape.CalcGradient()\n",
    "        optimizers.update()\n",
    "    if epoch % 10 == 0:\n",
    "        print(loss.data)"
   ]
  },
  {
   "cell_type": "code",
   "execution_count": 220,
   "id": "a4bbd461",
   "metadata": {},
   "outputs": [],
   "source": [
    "y_pred = list()\n",
    "for teps in range(int(len(train_set[0]) - step)):\n",
    "    y_pred.append(model(train_set[0][teps  : teps + step]).data)"
   ]
  },
  {
   "cell_type": "code",
   "execution_count": 222,
   "id": "290fa81f",
   "metadata": {},
   "outputs": [
    {
     "data": {
      "text/plain": [
       "[<matplotlib.lines.Line2D at 0x27a78025400>]"
      ]
     },
     "execution_count": 222,
     "metadata": {},
     "output_type": "execute_result"
    },
    {
     "data": {
      "image/png": "[encoded data removed]",
      "text/plain": [
       "<Figure size 432x288 with 1 Axes>"
      ]
     },
     "metadata": {
      "needs_background": "light"
     },
     "output_type": "display_data"
    }
   ],
   "source": [
    "plt.plot(np.squeeze(np.squeeze(y_pred)))\n",
    "plt.plot(np.squeeze(train_set[1]))"
   ]
  }
 ],
 "metadata": {
  "kernelspec": {
   "display_name": "Python 3 (ipykernel)",
   "language": "python",
   "name": "python3"
  },
  "language_info": {
   "codemirror_mode": {
    "name": "ipython",
    "version": 3
   },
   "file_extension": ".py",
   "mimetype": "text/x-python",
   "name": "python",
   "nbconvert_exporter": "python",
   "pygments_lexer": "ipython3",
   "version": "3.9.7"
  }
 },
 "nbformat": 4,
 "nbformat_minor": 5
}
