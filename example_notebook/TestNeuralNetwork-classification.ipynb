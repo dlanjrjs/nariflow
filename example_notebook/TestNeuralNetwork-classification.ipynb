{
 "cells": [
  {
   "cell_type": "code",
   "execution_count": 1,
   "metadata": {},
   "outputs": [],
   "source": [
    "from nariflow import Variable\n",
    "from nariflow import optimizer\n",
    "from nariflow import GradientTape\n",
    "#from nariflow import calc_gradient\n",
    "from nariflow import layer\n",
    "from nariflow.models import Model\n",
    "from nariflow import functions as f\n",
    "from nariflow.core import elementary_function as ef\n",
    "from nariflow.core import shape_function as sf\n",
    "from nariflow.utils import DataSet\n",
    "import numpy as np\n",
    "import pandas as pd\n",
    "\n",
    "import tensorflow as tf\n",
    "\n",
    "import matplotlib.pyplot as plt\n",
    "\n",
    "import time\n",
    "\n",
    "from sklearn.model_selection import train_test_split\n",
    "from sklearn.metrics import accuracy_score, f1_score, confusion_matrix\n",
    "\n",
    "from tensorflow.keras.layers.experimental import preprocessing"
   ]
  },
  {
   "cell_type": "code",
   "execution_count": 2,
   "metadata": {},
   "outputs": [],
   "source": [
    "dataset_url = 'http://storage.googleapis.com/download.tensorflow.org/data/petfinder-mini.zip'\n",
    "csv_file = 'datasets/petfinder-mini/petfinder-mini.csv'\n",
    "\n",
    "tf.keras.utils.get_file('petfinder_mini.zip', dataset_url,\n",
    "                        extract=True, cache_dir='.')\n",
    "dataframe = pd.read_csv(csv_file)"
   ]
  },
  {
   "cell_type": "code",
   "execution_count": 3,
   "metadata": {},
   "outputs": [],
   "source": [
    "# In the original dataset \"4\" indicates the pet was not adopted.\n",
    "dataframe['target'] = np.where(dataframe['AdoptionSpeed']==4, 0, 1)\n",
    "\n",
    "# Drop un-used columns.\n",
    "dataframe = dataframe.drop(columns=['AdoptionSpeed', 'Description'])"
   ]
  },
  {
   "cell_type": "code",
   "execution_count": 4,
   "metadata": {
    "scrolled": true
   },
   "outputs": [
    {
     "name": "stdout",
     "output_type": "stream",
     "text": [
      "7383 train examples\n",
      "1846 validation examples\n",
      "2308 test examples\n"
     ]
    }
   ],
   "source": [
    "train, test = train_test_split(dataframe, test_size=0.2)\n",
    "train, val = train_test_split(train, test_size=0.2)\n",
    "print(len(train), 'train examples')\n",
    "print(len(val), 'validation examples')\n",
    "print(len(test), 'test examples')"
   ]
  },
  {
   "cell_type": "code",
   "execution_count": 5,
   "metadata": {},
   "outputs": [],
   "source": [
    "train_processing = pd.concat([pd.get_dummies(train.loc[:, train.apply(lambda x : x.dtype == 'object')]),\n",
    "           train.loc[:,train.apply(lambda x : x.dtype != 'object')].apply(lambda x : (x - min(x)) / (max(x) - min(x)) )], \n",
    "          axis = 1)"
   ]
  },
  {
   "cell_type": "code",
   "execution_count": 6,
   "metadata": {},
   "outputs": [],
   "source": [
    "X_train = train_processing.drop(['target'], axis = 1).to_numpy()"
   ]
  },
  {
   "cell_type": "code",
   "execution_count": 7,
   "metadata": {},
   "outputs": [],
   "source": [
    "test_processing = pd.concat([pd.get_dummies(test.loc[:, test.apply(lambda x : x.dtype == 'object')]),\n",
    "           test.loc[:,test.apply(lambda x : x.dtype != 'object')].apply(lambda x : (x - min(x)) / (max(x) - min(x)) )], \n",
    "          axis = 1)\n",
    "\n",
    "test_processing = pd.concat([pd.DataFrame(columns = train_processing.columns),\n",
    "           test_processing])[train_processing.columns].fillna(0)"
   ]
  },
  {
   "cell_type": "code",
   "execution_count": 8,
   "metadata": {},
   "outputs": [],
   "source": [
    "y_test = np.array(pd.get_dummies(test_processing.loc[:,'target']))"
   ]
  },
  {
   "cell_type": "code",
   "execution_count": 9,
   "metadata": {},
   "outputs": [],
   "source": [
    "X_test= test_processing.drop(['target'], axis = 1).to_numpy()"
   ]
  },
  {
   "cell_type": "code",
   "execution_count": 10,
   "metadata": {},
   "outputs": [],
   "source": [
    "y_train = np.array(pd.get_dummies(train_processing.loc[:,'target']))"
   ]
  },
  {
   "cell_type": "code",
   "execution_count": 11,
   "metadata": {},
   "outputs": [],
   "source": [
    "lr = 0.2\n",
    "max_iter = 10000\n",
    "hidden_size = 200\n",
    "out_size = 2"
   ]
  },
  {
   "cell_type": "code",
   "execution_count": 12,
   "metadata": {},
   "outputs": [],
   "source": [
    "class Models(Model):\n",
    "    def __init__(self, hidden_size, out_size):\n",
    "        super().__init__()\n",
    "        self.l1 = layer.Linear(hidden_size, initializer_func='he_uniform')\n",
    "        self.l2 = layer.Linear(hidden_size, initializer_func='he_uniform')\n",
    "        self.l3 = layer.Linear(out_size, initializer_func='he_uniform')\n",
    "        \n",
    "    def forward(self, x):\n",
    "        y = self.l1(x)\n",
    "        y = f.activation.relu(y)\n",
    "        y = self.l2(y)\n",
    "        y = f.activation.relu(y)\n",
    "        y = self.l3(y)\n",
    "        y = f.activation.softmax(y)\n",
    "        return y"
   ]
  },
  {
   "cell_type": "code",
   "execution_count": 13,
   "metadata": {},
   "outputs": [],
   "source": [
    "lr = 0.001"
   ]
  },
  {
   "cell_type": "code",
   "execution_count": 14,
   "metadata": {},
   "outputs": [
    {
     "data": {
      "text/plain": [
       "<nariflow.optimizer.Adam.Adam at 0x227a1304a90>"
      ]
     },
     "execution_count": 14,
     "metadata": {},
     "output_type": "execute_result"
    }
   ],
   "source": [
    "model = Models(hidden_size, out_size)\n",
    "\n",
    "optimizers = optimizer.Adam(lr)\n",
    "\n",
    "optimizers.setup(model)"
   ]
  },
  {
   "cell_type": "code",
   "execution_count": 15,
   "metadata": {},
   "outputs": [],
   "source": [
    "batch_size = 50"
   ]
  },
  {
   "cell_type": "code",
   "execution_count": 16,
   "metadata": {},
   "outputs": [],
   "source": [
    "X_train = Variable(np.array(X_train))\n",
    "\n",
    "y_train = Variable(y_train)\n",
    "\n",
    "dataset = DataSet(X_train, y_train)\n",
    "\n",
    "dataset.batch_setup(batch_size)"
   ]
  },
  {
   "cell_type": "code",
   "execution_count": 17,
   "metadata": {},
   "outputs": [],
   "source": [
    "def train_step(X_train, y_train):\n",
    "    with GradientTape() as tape:\n",
    "        \n",
    "        y_pred = model(X_train)\n",
    "        loss = f.loss.categorical_crossentropy(y_train, y_pred)\n",
    "        \n",
    "    tape.CalcGradient()\n",
    "    optimizers.update()\n",
    "    \n",
    "    if j % 5 == 0:\n",
    "        print(loss.data)"
   ]
  },
  {
   "cell_type": "code",
   "execution_count": 18,
   "metadata": {
    "scrolled": true
   },
   "outputs": [
    {
     "name": "stdout",
     "output_type": "stream",
     "text": [
      "0.6932117494688623\n",
      "0.6699989336193448\n",
      "0.6073901178615851\n",
      "0.5954080524488837\n",
      "0.630119258202878\n",
      "0.6378472245648374\n",
      "0.5967867558530996\n",
      "0.5950562330235357\n",
      "0.6068913539440443\n",
      "0.55908163034413\n",
      "0.5285961877100295\n",
      "0.5649885359295753\n",
      "0.5644802142082983\n",
      "0.6364720867292019\n",
      "0.5337114059670792\n",
      "0.6148571381218061\n",
      "0.5508878796098822\n",
      "0.5520118187828416\n",
      "0.5369567989385121\n",
      "0.5869668346201737\n",
      "0.6242620363250436\n",
      "0.6147960768512071\n",
      "0.5625872577352194\n",
      "0.5545613539417444\n",
      "0.578343486306717\n",
      "0.5364827365582105\n",
      "0.5281337833266719\n",
      "0.5964236771168102\n",
      "0.6247101395775085\n",
      "0.5958783230223639\n",
      "total_time :  0.30080246925354004\n",
      "1\n",
      "0.5931412639652014\n",
      "0.5228732302844503\n",
      "0.5346135560997874\n",
      "0.5159897513916125\n",
      "0.5894494942787645\n",
      "0.5914554145871173\n",
      "0.5917742161783938\n",
      "0.5807622807389149\n",
      "0.5957784739842309\n",
      "0.5239998330039043\n",
      "0.5355868173940146\n",
      "0.5449909266337402\n",
      "0.5264229724414787\n",
      "0.6334812370661264\n",
      "0.5370379985916977\n",
      "0.5995313753524417\n",
      "0.49893477327808483\n",
      "0.5454002996367446\n",
      "0.5007962064343885\n",
      "0.5615183733939011\n",
      "0.6217245928526007\n",
      "0.6082522093545727\n",
      "0.5510438464760732\n",
      "0.5496034936028148\n",
      "0.5654921448404291\n",
      "0.5387787168397545\n",
      "0.5140618077872035\n",
      "0.5838202253542167\n",
      "0.60948411357687\n",
      "0.5778057504293915\n",
      "total_time :  0.6013662815093994\n",
      "2\n",
      "0.5863012928322591\n",
      "0.5147780081697726\n",
      "0.5381852993116912\n",
      "0.4930004726155024\n",
      "0.5843095132089005\n",
      "0.5701238871489273\n",
      "0.5873769025164158\n",
      "0.5737798190211157\n",
      "0.5861685349955748\n",
      "0.5170197476894338\n",
      "0.5288314077857502\n",
      "0.5401404830741524\n",
      "0.5231700809089789\n",
      "0.6335808604951079\n",
      "0.5297460344698093\n",
      "0.594005918950793\n",
      "0.48219286571156156\n",
      "0.537761294930071\n",
      "0.4795172751405232\n",
      "0.5490451106275196\n",
      "0.6086718998239479\n",
      "0.6018190905955888\n",
      "0.5351612937903405\n",
      "0.5461739674010334\n",
      "0.5507667550461727\n",
      "0.5331093322487214\n",
      "0.504746275348678\n",
      "0.5751937093773292\n",
      "0.5999717184680249\n",
      "0.5643979413186696\n",
      "total_time :  0.9025492668151855\n",
      "3\n"
     ]
    }
   ],
   "source": [
    "start_time = time.time()\n",
    "\n",
    "i = 0\n",
    "\n",
    "while True:\n",
    "    for j in range(np.ceil((len(dataset) / batch_size)).astype('int')):\n",
    "\n",
    "        train_set, val_set = next(dataset)\n",
    "\n",
    "        train_step(train_set, val_set)\n",
    "\n",
    "    print('total_time : ', time.time() - start_time)\n",
    "\n",
    "    dataset.reset()\n",
    "    \n",
    "    i += 1\n",
    "    \n",
    "    print(i)\n",
    "    \n",
    "    if i > 2:\n",
    "        break"
   ]
  },
  {
   "cell_type": "code",
   "execution_count": 19,
   "metadata": {},
   "outputs": [],
   "source": [
    "X_test = Variable(np.array(X_test))"
   ]
  },
  {
   "cell_type": "code",
   "execution_count": 20,
   "metadata": {},
   "outputs": [],
   "source": [
    "y_pred = model(X_test)"
   ]
  },
  {
   "cell_type": "code",
   "execution_count": 21,
   "metadata": {},
   "outputs": [
    {
     "data": {
      "text/plain": [
       "0.84173249795696"
      ]
     },
     "execution_count": 21,
     "metadata": {},
     "output_type": "execute_result"
    }
   ],
   "source": [
    "f1_score(np.argmax(y_pred.data, axis = -1), \n",
    "               np.argmax(y_test.data, axis = -1))"
   ]
  },
  {
   "cell_type": "code",
   "execution_count": 22,
   "metadata": {},
   "outputs": [
    {
     "data": {
      "text/plain": [
       "0.7482668977469671"
      ]
     },
     "execution_count": 22,
     "metadata": {},
     "output_type": "execute_result"
    }
   ],
   "source": [
    "accuracy_score(np.argmax(y_pred.data, axis = -1), \n",
    "               np.argmax(y_test.data, axis = -1))"
   ]
  },
  {
   "cell_type": "code",
   "execution_count": 23,
   "metadata": {
    "scrolled": true
   },
   "outputs": [
    {
     "data": {
      "text/plain": [
       "array([[ 182,  158],\n",
       "       [ 423, 1545]], dtype=int64)"
      ]
     },
     "execution_count": 23,
     "metadata": {},
     "output_type": "execute_result"
    }
   ],
   "source": [
    "confusion_matrix(np.argmax(y_pred.data, axis = -1),\n",
    "               np.argmax(y_test.data, axis = -1))"
   ]
  },
  {
   "cell_type": "markdown",
   "metadata": {},
   "source": [
    "### 텐서플로우 공식 도큐의 Accuracy는 74%이다.\n",
    "### 결론 : 다중분류도 문제없이 작동한다."
   ]
  }
 ],
 "metadata": {
  "kernelspec": {
   "display_name": "Python 3",
   "language": "python",
   "name": "python3"
  },
  "language_info": {
   "codemirror_mode": {
    "name": "ipython",
    "version": 3
   },
   "file_extension": ".py",
   "mimetype": "text/x-python",
   "name": "python",
   "nbconvert_exporter": "python",
   "pygments_lexer": "ipython3",
   "version": "3.8.5"
  }
 },
 "nbformat": 4,
 "nbformat_minor": 4
}
