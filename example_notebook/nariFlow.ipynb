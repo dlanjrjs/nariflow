{
 "cells": [
  {
   "cell_type": "code",
   "execution_count": 2,
   "id": "0420a281",
   "metadata": {},
   "outputs": [],
   "source": [
    "from nariflow import start_initializer\n",
    "\n",
    "start_initializer().initializer('tape')"
   ]
  },
  {
   "cell_type": "code",
   "execution_count": 3,
   "id": "f3df64d2",
   "metadata": {
    "scrolled": true
   },
   "outputs": [
    {
     "name": "stdout",
     "output_type": "stream",
     "text": [
      "No module named 'cupy'\n"
     ]
    }
   ],
   "source": [
    "import numpy as np\n",
    "import pandas as pd\n",
    "#import cupy as cp\n",
    "\n",
    "from nariflow import Variable\n",
    "from nariflow import optimizer\n",
    "from nariflow import GradientTape\n",
    "#from nariflow import calc_gradient\n",
    "from nariflow import layer\n",
    "from nariflow.models import Model\n",
    "from nariflow import functions as f\n",
    "from nariflow.core import elementary_function as ef\n",
    "from nariflow.core import shape_function as sf\n",
    "from nariflow.utils import unit_test\n",
    "from nariflow.functions import linalg\n",
    "from nariflow.functions import math\n",
    "import numpy as np\n",
    "import pandas as pd\n",
    "\n",
    "import tensorflow as tf\n",
    "\n",
    "import torch\n",
    "\n",
    "import time"
   ]
  },
  {
   "cell_type": "code",
   "execution_count": 4,
   "id": "156c7e37",
   "metadata": {},
   "outputs": [],
   "source": [
    "test_module = unit_test.UnitTest()"
   ]
  },
  {
   "cell_type": "code",
   "execution_count": null,
   "id": "cc06f231",
   "metadata": {
    "scrolled": true
   },
   "outputs": [
    {
     "name": "stdout",
     "output_type": "stream",
     "text": [
      "high_order_test_0  : ok\n",
      "high_order_test_1  : ok\n",
      "matrix_order_test_0  : ok\n",
      "matrix_order_test_1  : ok\n",
      "matrix_order_test_2  : ok\n"
     ]
    }
   ],
   "source": [
    "test_module.start_testing()"
   ]
  },
  {
   "cell_type": "markdown",
   "id": "f44314c0",
   "metadata": {},
   "source": [
    "## CORE_TAPE"
   ]
  },
  {
   "cell_type": "code",
   "execution_count": 12,
   "id": "2a4921a5",
   "metadata": {},
   "outputs": [],
   "source": [
    "class Variable():\n",
    "    def __init__(self, data):\n",
    "        self.data = data\n",
    "        self.generation = 0\n",
    "        self.grad = None\n",
    "\n",
    "    def set_generation(self, generation):\n",
    "        self.generation = generation + 1\n",
    "\n",
    "    def resetgrad(self):\n",
    "        self.grad = None\n",
    "\n",
    "    def shape(self):\n",
    "        return self.data.shape\n",
    "\n",
    "    def dtype(self):\n",
    "        return self.data.dtype\n",
    "\n",
    "    def __len__(self):\n",
    "        return len(self.data)"
   ]
  },
  {
   "cell_type": "code",
   "execution_count": 13,
   "id": "58766c59",
   "metadata": {},
   "outputs": [],
   "source": [
    "class Function():\n",
    "    def __call__(self, *inputs):\n",
    "        def as_array(x):\n",
    "            if np.isscalar(x):\n",
    "                return np.array(x)\n",
    "            return x\n",
    "\n",
    "        def as_variable(x):\n",
    "            if isinstance(x, Variable):\n",
    "                return x\n",
    "            return Variable(x)\n",
    "        inputs = [as_variable(as_array(x)) for x in inputs]\n",
    "        x_list = [i.data for i in inputs]\n",
    "        y_list = self.forward(*x_list)\n",
    "        if not isinstance(y_list, tuple):\n",
    "            y_list = (y_list,)\n",
    "\n",
    "        output_list = [Variable(as_array(y)) for y in y_list]\n",
    "        generation = np.max([i.generation for i in inputs])\n",
    "        for output in output_list:\n",
    "            output.set_generation(generation)\n",
    "        self.generation = generation\n",
    "\n",
    "        if 'GRADIENT_NUM' in globals():\n",
    "            GRADIENT_NUM = globals()['GRADIENT_NUM']\n",
    "            self.making_gradient_tape(output_list, inputs)\n",
    "\n",
    "        if len(output_list) > 1:\n",
    "            return output_list\n",
    "        else:\n",
    "            return output_list[0]\n",
    "\n",
    "    def making_gradient_tape(self, output, inputs):\n",
    "        for i in output:\n",
    "            GRADIENT_NUM = globals()['GRADIENT_NUM']\n",
    "            for j in range(GRADIENT_NUM + 1):\n",
    "                globals()[f'GRADIENT_TAPE_{j}'][i] = (self, inputs, self.generation)\n",
    "\n",
    "    def forward(self, x_list):\n",
    "        raise NotImplementedError()\n",
    "\n",
    "    def backward(self, gy_list):\n",
    "        raise NotImplementedError()\n"
   ]
  },
  {
   "cell_type": "code",
   "execution_count": 4,
   "id": "b69a0876",
   "metadata": {},
   "outputs": [],
   "source": [
    "\n",
    "class GradientTape():\n",
    "\n",
    "    def __init__(self):\n",
    "        if 'GRADIENT_NUM' not in globals():\n",
    "            globals()['GRADIENT_NUM'] = 0\n",
    "        else:\n",
    "            globals()['GRADIENT_NUM'] += 1\n",
    "        GRADIENT_NUM = globals()['GRADIENT_NUM']\n",
    "        globals()[f'GRADIENT_TAPE_{GRADIENT_NUM}'] = dict()\n",
    "        self.gradient_tape = globals()[f'GRADIENT_TAPE_{GRADIENT_NUM}']\n",
    "        self.gradient_num = globals()['GRADIENT_NUM']\n",
    "\n",
    "    def __enter__(self):\n",
    "        return self\n",
    "\n",
    "    def __exit__(self, type, value, traceback):\n",
    "        if f'GRADIENT_TAPE_{self.gradient_num}' in globals():\n",
    "            del globals()[f'GRADIENT_TAPE_{self.gradient_num}']\n",
    "        if 'GRADIENT_NUM' in globals():\n",
    "            del globals()['GRADIENT_NUM']\n",
    "        return\n",
    "\n",
    "    def unlist_inputs(self, x):\n",
    "        input_list = list()\n",
    "        if len(np.array(x.data).shape) == 0:\n",
    "            return x\n",
    "        else:\n",
    "            for inp in x.data:\n",
    "                if isinstance(inp, Variable):\n",
    "                    input_list.append(inp)\n",
    "                else:\n",
    "                    return x\n",
    "            return input_list\n",
    "\n",
    "    def unlist(self, x):\n",
    "        inputs = [self.unlist_inputs(i) for i in x]\n",
    "        if inputs is not None:\n",
    "            if isinstance(inputs[0], list):\n",
    "                inputs = sum(inputs, [])\n",
    "\n",
    "        return inputs\n",
    "\n",
    "    def CalcGradient(self, target=None, tapes=None, resetgrad=False):\n",
    "        if tapes is None:\n",
    "            tapes = self.gradient_tape\n",
    "        tapes = dict(sorted(tapes.items(), key=lambda x: x[1][2]))\n",
    "\n",
    "        if target is not None:\n",
    "            target_ind = [i for i, j in enumerate([i == target for i in list(tapes)]) if j][0]\n",
    "            tapes_dict = dict()\n",
    "            [tapes_dict.update(i) for i in [{i[0]: i[1]} for i in tapes.items()][0:target_ind + 1]]\n",
    "            tapes = dict(reversed(tapes_dict.items()))\n",
    "        else:\n",
    "            tapes = dict(reversed(tapes.items()))\n",
    "\n",
    "        def as_array(x):\n",
    "            if np.isscalar(x):\n",
    "                return np.array(x)\n",
    "            return x\n",
    "\n",
    "        def as_variable(x):\n",
    "            if isinstance(x, Variable):\n",
    "                return x\n",
    "            return Variable(x)\n",
    "\n",
    "        for tape in tapes.items():\n",
    "            outputs = tape[0]\n",
    "            generation = tape[1][2]\n",
    "            inputs = tape[1][1]\n",
    "            func = tape[1][0]\n",
    "\n",
    "            if isinstance(outputs, Variable):\n",
    "                outputs = [outputs]\n",
    "\n",
    "            for j in outputs:\n",
    "                if j.grad is None:\n",
    "                    j.grad = Variable(np.ones_like(j.data))\n",
    "\n",
    "            gy_list = [output.grad for output in outputs]\n",
    "            func.input_list = inputs\n",
    "            gx_list = func.backward(*gy_list)\n",
    "            if not isinstance(gx_list, tuple):\n",
    "                gx_list = (gx_list,)\n",
    "            inputs = self.unlist(inputs)\n",
    "\n",
    "            for x, gx in zip(inputs, gx_list):\n",
    "                if x.grad is None:\n",
    "                    x.grad = gx\n",
    "                else:\n",
    "                    x.grad = x.grad + gx\n",
    "            if resetgrad:\n",
    "                self.resetgrads()\n",
    "\n",
    "    def resetgrads(self):\n",
    "        tapes = self.gradient_tape\n",
    "        for tape in tapes.items():\n",
    "            outputs = tape[0]\n",
    "            inputs = tape[1][1]\n",
    "            if isinstance(outputs, Variable):\n",
    "                outputs = [outputs]\n",
    "            inputs = self.unlist(inputs)\n",
    "\n",
    "            for x in inputs:\n",
    "                x.grad = None\n",
    "\n",
    "            for x in outputs:\n",
    "                x.grad = None\n",
    "\n",
    "    def jacobian(self, target=None, tapes=None, var=None, var_return='Variable'):\n",
    "        if tapes is None:\n",
    "            tapes = self.gradient_tape.copy()\n",
    "        tapes = dict(sorted(tapes.items(), key=lambda x: x[1][2]))\n",
    "\n",
    "        if target is not None:\n",
    "            target_ind = [i for i, j in enumerate([i == target for i in list(tapes)]) if j][0]\n",
    "            tapes_dict = dict()\n",
    "            [tapes_dict.update(i) for i in [{i[0]: i[1]} for i in tapes.items()][0:target_ind + 1]]\n",
    "            tapes = dict(reversed(tapes_dict.items()))\n",
    "        else:\n",
    "            tapes = dict(reversed(tapes.items()))\n",
    "\n",
    "        def as_array(x):\n",
    "            if np.isscalar(x):\n",
    "                return np.array(x)\n",
    "            if isinstance(x, type(np.array([]))):\n",
    "                if len(x.shape) == 0:\n",
    "                    return np.array([[x]])\n",
    "            return x\n",
    "\n",
    "        def as_variable(x):\n",
    "            if isinstance(x, Variable):\n",
    "                return x\n",
    "            return Variable(x)\n",
    "\n",
    "        if len(list(tapes.keys())[0].data.shape) >= 2:\n",
    "            i_max = list(tapes.keys())[0].data.shape[0]\n",
    "            j_max = list(tapes.keys())[0].data.shape[1]\n",
    "        else:\n",
    "            i_max = 1\n",
    "            j_max = 1\n",
    "\n",
    "        jacobian_dict = dict()\n",
    "        for jacobian_iter_i in range(i_max):\n",
    "            jacobian_dict_j = dict()\n",
    "            for jacobian_iter_j in range(j_max):\n",
    "                temp_dict = dict()\n",
    "                for tape in tapes.items():\n",
    "                    outputs = tape[0]\n",
    "                    generation = tape[1][2]\n",
    "                    inputs = tape[1][1]\n",
    "                    func = tape[1][0]\n",
    "\n",
    "                    if isinstance(outputs, Variable):\n",
    "                        outputs = [outputs]\n",
    "\n",
    "                    for j in outputs:\n",
    "                        if j.grad is None:\n",
    "                            j.data = as_array(j.data)\n",
    "                            grad_matrix = np.zeros_like(j.data)\n",
    "                            grad_matrix[jacobian_iter_i][jacobian_iter_j] = 1\n",
    "                            j.grad = Variable(grad_matrix)\n",
    "\n",
    "                    gy_list = [output.grad for output in outputs]\n",
    "                    func.input_list = inputs\n",
    "                    gx_list = func.backward(*gy_list)\n",
    "                    if not isinstance(gx_list, tuple):\n",
    "                        gx_list = (gx_list,)\n",
    "                    inputs = self.unlist(inputs)\n",
    "                    for x, gx in zip(inputs, gx_list):\n",
    "                        if x.grad is None:\n",
    "                            x.grad = gx\n",
    "                        else:\n",
    "                            x.grad = x.grad + gx\n",
    "                        temp_dict[x] = x.grad.data\n",
    "                self.resetgrads()\n",
    "                jacobian_dict_j[jacobian_iter_j] = temp_dict\n",
    "            jacobian_dict[jacobian_iter_i] = jacobian_dict_j\n",
    "        if var is None:\n",
    "            return jacobian_dict\n",
    "\n",
    "        selected_jacobian = list()\n",
    "        for i in jacobian_dict:\n",
    "            for j in jacobian_dict[i]:\n",
    "                selected_jacobian.append(jacobian_dict[i][j][var])\n",
    "        if var_return == 'numpy':\n",
    "            return np.array(selected_jacobian)\n",
    "        if var_return == 'list':\n",
    "            return selected_jacobian\n",
    "        if var_return == 'Variable':\n",
    "            return [as_variable(x) for x in selected_jacobian]\n",
    "        else:\n",
    "            raise Exception('var_return only accpet \"numpy\", \"list\" or \"Variable\"')\n"
   ]
  },
  {
   "cell_type": "markdown",
   "id": "261ebc35",
   "metadata": {},
   "source": [
    "# 함수"
   ]
  },
  {
   "cell_type": "markdown",
   "id": "b821487c",
   "metadata": {},
   "source": [
    "## 미분 기본 공식"
   ]
  },
  {
   "cell_type": "code",
   "execution_count": 5,
   "id": "e9c0eac9",
   "metadata": {},
   "outputs": [],
   "source": [
    "from nariflow.thirdparty.functions import reshape_sum_backward\n",
    "import numpy as np\n",
    "\n",
    "# 덧셈\n",
    "class Add(Function):\n",
    "    # 정전파 : 두 변수를 더한다.\n",
    "    def forward(self, x_0, x_1):\n",
    "        self.x_0_shape = x_0.shape\n",
    "        self.x_1_shape = x_1.shape\n",
    "        y = x_0 + x_1\n",
    "        return y\n",
    "\n",
    "    # 역전파 : 뒷 단계에서 들어온 그레디언트를 양쪽으로 균등하게 흘려보낸다.\n",
    "    def backward(self, gy):\n",
    "        gx0, gx1 = gy, gy\n",
    "        if self.x_0_shape != self.x_1_shape:\n",
    "            gx0 = sumto(gx0, self.x_0_shape)\n",
    "            gx1 = sumto(gx1, self.x_1_shape)\n",
    "        return gx0, gx1\n",
    "\n",
    "\n",
    "# 곱셈\n",
    "class Mul(Function):\n",
    "    # 정전파 : 두 변수를 곱한다.\n",
    "    def forward(self, x_0, x_1):\n",
    "        y = x_0 * x_1\n",
    "        return y\n",
    "\n",
    "    # 역전파 : 방향을 스위치해서 뒷 단계의 그레디언트와 입력 변수를 곱해 흘려보낸다.\n",
    "    def backward(self, gy):\n",
    "        x_0 = self.input_list[0]\n",
    "        x_1 = self.input_list[1]\n",
    "        self.x_0_shape = x_0.data.shape\n",
    "        self.x_1_shape = x_1.data.shape\n",
    "        gx0, gx1 = gy, gy\n",
    "        x0 = x_1 * gx1\n",
    "        x1 = x_0 * gx0\n",
    "        if self.x_0_shape != self.x_1_shape:\n",
    "            x0 = sumto(x0, self.x_0_shape)\n",
    "            x1 = sumto(x1, self.x_1_shape)\n",
    "        return x0, x1\n",
    "\n",
    "    # 음수 변환\n",
    "\n",
    "\n",
    "class Neg(Function):\n",
    "    # 정전파 : 음수로 바꾼다.\n",
    "    def forward(self, x):\n",
    "        return -x\n",
    "\n",
    "    # 역전파 : 음수로 바꿔 흘려보낸다.\n",
    "    def backward(self, gy):\n",
    "        return -gy\n",
    "\n",
    "\n",
    "# 뺄셈\n",
    "class Sub(Function):\n",
    "    # 정전파 : 두 변수를 뺀다.\n",
    "    def forward(self, x_0, x_1):\n",
    "        self.x_0_shape = x_0.shape\n",
    "        self.x_1_shape = x_1.shape\n",
    "        y = x_0 - x_1\n",
    "        return y\n",
    "\n",
    "    # 역전파 : 앞 변수는 그레디언트를, 뒤 변수는 그레디언트 음수를 흘려보낸다.\n",
    "    def backward(self, gy):\n",
    "        gx0, gx1 = gy, gy\n",
    "        if self.x_0_shape != self.x_1_shape:\n",
    "            gx0 = sumto(gx0, self.x_0_shape)\n",
    "            gx1 = sumto(gx1, self.x_1_shape)\n",
    "        return gx0, -gx1\n",
    "\n",
    "\n",
    "# 나눗셈\n",
    "class Div(Function):\n",
    "    # 정전파 : 변수간 나눗셈을 구한다.\n",
    "    def forward(self, x_0, x_1):\n",
    "        self.x_0_shape = x_0.shape\n",
    "        self.x_1_shape = x_1.shape\n",
    "        y = x_0 / x_1\n",
    "        return y\n",
    "\n",
    "    # 역전파 : 앞 변수의 경우 1 / a를, 뒤 변수의 경우 (- a / b **2)를 그레디언트와 곱해 흘려보낸다.\n",
    "    def backward(self, gy):\n",
    "        x_0, x_1 = self.input_list\n",
    "        gx0, gx1 = gy, gy\n",
    "        if self.x_0_shape != self.x_1_shape:\n",
    "            gx0 = sumto(gx0, self.x_0_shape)\n",
    "            gx1 = sumto(gx1, self.x_1_shape)\n",
    "        gx_0 = (1 / x_1) * gx0\n",
    "        gx_1 = (- x_0 / (x_1) ** 2) * gx1\n",
    "        return gx_0, gx_1\n",
    "\n",
    "    # 거듭제곱\n",
    "\n",
    "\n",
    "class Pow(Function):\n",
    "    # Function 클래스에 거듭제곱 수를 init으로 정의한다.\n",
    "    def __init__(self, power):\n",
    "        self.power = power\n",
    "\n",
    "    # 정전파 : 변수에 거듭제곱을 한다.\n",
    "    def forward(self, x):\n",
    "        y = x ** self.power\n",
    "        return y\n",
    "\n",
    "    # 역전파 : power * x ^ (power - 1) 에 그레디언트를 곱해 흘려보낸다.\n",
    "    def backward(self, gy):\n",
    "        x = self.input_list[0]\n",
    "        gx = self.power * x ** (self.power - 1) * gy\n",
    "        return gx\n",
    "\n",
    "\n",
    "def add(x_0, x_1):\n",
    "    return Add()(x_0, x_1)\n",
    "\n",
    "\n",
    "def mul(x_0, x_1):\n",
    "    return Mul()(x_0, x_1)\n",
    "\n",
    "\n",
    "def neg(x):\n",
    "    return Neg()(x)\n",
    "\n",
    "\n",
    "def sub(x_0, x_1):\n",
    "    return Sub()(x_0, x_1)\n",
    "\n",
    "\n",
    "def rsub(x_0, x_1):\n",
    "    return Sub()(x_1, x_0)\n",
    "\n",
    "\n",
    "def div(x_0, x_1):\n",
    "    return Div()(x_0, x_1)\n",
    "\n",
    "\n",
    "def rdiv(x_0, x_1):\n",
    "    return Div()(x_1, x_0)\n",
    "\n",
    "\n",
    "def power(x, power):\n",
    "    return Pow(power)(x)\n",
    "\n",
    "class Sum(Function):\n",
    "    def __init__(self, axis, keepdims):\n",
    "        self.axis = axis\n",
    "        self.keepdims = keepdims\n",
    "        self.x_shape = None\n",
    "\n",
    "    def forward(self, x):\n",
    "        self.x_shape = x.shape\n",
    "        y = np.sum(x, axis=self.axis, keepdims=self.keepdims)\n",
    "        return y\n",
    "\n",
    "    def backward(self, gy):\n",
    "        gy, shape = reshape_sum_backward(gy,\n",
    "                              x_shape=self.x_shape,\n",
    "                              axis=self.axis,\n",
    "                              keepdims=self.keepdims)\n",
    "        gy = reshape(gy, shape)\n",
    "        gx = broadcast_to(gy, self.x_shape)\n",
    "        return gx\n",
    "\n",
    "class MatMul(Function):\n",
    "    def forward(self, x, w):\n",
    "        y = x.dot(w)\n",
    "        return y\n",
    "\n",
    "    def backward(self, gy):\n",
    "        x = self.input_list[0]\n",
    "        w = self.input_list[1]\n",
    "        gw = matmul(transpose(x), gy)\n",
    "        gx = matmul(gy, transpose(w))\n",
    "        return gx, gw\n",
    "\n",
    "def flowsum(x, axis = None, keepdims = False):\n",
    "    return Sum(axis, keepdims)(x)\n",
    "\n",
    "def matmul(x, w):\n",
    "    return MatMul()(x, w)\n",
    "\n",
    "class Parameter(Variable):\n",
    "    pass\n",
    "\n",
    "\n",
    "# 연산 기본 메소드들을 덮어씌워\n",
    "# Variable과 연관된 연산은 기호(+, -, *, /)만 사용해도\n",
    "# 우리가 정의한 연산을 수행하도록 대치한다.\n",
    "def setup_variable():\n",
    "    Variable.__add__ = add\n",
    "    Variable.__radd__ = add\n",
    "    Variable.__mul__ = mul\n",
    "    Variable.__rmul__ = mul\n",
    "    Variable.__neg__ = neg\n",
    "    Variable.__sub__ = sub\n",
    "    Variable.__rsub__ = rsub\n",
    "    Variable.__truediv__ = div\n",
    "    Variable.__rtruediv__ = rdiv\n",
    "    Variable.__pow__ = power\n",
    "    Variable.__getitem__ = get_item\n",
    "\n",
    "class Exp(Function):\n",
    "    def forward(self, x):\n",
    "        y = np.exp(x)\n",
    "        return y\n",
    "\n",
    "    def backward(self, gy):\n",
    "        x = self.input_list[0]\n",
    "        gx = exp(x) * gy\n",
    "        return gx\n",
    "\n",
    "class Log(Function):\n",
    "    def forward(self, x):\n",
    "        y = np.log(x)\n",
    "        return y\n",
    "\n",
    "    def backward(self, gy):\n",
    "        x = self.input_list[0]\n",
    "        gx = (1 / x) * gy\n",
    "        return gx\n",
    "\n",
    "def exp(x):\n",
    "    return Exp()(x)\n",
    "\n",
    "def log(x):\n",
    "    return Log()(x)\n",
    "\n",
    "class Sin(Function):\n",
    "    def forward(self, x):\n",
    "        y = np.sin(x)\n",
    "        return y\n",
    "\n",
    "    def backward(self, gy):\n",
    "        x = self.input_list[0]\n",
    "        gx = cos(x) * gy\n",
    "        return gx\n",
    "\n",
    "def sin(x):\n",
    "    return Sin()(x)\n",
    "\n",
    "class Cos(Function):\n",
    "    def forward(self, x):\n",
    "        y = np.cos(x)\n",
    "        return y\n",
    "\n",
    "    def backward(self, gy):\n",
    "        x = self.input_list[0]\n",
    "        return -sin(x) * gy\n",
    "\n",
    "def cos(x):\n",
    "    return Cos()(x)\n",
    "\n",
    "class StopGradient(Function):\n",
    "    def forward(self, x):\n",
    "        return x\n",
    "\n",
    "    def backward(self, gy):\n",
    "        return 0\n",
    "\n",
    "def stop_gradient(x):\n",
    "    return StopGradient()(x)"
   ]
  },
  {
   "cell_type": "markdown",
   "id": "65b4ab27",
   "metadata": {},
   "source": [
    "## 텐서 형상 함수"
   ]
  },
  {
   "cell_type": "code",
   "execution_count": 7,
   "id": "ad5035d9",
   "metadata": {},
   "outputs": [],
   "source": [
    "\n",
    "from nariflow.thirdparty.functions import sum_to\n",
    "import numpy as np\n",
    "\n",
    "\n",
    "class Reshape(Function):\n",
    "    def __init__(self, shape):\n",
    "        # 변환을 원하는 모양을 지정한다.\n",
    "        self.shape = shape\n",
    "\n",
    "    def forward(self, x):\n",
    "        # 원본 모양을 저장해준다.\n",
    "        self.x_shape = x.shape\n",
    "        # 모양을 reshpae로 바꾼다.\n",
    "        y = x.reshape(self.shape)\n",
    "        return y\n",
    "\n",
    "    def backward(self, gy):\n",
    "        # 역전파시에는 원본 모양을 복원한다.\n",
    "        gx = reshape(gy, self.x_shape)\n",
    "        return gx\n",
    "\n",
    "\n",
    "def reshape(x, shape):\n",
    "    return Reshape(shape)(x)\n",
    "\n",
    "\n",
    "class Transpose(Function):\n",
    "    def __init__(self, shape=None):\n",
    "        self.shape = shape\n",
    "\n",
    "    def forward(self, x):\n",
    "        # 원본 텐서의 모양을 저장해둔다.\n",
    "        # transpose를 실시한다.\n",
    "        y = np.transpose(x, self.shape)\n",
    "        return y\n",
    "\n",
    "    def backward(self, gy):\n",
    "        if self.shape is None:\n",
    "            gx = transpose(gy)\n",
    "        # Variable 변수를 받으므로, np.transpose가 아닌 GoteoFlow의 transpose를 받는다.\n",
    "        # 저장되어있던 원본 모양을 복원한다.\n",
    "        else:\n",
    "            axes_len = len(self.shape)\n",
    "            inv_axes = tuple(np.argsort([ax % axes_len for ax in self.shape]))\n",
    "            gx = transpose(gy, shape=inv_axes)\n",
    "        return gx\n",
    "\n",
    "def transpose(x, shape=None):\n",
    "    return Transpose(shape)(x)\n",
    "\n",
    "class SumTo(Function):\n",
    "    def __init__(self, shape):\n",
    "        # 모양을 바꾸면서 덧연산을 실시할 목표 모양을 지정한다.\n",
    "        self.shape = shape\n",
    "\n",
    "    def forward(self, x):\n",
    "        # 원본 모양을 기억한다.\n",
    "        # sum_to 함수로 모양을 바꾸며 합을 실시한다.\n",
    "        y = sum_to(x, self.shape)\n",
    "        return y\n",
    "\n",
    "    def backward(self, gy):\n",
    "        self.x_shape = self.input_list[0].data.shape\n",
    "        # 역전파시엔 sum_to로 인해 바뀌었던 모양을 원본 모양으로 복원한다.\n",
    "        gx = broadcast_to(gy, self.x_shape)\n",
    "        return gx\n",
    "\n",
    "\n",
    "def sumto(x, shape):\n",
    "    return SumTo(shape)(x)\n",
    "\n",
    "\n",
    "class BroadcastTo(Function):\n",
    "    def __init__(self, shape):\n",
    "        self.shape = shape\n",
    "\n",
    "    def forward(self, x):\n",
    "        self.x_shape = x.shape\n",
    "        y = np.broadcast_to(x, self.shape)\n",
    "        return y\n",
    "\n",
    "    def backward(self, gy):\n",
    "        x = self.input_list[0]\n",
    "        gx = sumto(x, self.x_shape)\n",
    "        return gx\n",
    "\n",
    "\n",
    "def broadcast_to(x, shape):\n",
    "    return BroadcastTo(shape)(x)\n",
    "\n",
    "class GetItem(Function):\n",
    "    def __init__(self, slices):\n",
    "        self.slices = slices\n",
    "\n",
    "    # 정전파 : 슬라이싱을 수행한다.\n",
    "    def forward(self, x):\n",
    "        y = x[self.slices]\n",
    "        return y\n",
    "\n",
    "    # 역전파 : 입력 크기와 슬라이싱 정보를 역함수인 GetItemGrad에 전달한다.\n",
    "    def backward(self, gy):\n",
    "        x = self.input_list[0]\n",
    "        f = GetItemGrad(self.slices, x.data.shape)\n",
    "        return f(gy)\n",
    "\n",
    "def get_item(x, slices):\n",
    "    return GetItem(slices)(x)\n",
    "\n",
    "#GetItemGrad는 GetItem의 역함수다.\n",
    "class GetItemGrad(Function):\n",
    "    def __init__(self, slices, shape):\n",
    "        self.slices = slices\n",
    "        self.shape = shape\n",
    "\n",
    "    #정전파(슬라이싱의 역전파) : 입력 크기만큼의 0행렬을 생성한 후, 슬라이싱 위치에 gy를 채워 반환한다.\n",
    "    # 슬라이싱에서 잘린 성분은 0 그대로 남는다.\n",
    "    def forward(self, gy):\n",
    "        gx = np.zeros(self.shape)\n",
    "        np.add.at(gx, self.slices, gy)\n",
    "        return gx\n",
    "\n",
    "    # 역전파(슬라이싱) : 슬라이싱을 수행한다.\n",
    "    def backward(self, ggx):\n",
    "        return get_item(ggx, self.slices)"
   ]
  },
  {
   "cell_type": "code",
   "execution_count": 8,
   "id": "c0c305a6",
   "metadata": {},
   "outputs": [],
   "source": [
    "setup_variable()"
   ]
  },
  {
   "cell_type": "code",
   "execution_count": 9,
   "id": "c72f6ec3",
   "metadata": {},
   "outputs": [],
   "source": [
    "class DiagonalMat(Function):\n",
    "    def forward(self, x):\n",
    "        self.x_shape = x.shape\n",
    "        y = np.diag(x)\n",
    "        return y\n",
    "   \n",
    "    def backward(self, gy):\n",
    "        \n",
    "        gx = diagmat(gy)\n",
    "        return gx"
   ]
  },
  {
   "cell_type": "code",
   "execution_count": 10,
   "id": "4f76328e",
   "metadata": {},
   "outputs": [],
   "source": [
    "def diagmat(x):\n",
    "    return DiagonalMat()(x)"
   ]
  },
  {
   "cell_type": "code",
   "execution_count": 11,
   "id": "194715a2",
   "metadata": {},
   "outputs": [],
   "source": [
    "a = Variable(np.array([[3.0,2.0,3.0]]))\n",
    "b = Variable(np.array([[3.0,2.0,3.0]]))\n",
    "c = Variable(np.array([[1.0,2.0,3.0]]))"
   ]
  },
  {
   "cell_type": "code",
   "execution_count": 12,
   "id": "7513d635",
   "metadata": {},
   "outputs": [],
   "source": [
    "class Concatenate(Function):\n",
    "    def __init__(self, axis = None):\n",
    "        if axis is None:\n",
    "            self.axis = 0\n",
    "        else:\n",
    "            self.axis = axis\n",
    "        \n",
    "    def forward(self, x):\n",
    "        x = [i.data for i in x]\n",
    "        y = np.concatenate(x, axis = self.axis)\n",
    "        return y\n",
    "    \n",
    "    def backward(self, gy):\n",
    "        x = self.input_list[0]\n",
    "        shapes = [len(i) for i in x.data]\n",
    "        concats = list()\n",
    "        for i in shapes:\n",
    "            temp = gy[:i]          \n",
    "            gy = gy[i:]\n",
    "            concats.append(temp)\n",
    "        return tuple(concats)\n",
    "    "
   ]
  },
  {
   "cell_type": "code",
   "execution_count": 13,
   "id": "b00a8e42",
   "metadata": {},
   "outputs": [],
   "source": [
    "class Stack(Function):\n",
    "    def __init__(self, axis = None):\n",
    "        if axis is None:\n",
    "            self.axis = 0\n",
    "        else:\n",
    "            self.axis = axis\n",
    "    \n",
    "    def forward(self, x):\n",
    "        x = [i.data for i in x]\n",
    "        y = np.stack(x, axis = self.axis)\n",
    "        return y\n",
    "    \n",
    "    def backward(self, gy):\n",
    "        x = self.input_list[0]\n",
    "        shapes = gy.shape()\n",
    "        concats = list()\n",
    "        for axis in range(len(x)):\n",
    "            ind = ''.join(([':,' if i != self.axis else f'{axis},' for i,j in enumerate(shapes)]))\n",
    "            temp = eval(f'gy[{ind[:-1]}]')\n",
    "            concats.append(temp)\n",
    "        return tuple(concats)"
   ]
  },
  {
   "cell_type": "code",
   "execution_count": 14,
   "id": "22ab26cf",
   "metadata": {},
   "outputs": [],
   "source": [
    "def flowconcat(x, axis = None):\n",
    "    return Concatenate(axis)(x)\n",
    "\n",
    "def flowstack(x, axis = None):\n",
    "    return Stack(axis)(x)"
   ]
  },
  {
   "cell_type": "code",
   "execution_count": 240,
   "id": "2875223d",
   "metadata": {},
   "outputs": [],
   "source": [
    "a = Variable(np.array([[[3.0,2.0,1.0]],[[6.,5.,4.]]]))\n",
    "b = Variable(np.array([[[1.0,2.0,3.0]],[[4.,5.,6.]]]))\n",
    "c = Variable(np.array([[[1.0,2.0,5.0]],[[7.,8.,9.]]]))"
   ]
  },
  {
   "cell_type": "code",
   "execution_count": 241,
   "id": "faef7b9e",
   "metadata": {},
   "outputs": [],
   "source": [
    "with GradientTape() as tape:\n",
    "    d = a * b\n",
    "    concats = linalg.flowconcat([c,d])\n",
    "    result = concats * concats"
   ]
  },
  {
   "cell_type": "code",
   "execution_count": 242,
   "id": "5a52936f",
   "metadata": {},
   "outputs": [],
   "source": [
    "tape.CalcGradient()"
   ]
  },
  {
   "cell_type": "code",
   "execution_count": 243,
   "id": "331299c4",
   "metadata": {},
   "outputs": [
    {
     "data": {
      "text/plain": [
       "array([[[ 2.,  4., 10.]],\n",
       "\n",
       "       [[14., 16., 18.]],\n",
       "\n",
       "       [[ 6.,  8.,  6.]],\n",
       "\n",
       "       [[48., 50., 48.]]])"
      ]
     },
     "execution_count": 243,
     "metadata": {},
     "output_type": "execute_result"
    }
   ],
   "source": [
    "concats.grad.data"
   ]
  },
  {
   "cell_type": "code",
   "execution_count": 244,
   "id": "557f179f",
   "metadata": {},
   "outputs": [
    {
     "data": {
      "text/plain": [
       "array([[[ 2.,  4., 10.]],\n",
       "\n",
       "       [[14., 16., 18.]]])"
      ]
     },
     "execution_count": 244,
     "metadata": {},
     "output_type": "execute_result"
    }
   ],
   "source": [
    "c.grad.data"
   ]
  },
  {
   "cell_type": "code",
   "execution_count": 245,
   "id": "d76e0f39",
   "metadata": {},
   "outputs": [
    {
     "data": {
      "text/plain": [
       "array([[[ 6.,  8.,  6.]],\n",
       "\n",
       "       [[48., 50., 48.]]])"
      ]
     },
     "execution_count": 245,
     "metadata": {},
     "output_type": "execute_result"
    }
   ],
   "source": [
    "d.grad.data"
   ]
  },
  {
   "cell_type": "code",
   "execution_count": 246,
   "id": "6506c611",
   "metadata": {},
   "outputs": [
    {
     "data": {
      "text/plain": [
       "array([[[  6.,  16.,  18.]],\n",
       "\n",
       "       [[192., 250., 288.]]])"
      ]
     },
     "execution_count": 246,
     "metadata": {},
     "output_type": "execute_result"
    }
   ],
   "source": [
    "a.grad.data"
   ]
  },
  {
   "cell_type": "code",
   "execution_count": 247,
   "id": "ebf8c446",
   "metadata": {},
   "outputs": [
    {
     "data": {
      "text/plain": [
       "array([[[ 18.,  16.,   6.]],\n",
       "\n",
       "       [[288., 250., 192.]]])"
      ]
     },
     "execution_count": 247,
     "metadata": {},
     "output_type": "execute_result"
    }
   ],
   "source": [
    "b.grad.data"
   ]
  },
  {
   "cell_type": "code",
   "execution_count": 13,
   "id": "991b4f7f",
   "metadata": {},
   "outputs": [],
   "source": [
    "with GradientTape() as tape:\n",
    "    d = a * b\n",
    "    concats = linalg.flowstack([c,d])\n",
    "    result = concats * concats"
   ]
  },
  {
   "cell_type": "code",
   "execution_count": 14,
   "id": "f44e9f48",
   "metadata": {},
   "outputs": [],
   "source": [
    "tape.CalcGradient()"
   ]
  },
  {
   "cell_type": "code",
   "execution_count": 15,
   "id": "40571f16",
   "metadata": {},
   "outputs": [
    {
     "data": {
      "text/plain": [
       "array([[[[1., 1., 1.]],\n",
       "\n",
       "        [[1., 1., 1.]]],\n",
       "\n",
       "\n",
       "       [[[1., 1., 1.]],\n",
       "\n",
       "        [[1., 1., 1.]]]])"
      ]
     },
     "execution_count": 15,
     "metadata": {},
     "output_type": "execute_result"
    }
   ],
   "source": [
    "result.grad.data"
   ]
  },
  {
   "cell_type": "code",
   "execution_count": 16,
   "id": "f7471759",
   "metadata": {},
   "outputs": [
    {
     "data": {
      "text/plain": [
       "array([[[[ 2.,  4., 10.]],\n",
       "\n",
       "        [[14., 16., 18.]]],\n",
       "\n",
       "\n",
       "       [[[ 6.,  8.,  6.]],\n",
       "\n",
       "        [[48., 50., 48.]]]])"
      ]
     },
     "execution_count": 16,
     "metadata": {},
     "output_type": "execute_result"
    }
   ],
   "source": [
    "concats.grad.data"
   ]
  },
  {
   "cell_type": "code",
   "execution_count": 17,
   "id": "ecaacf65",
   "metadata": {},
   "outputs": [
    {
     "data": {
      "text/plain": [
       "array([[[ 2.,  4., 10.]],\n",
       "\n",
       "       [[14., 16., 18.]]])"
      ]
     },
     "execution_count": 17,
     "metadata": {},
     "output_type": "execute_result"
    }
   ],
   "source": [
    "c.grad.data"
   ]
  },
  {
   "cell_type": "code",
   "execution_count": 18,
   "id": "cbb2bab0",
   "metadata": {},
   "outputs": [
    {
     "data": {
      "text/plain": [
       "array([[[ 6.,  8.,  6.]],\n",
       "\n",
       "       [[48., 50., 48.]]])"
      ]
     },
     "execution_count": 18,
     "metadata": {},
     "output_type": "execute_result"
    }
   ],
   "source": [
    "d.grad.data"
   ]
  },
  {
   "cell_type": "code",
   "execution_count": 19,
   "id": "0ee2f368",
   "metadata": {},
   "outputs": [
    {
     "data": {
      "text/plain": [
       "array([[[  6.,  16.,  18.]],\n",
       "\n",
       "       [[192., 250., 288.]]])"
      ]
     },
     "execution_count": 19,
     "metadata": {},
     "output_type": "execute_result"
    }
   ],
   "source": [
    "a.grad.data"
   ]
  },
  {
   "cell_type": "code",
   "execution_count": 20,
   "id": "d31c0c76",
   "metadata": {},
   "outputs": [
    {
     "data": {
      "text/plain": [
       "array([[[ 18.,  16.,   6.]],\n",
       "\n",
       "       [[288., 250., 192.]]])"
      ]
     },
     "execution_count": 20,
     "metadata": {},
     "output_type": "execute_result"
    }
   ],
   "source": [
    "b.grad.data"
   ]
  },
  {
   "cell_type": "code",
   "execution_count": 21,
   "id": "208af307",
   "metadata": {},
   "outputs": [],
   "source": [
    "a = Variable(np.array([[3.0,2.0,1.0],[6.,5.,4.]]))\n",
    "b = Variable(np.array([[1.0,2.0,3.0],[4.,5.,6.]]))\n",
    "c = Variable(np.array([[[1.0,2.0,5.0]],[[7.,8.,9.]]]))"
   ]
  },
  {
   "cell_type": "code",
   "execution_count": 10,
   "id": "b9f86867",
   "metadata": {},
   "outputs": [],
   "source": [
    "class Outer(Function):\n",
    "    \n",
    "    def forward(self, x1, x2):\n",
    "        y = []\n",
    "        if len(x1.shape) > 2 | len(x2.shape) > 2:\n",
    "            raise Excetion('Variable must not exceed tensor dimension over 2')\n",
    "        for i,j in zip(x1, x2):\n",
    "            y.append(np.outer(i, j))\n",
    "        return np.array(y)\n",
    "    \n",
    "    def backward(self, gy):\n",
    "        x1, x2 = self.input_list\n",
    "        main_axis_i = x1.shape()[-1]\n",
    "        main_axis_j = x2.shape()[-1]\n",
    "        stack_var_x1 = Variable(np.array([]).reshape(0, main_axis_i))\n",
    "        stack_var_x2 = Variable(np.array([]).reshape(0, main_axis_j))\n",
    "        \n",
    "        for i,j in zip(x1, x2):\n",
    "            i = reshape(i, [-1,1])\n",
    "            j = reshape(j, [1,-1])\n",
    "            \n",
    "            i = i * main_axis_j\n",
    "            j = j * main_axis_i\n",
    "            \n",
    "            gy_i = sumto(gy, (main_axis_i, 1))\n",
    "            gy_j = sumto(gy, (1, main_axis_j))\n",
    "            \n",
    "            i = i * gy_i\n",
    "            j = j * gy_j\n",
    "            i = reshape(i, [1, -1])\n",
    "            j = reshape(j, [1, -1])\n",
    "            \n",
    "            stack_var_x1 = flowconcat([stack_var_x1, i])\n",
    "            stack_var_x2 = flowconcat([stack_var_x2, j])\n",
    "                   \n",
    "        return stack_var_x1, stack_var_x2\n",
    "    \n",
    "def outer(x_1, x_2):\n",
    "    return Outer()(x_1, x_2)"
   ]
  },
  {
   "cell_type": "code",
   "execution_count": 56,
   "id": "236c3347",
   "metadata": {},
   "outputs": [],
   "source": [
    "a = Variable(np.array([[[3.0,2.0,1.0]],[[6.,5.,4.]]]))\n",
    "b = Variable(np.array([[[1.0,2.0,3]],[[4.,5.,6.]]]))"
   ]
  },
  {
   "cell_type": "code",
   "execution_count": 57,
   "id": "201aec4b",
   "metadata": {},
   "outputs": [],
   "source": [
    "#from nariflow.core.core import Function\n",
    "#from nariflow.core.core import Variable"
   ]
  },
  {
   "cell_type": "code",
   "execution_count": 58,
   "id": "50754a0a",
   "metadata": {},
   "outputs": [],
   "source": [
    "with GradientTape() as tape:\n",
    "    result = linalg.flowconcat([a,b])"
   ]
  },
  {
   "cell_type": "code",
   "execution_count": 59,
   "id": "e76ce677",
   "metadata": {
    "scrolled": true
   },
   "outputs": [
    {
     "data": {
      "text/plain": [
       "array([[[3., 2., 1.]],\n",
       "\n",
       "       [[6., 5., 4.]],\n",
       "\n",
       "       [[1., 2., 3.]],\n",
       "\n",
       "       [[4., 5., 6.]]])"
      ]
     },
     "execution_count": 59,
     "metadata": {},
     "output_type": "execute_result"
    }
   ],
   "source": [
    "result.data"
   ]
  },
  {
   "cell_type": "code",
   "execution_count": 60,
   "id": "65fb5daa",
   "metadata": {},
   "outputs": [
    {
     "data": {
      "text/plain": [
       "3"
      ]
     },
     "execution_count": 60,
     "metadata": {},
     "output_type": "execute_result"
    }
   ],
   "source": [
    "len(a.data.shape)"
   ]
  },
  {
   "cell_type": "code",
   "execution_count": 61,
   "id": "e3d76ce1",
   "metadata": {},
   "outputs": [
    {
     "data": {
      "text/plain": [
       "{<nariflow.core.core_tape.Variable at 0x2c5cebfde50>: (<nariflow.functions.linalg.Concatenate at 0x2c5cebfd670>,\n",
       "  [<nariflow.core.core_tape.Variable at 0x2c5cebfd4c0>],\n",
       "  0)}"
      ]
     },
     "execution_count": 61,
     "metadata": {},
     "output_type": "execute_result"
    }
   ],
   "source": [
    "tape.gradient_tape"
   ]
  },
  {
   "cell_type": "code",
   "execution_count": 62,
   "id": "c198e429",
   "metadata": {},
   "outputs": [],
   "source": [
    "with GradientTape() as tape_2:\n",
    "    tape.CalcGradient()"
   ]
  },
  {
   "cell_type": "code",
   "execution_count": 63,
   "id": "9cc94707",
   "metadata": {},
   "outputs": [
    {
     "data": {
      "text/plain": [
       "array([[[1., 1., 1.]],\n",
       "\n",
       "       [[1., 1., 1.]]])"
      ]
     },
     "execution_count": 63,
     "metadata": {},
     "output_type": "execute_result"
    }
   ],
   "source": [
    "b.grad.data"
   ]
  },
  {
   "cell_type": "code",
   "execution_count": 64,
   "id": "3bb50cb9",
   "metadata": {},
   "outputs": [
    {
     "data": {
      "text/plain": [
       "array([[[1., 1., 1.]],\n",
       "\n",
       "       [[1., 1., 1.]]])"
      ]
     },
     "execution_count": 64,
     "metadata": {},
     "output_type": "execute_result"
    }
   ],
   "source": [
    "a.grad.data"
   ]
  },
  {
   "cell_type": "code",
   "execution_count": 65,
   "id": "2e46608a",
   "metadata": {
    "scrolled": true
   },
   "outputs": [
    {
     "data": {
      "text/plain": [
       "{<nariflow.core.core_tape.Variable at 0x2c5ceb95430>: (<nariflow.core.shape_function.GetItem at 0x2c5ceb95520>,\n",
       "  [<nariflow.core.core_tape.Variable at 0x2c5c88dedf0>],\n",
       "  0),\n",
       " <nariflow.core.core_tape.Variable at 0x2c5ceb95220>: (<nariflow.core.shape_function.GetItem at 0x2c5ceb95b50>,\n",
       "  [<nariflow.core.core_tape.Variable at 0x2c5c88dedf0>],\n",
       "  0),\n",
       " <nariflow.core.core_tape.Variable at 0x2c5ceb95a90>: (<nariflow.core.shape_function.GetItem at 0x2c5ceb95100>,\n",
       "  [<nariflow.core.core_tape.Variable at 0x2c5ceb95220>],\n",
       "  1),\n",
       " <nariflow.core.core_tape.Variable at 0x2c5ceb95280>: (<nariflow.core.shape_function.GetItem at 0x2c5ceb95a60>,\n",
       "  [<nariflow.core.core_tape.Variable at 0x2c5ceb95220>],\n",
       "  1),\n",
       " <nariflow.core.core_tape.Variable at 0x2c5ceb95670>: (<nariflow.core.shape_function.GetItem at 0x2c5ceb95610>,\n",
       "  [<nariflow.core.core_tape.Variable at 0x2c5cebfdfa0>],\n",
       "  0),\n",
       " <nariflow.core.core_tape.Variable at 0x2c5cebfd880>: (<nariflow.core.shape_function.GetItem at 0x2c5ceb95910>,\n",
       "  [<nariflow.core.core_tape.Variable at 0x2c5cebfdfa0>],\n",
       "  0),\n",
       " <nariflow.core.core_tape.Variable at 0x2c5cebfd3a0>: (<nariflow.core.shape_function.GetItem at 0x2c5ceb95ac0>,\n",
       "  [<nariflow.core.core_tape.Variable at 0x2c5ceb95670>],\n",
       "  1),\n",
       " <nariflow.core.core_tape.Variable at 0x2c5cebfd730>: (<nariflow.core.shape_function.GetItem at 0x2c5ceb95040>,\n",
       "  [<nariflow.core.core_tape.Variable at 0x2c5cebfd3a0>],\n",
       "  2),\n",
       " <nariflow.core.core_tape.Variable at 0x2c5cebfdbe0>: (<nariflow.core.shape_function.GetItem at 0x2c5cebfdb80>,\n",
       "  [<nariflow.core.core_tape.Variable at 0x2c5cebfd3a0>],\n",
       "  2),\n",
       " <nariflow.core.core_tape.Variable at 0x2c5cebfd3d0>: (<nariflow.core.shape_function.GetItem at 0x2c5cebfd1c0>,\n",
       "  [<nariflow.core.core_tape.Variable at 0x2c5cebfd3a0>],\n",
       "  2),\n",
       " <nariflow.core.core_tape.Variable at 0x2c5ceba8430>: (<nariflow.core.shape_function.GetItem at 0x2c5cebfd970>,\n",
       "  [<nariflow.core.core_tape.Variable at 0x2c5cebfd880>],\n",
       "  1),\n",
       " <nariflow.core.core_tape.Variable at 0x2c5ceba87f0>: (<nariflow.core.shape_function.GetItem at 0x2c5cebfd4f0>,\n",
       "  [<nariflow.core.core_tape.Variable at 0x2c5ceba8430>],\n",
       "  2),\n",
       " <nariflow.core.core_tape.Variable at 0x2c5ceba88b0>: (<nariflow.core.shape_function.GetItem at 0x2c5cebfdf10>,\n",
       "  [<nariflow.core.core_tape.Variable at 0x2c5ceba8430>],\n",
       "  2),\n",
       " <nariflow.core.core_tape.Variable at 0x2c5ceba85b0>: (<nariflow.core.shape_function.GetItem at 0x2c5ceba8e20>,\n",
       "  [<nariflow.core.core_tape.Variable at 0x2c5ceba8430>],\n",
       "  2),\n",
       " <nariflow.core.core_tape.Variable at 0x2c5ceba8160>: (<nariflow.core.shape_function.GetItem at 0x2c5ceba8040>,\n",
       "  [<nariflow.core.core_tape.Variable at 0x2c5cebfd340>],\n",
       "  0),\n",
       " <nariflow.core.core_tape.Variable at 0x2c5ceba8ee0>: (<nariflow.core.shape_function.GetItem at 0x2c5ceba8df0>,\n",
       "  [<nariflow.core.core_tape.Variable at 0x2c5cebfd340>],\n",
       "  0),\n",
       " <nariflow.core.core_tape.Variable at 0x2c5ceba8cd0>: (<nariflow.core.shape_function.GetItem at 0x2c5ceba8670>,\n",
       "  [<nariflow.core.core_tape.Variable at 0x2c5ceba8160>],\n",
       "  1),\n",
       " <nariflow.core.core_tape.Variable at 0x2c5ceba8310>: (<nariflow.core.shape_function.GetItem at 0x2c5ceba8490>,\n",
       "  [<nariflow.core.core_tape.Variable at 0x2c5ceba8cd0>],\n",
       "  2),\n",
       " <nariflow.core.core_tape.Variable at 0x2c5ceba8730>: (<nariflow.core.shape_function.GetItem at 0x2c5ceba8130>,\n",
       "  [<nariflow.core.core_tape.Variable at 0x2c5ceba8cd0>],\n",
       "  2),\n",
       " <nariflow.core.core_tape.Variable at 0x2c5ceba8700>: (<nariflow.core.shape_function.GetItem at 0x2c5ceba8220>,\n",
       "  [<nariflow.core.core_tape.Variable at 0x2c5ceba8cd0>],\n",
       "  2),\n",
       " <nariflow.core.core_tape.Variable at 0x2c5ceba80a0>: (<nariflow.core.shape_function.GetItem at 0x2c5ceba87c0>,\n",
       "  [<nariflow.core.core_tape.Variable at 0x2c5ceba8ee0>],\n",
       "  1),\n",
       " <nariflow.core.core_tape.Variable at 0x2c5ceba8910>: (<nariflow.core.shape_function.GetItem at 0x2c5ceba8f10>,\n",
       "  [<nariflow.core.core_tape.Variable at 0x2c5ceba80a0>],\n",
       "  2),\n",
       " <nariflow.core.core_tape.Variable at 0x2c5ceba8dc0>: (<nariflow.core.shape_function.GetItem at 0x2c5ceba83d0>,\n",
       "  [<nariflow.core.core_tape.Variable at 0x2c5ceba80a0>],\n",
       "  2),\n",
       " <nariflow.core.core_tape.Variable at 0x2c5ceba8a00>: (<nariflow.core.shape_function.GetItem at 0x2c5ceba8400>,\n",
       "  [<nariflow.core.core_tape.Variable at 0x2c5ceba80a0>],\n",
       "  2)}"
      ]
     },
     "execution_count": 65,
     "metadata": {},
     "output_type": "execute_result"
    }
   ],
   "source": [
    "tape_2.gradient_tape"
   ]
  },
  {
   "cell_type": "code",
   "execution_count": 66,
   "id": "79416912",
   "metadata": {},
   "outputs": [],
   "source": [
    "tape.resetgrads()"
   ]
  },
  {
   "cell_type": "code",
   "execution_count": 67,
   "id": "37a17a44",
   "metadata": {},
   "outputs": [],
   "source": [
    "tape_2.CalcGradient()"
   ]
  },
  {
   "cell_type": "code",
   "execution_count": 68,
   "id": "d8c63793",
   "metadata": {},
   "outputs": [
    {
     "data": {
      "text/plain": [
       "array([[[1., 1., 1.]],\n",
       "\n",
       "       [[1., 1., 1.]]])"
      ]
     },
     "execution_count": 68,
     "metadata": {},
     "output_type": "execute_result"
    }
   ],
   "source": [
    "a.grad.data"
   ]
  },
  {
   "cell_type": "code",
   "execution_count": 69,
   "id": "e287236b",
   "metadata": {},
   "outputs": [
    {
     "data": {
      "text/plain": [
       "array([[[1., 1., 1.]],\n",
       "\n",
       "       [[1., 1., 1.]]])"
      ]
     },
     "execution_count": 69,
     "metadata": {},
     "output_type": "execute_result"
    }
   ],
   "source": [
    "b.grad.data"
   ]
  },
  {
   "cell_type": "code",
   "execution_count": 379,
   "id": "90e86f47",
   "metadata": {},
   "outputs": [],
   "source": [
    "from nariflow.core.core import Variable, Function"
   ]
  },
  {
   "cell_type": "code",
   "execution_count": 18,
   "id": "9d22c8b5",
   "metadata": {},
   "outputs": [],
   "source": [
    "class EigenVec(Function):\n",
    "    \n",
    "    def forward(self, x):\n",
    "        self.eigval, self.eigvec = np.linalg.eig(x)\n",
    "        return self.eigvec\n",
    "    \n",
    "    def backward(self, gy):\n",
    "        x = self.input_list[0]\n",
    "        second_term = diagmat(self.eigval) - x\n",
    "        second_term = transpose(second_term)\n",
    "        geigvec = matmul(self.eigvec, second_term)\n",
    "        return geigvec * gy"
   ]
  },
  {
   "cell_type": "code",
   "execution_count": 19,
   "id": "7862e205",
   "metadata": {},
   "outputs": [],
   "source": [
    "class EigenVal(Function):\n",
    "    def forward(self, x):\n",
    "        eigval, eigvec = np.linalg.eig(x)\n",
    "        self.eigval, self.eigvec = eigval, eigvec\n",
    "        return eigval\n",
    "    \n",
    "    def backward(self, gy):\n",
    "        eigvec = Variable(self.eigvec)\n",
    "        geigval = linalg.outer(eigvec, eigvec)\n",
    "        gy = broadcast_to(gy, eigvec.shape())\n",
    "        print(geigval, gy)\n",
    "        return geigval * gy"
   ]
  },
  {
   "cell_type": "code",
   "execution_count": 2,
   "id": "c29aa582",
   "metadata": {},
   "outputs": [],
   "source": [
    "X = Variable(np.array([[3.0,3.0,2.0],[1.,5.,4.], [2.,3.,4.]]))"
   ]
  },
  {
   "cell_type": "code",
   "execution_count": 21,
   "id": "120544d2",
   "metadata": {},
   "outputs": [],
   "source": [
    "class Symmetric(Function):\n",
    "    \n",
    "    def forward(self, x):\n",
    "        y = (1 / 2) * (x + np.transpose(x))\n",
    "        return y\n",
    "    \n",
    "    def backward(self, gy):\n",
    "        return gy"
   ]
  },
  {
   "cell_type": "code",
   "execution_count": 22,
   "id": "695ee1c5",
   "metadata": {},
   "outputs": [],
   "source": [
    "class TriangleUpper(Function):\n",
    "    def __init__(self, k):\n",
    "        if k is not None:\n",
    "            self.k = k\n",
    "        else :\n",
    "            self.k = 0\n",
    "        \n",
    "    def forward(self, x):\n",
    "        y = np.triu(x, k = self.k)\n",
    "        return y\n",
    "    \n",
    "    def backward(self, gy):\n",
    "        return gy"
   ]
  },
  {
   "cell_type": "code",
   "execution_count": 23,
   "id": "944785b4",
   "metadata": {},
   "outputs": [],
   "source": [
    "class TriangleLow(Function):\n",
    "    def __init__(self, k):\n",
    "        if k is not None:\n",
    "            self.k = k\n",
    "        else :\n",
    "            self.k = 0\n",
    "    \n",
    "    def forward(self, x):\n",
    "        y = np.tril(x, k = self.k)\n",
    "        return y\n",
    "    \n",
    "    def backward(self, gy):\n",
    "        return gy\n",
    "    \n",
    "def trilower(x):\n",
    "    return TriangleLow()(x)"
   ]
  },
  {
   "cell_type": "code",
   "execution_count": 24,
   "id": "c7d2af32",
   "metadata": {},
   "outputs": [],
   "source": [
    "class CopyLowtoUpper(Function):\n",
    "    def forward(self, x):\n",
    "        y = np.tril(x)\n",
    "        y_lower = np.tril(x, k = -1)\n",
    "        y = y + np.transpose(y_lower)\n",
    "        return y\n",
    "        \n",
    "    def backward(self, gy):\n",
    "        return gy\n",
    "    \n",
    "def copyltu(x):\n",
    "    return CopyLowtoUpper()(x)"
   ]
  },
  {
   "cell_type": "code",
   "execution_count": 5,
   "id": "154e3cc1",
   "metadata": {},
   "outputs": [],
   "source": [
    "class MatrixInv(Function):\n",
    "    def forward(self, x):\n",
    "        self.cholesky = np.linalg.cholesky(x)\n",
    "        y = np.linalg.inv(self.cholesky)\n",
    "        return y\n",
    "    \n",
    "    def backward(self, gy):\n",
    "        x = self.input_list[0]\n",
    "        Lt = transpose(matinv(self.cholesky))\n",
    "        gx = -2 * trilower(matmul(x, matmul(linalg.symmetric(gy), Lt)))\n",
    "        return gx\n",
    "    \n",
    "def matinv(x):\n",
    "    return MatrixInv()(x)"
   ]
  },
  {
   "cell_type": "code",
   "execution_count": 2,
   "id": "a74f0041",
   "metadata": {},
   "outputs": [
    {
     "ename": "NameError",
     "evalue": "name 'Function' is not defined",
     "output_type": "error",
     "traceback": [
      "\u001b[1;31m---------------------------------------------------------------------------\u001b[0m",
      "\u001b[1;31mNameError\u001b[0m                                 Traceback (most recent call last)",
      "\u001b[1;32m~\\AppData\\Local\\Temp/ipykernel_21964/2867198874.py\u001b[0m in \u001b[0;36m<module>\u001b[1;34m\u001b[0m\n\u001b[1;32m----> 1\u001b[1;33m \u001b[1;32mclass\u001b[0m \u001b[0mCholeskyDecomp\u001b[0m\u001b[1;33m(\u001b[0m\u001b[0mFunction\u001b[0m\u001b[1;33m)\u001b[0m\u001b[1;33m:\u001b[0m\u001b[1;33m\u001b[0m\u001b[1;33m\u001b[0m\u001b[0m\n\u001b[0m\u001b[0;32m      2\u001b[0m     \u001b[1;32mdef\u001b[0m \u001b[0mforward\u001b[0m\u001b[1;33m(\u001b[0m\u001b[0mself\u001b[0m\u001b[1;33m,\u001b[0m \u001b[0mx\u001b[0m\u001b[1;33m)\u001b[0m\u001b[1;33m:\u001b[0m\u001b[1;33m\u001b[0m\u001b[1;33m\u001b[0m\u001b[0m\n\u001b[0;32m      3\u001b[0m         \u001b[0my\u001b[0m \u001b[1;33m=\u001b[0m \u001b[0mnp\u001b[0m\u001b[1;33m.\u001b[0m\u001b[0mlinalg\u001b[0m\u001b[1;33m.\u001b[0m\u001b[0mcholesky\u001b[0m\u001b[1;33m(\u001b[0m\u001b[0mx\u001b[0m\u001b[1;33m)\u001b[0m\u001b[1;33m\u001b[0m\u001b[1;33m\u001b[0m\u001b[0m\n\u001b[0;32m      4\u001b[0m         \u001b[0mself\u001b[0m\u001b[1;33m.\u001b[0m\u001b[0mcholesky\u001b[0m \u001b[1;33m=\u001b[0m \u001b[0my\u001b[0m\u001b[1;33m\u001b[0m\u001b[1;33m\u001b[0m\u001b[0m\n\u001b[0;32m      5\u001b[0m         \u001b[1;32mreturn\u001b[0m \u001b[0my\u001b[0m\u001b[1;33m\u001b[0m\u001b[1;33m\u001b[0m\u001b[0m\n",
      "\u001b[1;31mNameError\u001b[0m: name 'Function' is not defined"
     ]
    }
   ],
   "source": [
    "class CholeskyDecomp(Function):\n",
    "    def forward(self, x):\n",
    "        y = np.linalg.cholesky(x)\n",
    "        self.cholesky = y\n",
    "        return y\n",
    "    \n",
    "    def backward(self, gy):\n",
    "        cholesky = Variable(self.cholesky)\n",
    "        cholesky_transpose = transpose(cholesky)\n",
    "        cholesky_inverse = matinv(cholesky)\n",
    "        cholesky_inverse_transpose = transpose(cholesky_inverse)\n",
    "        gx = (1/2) * matmul(cholesky_inverse_transpose,\n",
    "                       matmul(\n",
    "                           matmul(copyltu(matmul(cholesky_transpose, gy)),\n",
    "                                  cholesky_inverse)))\n",
    "        return gx\n",
    "    \n",
    "def cholesky(x):\n",
    "    return CholeskyDecomp()(x)"
   ]
  },
  {
   "cell_type": "code",
   "execution_count": 7,
   "id": "798a677b",
   "metadata": {},
   "outputs": [
    {
     "ename": "NameError",
     "evalue": "name 'Function' is not defined",
     "output_type": "error",
     "traceback": [
      "\u001b[1;31m---------------------------------------------------------------------------\u001b[0m",
      "\u001b[1;31mNameError\u001b[0m                                 Traceback (most recent call last)",
      "\u001b[1;32m~\\AppData\\Local\\Temp/ipykernel_24368/1461465366.py\u001b[0m in \u001b[0;36m<module>\u001b[1;34m\u001b[0m\n\u001b[1;32m----> 1\u001b[1;33m \u001b[1;32mclass\u001b[0m \u001b[0mLQDecomp\u001b[0m\u001b[1;33m(\u001b[0m\u001b[0mFunction\u001b[0m\u001b[1;33m)\u001b[0m\u001b[1;33m:\u001b[0m\u001b[1;33m\u001b[0m\u001b[1;33m\u001b[0m\u001b[0m\n\u001b[0m\u001b[0;32m      2\u001b[0m     \u001b[1;32mdef\u001b[0m \u001b[0mforward\u001b[0m\u001b[1;33m(\u001b[0m\u001b[0mself\u001b[0m\u001b[1;33m,\u001b[0m \u001b[0mx\u001b[0m\u001b[1;33m)\u001b[0m\u001b[1;33m:\u001b[0m\u001b[1;33m\u001b[0m\u001b[1;33m\u001b[0m\u001b[0m\n\u001b[0;32m      3\u001b[0m         \u001b[0mQ\u001b[0m\u001b[1;33m,\u001b[0m \u001b[0mL\u001b[0m \u001b[1;33m=\u001b[0m \u001b[0mnp\u001b[0m\u001b[1;33m.\u001b[0m\u001b[0mlinalg\u001b[0m\u001b[1;33m.\u001b[0m\u001b[0mLQDecomp\u001b[0m\u001b[1;33m(\u001b[0m\u001b[0mx\u001b[0m\u001b[1;33m)\u001b[0m\u001b[1;33m\u001b[0m\u001b[1;33m\u001b[0m\u001b[0m\n\u001b[0;32m      4\u001b[0m         \u001b[0mself\u001b[0m\u001b[1;33m.\u001b[0m\u001b[0mQ\u001b[0m \u001b[1;33m=\u001b[0m \u001b[0mQ\u001b[0m\u001b[1;33m\u001b[0m\u001b[1;33m\u001b[0m\u001b[0m\n\u001b[0;32m      5\u001b[0m         \u001b[0mself\u001b[0m\u001b[1;33m.\u001b[0m\u001b[0mL\u001b[0m \u001b[1;33m=\u001b[0m \u001b[0mL\u001b[0m\u001b[1;33m\u001b[0m\u001b[1;33m\u001b[0m\u001b[0m\n",
      "\u001b[1;31mNameError\u001b[0m: name 'Function' is not defined"
     ]
    }
   ],
   "source": [
    "class LQDecomp(Function):\n",
    "    def forward(self, x):\n",
    "        Q, L = np.linalg.LQDecomp(x)\n",
    "        self.Q = Q\n",
    "        self.L = L\n",
    "        return Q, L\n",
    "    \n",
    "    def backward(self, gy):\n",
    "        gx_Q = gy[0]\n",
    "        gx_L = gy[1]\n",
    "        L = Variable(self.L)\n",
    "        Q = Variable(self.Q)\n",
    "        L_transpose = transpose(L)\n",
    "        L_transpose_inverse = matinv(L_transpose)\n",
    "        Q_transpose = transpose(Q)\n",
    "        M = matmul(L_transpose, gx_L) - matmul(gx_Q, Q_transpose)\n",
    "        gx = matmul(L_transpose_inverse, gx_Q + matmul(copyltu(M), Q))\n",
    "        return gx\n",
    "        \n",
    "def lqdecomp(x):\n",
    "    return LQDecomp()(x)"
   ]
  },
  {
   "cell_type": "code",
   "execution_count": null,
   "id": "eaf19f68",
   "metadata": {},
   "outputs": [],
   "source": [
    "class Sign(Function):\n",
    "    def forward(self, x):\n",
    "        y = np.sign(x)\n",
    "        return y\n",
    "    \n",
    "    def backward(self, gy):\n",
    "        return 0\n",
    "    \n",
    "def sign(x):\n",
    "    return Sign()(x)"
   ]
  },
  {
   "cell_type": "code",
   "execution_count": 391,
   "id": "58560015",
   "metadata": {},
   "outputs": [],
   "source": [
    "class Max(Function):\n",
    "    def __init__(self, axis):\n",
    "        self.axis = axis\n",
    "        \n",
    "    def forward(self, x):\n",
    "        y = np.max(x, axis = self.axis)\n",
    "        return y\n",
    "    \n",
    "    def backward(self, gy):\n",
    "        x = self.input_list\n",
    "        argmax = np.argmax(x, axis = self.axis).reshape(-1)\n",
    "        shapes = x.shape\n",
    "        \n",
    "        gx = Variable(np.zeros(shapes))\n",
    "        \n",
    "        shape_list = [list(range(0,i)) for i in shapes]\n",
    "        shape_list.pop(self.axis)\n",
    "        index_comb = np.array(np.meshgrid(*shape_list)).T.reshape(-1,len(shape_list))\n",
    "        result_list = []\n",
    "        for i,j in zip(index_comb, argmax):\n",
    "            i = i.tolist()\n",
    "            i.insert(self.axis, j)\n",
    "            result_list.append(i)\n",
    "        result_list = [[str(j) for j in i] for i in result_list]\n",
    "        result_list = [','.join(i) for i in result_list]\n",
    "        for i in result_list:\n",
    "            exec(f'gx[{i}] = gy[{i}]')\n",
    "        \n",
    "        return tuple(gx)"
   ]
  },
  {
   "cell_type": "code",
   "execution_count": 186,
   "id": "e02a20bc",
   "metadata": {},
   "outputs": [
    {
     "ename": "NameError",
     "evalue": "name 'Function' is not defined",
     "output_type": "error",
     "traceback": [
      "\u001b[1;31m---------------------------------------------------------------------------\u001b[0m",
      "\u001b[1;31mNameError\u001b[0m                                 Traceback (most recent call last)",
      "\u001b[1;32m~\\AppData\\Local\\Temp/ipykernel_22876/1673072482.py\u001b[0m in \u001b[0;36m<module>\u001b[1;34m\u001b[0m\n\u001b[1;32m----> 1\u001b[1;33m \u001b[1;32mclass\u001b[0m \u001b[0mSVDecomp\u001b[0m\u001b[1;33m(\u001b[0m\u001b[0mFunction\u001b[0m\u001b[1;33m)\u001b[0m\u001b[1;33m:\u001b[0m\u001b[1;33m\u001b[0m\u001b[1;33m\u001b[0m\u001b[0m\n\u001b[0m\u001b[0;32m      2\u001b[0m     \u001b[1;32mdef\u001b[0m \u001b[0mhfunc\u001b[0m\u001b[1;33m(\u001b[0m\u001b[0mself\u001b[0m\u001b[1;33m,\u001b[0m \u001b[0mx\u001b[0m\u001b[1;33m,\u001b[0m \u001b[0meta\u001b[0m \u001b[1;33m=\u001b[0m \u001b[1;36m1e-8\u001b[0m\u001b[1;33m)\u001b[0m\u001b[1;33m:\u001b[0m\u001b[1;33m\u001b[0m\u001b[1;33m\u001b[0m\u001b[0m\n\u001b[0;32m      3\u001b[0m         \u001b[0meta_mat\u001b[0m \u001b[1;33m=\u001b[0m \u001b[0mnp\u001b[0m\u001b[1;33m.\u001b[0m\u001b[0mbroadcast_to\u001b[0m\u001b[1;33m(\u001b[0m\u001b[0mnp\u001b[0m\u001b[1;33m.\u001b[0m\u001b[0marray\u001b[0m\u001b[1;33m(\u001b[0m\u001b[0meta\u001b[0m\u001b[1;33m)\u001b[0m\u001b[1;33m,\u001b[0m \u001b[0mshape\u001b[0m \u001b[1;33m=\u001b[0m \u001b[0mx\u001b[0m\u001b[1;33m.\u001b[0m\u001b[0mshape\u001b[0m\u001b[1;33m(\u001b[0m\u001b[1;33m)\u001b[0m\u001b[1;33m)\u001b[0m\u001b[1;33m\u001b[0m\u001b[1;33m\u001b[0m\u001b[0m\n\u001b[0;32m      4\u001b[0m         \u001b[1;32mreturn\u001b[0m \u001b[0mflowmax\u001b[0m\u001b[1;33m(\u001b[0m\u001b[1;33m[\u001b[0m\u001b[0mflowabs\u001b[0m\u001b[1;33m(\u001b[0m\u001b[0mx\u001b[0m\u001b[1;33m)\u001b[0m\u001b[1;33m.\u001b[0m\u001b[0mdata\u001b[0m\u001b[1;33m,\u001b[0m \u001b[0meta_mat\u001b[0m\u001b[1;33m]\u001b[0m\u001b[1;33m,\u001b[0m \u001b[0maxis\u001b[0m \u001b[1;33m=\u001b[0m \u001b[1;36m0\u001b[0m\u001b[1;33m)\u001b[0m \u001b[1;33m*\u001b[0m \u001b[1;33m(\u001b[0m\u001b[0msign\u001b[0m\u001b[1;33m(\u001b[0m\u001b[0mx\u001b[0m\u001b[1;33m)\u001b[0m \u001b[1;33m+\u001b[0m \u001b[0meta\u001b[0m\u001b[1;33m)\u001b[0m\u001b[1;33m\u001b[0m\u001b[1;33m\u001b[0m\u001b[0m\n\u001b[0;32m      5\u001b[0m \u001b[1;33m\u001b[0m\u001b[0m\n",
      "\u001b[1;31mNameError\u001b[0m: name 'Function' is not defined"
     ]
    }
   ],
   "source": [
    "class SVDecomp(Function):\n",
    "    def hfunc(self, x, eta = 1e-8):\n",
    "        eta_mat = np.broadcast_to(np.array(eta), shape = x.shape())\n",
    "        return flowmax([flowabs(x).data, eta_mat], axis = 0) * (sign(x) + eta)\n",
    "    \n",
    "    def forward(self, x):\n",
    "        U,S,V = np.linalg.svd(x)\n",
    "        self.U = U\n",
    "        self.S = S\n",
    "        self.V = V\n",
    "        \n",
    "    def backward(self, gy):\n",
    "        gx_U = gy[0]\n",
    "        gx_S = gy[1]\n",
    "        gx_V = gy[2]\n",
    "        U = Variable(self.U)\n",
    "        S = Variable(self.S)\n",
    "        V = Variable(self.V)\n",
    "        \n",
    "        G_1 = matmul(gx_U, transpose(U)) + (\n",
    "            matmul(gx_U, transpose(U)) + matmul(matinv(S), matmul(gx_V, matmul(transpose(V), S))))\n",
    "        \n",
    "        indicate = Variable(np.ones(G_1.shape)) - Variable(np.identity(G_1.shape[0]))\n",
    "        h = broadcast_to(S, shape = (S.shape()[-1], S.shape()[-1]))\n",
    "        E = indicate / (self.hfunc(h - reshape(S, [-1,1])) * self.hfunc(h + reshape(S, [-1,1])))\n",
    "        \n",
    "        G_2_b = matmul(matinv(S), matmul(gx_S, transpose(V)))\n",
    "        identity = diagonal(diagonal(G_2_b))\n",
    "        G_2 = gx_v + 2 * matmul(symmetric(G_1 * E), S) - identity  \n",
    "        \n",
    "        gx = matmul(tranpose(U), matmul(G_2, V) + matmul(matinv(S), gx_V))\n",
    "        return gx"
   ]
  },
  {
   "cell_type": "code",
   "execution_count": null,
   "id": "19197d54",
   "metadata": {},
   "outputs": [],
   "source": [
    "class Norm(Function):\n",
    "    def __init__(self, ord):\n",
    "        self.ord = ord\n",
    "        \n",
    "    def forward(self, x):\n",
    "        y = np.linalg.norm(x, ord = self.ord)\n",
    "        self.y = y\n",
    "        return y\n",
    "    \n",
    "    def backward(self, gy):\n",
    "        x = self.input_list[0]\n",
    "        gx = ((math.flowabs(x) / self.y) ** (self.ord - 1)) * math.sign(x) * gy\n",
    "        return gx\n",
    "    \n",
    "def norm(x, ord = 2):\n",
    "    return Norm(ord)(x)"
   ]
  },
  {
   "cell_type": "code",
   "execution_count": 4,
   "id": "33381948",
   "metadata": {},
   "outputs": [],
   "source": [
    "a = Variable(np.array([[3.0,2.0,1.0],[6.,5.,4.]]))"
   ]
  },
  {
   "cell_type": "code",
   "execution_count": 5,
   "id": "f8d8ca9a",
   "metadata": {},
   "outputs": [],
   "source": [
    "with GradientTape() as tape:\n",
    "    U,S,V = linalg.svd(a)\n",
    "    result = S ** 2"
   ]
  },
  {
   "cell_type": "code",
   "execution_count": 6,
   "id": "11d74f6b",
   "metadata": {
    "scrolled": true
   },
   "outputs": [
    {
     "data": {
      "text/plain": [
       "{<nariflow.core.core_tape.Variable at 0x2a3feb91100>: (<nariflow.functions.linalg.SVDecomp at 0x2a3feb91190>,\n",
       "  [<nariflow.core.core_tape.Variable at 0x2a3fa86b340>],\n",
       "  0),\n",
       " <nariflow.core.core_tape.Variable at 0x2a3feb91e80>: (<nariflow.core.shape_function.GetItem at 0x2a3feb914c0>,\n",
       "  [<nariflow.core.core_tape.Variable at 0x2a3feb91100>],\n",
       "  1),\n",
       " <nariflow.core.core_tape.Variable at 0x2a3feb911c0>: (<nariflow.core.shape_function.GetItem at 0x2a3feb91340>,\n",
       "  [<nariflow.core.core_tape.Variable at 0x2a3feb91100>],\n",
       "  1),\n",
       " <nariflow.core.core_tape.Variable at 0x2a3feb914f0>: (<nariflow.core.shape_function.GetItem at 0x2a3feb91f70>,\n",
       "  [<nariflow.core.core_tape.Variable at 0x2a3feb91100>],\n",
       "  1),\n",
       " <nariflow.core.core_tape.Variable at 0x2a3feb91760>: (<nariflow.core.elementary_function.Pow at 0x2a3feb913a0>,\n",
       "  [<nariflow.core.core_tape.Variable at 0x2a3feb911c0>],\n",
       "  2)}"
      ]
     },
     "execution_count": 6,
     "metadata": {},
     "output_type": "execute_result"
    }
   ],
   "source": [
    "tape.gradient_tape"
   ]
  },
  {
   "cell_type": "code",
   "execution_count": 7,
   "id": "62393558",
   "metadata": {
    "scrolled": false
   },
   "outputs": [],
   "source": [
    "tape.CalcGradient()"
   ]
  },
  {
   "cell_type": "code",
   "execution_count": 74,
   "id": "135a66fe",
   "metadata": {},
   "outputs": [
    {
     "data": {
      "text/plain": [
       "array([[ 3.41058683,  1.92946804,  0.44834925],\n",
       "       [13.0491406 , 10.87405177,  8.69896293]])"
      ]
     },
     "execution_count": 74,
     "metadata": {},
     "output_type": "execute_result"
    }
   ],
   "source": [
    "a.grad.data"
   ]
  },
  {
   "cell_type": "code",
   "execution_count": 9,
   "id": "b83edc51",
   "metadata": {},
   "outputs": [],
   "source": [
    "tape.resetgrads()"
   ]
  },
  {
   "cell_type": "code",
   "execution_count": 10,
   "id": "cd59e858",
   "metadata": {},
   "outputs": [],
   "source": [
    "a = Variable(np.array([[3.0,2.0,1.0],[6.,5.,4.],[1,5,7]]))"
   ]
  },
  {
   "cell_type": "code",
   "execution_count": 11,
   "id": "043da7a6",
   "metadata": {},
   "outputs": [],
   "source": [
    "with GradientTape() as tape:\n",
    "    norm = linalg.norm(a)"
   ]
  },
  {
   "cell_type": "code",
   "execution_count": 12,
   "id": "9fd43b22",
   "metadata": {},
   "outputs": [],
   "source": [
    "tape.CalcGradient()"
   ]
  },
  {
   "cell_type": "code",
   "execution_count": 84,
   "id": "872da5d6",
   "metadata": {},
   "outputs": [
    {
     "data": {
      "text/plain": [
       "array([[0.24881074, 0.16587383, 0.08293691],\n",
       "       [0.49762148, 0.41468457, 0.33174765],\n",
       "       [0.08293691, 0.41468457, 0.58055839]])"
      ]
     },
     "execution_count": 84,
     "metadata": {},
     "output_type": "execute_result"
    }
   ],
   "source": [
    "a.grad.data"
   ]
  },
  {
   "cell_type": "code",
   "execution_count": 34,
   "id": "b7655313",
   "metadata": {},
   "outputs": [],
   "source": [
    "def eigvec(x):\n",
    "    return EigenVec()(x)\n",
    "\n",
    "def eigval(x):\n",
    "    return EigenVal()(x)"
   ]
  },
  {
   "cell_type": "code",
   "execution_count": 14,
   "id": "facf30fa",
   "metadata": {},
   "outputs": [],
   "source": [
    "a = Variable(np.array([[3.0,2.0,1.0],[6.,5.,4.],[1,5,7]]))"
   ]
  },
  {
   "cell_type": "code",
   "execution_count": 15,
   "id": "43101713",
   "metadata": {},
   "outputs": [],
   "source": [
    "with GradientTape() as tape:\n",
    "    eig_vec = linalg.eigval(a)"
   ]
  },
  {
   "cell_type": "code",
   "execution_count": 16,
   "id": "a5352913",
   "metadata": {},
   "outputs": [
    {
     "data": {
      "text/plain": [
       "array([11.71161347,  3.43742596, -0.14903943])"
      ]
     },
     "execution_count": 16,
     "metadata": {},
     "output_type": "execute_result"
    }
   ],
   "source": [
    "eig_vec.data"
   ]
  },
  {
   "cell_type": "code",
   "execution_count": 17,
   "id": "68b3ac2f",
   "metadata": {},
   "outputs": [],
   "source": [
    "tape.CalcGradient()"
   ]
  },
  {
   "cell_type": "code",
   "execution_count": 97,
   "id": "7410ed8b",
   "metadata": {},
   "outputs": [
    {
     "data": {
      "text/plain": [
       "array([[[ 0.05351613,  0.09193855, -0.07916903],\n",
       "        [ 0.09193855,  0.15794673, -0.13600921],\n",
       "        [-0.07916903, -0.13600921,  0.11711862]],\n",
       "\n",
       "       [[ 0.4125464 ,  0.30730143,  0.50856819],\n",
       "        [ 0.30730143,  0.22890557,  0.37882705],\n",
       "        [ 0.50856819,  0.37882705,  0.62693944]],\n",
       "\n",
       "       [[ 0.53393747, -0.57217351, -0.36967146],\n",
       "        [-0.57217351,  0.61314769,  0.39614418],\n",
       "        [-0.36967146,  0.39614418,  0.25594194]]])"
      ]
     },
     "execution_count": 97,
     "metadata": {},
     "output_type": "execute_result"
    }
   ],
   "source": [
    "a.grad.data"
   ]
  },
  {
   "cell_type": "code",
   "execution_count": 98,
   "id": "d2c70020",
   "metadata": {},
   "outputs": [],
   "source": [
    "tape.resetgrads()"
   ]
  },
  {
   "cell_type": "code",
   "execution_count": 226,
   "id": "5a138b67",
   "metadata": {},
   "outputs": [],
   "source": [
    "X = Variable(np.array([[2.0,-1.0,0.0],[-1.,2.,-1.], [0.,-1.,2.]]))"
   ]
  },
  {
   "cell_type": "code",
   "execution_count": 228,
   "id": "d0c521a2",
   "metadata": {},
   "outputs": [],
   "source": [
    "with GradientTape() as tape:\n",
    "    cholesky = linalg.cholesky(X)"
   ]
  },
  {
   "cell_type": "code",
   "execution_count": 229,
   "id": "2ab3a61e",
   "metadata": {},
   "outputs": [],
   "source": [
    "tape.CalcGradient()"
   ]
  },
  {
   "cell_type": "code",
   "execution_count": 230,
   "id": "ed5f5ae0",
   "metadata": {},
   "outputs": [
    {
     "data": {
      "text/plain": [
       "array([[2.0115802 , 2.61015892, 1.96820298],\n",
       "       [2.61015892, 3.39431488, 2.38052044],\n",
       "       [1.96820298, 2.38052044, 1.48241881]])"
      ]
     },
     "execution_count": 230,
     "metadata": {},
     "output_type": "execute_result"
    }
   ],
   "source": [
    "X.grad.data"
   ]
  },
  {
   "cell_type": "code",
   "execution_count": 231,
   "id": "2a186130",
   "metadata": {},
   "outputs": [],
   "source": [
    "tape.resetgrads()"
   ]
  },
  {
   "cell_type": "code",
   "execution_count": 232,
   "id": "d0332766",
   "metadata": {},
   "outputs": [],
   "source": [
    "with GradientTape() as tape:\n",
    "    eig_vec = linalg.eigvec(X)"
   ]
  },
  {
   "cell_type": "code",
   "execution_count": 233,
   "id": "30d66584",
   "metadata": {
    "scrolled": true
   },
   "outputs": [],
   "source": [
    "tape.CalcGradient()"
   ]
  },
  {
   "cell_type": "code",
   "execution_count": 234,
   "id": "bfcaadb6",
   "metadata": {},
   "outputs": [
    {
     "data": {
      "text/plain": [
       "array([[[-7.07106781e-01, -5.00000000e-01, -0.00000000e+00],\n",
       "        [-1.00000000e+00, -7.07106781e-01, -0.00000000e+00],\n",
       "        [ 7.07106781e-01,  5.00000000e-01,  0.00000000e+00]],\n",
       "\n",
       "       [[-5.00000000e-01,  1.11022302e-16, -5.00000000e-01],\n",
       "        [-7.07106781e-01,  1.57009246e-16, -7.07106781e-01],\n",
       "        [ 5.00000000e-01, -1.11022302e-16,  5.00000000e-01]],\n",
       "\n",
       "       [[-0.00000000e+00, -5.00000000e-01,  7.07106781e-01],\n",
       "        [-0.00000000e+00, -7.07106781e-01,  1.00000000e+00],\n",
       "        [ 0.00000000e+00,  5.00000000e-01, -7.07106781e-01]],\n",
       "\n",
       "       [[ 1.00000000e+00,  7.07106781e-01,  0.00000000e+00],\n",
       "        [ 5.73329860e-16,  4.05405432e-16,  0.00000000e+00],\n",
       "        [ 1.00000000e+00,  7.07106781e-01,  0.00000000e+00]],\n",
       "\n",
       "       [[ 7.07106781e-01, -1.57009246e-16,  7.07106781e-01],\n",
       "        [ 4.05405432e-16, -9.00180890e-32,  4.05405432e-16],\n",
       "        [ 7.07106781e-01, -1.57009246e-16,  7.07106781e-01]],\n",
       "\n",
       "       [[ 0.00000000e+00,  7.07106781e-01, -1.00000000e+00],\n",
       "        [ 0.00000000e+00,  4.05405432e-16, -5.73329860e-16],\n",
       "        [ 0.00000000e+00,  7.07106781e-01, -1.00000000e+00]],\n",
       "\n",
       "       [[-7.07106781e-01, -5.00000000e-01, -0.00000000e+00],\n",
       "        [ 1.00000000e+00,  7.07106781e-01,  0.00000000e+00],\n",
       "        [ 7.07106781e-01,  5.00000000e-01,  0.00000000e+00]],\n",
       "\n",
       "       [[-5.00000000e-01,  1.11022302e-16, -5.00000000e-01],\n",
       "        [ 7.07106781e-01, -1.57009246e-16,  7.07106781e-01],\n",
       "        [ 5.00000000e-01, -1.11022302e-16,  5.00000000e-01]],\n",
       "\n",
       "       [[-0.00000000e+00, -5.00000000e-01,  7.07106781e-01],\n",
       "        [ 0.00000000e+00,  7.07106781e-01, -1.00000000e+00],\n",
       "        [ 0.00000000e+00,  5.00000000e-01, -7.07106781e-01]]])"
      ]
     },
     "execution_count": 234,
     "metadata": {},
     "output_type": "execute_result"
    }
   ],
   "source": [
    "X.grad.data"
   ]
  },
  {
   "cell_type": "code",
   "execution_count": 235,
   "id": "d05b0878",
   "metadata": {},
   "outputs": [],
   "source": [
    "tape.resetgrads()"
   ]
  },
  {
   "cell_type": "code",
   "execution_count": 237,
   "id": "03a9e2f8",
   "metadata": {},
   "outputs": [],
   "source": [
    "with GradientTape() as tape:\n",
    "    eig_val = linalg.eigval(X)"
   ]
  },
  {
   "cell_type": "code",
   "execution_count": 238,
   "id": "a348b705",
   "metadata": {},
   "outputs": [],
   "source": [
    "tape.CalcGradient()"
   ]
  },
  {
   "cell_type": "code",
   "execution_count": 239,
   "id": "8895f7ee",
   "metadata": {},
   "outputs": [
    {
     "data": {
      "text/plain": [
       "array([[[ 2.50000000e-01,  3.53553391e-01, -2.50000000e-01],\n",
       "        [ 3.53553391e-01,  5.00000000e-01, -3.53553391e-01],\n",
       "        [-2.50000000e-01, -3.53553391e-01,  2.50000000e-01]],\n",
       "\n",
       "       [[ 5.00000000e-01,  2.86664930e-16,  5.00000000e-01],\n",
       "        [ 2.86664930e-16,  1.64353564e-31,  2.86664930e-16],\n",
       "        [ 5.00000000e-01,  2.86664930e-16,  5.00000000e-01]],\n",
       "\n",
       "       [[ 2.50000000e-01, -3.53553391e-01, -2.50000000e-01],\n",
       "        [-3.53553391e-01,  5.00000000e-01,  3.53553391e-01],\n",
       "        [-2.50000000e-01,  3.53553391e-01,  2.50000000e-01]]])"
      ]
     },
     "execution_count": 239,
     "metadata": {},
     "output_type": "execute_result"
    }
   ],
   "source": [
    "X.grad.data"
   ]
  },
  {
   "cell_type": "code",
   "execution_count": 12,
   "id": "bfc3a208",
   "metadata": {},
   "outputs": [],
   "source": [
    "import torch"
   ]
  },
  {
   "cell_type": "code",
   "execution_count": 85,
   "id": "ecc5ce09",
   "metadata": {},
   "outputs": [],
   "source": [
    "matrix_torch = torch.autograd.Variable(torch.from_numpy(a.data), requires_grad=True)"
   ]
  },
  {
   "cell_type": "code",
   "execution_count": 86,
   "id": "a6042088",
   "metadata": {},
   "outputs": [],
   "source": [
    "result = torch.linalg.norm(matrix_torch)"
   ]
  },
  {
   "cell_type": "code",
   "execution_count": 87,
   "id": "c05ecafb",
   "metadata": {},
   "outputs": [],
   "source": [
    "result.backward()"
   ]
  },
  {
   "cell_type": "code",
   "execution_count": 88,
   "id": "cc703c65",
   "metadata": {},
   "outputs": [
    {
     "data": {
      "text/plain": [
       "tensor([[0.2328, 0.1552, 0.0776],\n",
       "        [0.4657, 0.3881, 0.3105],\n",
       "        [0.0776, 0.3881, 0.5433]], dtype=torch.float64)"
      ]
     },
     "execution_count": 88,
     "metadata": {},
     "output_type": "execute_result"
    }
   ],
   "source": [
    "matrix_torch.grad.data"
   ]
  },
  {
   "cell_type": "code",
   "execution_count": 89,
   "id": "7c00bb8c",
   "metadata": {},
   "outputs": [
    {
     "data": {
      "text/plain": [
       "array([[0.24881074, 0.16587383, 0.08293691],\n",
       "       [0.49762148, 0.41468457, 0.33174765],\n",
       "       [0.08293691, 0.41468457, 0.58055839]])"
      ]
     },
     "execution_count": 89,
     "metadata": {},
     "output_type": "execute_result"
    }
   ],
   "source": [
    "a.grad.data"
   ]
  },
  {
   "cell_type": "markdown",
   "id": "8140135e",
   "metadata": {},
   "source": [
    "## 테스트 함수"
   ]
  },
  {
   "cell_type": "code",
   "execution_count": 336,
   "id": "d0f4ca59",
   "metadata": {},
   "outputs": [],
   "source": [
    "class TestFunction():\n",
    "    def matyas(self, x, y):\n",
    "        z = 0.26 * (x ** 2 + y ** 2) - 0.48 * x * y\n",
    "        return z\n",
    "\n",
    "    def goldstein(self, x,y):\n",
    "        z = (1 + (x + y + 1) ** 2 * (19 - 14 * x + 3 * x **2 - 14 * y + 6 * x * y + 3 * y ** 2)) * \\\n",
    "        (30 + (2 * x - 3 * y)**2 * (18 - 32*x + 12*x**2 + 48*y - 36*x*y + 27*y**2))\n",
    "        return z\n",
    "    \n",
    "class OrderFunction():\n",
    "    def high_order_function(self, x, y):\n",
    "        z = x ** 4 + y ** 3 + x ** 2 + y ** (1/2)\n",
    "        return z\n",
    "    def matrix_order_function(self, x):\n",
    "        y = 2 * x ** 3\n",
    "        return y\n",
    "    \n",
    "class JacobianFunction():\n",
    "    def matmul(self, x, y, k):\n",
    "        with GradientTape() as tape:\n",
    "            result = ef.matmul(x,sf.transpose(y))\n",
    "            result_2 = ef.matmul(result, k)\n",
    "        return tape\n",
    "    \n",
    "    def reduce_sum(self, x, y, k):\n",
    "        with GradientTape() as tape:\n",
    "            result = ef.matmul(x,sf.transpose(y))\n",
    "            result_2 = ef.matmul(result, k)\n",
    "            result_3 = ef.flowsum(result_2)\n",
    "        return tape\n",
    "    \n",
    "    def div(self, x, y, k):\n",
    "        with GradientTape() as tape:\n",
    "            result = ef.matmul(x,sf.transpose(y))\n",
    "            result_2 = ef.matmul(result, k)\n",
    "            result_3 = result_2 / result\n",
    "        return tape\n",
    "    \n",
    "    def sum(self, x, y, k):\n",
    "        with GradientTape() as tape:\n",
    "            result = ef.matmul(x,sf.transpose(y))\n",
    "            result_2 = ef.matmul(result, k)\n",
    "            result_3 = result_2 + result\n",
    "        return tape\n",
    "    \n",
    "    def mul(self, x, y, k):\n",
    "        with GradientTape() as tape:\n",
    "            result = ef.matmul(x,sf.transpose(y))\n",
    "            result_2 = ef.matmul(result, k)\n",
    "            result_3 = result_2 * result\n",
    "        return tape\n",
    "\n",
    "class GradientStartFunction():\n",
    "    def gradient_start_middle(self, x, y, k):\n",
    "        x = Variable(np.array([[1.,2.],[4.,5.]]))\n",
    "        v = Variable(np.array([[4.,5.],[6.,7.]]))\n",
    "        k = Variable(np.array([[1.,3.],[4.,6.]]))\n",
    "        \n",
    "        with GradientTape() as tape:\n",
    "            result = ef.matmul(x,sf.transpose(v))\n",
    "            result_2 = ef.matmul(result, k)\n",
    "            result_3 = result_2 / x\n",
    "        \n",
    "        tape.CalcGradient(target = result_2)\n",
    "        return x.grad.data, v.grad.data, k.grad.data\n",
    "    \n",
    "    def gradient_stop_test(self, x, y, k):\n",
    "        x = Variable(np.array([[1.,2.],[4.,5.]]))\n",
    "        v = Variable(np.array([[4.,5.],[6.,7.]]))\n",
    "        k = Variable(np.array([[1.,3.],[4.,6.]]))\n",
    "        \n",
    "        with GradientTape() as tape_1, GradientTape() as tape_2:\n",
    "            result = ef.matmul(x,sf.transpose(v))\n",
    "            result_2 = ef.matmul(ef.stop_gradient(result), k)\n",
    "            result_2 = result_2 ** 2\n",
    "            result_3 = result_2 * x\n",
    "        tape_2.CalcGradient()\n",
    "        return x.grad.data, k.grad.data\n",
    "    \n",
    "class LinalgFunction():\n",
    "    def linalg_concat_test(self):\n",
    "        x = Variable(np.array([[[3.0,2.0,1.0]],[[6.,5.,4.]]]))\n",
    "        y = Variable(np.array([[[1.0,2.0,3.0]],[[4.,5.,6.]]]))\n",
    "        k = Variable(np.array([[[1.0,2.0,5.0]],[[7.,8.,9.]]]))\n",
    "\n",
    "        with GradientTape() as tape:\n",
    "            d = x * y\n",
    "            concats = flowconcat([k,d])\n",
    "            result = concats * concats\n",
    "\n",
    "        tape.CalcGradient()\n",
    "\n",
    "        return concats.grad.data, k.grad.data, d.grad.data, x.grad.data, y.grad.data\n",
    "    \n",
    "    def linalg_stack_test(self):\n",
    "        x = Variable(np.array([[[3.0,2.0,1.0]],[[6.,5.,4.]]]))\n",
    "        y = Variable(np.array([[[1.0,2.0,3.0]],[[4.,5.,6.]]]))\n",
    "        k = Variable(np.array([[[1.0,2.0,5.0]],[[7.,8.,9.]]]))\n",
    "       \n",
    "        with GradientTape() as tape:\n",
    "            d = x * y\n",
    "            concats = flowstack([k,d])\n",
    "            result = concats * concats\n",
    "\n",
    "        tape.CalcGradient()\n",
    "        \n",
    "        return concats.grad.data, k.grad.data, d.grad.data, x.grad.data, y.grad.data"
   ]
  },
  {
   "cell_type": "code",
   "execution_count": 342,
   "id": "d8b3cfcd",
   "metadata": {},
   "outputs": [],
   "source": [
    "class UnitTest():\n",
    "    def __init__(self):\n",
    "        self.dataset_path = tf.keras.utils.get_file(\n",
    "            \"auto-mpg.data\", \"http://archive.ics.uci.edu/ml/machine-learning-databases/auto-mpg/auto-mpg.data\")\n",
    "        self.jacobian_preset = JacobianFunction()\n",
    "        self.function_preset = TestFunction()\n",
    "        self.order_preset = OrderFunction()\n",
    "        self.start_preset = GradientStartFunction()\n",
    "        self.answer_preset = TestAnswer()\n",
    "        self.linalg_preset = LinalgFunction()\n",
    "        \n",
    "    def data_preprocessing(self):\n",
    "        def norm(x):\n",
    "            return (x - train_stats['mean']) / train_stats['std']\n",
    "        column_names = ['MPG','Cylinders','Displacement','Horsepower','Weight',\n",
    "                        'Acceleration', 'Model Year', 'Origin']\n",
    "        raw_dataset = pd.read_csv(self.dataset_path, names=column_names,\n",
    "                              na_values = \"?\", comment='\\t',\n",
    "                              sep=\" \", skipinitialspace=True)\n",
    "\n",
    "        dataset = raw_dataset.copy()\n",
    "        dataset = dataset.dropna()\n",
    "        origin = dataset.pop('Origin')\n",
    "        \n",
    "        dataset['USA'] = (origin == 1)*1.0\n",
    "        dataset['Europe'] = (origin == 2)*1.0\n",
    "        dataset['Japan'] = (origin == 3)*1.0\n",
    "        \n",
    "        train_dataset = dataset.sample(frac=0.8,random_state=0)\n",
    "        test_dataset = dataset.drop(train_dataset.index)\n",
    "        \n",
    "        train_stats = train_dataset.describe()\n",
    "        train_stats.pop(\"MPG\")\n",
    "        train_stats = train_stats.transpose()\n",
    "        \n",
    "        normed_train_data = norm(train_dataset)\n",
    "        normed_test_data = norm(test_dataset)\n",
    "        train_labels = train_dataset.pop('MPG')\n",
    "        \n",
    "        X = Variable(np.array(normed_train_data.drop('MPG',axis = 1)))\n",
    "        y = (np.array(train_labels) - np.mean(np.array(train_dataset))) / np.std(np.array(train_dataset))\n",
    "        y = Variable(np.array(y).reshape([-1,1]))\n",
    "        \n",
    "        return X,y\n",
    "    \n",
    "    def answer_correction(self, function, answer, pred, tor):\n",
    "        answer = [np.abs(i.reshape(j.shape)) for i,j in zip(answer, pred)]\n",
    "        pred = [np.abs(x) for x in pred]\n",
    "        loss = [np.abs(i - j) for i,j in zip(answer, pred)]\n",
    "        loss = np.array([i.sum() for i in loss])\n",
    "        if np.all(loss < tor):\n",
    "            print(function, ' : ok')\n",
    "        else :\n",
    "            print(function, ' : Failed')\n",
    "            print('answer :', answer)\n",
    "            print('pred :', pred)\n",
    "            print('error :', loss)\n",
    "\n",
    "    def preset_test(self, tor = 0.01, function = None, x = None, y = None):\n",
    "        try: \n",
    "            if x is None:\n",
    "                x = Variable(np.array(1.0))\n",
    "            if y is None:\n",
    "                y = Variable(np.array(1.0))\n",
    "            function_list = [i for i in self.function_preset.__dir__() if not i.startswith('_')]\n",
    "            for function in function_list:\n",
    "                current_function = self.function_preset.__getattribute__(function)\n",
    "                with GradientTape() as tape:\n",
    "                    z = current_function(x, y)\n",
    "                tape.CalcGradient()\n",
    "                pred = (x.grad.data, y.grad.data)\n",
    "                answer = self.answer_preset.__getattribute__(function)()\n",
    "                self.answer_correction(function, answer, pred, tor)\n",
    "                tape.resetgrads()\n",
    "        except Exception as e:\n",
    "            print(f'matrix_order_test_{order} is failed :', e)\n",
    "            \n",
    "    def high_order_test(self, orders = 2):\n",
    "        try:        \n",
    "            x = Variable(np.array(2.0))\n",
    "            y = Variable(np.array(2.0))\n",
    "            order_function = self.order_preset.high_order_function\n",
    "            tape_dict = dict()\n",
    "            with GradientTape() as tape:\n",
    "                f = order_function(x, y)\n",
    "            tape_dict[0] = tape\n",
    "            for order in range(orders):\n",
    "                with GradientTape() as tape_1:\n",
    "                    tape_dict[order].CalcGradient()\n",
    "                tape_dict[order + 1] = tape_1\n",
    "                pred = (x.grad.data, y.grad.data)\n",
    "                tape_dict[order].resetgrads()\n",
    "                answer = self.answer_preset.high_order_function(order)\n",
    "                self.answer_correction(f'high_order_test_{order}', answer, pred, 0.01)\n",
    "                tape.resetgrads()\n",
    "        except Exception as e:\n",
    "            print(f'matrix_order_test_{order} is failed :', e)\n",
    "            \n",
    "    def matrix_test(self, orders = 3):\n",
    "        try:\n",
    "            X = Variable(np.array([[1.,2.],[4.,5.]]))\n",
    "            matrix_function = self.order_preset.matrix_order_function\n",
    "            tape_dict = dict()\n",
    "            with GradientTape() as tape:\n",
    "                result = matrix_function(X)\n",
    "            tape_dict[0] = tape\n",
    "            for order in range(orders):    \n",
    "                with GradientTape() as tape_1:\n",
    "                    tape_dict[order].CalcGradient()\n",
    "                tape_dict[order + 1] = tape_1\n",
    "                pred = X.grad.data\n",
    "                tape_dict[order].resetgrads()\n",
    "                answer = self.answer_preset.matrix_order_function(order)\n",
    "                self.answer_correction(f'matrix_order_test_{order}',\n",
    "                                      answer,\n",
    "                                      pred,\n",
    "                                      0.01)\n",
    "        except Exception as e:\n",
    "            print(f'matrix_order_test_{order} is failed :', e)\n",
    "            \n",
    "    def jacobian_test(self, tor = 0.01, x = None, v = None, k = None, target = None):\n",
    "        try :\n",
    "            if x is None:\n",
    "                x = Variable(np.array([[1.,2.],[4.,5.]]))\n",
    "            if v is None:\n",
    "                v = Variable(np.array([[4.,5.],[6.,7.]]))\n",
    "            if k is None:\n",
    "                k = Variable(np.array([[1.,3.],[4.,6.]]))\n",
    "            jacobian_function = self.jacobian_preset\n",
    "            function_list = [i for i in jacobian_function.__dir__() if not i.startswith('_')]\n",
    "            for function in function_list:\n",
    "                current_function = jacobian_function.__getattribute__(function)\n",
    "                tape = current_function(x,v,k)\n",
    "                if target is not None:\n",
    "                    pred = (tape.jacobian(target = target, var = x, var_return = 'numpy'),\n",
    "                     tape.jacobian(target = target, var = v, var_return = 'numpy'),\n",
    "                     tape.jacobian(target = target, var = k, var_return = 'numpy'))\n",
    "                else :\n",
    "                    pred = (tape.jacobian(var = x, var_return = 'numpy'),\n",
    "                     tape.jacobian(var = v, var_return = 'numpy'),\n",
    "                     tape.jacobian(var = k, var_return = 'numpy'))\n",
    "                answer = self.answer_preset.__getattribute__(function)()\n",
    "                self.answer_correction(function, answer, pred, tor)\n",
    "                tape.resetgrads()\n",
    "        except Exception as e:\n",
    "            print(f'matrix_order_test_{order} is failed :', e) \n",
    "\n",
    "    def gradient_start_index_test(self, tor = 0.01, x = None, v = None, k = None):\n",
    "        try :\n",
    "            if x is None:\n",
    "                x = Variable(np.array([[1.,2.],[4.,5.]]))\n",
    "            if v is None:\n",
    "                v = Variable(np.array([[4.,5.],[6.,7.]]))\n",
    "            if k is None:\n",
    "                k = Variable(np.array([[1.,3.],[4.,6.]]))\n",
    "            start_index_function = self.start_preset\n",
    "            function_list = [i for i in start_index_function.__dir__() if not i.startswith('_')]\n",
    "            for function in function_list:\n",
    "                current_function = start_index_function.__getattribute__(function)\n",
    "                pred = current_function(x, v, k)\n",
    "                answer = self.answer_preset.__getattribute__(function)()\n",
    "                self.answer_correction(function, answer, pred, tor)\n",
    "        except Exception as e:\n",
    "            print(f'{function} is failed :', e) \n",
    "            \n",
    "    def linalg_test(self, tor = 0.01):\n",
    "        try:\n",
    "            linalg_function = self.linalg_preset\n",
    "            function_list = [i for i in linalg_function.__dir__() if not i.startswith('_')]\n",
    "            for function in function_list:\n",
    "                current_function = linalg_function.__getattribute__(function)\n",
    "                preds = current_function()\n",
    "                answers = self.answer_preset.__getattribute__(function)()\n",
    "                self.answer_correction(function, answers, preds, tor)\n",
    "        except Exception as e:\n",
    "            print(f'{function} is failed :', e) \n",
    "            \n",
    "    def modeling_test(self, tor = 1e-7, end_iter = 4):\n",
    "        try:\n",
    "            X,y = self.data_preprocessing()\n",
    "\n",
    "            lr = 0.1\n",
    "            loss_flow = []\n",
    "            loss_iter = 0\n",
    "\n",
    "            start_time = time.time()\n",
    "            model = Models(100, 1)\n",
    "            optimizers = optimizer.Adam()\n",
    "            optimizers.setup(model)\n",
    "            for i in range(10000):\n",
    "                with GradientTape() as tape:\n",
    "                    y_pred = model(X)\n",
    "\n",
    "                    loss = f.loss.mean_squared_error(y, y_pred)\n",
    "\n",
    "                tape.CalcGradient()\n",
    "\n",
    "                optimizers.update()\n",
    "\n",
    "                if i % 1000 == 0:\n",
    "                    loss_flow.append(loss.data)\n",
    "                    if (loss_iter > end_iter):\n",
    "                        if (abs(loss_flow[loss_iter - 1]) - (\n",
    "                            abs(loss_flow[loss_iter]))) < tor:\n",
    "                            print('loss_value :' , [float(i) for i in loss_flow])\n",
    "                            print('model is under local minima, Attempt to retry..')\n",
    "                            self.modeling_test()\n",
    "                            break\n",
    "                        else :\n",
    "                            print('loss_value :' , [float(i) for i in loss_flow])\n",
    "                            print('model training test : ok')\n",
    "                            break\n",
    "                    loss_iter += 1\n",
    "        except Exception as e:\n",
    "            print(f'model_training test is failed : {e}')\n",
    "    def start_testing(self):\n",
    "        self.high_order_test()\n",
    "        self.matrix_test()\n",
    "        self.jacobian_test()\n",
    "        self.gradient_start_index_test()\n",
    "        self.modeling_test()\n",
    "        self.linalg_test()"
   ]
  },
  {
   "cell_type": "code",
   "execution_count": 343,
   "id": "b3a29e69",
   "metadata": {},
   "outputs": [],
   "source": [
    "class TestAnswer():\n",
    "    \n",
    "    def matyas(self, x = None, y = None):\n",
    "        if (x is None) | (y is None):\n",
    "            return (0.040000000000000036, 0.040000000000000036)\n",
    "        else :\n",
    "            return\n",
    "\n",
    "    def goldstein(self, x = None, y = None):\n",
    "        if (x is None) | (y is None):\n",
    "            return (-5376.0, 8064.0)\n",
    "        else :\n",
    "            return\n",
    "        \n",
    "    def high_order_function(self, order, x = None, y = None):        \n",
    "        if order == 0:\n",
    "            if (x is None) | (y is None):\n",
    "                return 36., 12.3535\n",
    "            else :\n",
    "                return\n",
    "            \n",
    "        if order == 1:\n",
    "            if (x is None) | (y is None):\n",
    "                return 50, 11.911\n",
    "            else :\n",
    "                return\n",
    "    \n",
    "        else :\n",
    "            return\n",
    "    \n",
    "    def matrix_order_function(self, order, x = None, y = None):\n",
    "        if order == 0:\n",
    "            if (x is None) | (y is None):\n",
    "                return np.array([[  6.,  24.], [ 96., 150.]])\n",
    "            else :\n",
    "                return\n",
    "            \n",
    "        if order == 1:\n",
    "            if (x is None) | (y is None):\n",
    "                return np.array([[12., 24.], [48., 60.]])\n",
    "            else :\n",
    "                return\n",
    "    \n",
    "        if order == 2:\n",
    "            if (x is None) | (y is None):\n",
    "                return np.array([[12., 12.], [12., 12.]])\n",
    "            else :\n",
    "                return\n",
    "            \n",
    "    def matmul(self, x = None, y = None, k = None):\n",
    "        answer = []\n",
    "        if x is None:\n",
    "            x = tf.Variable(np.array([[1.,2.],[4.,5.]]))\n",
    "            y = tf.Variable(np.array([[4.,5.],[6.,7.]]))\n",
    "            k = tf.Variable(np.array([[1.,3.],[4.,6.]]))\n",
    "            for i in ['x','y','k']:\n",
    "                with tf.GradientTape() as tape:\n",
    "                    result = tf.matmul(x,tf.transpose(y))\n",
    "                    result_2 = tf.matmul(result, k)\n",
    "\n",
    "                answer.append(tape.jacobian(result_2, eval(i)).numpy())\n",
    "            return tuple(answer)\n",
    "        \n",
    "    def reduce_sum(self, x = None, y = None, k = None):\n",
    "        if x is None:\n",
    "            x = tf.Variable(np.array([[1.,2.],[4.,5.]]))\n",
    "            y = tf.Variable(np.array([[4.,5.],[6.,7.]]))\n",
    "            k = tf.Variable(np.array([[1.,3.],[4.,6.]]))\n",
    "            answer = []\n",
    "            for i in ['x','y','k']:        \n",
    "                with tf.GradientTape() as tape:\n",
    "                    result = tf.matmul(x,tf.transpose(y))\n",
    "                    result_2 = tf.matmul(result, k)\n",
    "                    result_3 = tf.math.reduce_sum(result_2)\n",
    "\n",
    "                answer.append(tape.jacobian(result_3, eval(i)).numpy())\n",
    "            \n",
    "            return tuple(answer)\n",
    "        \n",
    "    def div(self, x = None, y = None, k = None):\n",
    "        if x is None:\n",
    "            x = tf.Variable(np.array([[1.,2.],[4.,5.]]))\n",
    "            y = tf.Variable(np.array([[4.,5.],[6.,7.]]))\n",
    "            k = tf.Variable(np.array([[1.,3.],[4.,6.]]))\n",
    "            answer = []\n",
    "            for i in ['x','y','k']: \n",
    "                with tf.GradientTape() as tape:\n",
    "                    result = tf.matmul(x,tf.transpose(y))\n",
    "                    result_2 = tf.matmul(result, k)\n",
    "                    result_3 = result_2 / result\n",
    "\n",
    "                answer.append(tape.jacobian(result_3, eval(i)).numpy())\n",
    "\n",
    "            return tuple(answer)\n",
    "    \n",
    "    def sum(self, x = None, y = None, k = None):\n",
    "        if x is None:\n",
    "            x = tf.Variable(np.array([[1.,2.],[4.,5.]]))\n",
    "            y = tf.Variable(np.array([[4.,5.],[6.,7.]]))\n",
    "            k = tf.Variable(np.array([[1.,3.],[4.,6.]]))\n",
    "            answer = []\n",
    "            for i in ['x','y','k']:             \n",
    "                with tf.GradientTape() as tape:\n",
    "                    result = tf.matmul(x,tf.transpose(y))\n",
    "                    result_2 = tf.matmul(result, k)\n",
    "                    result_3 = result_2 + result\n",
    "\n",
    "                answer.append(tape.jacobian(result_3, eval(i)).numpy())\n",
    "            \n",
    "            return tuple(answer)\n",
    "        \n",
    "    def mul(self, x = None, y = None, k = None):\n",
    "        if x is None:\n",
    "            x = tf.Variable(np.array([[1.,2.],[4.,5.]]))\n",
    "            y = tf.Variable(np.array([[4.,5.],[6.,7.]]))\n",
    "            k = tf.Variable(np.array([[1.,3.],[4.,6.]]))\n",
    "            answer = []\n",
    "            for i in ['x','y','k']:             \n",
    "                with tf.GradientTape() as tape:\n",
    "                    result = tf.matmul(x,tf.transpose(y))\n",
    "                    result_2 = tf.matmul(result, k)\n",
    "                    result_3 = result_2 * result\n",
    "\n",
    "                answer.append(tape.jacobian(result_3, eval(i)).numpy())\n",
    "            \n",
    "            return tuple(answer)\n",
    "        \n",
    "    def start_middle(self, x = None, y = None, k = None):\n",
    "        x = tf.Variable(np.array([[1.,2.],[4.,5.]]))\n",
    "        v = tf.Variable(np.array([[4.,5.],[6.,7.]]))\n",
    "        k = tf.Variable(np.array([[1.,3.],[4.,6.]]))\n",
    "        \n",
    "        with tf.GradientTape() as tape:\n",
    "            result = tf.matmul(x,tf.transpose(v))\n",
    "            result_2 = tf.matmul(result, k)\n",
    "            result_3 = result_2 / x\n",
    "            \n",
    "        answer = tape.gradient(result_2, [x, v])\n",
    "        \n",
    "        return answer\n",
    "    \n",
    "    def gradient_start_middle(self, x = None, y = None, k = None):\n",
    "        x = tf.Variable(np.array([[1.,2.],[4.,5.]]))\n",
    "        v = tf.Variable(np.array([[4.,5.],[6.,7.]]))\n",
    "        k = tf.Variable(np.array([[1.,3.],[4.,6.]]))\n",
    "        \n",
    "        with tf.GradientTape() as tape:\n",
    "            result = tf.matmul(x,tf.transpose(v))\n",
    "            result_2 = tf.matmul(result, k)\n",
    "            result_3 = result_2 / x\n",
    "            \n",
    "        answer = tape.gradient(result_2, [x, v, k])\n",
    "        answer = [i.numpy() for i in answer]\n",
    "        \n",
    "        return answer\n",
    "    \n",
    "    def gradient_stop_test(self, x = None, y = None, k = None):\n",
    "        x = tf.Variable(np.array([[1.,2.],[4.,5.]]))\n",
    "        v = tf.Variable(np.array([[4.,5.],[6.,7.]]))\n",
    "        k = tf.Variable(np.array([[1.,3.],[4.,6.]]))\n",
    "        \n",
    "        with tf.GradientTape() as tape:\n",
    "            result = tf.matmul(x,tf.transpose(v))\n",
    "            result_2 = tf.matmul(tf.stop_gradient(result), k)\n",
    "            result_2 = result_2 ** 2\n",
    "            result_3 = result_2 * x\n",
    "            \n",
    "        answer = tape.gradient(result_3, [x, k])\n",
    "        answer = [i.numpy() for i in answer]\n",
    "        \n",
    "        return answer\n",
    "    \n",
    "    def linalg_concat_test(self):\n",
    "        a = np.array([[[ 2.,  4., 10.]],\n",
    "                      [[14., 16., 18.]],\n",
    "                      [[ 6.,  8.,  6.]],\n",
    "                      [[48., 50., 48.]]])\n",
    "\n",
    "        b = np.array([[[ 2.,  4., 10.]],\n",
    "                      [[14., 16., 18.]]])\n",
    "\n",
    "        c = np.array([[[ 6.,  8.,  6.]],\n",
    "                      [[48., 50., 48.]]])\n",
    "\n",
    "        d = np.array([[[  6.,  16.,  18.]],\n",
    "                      [[192., 250., 288.]]])\n",
    "\n",
    "        e = np.array([[[ 18.,  16.,   6.]],\n",
    "                      [[288., 250., 192.]]])\n",
    "\n",
    "        return a,b,c,d,e\n",
    "        \n",
    "    def linalg_stack_test(self):\n",
    "        a = np.array([[[[ 2.,  4., 10.]],\n",
    "                       [[14., 16., 18.]]],\n",
    "                      [[[ 6.,  8.,  6.]],\n",
    "                       [[48., 50., 48.]]]])\n",
    "\n",
    "        b = np.array([[[ 2.,  4., 10.]],\n",
    "                      [[14., 16., 18.]]])\n",
    "\n",
    "        c = np.array([[[ 6.,  8.,  6.]],\n",
    "                      [[48., 50., 48.]]])\n",
    "\n",
    "        d = np.array([[[  6.,  16.,  18.]],\n",
    "                      [[192., 250., 288.]]])\n",
    "\n",
    "        e = np.array([[[ 18.,  16.,   6.]],\n",
    "                      [[288., 250., 192.]]])\n",
    "            \n",
    "        return a,b,c,d,e"
   ]
  },
  {
   "cell_type": "code",
   "execution_count": 344,
   "id": "882e7330",
   "metadata": {},
   "outputs": [],
   "source": [
    "class Models(Model):\n",
    "    def __init__(self, hidden_size, out_size):\n",
    "        super().__init__()\n",
    "        self.l1 = layer.Linear(hidden_size, initializer_func='he_uniform')\n",
    "        self.l2 = layer.Linear(hidden_size, initializer_func='he_uniform')\n",
    "        self.l3 = layer.Linear(out_size, initializer_func='he_uniform')\n",
    "        \n",
    "    def forward(self, x):\n",
    "        y = self.l1(x)\n",
    "        y = f.activation.relu(y)\n",
    "        y = self.l2(y)\n",
    "        y = f.activation.relu(y)\n",
    "        y = self.l3(y)\n",
    "        return y"
   ]
  },
  {
   "cell_type": "code",
   "execution_count": 345,
   "id": "a8f8ad27",
   "metadata": {},
   "outputs": [],
   "source": [
    "test = UnitTest()"
   ]
  },
  {
   "cell_type": "code",
   "execution_count": 346,
   "id": "a66553c1",
   "metadata": {},
   "outputs": [
    {
     "name": "stdout",
     "output_type": "stream",
     "text": [
      "linalg_concat_test  : ok\n",
      "linalg_stack_test  : ok\n"
     ]
    }
   ],
   "source": [
    "test.linalg_test()"
   ]
  },
  {
   "cell_type": "code",
   "execution_count": 255,
   "id": "f2abdc17",
   "metadata": {},
   "outputs": [
    {
     "ename": "AttributeError",
     "evalue": "'UnitTest' object has no attribute 'test'",
     "output_type": "error",
     "traceback": [
      "\u001b[1;31m---------------------------------------------------------------------------\u001b[0m",
      "\u001b[1;31mAttributeError\u001b[0m                            Traceback (most recent call last)",
      "\u001b[1;32m~\\AppData\\Local\\Temp/ipykernel_9736/1614704887.py\u001b[0m in \u001b[0;36m<module>\u001b[1;34m\u001b[0m\n\u001b[1;32m----> 1\u001b[1;33m \u001b[1;33m[\u001b[0m\u001b[0mi\u001b[0m\u001b[1;33m.\u001b[0m\u001b[0msum\u001b[0m\u001b[1;33m(\u001b[0m\u001b[1;33m)\u001b[0m \u001b[1;32mfor\u001b[0m \u001b[0mi\u001b[0m \u001b[1;32min\u001b[0m \u001b[0mtest\u001b[0m\u001b[1;33m.\u001b[0m\u001b[0mtest\u001b[0m\u001b[1;33m.\u001b[0m\u001b[0mtolist\u001b[0m\u001b[1;33m(\u001b[0m\u001b[1;33m)\u001b[0m\u001b[1;33m]\u001b[0m\u001b[1;33m\u001b[0m\u001b[1;33m\u001b[0m\u001b[0m\n\u001b[0m",
      "\u001b[1;31mAttributeError\u001b[0m: 'UnitTest' object has no attribute 'test'"
     ]
    }
   ],
   "source": [
    "[i.sum() for i in test.test.tolist()]"
   ]
  },
  {
   "cell_type": "code",
   "execution_count": 18,
   "id": "bc4dc137",
   "metadata": {},
   "outputs": [
    {
     "name": "stdout",
     "output_type": "stream",
     "text": [
      "high_order_test_0  : ok\n",
      "high_order_test_1  : ok\n",
      "matrix_order_test_0  : ok\n",
      "matrix_order_test_1  : ok\n",
      "matrix_order_test_2  : ok\n"
     ]
    },
    {
     "ename": "NameError",
     "evalue": "name 'order' is not defined",
     "output_type": "error",
     "traceback": [
      "\u001b[1;31m---------------------------------------------------------------------------\u001b[0m",
      "\u001b[1;31mAttributeError\u001b[0m                            Traceback (most recent call last)",
      "\u001b[1;32m~\\AppData\\Local\\Temp/ipykernel_9736/4016385530.py\u001b[0m in \u001b[0;36mjacobian_test\u001b[1;34m(self, tor, x, v, k, target)\u001b[0m\n\u001b[0;32m    130\u001b[0m                 \u001b[0mcurrent_function\u001b[0m \u001b[1;33m=\u001b[0m \u001b[0mjacobian_function\u001b[0m\u001b[1;33m.\u001b[0m\u001b[0m__getattribute__\u001b[0m\u001b[1;33m(\u001b[0m\u001b[0mfunction\u001b[0m\u001b[1;33m)\u001b[0m\u001b[1;33m\u001b[0m\u001b[1;33m\u001b[0m\u001b[0m\n\u001b[1;32m--> 131\u001b[1;33m                 \u001b[0mtape\u001b[0m \u001b[1;33m=\u001b[0m \u001b[0mcurrent_function\u001b[0m\u001b[1;33m(\u001b[0m\u001b[0mx\u001b[0m\u001b[1;33m,\u001b[0m\u001b[0mv\u001b[0m\u001b[1;33m,\u001b[0m\u001b[0mk\u001b[0m\u001b[1;33m)\u001b[0m\u001b[1;33m\u001b[0m\u001b[1;33m\u001b[0m\u001b[0m\n\u001b[0m\u001b[0;32m    132\u001b[0m                 \u001b[1;32mif\u001b[0m \u001b[0mtarget\u001b[0m \u001b[1;32mis\u001b[0m \u001b[1;32mnot\u001b[0m \u001b[1;32mNone\u001b[0m\u001b[1;33m:\u001b[0m\u001b[1;33m\u001b[0m\u001b[1;33m\u001b[0m\u001b[0m\n",
      "\u001b[1;32m~\\AppData\\Local\\Temp/ipykernel_9736/241291164.py\u001b[0m in \u001b[0;36mmatmul\u001b[1;34m(self, x, y, k)\u001b[0m\n\u001b[0;32m     21\u001b[0m         \u001b[1;32mwith\u001b[0m \u001b[0mGradientTape\u001b[0m\u001b[1;33m(\u001b[0m\u001b[1;33m)\u001b[0m \u001b[1;32mas\u001b[0m \u001b[0mtape\u001b[0m\u001b[1;33m:\u001b[0m\u001b[1;33m\u001b[0m\u001b[1;33m\u001b[0m\u001b[0m\n\u001b[1;32m---> 22\u001b[1;33m             \u001b[0mresult\u001b[0m \u001b[1;33m=\u001b[0m \u001b[0mef\u001b[0m\u001b[1;33m.\u001b[0m\u001b[0mmatmul\u001b[0m\u001b[1;33m(\u001b[0m\u001b[0mx\u001b[0m\u001b[1;33m,\u001b[0m\u001b[0msf\u001b[0m\u001b[1;33m.\u001b[0m\u001b[0mtranspose\u001b[0m\u001b[1;33m(\u001b[0m\u001b[0my\u001b[0m\u001b[1;33m)\u001b[0m\u001b[1;33m)\u001b[0m\u001b[1;33m\u001b[0m\u001b[1;33m\u001b[0m\u001b[0m\n\u001b[0m\u001b[0;32m     23\u001b[0m             \u001b[0mresult_2\u001b[0m \u001b[1;33m=\u001b[0m \u001b[0mef\u001b[0m\u001b[1;33m.\u001b[0m\u001b[0mmatmul\u001b[0m\u001b[1;33m(\u001b[0m\u001b[0mresult\u001b[0m\u001b[1;33m,\u001b[0m \u001b[0mk\u001b[0m\u001b[1;33m)\u001b[0m\u001b[1;33m\u001b[0m\u001b[1;33m\u001b[0m\u001b[0m\n",
      "\u001b[1;32m~\\anaconda3\\envs\\nariflow\\lib\\site-packages\\nariflow\\core\\elementary_function.py\u001b[0m in \u001b[0;36mmatmul\u001b[1;34m(x, w)\u001b[0m\n\u001b[0;32m    191\u001b[0m \u001b[1;32mdef\u001b[0m \u001b[0mmatmul\u001b[0m\u001b[1;33m(\u001b[0m\u001b[0mx\u001b[0m\u001b[1;33m,\u001b[0m \u001b[0mw\u001b[0m\u001b[1;33m)\u001b[0m\u001b[1;33m:\u001b[0m\u001b[1;33m\u001b[0m\u001b[1;33m\u001b[0m\u001b[0m\n\u001b[1;32m--> 192\u001b[1;33m     \u001b[1;32mreturn\u001b[0m \u001b[0mMatMul\u001b[0m\u001b[1;33m(\u001b[0m\u001b[1;33m)\u001b[0m\u001b[1;33m(\u001b[0m\u001b[0mx\u001b[0m\u001b[1;33m,\u001b[0m \u001b[0mw\u001b[0m\u001b[1;33m)\u001b[0m\u001b[1;33m\u001b[0m\u001b[1;33m\u001b[0m\u001b[0m\n\u001b[0m\u001b[0;32m    193\u001b[0m \u001b[1;33m\u001b[0m\u001b[0m\n",
      "\u001b[1;32m~\\anaconda3\\envs\\nariflow\\lib\\site-packages\\nariflow\\core\\core_tape.py\u001b[0m in \u001b[0;36m__call__\u001b[1;34m(self, *inputs)\u001b[0m\n\u001b[0;32m     38\u001b[0m         \u001b[0mx_list\u001b[0m \u001b[1;33m=\u001b[0m \u001b[1;33m[\u001b[0m\u001b[0mi\u001b[0m\u001b[1;33m.\u001b[0m\u001b[0mdata\u001b[0m \u001b[1;32mfor\u001b[0m \u001b[0mi\u001b[0m \u001b[1;32min\u001b[0m \u001b[0minputs\u001b[0m\u001b[1;33m]\u001b[0m\u001b[1;33m\u001b[0m\u001b[1;33m\u001b[0m\u001b[0m\n\u001b[1;32m---> 39\u001b[1;33m         \u001b[0my_list\u001b[0m \u001b[1;33m=\u001b[0m \u001b[0mself\u001b[0m\u001b[1;33m.\u001b[0m\u001b[0mforward\u001b[0m\u001b[1;33m(\u001b[0m\u001b[1;33m*\u001b[0m\u001b[0mx_list\u001b[0m\u001b[1;33m)\u001b[0m\u001b[1;33m\u001b[0m\u001b[1;33m\u001b[0m\u001b[0m\n\u001b[0m\u001b[0;32m     40\u001b[0m         \u001b[1;32mif\u001b[0m \u001b[1;32mnot\u001b[0m \u001b[0misinstance\u001b[0m\u001b[1;33m(\u001b[0m\u001b[0my_list\u001b[0m\u001b[1;33m,\u001b[0m \u001b[0mtuple\u001b[0m\u001b[1;33m)\u001b[0m\u001b[1;33m:\u001b[0m\u001b[1;33m\u001b[0m\u001b[1;33m\u001b[0m\u001b[0m\n",
      "\u001b[1;32m~\\anaconda3\\envs\\nariflow\\lib\\site-packages\\nariflow\\core\\elementary_function.py\u001b[0m in \u001b[0;36mforward\u001b[1;34m(self, x, w)\u001b[0m\n\u001b[0;32m    177\u001b[0m     \u001b[1;32mdef\u001b[0m \u001b[0mforward\u001b[0m\u001b[1;33m(\u001b[0m\u001b[0mself\u001b[0m\u001b[1;33m,\u001b[0m \u001b[0mx\u001b[0m\u001b[1;33m,\u001b[0m \u001b[0mw\u001b[0m\u001b[1;33m)\u001b[0m\u001b[1;33m:\u001b[0m\u001b[1;33m\u001b[0m\u001b[1;33m\u001b[0m\u001b[0m\n\u001b[1;32m--> 178\u001b[1;33m         \u001b[0my\u001b[0m \u001b[1;33m=\u001b[0m \u001b[0mx\u001b[0m\u001b[1;33m.\u001b[0m\u001b[0mdot\u001b[0m\u001b[1;33m(\u001b[0m\u001b[0mw\u001b[0m\u001b[1;33m)\u001b[0m\u001b[1;33m\u001b[0m\u001b[1;33m\u001b[0m\u001b[0m\n\u001b[0m\u001b[0;32m    179\u001b[0m         \u001b[1;32mreturn\u001b[0m \u001b[0my\u001b[0m\u001b[1;33m\u001b[0m\u001b[1;33m\u001b[0m\u001b[0m\n",
      "\u001b[1;31mAttributeError\u001b[0m: 'Variable' object has no attribute 'dot'",
      "\nDuring handling of the above exception, another exception occurred:\n",
      "\u001b[1;31mNameError\u001b[0m                                 Traceback (most recent call last)",
      "\u001b[1;32m~\\AppData\\Local\\Temp/ipykernel_9736/208567620.py\u001b[0m in \u001b[0;36m<module>\u001b[1;34m\u001b[0m\n\u001b[1;32m----> 1\u001b[1;33m \u001b[0mtest\u001b[0m\u001b[1;33m.\u001b[0m\u001b[0mstart_testing\u001b[0m\u001b[1;33m(\u001b[0m\u001b[1;33m)\u001b[0m\u001b[1;33m\u001b[0m\u001b[1;33m\u001b[0m\u001b[0m\n\u001b[0m",
      "\u001b[1;32m~\\AppData\\Local\\Temp/ipykernel_9736/4016385530.py\u001b[0m in \u001b[0;36mstart_testing\u001b[1;34m(self)\u001b[0m\n\u001b[0;32m    217\u001b[0m         \u001b[0mself\u001b[0m\u001b[1;33m.\u001b[0m\u001b[0mhigh_order_test\u001b[0m\u001b[1;33m(\u001b[0m\u001b[1;33m)\u001b[0m\u001b[1;33m\u001b[0m\u001b[1;33m\u001b[0m\u001b[0m\n\u001b[0;32m    218\u001b[0m         \u001b[0mself\u001b[0m\u001b[1;33m.\u001b[0m\u001b[0mmatrix_test\u001b[0m\u001b[1;33m(\u001b[0m\u001b[1;33m)\u001b[0m\u001b[1;33m\u001b[0m\u001b[1;33m\u001b[0m\u001b[0m\n\u001b[1;32m--> 219\u001b[1;33m         \u001b[0mself\u001b[0m\u001b[1;33m.\u001b[0m\u001b[0mjacobian_test\u001b[0m\u001b[1;33m(\u001b[0m\u001b[1;33m)\u001b[0m\u001b[1;33m\u001b[0m\u001b[1;33m\u001b[0m\u001b[0m\n\u001b[0m\u001b[0;32m    220\u001b[0m         \u001b[0mself\u001b[0m\u001b[1;33m.\u001b[0m\u001b[0mgradient_start_index_test\u001b[0m\u001b[1;33m(\u001b[0m\u001b[1;33m)\u001b[0m\u001b[1;33m\u001b[0m\u001b[1;33m\u001b[0m\u001b[0m\n\u001b[0;32m    221\u001b[0m         \u001b[0mself\u001b[0m\u001b[1;33m.\u001b[0m\u001b[0mmodeling_test\u001b[0m\u001b[1;33m(\u001b[0m\u001b[1;33m)\u001b[0m\u001b[1;33m\u001b[0m\u001b[1;33m\u001b[0m\u001b[0m\n",
      "\u001b[1;32m~\\AppData\\Local\\Temp/ipykernel_9736/4016385530.py\u001b[0m in \u001b[0;36mjacobian_test\u001b[1;34m(self, tor, x, v, k, target)\u001b[0m\n\u001b[0;32m    142\u001b[0m                 \u001b[0mtape\u001b[0m\u001b[1;33m.\u001b[0m\u001b[0mresetgrads\u001b[0m\u001b[1;33m(\u001b[0m\u001b[1;33m)\u001b[0m\u001b[1;33m\u001b[0m\u001b[1;33m\u001b[0m\u001b[0m\n\u001b[0;32m    143\u001b[0m         \u001b[1;32mexcept\u001b[0m \u001b[0mException\u001b[0m \u001b[1;32mas\u001b[0m \u001b[0me\u001b[0m\u001b[1;33m:\u001b[0m\u001b[1;33m\u001b[0m\u001b[1;33m\u001b[0m\u001b[0m\n\u001b[1;32m--> 144\u001b[1;33m             \u001b[0mprint\u001b[0m\u001b[1;33m(\u001b[0m\u001b[1;34mf'matrix_order_test_{order} is failed :'\u001b[0m\u001b[1;33m,\u001b[0m \u001b[0me\u001b[0m\u001b[1;33m)\u001b[0m\u001b[1;33m\u001b[0m\u001b[1;33m\u001b[0m\u001b[0m\n\u001b[0m\u001b[0;32m    145\u001b[0m \u001b[1;33m\u001b[0m\u001b[0m\n\u001b[0;32m    146\u001b[0m     \u001b[1;32mdef\u001b[0m \u001b[0mgradient_start_index_test\u001b[0m\u001b[1;33m(\u001b[0m\u001b[0mself\u001b[0m\u001b[1;33m,\u001b[0m \u001b[0mtor\u001b[0m \u001b[1;33m=\u001b[0m \u001b[1;36m0.01\u001b[0m\u001b[1;33m,\u001b[0m \u001b[0mx\u001b[0m \u001b[1;33m=\u001b[0m \u001b[1;32mNone\u001b[0m\u001b[1;33m,\u001b[0m \u001b[0mv\u001b[0m \u001b[1;33m=\u001b[0m \u001b[1;32mNone\u001b[0m\u001b[1;33m,\u001b[0m \u001b[0mk\u001b[0m \u001b[1;33m=\u001b[0m \u001b[1;32mNone\u001b[0m\u001b[1;33m)\u001b[0m\u001b[1;33m:\u001b[0m\u001b[1;33m\u001b[0m\u001b[1;33m\u001b[0m\u001b[0m\n",
      "\u001b[1;31mNameError\u001b[0m: name 'order' is not defined"
     ]
    }
   ],
   "source": [
    "test.start_testing()"
   ]
  },
  {
   "cell_type": "code",
   "execution_count": 169,
   "id": "7d365a8c",
   "metadata": {},
   "outputs": [
    {
     "name": "stdout",
     "output_type": "stream",
     "text": [
      "high_order_test_0  : ok\n",
      "high_order_test_1  : ok\n"
     ]
    }
   ],
   "source": [
    "test.high_order_test()"
   ]
  },
  {
   "cell_type": "code",
   "execution_count": 170,
   "id": "05c5db14",
   "metadata": {},
   "outputs": [
    {
     "name": "stdout",
     "output_type": "stream",
     "text": [
      "matrix_order_test_0  : ok\n",
      "matrix_order_test_1  : ok\n",
      "matrix_order_test_2  : ok\n"
     ]
    }
   ],
   "source": [
    "test.matrix_test()"
   ]
  },
  {
   "cell_type": "code",
   "execution_count": 171,
   "id": "6c32e3e2",
   "metadata": {},
   "outputs": [
    {
     "name": "stdout",
     "output_type": "stream",
     "text": [
      "matmul  : ok\n",
      "reduce_sum  : ok\n",
      "div  : ok\n",
      "sum  : ok\n",
      "mul  : ok\n"
     ]
    }
   ],
   "source": [
    "test.jacobian_test()"
   ]
  },
  {
   "cell_type": "code",
   "execution_count": 172,
   "id": "8459cfe7",
   "metadata": {
    "scrolled": false
   },
   "outputs": [
    {
     "name": "stdout",
     "output_type": "stream",
     "text": [
      "gradient_start_middle  : ok\n",
      "gradient_stop_test  : ok\n"
     ]
    }
   ],
   "source": [
    "test.gradient_start_index_test()"
   ]
  },
  {
   "cell_type": "code",
   "execution_count": 173,
   "id": "3cd1ab9f",
   "metadata": {},
   "outputs": [
    {
     "name": "stdout",
     "output_type": "stream",
     "text": [
      "loss_value : [array(0.12923438), array(4.02457493e-06), array(3.32494054e-06), array(3.18126507e-06), array(2.89203548e-06), array(2.65531922e-06)]\n",
      "model training test : ok\n"
     ]
    }
   ],
   "source": [
    "test.modeling_test()"
   ]
  },
  {
   "cell_type": "code",
   "execution_count": 67,
   "id": "7fc166ed",
   "metadata": {},
   "outputs": [],
   "source": [
    "class Models(Model):\n",
    "    def __init__(self, hidden_size, out_size):\n",
    "        super().__init__()\n",
    "        self.l1 = layer.Linear(hidden_size, initializer_func='he_uniform')\n",
    "        self.l2 = layer.Linear(hidden_size, initializer_func='he_uniform')\n",
    "        self.l3 = layer.Linear(out_size, initializer_func='he_uniform')\n",
    "        \n",
    "    def forward(self, x):\n",
    "        y = self.l1(x)\n",
    "        y = f.activation.relu(y)\n",
    "        y = self.l2(y)\n",
    "        y = f.activation.relu(y)\n",
    "        y = self.l3(y)\n",
    "        return y"
   ]
  },
  {
   "cell_type": "code",
   "execution_count": 68,
   "id": "bf233e8c",
   "metadata": {},
   "outputs": [
    {
     "data": {
      "text/plain": [
       "<nariflow.optimizer.Adam.Adam at 0x2cf854bfbb0>"
      ]
     },
     "execution_count": 68,
     "metadata": {},
     "output_type": "execute_result"
    }
   ],
   "source": [
    "model = Models(100, 1)\n",
    "\n",
    "optimizers = optimizer.Adam()\n",
    "\n",
    "optimizers.setup(model)"
   ]
  },
  {
   "cell_type": "code",
   "execution_count": 69,
   "id": "864c8d1c",
   "metadata": {},
   "outputs": [
    {
     "name": "stdout",
     "output_type": "stream",
     "text": [
      "0.13316079589785426\n",
      "4.678867569526384e-06\n",
      "3.323818075624142e-06\n",
      "2.434985858024435e-06\n",
      "1.7888589763894105e-06\n",
      "1.3856699026652211e-06\n",
      "1.1175656879502677e-06\n",
      "9.268755179942446e-07\n",
      "8.51791997634991e-07\n",
      "6.456100152307053e-07\n",
      "total_time :  12.611826419830322\n"
     ]
    }
   ],
   "source": [
    "start_time = time.time()\n",
    "for i in range(10000):\n",
    "    with GradientTape() as tape:\n",
    "        y_pred = model(X)\n",
    "        \n",
    "        loss = f.loss.mean_squared_error(y, y_pred)\n",
    "        \n",
    "    tape.CalcGradient()\n",
    "    \n",
    "    optimizers.update()\n",
    "    \n",
    "    if i % 1000 == 0:\n",
    "        print(loss.data)\n",
    "\n",
    "print('total_time : ', time.time() - start_time)"
   ]
  },
  {
   "cell_type": "code",
   "execution_count": 318,
   "id": "a5ffe185",
   "metadata": {},
   "outputs": [],
   "source": [
    "a = np.array([1,2])"
   ]
  },
  {
   "cell_type": "code",
   "execution_count": 24,
   "id": "803e2cb2",
   "metadata": {},
   "outputs": [],
   "source": [
    "b = cp.asarray(a)"
   ]
  },
  {
   "cell_type": "code",
   "execution_count": 39,
   "id": "e31aa70c",
   "metadata": {},
   "outputs": [],
   "source": [
    "a_cp = cp.get_array_module(a.data)"
   ]
  },
  {
   "cell_type": "code",
   "execution_count": 42,
   "id": "768f3768",
   "metadata": {},
   "outputs": [
    {
     "data": {
      "text/plain": [
       "array([[1, 3],\n",
       "       [4, 5],\n",
       "       [6, 8]])"
      ]
     },
     "execution_count": 42,
     "metadata": {},
     "output_type": "execute_result"
    }
   ],
   "source": [
    "a_cp.array(a.data)"
   ]
  },
  {
   "cell_type": "code",
   "execution_count": 20,
   "id": "b2a0ece3",
   "metadata": {},
   "outputs": [
    {
     "ename": "ValueError",
     "evalue": "cannot reshape array of size 5 into shape (2, 3)",
     "output_type": "error",
     "traceback": [
      "\u001b[1;31m---------------------------------------------------------------------------\u001b[0m",
      "\u001b[1;31mValueError\u001b[0m                                Traceback (most recent call last)",
      "\u001b[1;32m~\\AppData\\Local\\Temp/ipykernel_37440/2802029601.py\u001b[0m in \u001b[0;36m<module>\u001b[1;34m\u001b[0m\n\u001b[1;32m----> 1\u001b[1;33m \u001b[0mcp\u001b[0m\u001b[1;33m.\u001b[0m\u001b[0marange\u001b[0m\u001b[1;33m(\u001b[0m\u001b[1;36m5\u001b[0m\u001b[1;33m)\u001b[0m\u001b[1;33m.\u001b[0m\u001b[0mreshape\u001b[0m\u001b[1;33m(\u001b[0m\u001b[1;36m2\u001b[0m\u001b[1;33m,\u001b[0m\u001b[1;36m3\u001b[0m\u001b[1;33m)\u001b[0m\u001b[1;33m\u001b[0m\u001b[1;33m\u001b[0m\u001b[0m\n\u001b[0m",
      "\u001b[1;32mcupy\\_core\\core.pyx\u001b[0m in \u001b[0;36mcupy._core.core.ndarray.reshape\u001b[1;34m()\u001b[0m\n",
      "\u001b[1;32mcupy\\_core\\_routines_manipulation.pyx\u001b[0m in \u001b[0;36mcupy._core._routines_manipulation._ndarray_reshape\u001b[1;34m()\u001b[0m\n",
      "\u001b[1;32mcupy\\_core\\_routines_manipulation.pyx\u001b[0m in \u001b[0;36mcupy._core._routines_manipulation._reshape\u001b[1;34m()\u001b[0m\n",
      "\u001b[1;32mcupy\\_core\\internal.pyx\u001b[0m in \u001b[0;36mcupy._core.internal.infer_unknown_dimension\u001b[1;34m()\u001b[0m\n",
      "\u001b[1;31mValueError\u001b[0m: cannot reshape array of size 5 into shape (2, 3)"
     ]
    }
   ],
   "source": [
    "cp.arange(5).reshape(2,3)"
   ]
  },
  {
   "cell_type": "code",
   "execution_count": null,
   "id": "36f32915",
   "metadata": {},
   "outputs": [],
   "source": []
  },
  {
   "cell_type": "code",
   "execution_count": null,
   "id": "3ff4aaec",
   "metadata": {},
   "outputs": [],
   "source": [
    "# =============================================================================\n",
    "# [simple version] conv2d_simple / pooling_simple\n",
    "# =============================================================================\n",
    "def conv2d_simple(x, W, b=None, stride=1, pad=0):\n",
    "    x, W = as_variable(x), as_variable(W)\n",
    "\n",
    "    Weight = W\n",
    "    N, C, H, W = x.shape\n",
    "    OC, C, KH, KW = Weight.shape\n",
    "    SH, SW = pair(stride)\n",
    "    PH, PW = pair(pad)\n",
    "    OH = get_conv_outsize(H, KH, SH, PH)\n",
    "    OW = get_conv_outsize(W, KW, SW, PW)\n",
    "\n",
    "    col = im2col(x, (KH, KW), stride, pad, to_matrix=True)\n",
    "    Weight = Weight.reshape(OC, -1).transpose()\n",
    "    t = linear(col, Weight, b)\n",
    "    y = t.reshape(N, OH, OW, OC).transpose(0, 3, 1, 2)\n",
    "    return y\n",
    "\n",
    "\n",
    "def pooling_simple(x, kernel_size, stride=1, pad=0):\n",
    "    x = as_variable(x)\n",
    "\n",
    "    N, C, H, W = x.shape\n",
    "    KH, KW = pair(kernel_size)\n",
    "    PH, PW = pair(pad)\n",
    "    SH, SW = pair(stride)\n",
    "    OH = get_conv_outsize(H, KH, SH, PH)\n",
    "    OW = get_conv_outsize(W, KW, SW, PW)\n",
    "\n",
    "    col = im2col(x, kernel_size, stride, pad, to_matrix=True)\n",
    "    col = col.reshape(-1, KH * KW)\n",
    "    y = col.max(axis=1)\n",
    "    y = y.reshape(N, OH, OW, C).transpose(0, 3, 1, 2)\n",
    "    return y\n"
   ]
  },
  {
   "cell_type": "code",
   "execution_count": null,
   "id": "9f4935fc",
   "metadata": {},
   "outputs": [],
   "source": [
    "import numpy as np\n",
    "from dezero import cuda\n",
    "from dezero.core import Function, as_variable\n",
    "from dezero.utils import pair, get_conv_outsize, get_deconv_outsize\n",
    "from dezero.functions import linear, broadcast_to\n",
    "\n",
    "\n",
    "\n",
    "\n",
    "# =============================================================================\n",
    "#  conv2d / deconv2d\n",
    "# =============================================================================\n",
    "class Conv2d(Function):\n",
    "    def __init__(self, stride=1, pad=0):\n",
    "        super().__init__()\n",
    "        self.stride = pair(stride)\n",
    "        self.pad = pair(pad)\n",
    "\n",
    "    def forward(self, x, W, b):\n",
    "        xp = cuda.get_array_module(x)\n",
    "\n",
    "        KH, KW = W.shape[2:]\n",
    "        col = im2col_array(x, (KH, KW), self.stride, self.pad, to_matrix=False)\n",
    "\n",
    "        y = xp.tensordot(col, W, ((1, 2, 3), (1, 2, 3)))\n",
    "        if b is not None:\n",
    "            y += b\n",
    "        y = xp.rollaxis(y, 3, 1)\n",
    "        # y = np.transpose(y, (0, 3, 1, 2))\n",
    "        return y\n",
    "\n",
    "    def backward(self, gy):\n",
    "        x, W, b = self.inputs\n",
    "        # ==== gx ====\n",
    "        gx = deconv2d(gy, W, b=None, stride=self.stride, pad=self.pad,\n",
    "                      outsize=(x.shape[2], x.shape[3]))\n",
    "        # ==== gW ====\n",
    "        gW = Conv2DGradW(self)(x, gy)\n",
    "        # ==== gb ====\n",
    "        gb = None\n",
    "        if b.data is not None:\n",
    "            gb = gy.sum(axis=(0, 2, 3))\n",
    "        return gx, gW, gb\n",
    "\n",
    "\n",
    "def conv2d(x, W, b=None, stride=1, pad=0):\n",
    "    return Conv2d(stride, pad)(x, W, b)\n",
    "\n",
    "\n",
    "class Deconv2d(Function):\n",
    "    def __init__(self, stride=1, pad=0, outsize=None):\n",
    "        super().__init__()\n",
    "        self.stride = pair(stride)\n",
    "        self.pad = pair(pad)\n",
    "        self.outsize = outsize\n",
    "\n",
    "    def forward(self, x, W, b):\n",
    "        xp = cuda.get_array_module(x)\n",
    "\n",
    "        Weight = W\n",
    "        SH, SW = self.stride\n",
    "        PH, PW = self.pad\n",
    "        C, OC, KH, KW = Weight.shape\n",
    "        N, C, H, W = x.shape\n",
    "        if self.outsize is None:\n",
    "            out_h = get_deconv_outsize(H, KH, SH, PH)\n",
    "            out_w = get_deconv_outsize(W, KW, SW, PW)\n",
    "        else:\n",
    "            out_h, out_w = pair(self.outsize)\n",
    "        img_shape = (N, OC, out_h, out_w)\n",
    "\n",
    "        gcol = xp.tensordot(Weight, x, (0, 1))\n",
    "        gcol = xp.rollaxis(gcol, 3)\n",
    "        y = col2im_array(gcol, img_shape, (KH, KW), self.stride, self.pad,\n",
    "                         to_matrix=False)\n",
    "        # b, k, h, w\n",
    "        if b is not None:\n",
    "            self.no_bias = True\n",
    "            y += b.reshape((1, b.size, 1, 1))\n",
    "        return y\n",
    "\n",
    "    def backward(self, gy):\n",
    "        x, W, b = self.inputs\n",
    "\n",
    "        # ==== gx ====\n",
    "        gx = conv2d(gy, W, b=None, stride=self.stride, pad=self.pad)\n",
    "        # ==== gW ====\n",
    "        f = Conv2DGradW(self)\n",
    "        gW = f(gy, x)\n",
    "        # ==== gb ====\n",
    "        gb = None\n",
    "        if b.data is not None:\n",
    "            gb = gy.sum(axis=(0, 2, 3))\n",
    "        return gx, gW, gb\n",
    "\n",
    "\n",
    "def deconv2d(x, W, b=None, stride=1, pad=0, outsize=None):\n",
    "    return Deconv2d(stride, pad, outsize)(x, W, b)\n",
    "\n",
    "\n",
    "class Conv2DGradW(Function):\n",
    "    def __init__(self, conv2d):\n",
    "        W = conv2d.inputs[1]\n",
    "        kh, kw = W.shape[2:]\n",
    "        self.kernel_size = (kh, kw)\n",
    "        self.stride = conv2d.stride\n",
    "        self.pad = conv2d.pad\n",
    "\n",
    "    def forward(self, x, gy):\n",
    "        xp = cuda.get_array_module(x)\n",
    "\n",
    "        col = im2col_array(x, self.kernel_size, self.stride, self.pad,\n",
    "                           to_matrix=False)\n",
    "        gW = xp.tensordot(gy, col, ((0, 2, 3), (0, 4, 5)))\n",
    "        return gW\n",
    "\n",
    "    def backward(self, gys):\n",
    "        x, gy = self.inputs\n",
    "        gW, = self.outputs\n",
    "\n",
    "        xh, xw = x.shape[2:]\n",
    "        gx = deconv2d(gy, gW, stride=self.stride, pad=self.pad,\n",
    "                      outsize=(xh, xw))\n",
    "        ggy = conv2d(x, gW, stride=self.stride, pad=self.pad)\n",
    "        return gx, ggy\n",
    "\n",
    "\n",
    "# =============================================================================\n",
    "#  pooling(max-pooling) / average_pooling\n",
    "# =============================================================================\n",
    "class Pooling(Function):\n",
    "    def __init__(self, kernel_size, stride=1, pad=0):\n",
    "        super().__init__()\n",
    "        self.kernel_size = kernel_size\n",
    "        self.stride = stride\n",
    "        self.pad = pad\n",
    "\n",
    "    def forward(self, x):\n",
    "        col = im2col_array(x, self.kernel_size, self.stride, self.pad,\n",
    "                           to_matrix=False)\n",
    "\n",
    "        N, C, KH, KW, OH, OW = col.shape\n",
    "        col = col.reshape(N, C, KH * KW, OH, OW)\n",
    "        self.indexes = col.argmax(axis=2)\n",
    "        y = col.max(axis=2)\n",
    "        return y\n",
    "\n",
    "    def backward(self, gy):\n",
    "        return Pooling2DGrad(self)(gy)\n",
    "\n",
    "\n",
    "class Pooling2DGrad(Function):\n",
    "    def __init__(self, mpool2d):\n",
    "        self.mpool2d = mpool2d\n",
    "        self.kernel_size = mpool2d.kernel_size\n",
    "        self.stride = mpool2d.stride\n",
    "        self.pad = mpool2d.pad\n",
    "        self.input_shape = mpool2d.inputs[0].shape\n",
    "        self.dtype = mpool2d.inputs[0].dtype\n",
    "        self.indexes = mpool2d.indexes\n",
    "\n",
    "    def forward(self, gy):\n",
    "        xp = cuda.get_array_module(gy)\n",
    "\n",
    "        N, C, OH, OW = gy.shape\n",
    "        N, C, H, W = self.input_shape\n",
    "        KH, KW = pair(self.kernel_size)\n",
    "\n",
    "        gcol = xp.zeros((N * C * OH * OW * KH * KW), dtype=self.dtype)\n",
    "\n",
    "        indexes = (self.indexes.ravel()\n",
    "                   + xp.arange(0, self.indexes.size * KH * KW, KH * KW))\n",
    "        \n",
    "        gcol[indexes] = gy.ravel()\n",
    "        gcol = gcol.reshape(N, C, OH, OW, KH, KW)\n",
    "        gcol = xp.swapaxes(gcol, 2, 4)\n",
    "        gcol = xp.swapaxes(gcol, 3, 5)\n",
    "\n",
    "        gx = col2im_array(gcol, (N, C, H, W), self.kernel_size, self.stride,\n",
    "                          self.pad, to_matrix=False)\n",
    "        return gx\n",
    "\n",
    "    def backward(self, ggx):\n",
    "        f = Pooling2DWithIndexes(self.mpool2d)\n",
    "        return f(ggx)\n",
    "\n",
    "\n",
    "class Pooling2DWithIndexes(Function):\n",
    "    def __init__(self, mpool2d):\n",
    "        self.kernel_size = mpool2d.kernel_size\n",
    "        self.stride = mpool2d.stride\n",
    "        self.pad = mpool2d.pad\n",
    "        self.input_shpae = mpool2d.inputs[0].shape\n",
    "        self.dtype = mpool2d.inputs[0].dtype\n",
    "        self.indexes = mpool2d.indexes\n",
    "\n",
    "    def forward(self, x):\n",
    "        col = im2col_array(x, self.kernel_size, self.stride, self.pad,\n",
    "                           to_matrix=False)\n",
    "        N, C, KH, KW, OH, OW = col.shape\n",
    "        col = col.reshape(N, C, KH * KW, OH, OW)\n",
    "        col = col.transpose(0, 1, 3, 4, 2).reshape(-1, KH * KW)\n",
    "        indexes = self.indexes.ravel()\n",
    "        col = col[np.arange(len(indexes)), indexes]\n",
    "        return col.reshape(N, C, OH, OW)\n",
    "\n",
    "\n",
    "def pooling(x, kernel_size, stride=1, pad=0):\n",
    "    return Pooling(kernel_size, stride, pad)(x)\n",
    "\n",
    "\n",
    "class AveragePooling(Function):\n",
    "    def __init__(self, kernel_size, stride=1, pad=0):\n",
    "        super().__init__()\n",
    "        self.kernel_size = kernel_size\n",
    "        self.stride = stride\n",
    "        self.pad = pad\n",
    "        self.input_shape = None\n",
    "\n",
    "    def forward(self, x):\n",
    "        self.input_shape = x.shape\n",
    "        col = im2col_array(x, self.kernel_size, self.stride, self.pad,\n",
    "                           to_matrix=False)\n",
    "        y = col.mean(axis=(2, 3))\n",
    "        return y\n",
    "\n",
    "    def backward(self, gy):\n",
    "        # TODO(Koki): This is simple implementation\n",
    "        N, C, OH, OW = gy.shape\n",
    "        KW, KH = pair(self.kernel_size)\n",
    "        gy /= (KW*KH)\n",
    "        gcol = broadcast_to(gy.reshape(-1), (KH, KW, N*C*OH*OW))\n",
    "        gcol = gcol.reshape(KH, KW, N, C, OH, OW).transpose(2, 3, 0, 1, 4, 5)\n",
    "        gx = col2im(gcol, self.input_shape, self.kernel_size, self.stride,\n",
    "                    self.pad, to_matrix=False)\n",
    "        return gx\n",
    "\n",
    "\n",
    "def average_pooling(x, kernel_size, stride=1, pad=0):\n",
    "    return AveragePooling(kernel_size, stride, pad)(x)\n",
    "\n",
    "\n",
    "# =============================================================================\n",
    "#  im2col / col2im\n",
    "# =============================================================================\n",
    "class Im2col(Function):\n",
    "    def __init__(self, kernel_size, stride, pad, to_matrix):\n",
    "        super().__init__()\n",
    "        self.input_shape = None\n",
    "        self.kernel_size = kernel_size\n",
    "        self.stride = stride\n",
    "        self.pad = pad\n",
    "        self.to_matrix = to_matrix\n",
    "\n",
    "    def forward(self, x):\n",
    "        self.input_shape = x.shape\n",
    "        y = im2col_array(x, self.kernel_size, self.stride, self.pad,\n",
    "                         self.to_matrix)\n",
    "        return y\n",
    "\n",
    "    def backward(self, gy):\n",
    "        gx = col2im(gy, self.input_shape, self.kernel_size, self.stride,\n",
    "                    self.pad, self.to_matrix)\n",
    "        return gx\n",
    "\n",
    "\n",
    "def im2col(x, kernel_size, stride=1, pad=0, to_matrix=True):\n",
    "    \"\"\"Extract patches from an image based on the filter.\n",
    "    Args:\n",
    "        x (`dezero.Variable` or `ndarray`): Input variable of shape\n",
    "            `(N, C, H, W)`\n",
    "        kernel_size (int or (int, int)): Size of kernel.\n",
    "        stride (int or (int, int)): Stride of kernel.\n",
    "        pad (int or (int, int)): Spatial padding width for input arrays.\n",
    "        to_matrix (bool): If True the `col` will be reshaped to 2d array whose\n",
    "            shape is `(N*OH*OW, C*KH*KW)`\n",
    "    Returns:\n",
    "        `dezero.Variable`: Output variable. If the `to_matrix` is False, the\n",
    "            output shape is `(N, C, KH, KW, OH, OW)`, otherwise\n",
    "            `(N*OH*OW, C*KH*KW)`.\n",
    "    Notation:\n",
    "    - `N` is the batch size.\n",
    "    - `C` is the number of the input channels.\n",
    "    - `H` and `W` are the height and width of the input image, respectively.\n",
    "    - `KH` and `KW` are the height and width of the filters, respectively.\n",
    "    - `SH` and `SW` are the strides of the filter.\n",
    "    - `PH` and `PW` are the spatial padding sizes.\n",
    "    - `OH` and `OW` are the the height and width of the output, respectively.\n",
    "    \"\"\"\n",
    "    y = Im2col(kernel_size, stride, pad, to_matrix)(x)\n",
    "    return y\n",
    "\n",
    "\n",
    "class Col2im(Function):\n",
    "    def __init__(self, input_shape, kernel_size, stride, pad, to_matrix):\n",
    "        super().__init__()\n",
    "        self.input_shape = input_shape\n",
    "        self.kernel_size = kernel_size\n",
    "        self.stride = stride\n",
    "        self.pad = pad\n",
    "        self.to_matrix = to_matrix\n",
    "\n",
    "    def forward(self, x):\n",
    "        y = col2im_array(x, self.input_shape, self.kernel_size, self.stride,\n",
    "                         self.pad, self.to_matrix)\n",
    "        return y\n",
    "\n",
    "    def backward(self, gy):\n",
    "        gx = im2col(gy, self.kernel_size, self.stride, self.pad,\n",
    "                    self.to_matrix)\n",
    "        return gx\n",
    "\n",
    "\n",
    "def col2im(x, input_shape, kernel_size, stride=1, pad=0, to_matrix=True):\n",
    "    return Col2im(input_shape, kernel_size, stride, pad, to_matrix)(x)\n",
    "\n",
    "\n",
    "# =============================================================================\n",
    "#  numpy im2col\n",
    "# =============================================================================\n",
    "def im2col_array(img, kernel_size, stride, pad, to_matrix=True):\n",
    "\n",
    "    N, C, H, W = img.shape\n",
    "    KH, KW = pair(kernel_size)\n",
    "    SH, SW = pair(stride)\n",
    "    PH, PW = pair(pad)\n",
    "    OH = get_conv_outsize(H, KH, SH, PH)\n",
    "    OW = get_conv_outsize(W, KW, SW, PW)\n",
    "\n",
    "    xp = cuda.get_array_module(img)\n",
    "    if xp != np:\n",
    "        col = _im2col_gpu(img, kernel_size, stride, pad)\n",
    "    else:\n",
    "        img = np.pad(img,\n",
    "                     ((0, 0), (0, 0), (PH, PH + SH - 1), (PW, PW + SW - 1)),\n",
    "                     mode='constant', constant_values=(0,))\n",
    "        col = np.ndarray((N, C, KH, KW, OH, OW), dtype=img.dtype)\n",
    "\n",
    "        for j in range(KH):\n",
    "            j_lim = j + SH * OH\n",
    "            for i in range(KW):\n",
    "                i_lim = i + SW * OW\n",
    "                col[:, :, j, i, :, :] = img[:, :, j:j_lim:SH, i:i_lim:SW]\n",
    "\n",
    "    if to_matrix:\n",
    "        col = col.transpose((0, 4, 5, 1, 2, 3)).reshape((N * OH * OW, -1))\n",
    "\n",
    "    return col\n",
    "\n",
    "\n",
    "def col2im_array(col, img_shape, kernel_size, stride, pad, to_matrix=True):\n",
    "    N, C, H, W = img_shape\n",
    "    KH, KW = pair(kernel_size)\n",
    "    SH, SW = pair(stride)\n",
    "    PH, PW = pair(pad)\n",
    "    OH = get_conv_outsize(H, KH, SH, PH)\n",
    "    OW = get_conv_outsize(W, KW, SW, PW)\n",
    "\n",
    "    if to_matrix:\n",
    "        col = col.reshape(N, OH, OW, C, KH, KW).transpose(0, 3, 4, 5, 1, 2)\n",
    "\n",
    "    xp = cuda.get_array_module(col)\n",
    "    if xp != np:\n",
    "        img = _col2im_gpu(col, SH, SW, PH, PW, H, W)\n",
    "        return img\n",
    "    else:\n",
    "        img = np.zeros((N, C, H + 2 * PH + SH - 1, W + 2 * PW + SW - 1),\n",
    "                       dtype=col.dtype)\n",
    "        for j in range(KH):\n",
    "            j_lim = j + SH * OH\n",
    "            for i in range(KW):\n",
    "                i_lim = i + SW * OW\n",
    "                img[:, :, j:j_lim:SH, i:i_lim:SW] += col[:, :, j, i, :, :]\n",
    "        return img[:, :, PH:H + PH, PW:W + PW]\n",
    "\n",
    "\n",
    "def _im2col_gpu(img, kernel_size, stride, pad):\n",
    "    \"\"\"im2col function for GPU.\n",
    "    This code is ported from Chainer:\n",
    "    https://github.com/chainer/chainer/blob/v6.4.0/chainer/utils/conv.py\n",
    "    \"\"\"\n",
    "    n, c, h, w = img.shape\n",
    "    kh, kw = pair(kernel_size)\n",
    "    sy, sx = pair(stride)\n",
    "    ph, pw = pair(pad)\n",
    "    out_h = get_conv_outsize(h, kh, sy, ph)\n",
    "    out_w = get_conv_outsize(w, kw, sx, pw)\n",
    "    dy, dx = 1, 1\n",
    "    col = cuda.cupy.empty((n, c, kh, kw, out_h, out_w), dtype=img.dtype)\n",
    "\n",
    "    cuda.cupy.ElementwiseKernel(\n",
    "        'raw T img, int32 h, int32 w, int32 out_h, int32 out_w,'\n",
    "        'int32 kh, int32 kw, int32 sy, int32 sx, int32 ph, int32 pw,'\n",
    "        'int32 dy, int32 dx',\n",
    "        'T col',\n",
    "        '''\n",
    "           int c0 = i / (kh * kw * out_h * out_w);\n",
    "           int ky = i / (kw * out_h * out_w) % kh;\n",
    "           int kx = i / (out_h * out_w) % kw;\n",
    "           int out_y = i / out_w % out_h;\n",
    "           int out_x = i % out_w;\n",
    "           int in_y = ky * dy + out_y * sy - ph;\n",
    "           int in_x = kx * dx + out_x * sx - pw;\n",
    "           if (in_y >= 0 && in_y < h && in_x >= 0 && in_x < w) {\n",
    "             col = img[in_x + w * (in_y + h * c0)];\n",
    "           } else {\n",
    "             col = 0;\n",
    "           }\n",
    "        ''',\n",
    "        'im2col')(img.reduced_view(),\n",
    "                  h, w, out_h, out_w, kh, kw, sy, sx, ph, pw, dy, dx, col)\n",
    "\n",
    "    return col\n",
    "\n",
    "\n",
    "def _col2im_gpu(col, sy, sx, ph, pw, h, w):\n",
    "    \"\"\"col2im function for GPU.\n",
    "    This code is ported from Chainer:\n",
    "    https://github.com/chainer/chainer/blob/v6.4.0/chainer/utils/conv.py\n",
    "    \"\"\"\n",
    "    n, c, kh, kw, out_h, out_w = col.shape\n",
    "    dx, dy = 1, 1\n",
    "    img = cuda.cupy.empty((n, c, h, w), dtype=col.dtype)\n",
    "\n",
    "    cuda.cupy.ElementwiseKernel(\n",
    "        'raw T col, int32 h, int32 w, int32 out_h, int32 out_w,'\n",
    "        'int32 kh, int32 kw, int32 sy, int32 sx, int32 ph, int32 pw,'\n",
    "        'int32 dx, int32 dy',\n",
    "        'T img',\n",
    "        '''\n",
    "           int c0 = i / (h * w);\n",
    "           int y  = i / w % h;\n",
    "           int x  = i % w;\n",
    "           T val = 0;\n",
    "           for (int ky = 0; ky < kh; ++ky) {\n",
    "             int out_y = (y + ph - ky * dy);\n",
    "             if (0 > out_y || out_y >= out_h * sy) continue;\n",
    "             if (out_y % sy != 0) continue;\n",
    "             out_y /= sy;\n",
    "             for (int kx = 0; kx < kw; ++kx) {\n",
    "               int out_x = (x + pw - kx * dx);\n",
    "               if (0 > out_x || out_x >= out_w * sx) continue;\n",
    "               if (out_x % sx != 0) continue;\n",
    "               out_x /= sx;\n",
    "               int k = out_y + out_h * (kx + kw * (ky + kh * c0));\n",
    "               val = val + col[out_x + out_w * k];\n",
    "             }\n",
    "           }\n",
    "           img = val;\n",
    "        ''',\n",
    "        'col2im')(col.reduced_view(),\n",
    "                  h, w, out_h, out_w, kh, kw, sy, sx, ph, pw, dx, dy, img)\n",
    "    return img"
   ]
  }
 ],
 "metadata": {
  "kernelspec": {
   "display_name": "Python 3 (ipykernel)",
   "language": "python",
   "name": "python3"
  },
  "language_info": {
   "codemirror_mode": {
    "name": "ipython",
    "version": 3
   },
   "file_extension": ".py",
   "mimetype": "text/x-python",
   "name": "python",
   "nbconvert_exporter": "python",
   "pygments_lexer": "ipython3",
   "version": "3.8.12"
  }
 },
 "nbformat": 4,
 "nbformat_minor": 5
}
