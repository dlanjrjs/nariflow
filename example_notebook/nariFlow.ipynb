{
 "cells": [
  {
   "cell_type": "code",
   "execution_count": 1,
   "id": "f3df64d2",
   "metadata": {},
   "outputs": [],
   "source": [
    "import numpy as np\n",
    "import pandas as pd\n",
    "import weakref"
   ]
  },
  {
   "cell_type": "markdown",
   "id": "44fe5696",
   "metadata": {},
   "source": [
    "# Core"
   ]
  },
  {
   "cell_type": "code",
   "execution_count": 2,
   "id": "8c7a3e32",
   "metadata": {},
   "outputs": [],
   "source": [
    "# Variable의 역할\n",
    "## 현재 변수의 이전 노드 함수(한단께 앞 연산 함수)를 저장한다\n",
    "## 현재 변수의 뒤에서 전달해온 gradient값을 저장한다(gy_list)\n",
    "## 현재 변수의 gradient값을 연산한다(func.backward())\n",
    "## 현재 변수의 gradient값을 저장한다(gx_list -> Variable.grad)\n",
    "## 현재 변수의 세대를 저장한다.(self.generation)"
   ]
  },
  {
   "cell_type": "code",
   "execution_count": null,
   "id": "84236e1b",
   "metadata": {},
   "outputs": [],
   "source": []
  },
  {
   "cell_type": "code",
   "execution_count": 3,
   "id": "20339c3f",
   "metadata": {},
   "outputs": [],
   "source": [
    "class Variable():\n",
    "    def __init__(self, data):\n",
    "        self.data = data\n",
    "        self.grad = None\n",
    "        self.node_function = None\n",
    "        self.generation = 0\n",
    "        \n",
    "    def set_node_function(self, func): \n",
    "        # Variable을 생성한 노드 함수를 기억한다.\n",
    "        # 자동 미분시 그래프 관계를 구축하기 위해 사용한다.\n",
    "        self.node_function = func\n",
    "        # generation은 하나의 노드에 두개 이상의 엣지가 연결되어 있을 때(즉, a - b / a - c)\n",
    "        # b와 c의 역전파(grad)를 가장 먼저 처리하고 a로 역전파를 시행하기 위해 필요한 값이다\n",
    "        # 즉, b와 c는 a보다 큰 generation값을 동일하게 보유하기 때문에\n",
    "        # generation 값 기준으로 역전파를 처리하게 되면 반드시 a보다는 먼저 처리하는 것이 보장된다.\n",
    "        self.generation = func.generation + 1\n",
    "        \n",
    "    def resetgrad(self):\n",
    "        self.grad = None\n",
    "        \n",
    "    def backward(self):\n",
    "        # backward 호출 시 Variable을 생성한 노드 함수(즉, 한단계 앞 연산 함수)를 가져온다. \n",
    "        # 역전파 최초 시작시엔 None으로 시작하므로, 1.0으로 이루어진 행렬을 생산한다.\n",
    "        if self.grad is None:\n",
    "            self.grad = Variable(np.ones_like(self.data))\n",
    "        \n",
    "        seen_set = set()\n",
    "        funcs = []\n",
    "        \n",
    "        # add_func는 variable에 저장되어있는 세대 정보(0,1,2,....)를 기준으로 \n",
    "        # Function을 정렬한다.\n",
    "        # 이는 노드가 분할되어 하나의 노드에 엣지가 두개 연결될 시(a - b & a - c)\n",
    "        # b와 c를 먼저!!!! 처리하고 그 이후에 a로 역전파 되도록 보장한다.\n",
    "        def add_func(func):\n",
    "            if func not in seen_set:\n",
    "                funcs.append(func)\n",
    "                seen_set.add(func)\n",
    "                funcs.sort(key = lambda x : x.generation)\n",
    "        # 스택 탐색 알고리즘을 이용하여 가장 뒷 단계 Variable에서 정의된 노드 함수를 가져온다.\n",
    "        # 즉, 역전파를 시작하기 위한 초기값을 준비한다.\n",
    "        add_func(self.node_function)\n",
    "        \n",
    "        while funcs:\n",
    "            func = funcs.pop()\n",
    "             # 현재단계의 뒤에서 전달해온 gradient값을 리스트로 저장한다.\n",
    "            gy_list = [output().grad for output in func.output_list]\n",
    "            # 뒷단계 gradient를 노드 함수(즉, 현 연산 함수)에 투입하여 현재단계 grad를 구한다.\n",
    "            gx_list = func.backward(*gy_list)\n",
    "            if not isinstance(gx_list, tuple):\n",
    "                gx_list = (gx_list,)\n",
    "            \n",
    "            # 현 단계의 Variable을 불러와 Variable.grad에 Gradient 연산 결과물을 저장한다.\n",
    "            for x, gx in zip(func.input_list, gx_list):\n",
    "                # 동일 변수 사용시 gx가 단순히 덧씌워지는 문제를 해결한다.\n",
    "                if x.grad is None:\n",
    "                    x.grad = gx\n",
    "                else:\n",
    "                    x.grad = x.grad + gx\n",
    "                # 현 단계에 연결되어 있는 노드 함수(즉, 앞 단계 연산 함수)를 다음 node_function으로\n",
    "                # 저장한다.\n",
    "                if x.node_function is not None :\n",
    "                    add_func(x.node_function)\n",
    "            "
   ]
  },
  {
   "cell_type": "code",
   "execution_count": 4,
   "id": "71b67b52",
   "metadata": {},
   "outputs": [],
   "source": [
    "# Function 껍데기 함수의 역할\n",
    "## 입력 변수값을 저장한다\n",
    "## 출력 변수값을 저장한다\n",
    "## Variable에 현재 함수를 마킹한다\n",
    "## 다음 세대 Variable에 알려줄 세대를 기록한다."
   ]
  },
  {
   "cell_type": "code",
   "execution_count": 5,
   "id": "e193b6f1",
   "metadata": {},
   "outputs": [],
   "source": [
    "class Function():\n",
    "    def __call__(self, *inputs):\n",
    "        def as_array(x):\n",
    "            if np.isscalar(x):\n",
    "                return np.array(x)\n",
    "            return x\n",
    "        \n",
    "        def as_variable(x):\n",
    "            if isinstance(x, Variable):\n",
    "                return x\n",
    "            return Variable(x)\n",
    "        \n",
    "        # Variable을 가져온다.\n",
    "        inputs = [as_variable(x) for x in inputs]\n",
    "        x_list = [as_array(i.data) for i in inputs]\n",
    "        # forward 실시, 이 때 x_list는 이미 i.data로 내부 scalar값들이 노출된 상태다.\n",
    "        y_list = self.forward(*x_list)\n",
    "        # 출력 결과물이 tuple이 아니면 tuple로 변환해준다.\n",
    "        if not isinstance(y_list, tuple):\n",
    "            y_list = (y_list,)\n",
    "        # 정전파 함수의 연산 결과를 Variable로 신규 생성한다.\n",
    "        # 이 과정은 그래프 링크를 만드는데 핵심 역할을 담당한다.\n",
    "        output_list = [Variable(as_array(y)) for y in y_list]\n",
    "        \n",
    "        # 모든 output에 대하여 해당 절차를 수행한다.\n",
    "        self.generation = np.max([i.generation for i in inputs])\n",
    "        # 정전파를 수행한 함수를 기억한다.\n",
    "        for output in output_list:\n",
    "            output.set_node_function(self)\n",
    "        self.input_list = inputs\n",
    "        self.output_list = [weakref.ref(x) for x in output_list]\n",
    "        if len(output_list) > 1:\n",
    "            return output_list\n",
    "        else :\n",
    "            return output_list[0]\n",
    "    \n",
    "    # 정전파 껍데기 함수\n",
    "    def forward(self, x_list):\n",
    "        raise NotImplementedError()\n",
    "    \n",
    "    # 역전파 껍데기 함수\n",
    "    def backward(self, gy_list):\n",
    "        raise NotImplementedError()"
   ]
  },
  {
   "cell_type": "code",
   "execution_count": 6,
   "id": "09b766fd",
   "metadata": {},
   "outputs": [],
   "source": [
    "x = Variable(np.array(2.0))"
   ]
  },
  {
   "cell_type": "code",
   "execution_count": 7,
   "id": "2a4921a5",
   "metadata": {},
   "outputs": [],
   "source": [
    "class Variable():\n",
    "    def __init__(self, data):\n",
    "        self.data = data\n",
    "        self.node_function = None\n",
    "        self.generation = 0\n",
    "        self.grad = None\n",
    "        \n",
    "    def set_generation(self, generation): \n",
    "        # generation은 하나의 노드에 두개 이상의 엣지가 연결되어 있을 때(즉, a - b / a - c)\n",
    "        # b와 c의 역전파(grad)를 가장 먼저 처리하고 a로 역전파를 시행하기 위해 필요한 값이다\n",
    "        # 즉, b와 c는 a보다 큰 generation값을 동일하게 보유하기 때문에\n",
    "        # generation 값 기준으로 역전파를 처리하게 되면 반드시 a보다는 먼저 처리하는 것이 보장된다.\n",
    "        self.generation = generation + 1\n",
    "        \n",
    "    def resetgrad(self):\n",
    "        self.grad = None"
   ]
  },
  {
   "cell_type": "code",
   "execution_count": 8,
   "id": "58766c59",
   "metadata": {},
   "outputs": [],
   "source": [
    "class Function():\n",
    "    def __call__(self, *inputs):\n",
    "        def as_array(x):\n",
    "            if np.isscalar(x):\n",
    "                return np.array(x)\n",
    "            return x\n",
    "        \n",
    "        def as_variable(x):\n",
    "            if isinstance(x, Variable):\n",
    "                return x\n",
    "            return Variable(x)\n",
    "        \n",
    "        # Variable을 가져온다.\n",
    "        inputs = [as_variable(x) for x in inputs]\n",
    "        x_list = [as_array(i.data) for i in inputs]\n",
    "        # forward 실시, 이 때 x_list는 이미 i.data로 내부 scalar값들이 노출된 상태다.\n",
    "        y_list = self.forward(*x_list)\n",
    "        # 출력 결과물이 tuple이 아니면 tuple로 변환해준다.\n",
    "        if not isinstance(y_list, tuple):\n",
    "            y_list = (y_list,)\n",
    "        # 정전파 함수의 연산 결과를 Variable로 신규 생성한다.\n",
    "        # 이 과정은 그래프 링크를 만드는데 핵심 역할을 담당한다.\n",
    "        output_list = [Variable(as_array(y)) for y in y_list]\n",
    "        \n",
    "        # 모든 output에 대하여 해당 절차를 수행한다.\n",
    "        generation = np.max([i.generation for i in inputs])\n",
    "\n",
    "        # Generation을 Variable에 기록한다.\n",
    "        if 'GRADIENT_TAPE' in globals():\n",
    "            self.making_gradient_tape(output_list, inputs)\n",
    "        \n",
    "        if len(output_list) > 1:\n",
    "            return output_list\n",
    "        else :\n",
    "            return output_list[0]\n",
    "        \n",
    "    def making_gradient_tape(self, output, inputs):\n",
    "        for i in output:\n",
    "            GRADIENT_TAPE[i] = (self, inputs)\n",
    "\n",
    "    # 정전파 껍데기 함수\n",
    "    def forward(self, x_list):\n",
    "        raise NotImplementedError()\n",
    "    \n",
    "    # 역전파 껍데기 함수\n",
    "    def backward(self, gy_list):\n",
    "        raise NotImplementedError()"
   ]
  },
  {
   "cell_type": "code",
   "execution_count": 9,
   "id": "b69a0876",
   "metadata": {},
   "outputs": [],
   "source": [
    "class CalcGradient():\n",
    "    def __call__(self, *inputs):\n",
    "        def as_array(x):\n",
    "            if np.isscalar(x):\n",
    "                return np.array(x)\n",
    "            return x\n",
    "        \n",
    "        def as_variable(x):\n",
    "            if isinstance(x, Variable):\n",
    "                return x\n",
    "            return Variable(x)\n",
    "        \n",
    "        def add_func(func):\n",
    "            if func not in seen_set:\n",
    "                funcs.append(func)\n",
    "                seen_set.add(func)\n",
    "                funcs.sort(key = lambda x : x.generation)\n",
    "                \n",
    "        inputs = [as_variable(x) for x in inputs]\n",
    "        x_list = [as_array(i.data) for i in inputs]\n",
    "        self.grad = [Variable(np.ones_like(i)) for i in x_list]\n",
    "\n",
    "        seen_set = set()\n",
    "        funcs = []\n",
    "\n",
    "        # add_func는 variable에 저장되어있는 세대 정보(0,1,2,....)를 기준으로 \n",
    "        # Function을 정렬한다.\n",
    "        # 이는 노드가 분할되어 하나의 노드에 엣지가 두개 연결될 시(a - b & a - c)\n",
    "        # b와 c를 먼저!!!! 처리하고 그 이후에 a로 역전파 되도록 보장한다.\n",
    "\n",
    "        # 스택 탐색 알고리즘을 이용하여 가장 뒷 단계 Variable에서 정의된 노드 함수를 가져온다.\n",
    "        # 즉, 역전파를 시작하기 위한 초기값을 준비한다.\n",
    "        for i in inputs:\n",
    "            add_func(inputs.node_function)\n",
    "       \n",
    "        while funcs:\n",
    "            func = funcs.pop()\n",
    "             # 현재단계의 뒤에서 전달해온 gradient값을 리스트로 저장한다.\n",
    "            gy_list = [output().grad for output in func.output_list]\n",
    "            # 뒷단계 gradient를 노드 함수(즉, 현 연산 함수)에 투입하여 현재단계 grad를 구한다.\n",
    "            gx_list = func.backward(*gy_list)\n",
    "            if not isinstance(gx_list, tuple):\n",
    "                gx_list = (gx_list,)\n",
    "\n",
    "            # 현 단계의 Variable을 불러와 Variable.grad에 Gradient 연산 결과물을 저장한다.\n",
    "            for x, gx in zip(func.input_list, gx_list):\n",
    "                # 동일 변수 사용시 gx가 단순히 덧씌워지는 문제를 해결한다.\n",
    "                if x.grad is None:\n",
    "                    x.grad = gx\n",
    "                else:\n",
    "                    x.grad = x.grad + gx\n",
    "                # 현 단계에 연결되어 있는 노드 함수(즉, 앞 단계 연산 함수)를 다음 node_function으로\n",
    "                # 저장한다.\n",
    "                if x.node_function is not None :\n",
    "                    add_func(x.node_function)\n"
   ]
  },
  {
   "cell_type": "markdown",
   "id": "261ebc35",
   "metadata": {},
   "source": [
    "# 함수"
   ]
  },
  {
   "cell_type": "markdown",
   "id": "b821487c",
   "metadata": {},
   "source": [
    "## 미분 기본 공식"
   ]
  },
  {
   "cell_type": "code",
   "execution_count": 10,
   "id": "e9c0eac9",
   "metadata": {},
   "outputs": [],
   "source": [
    "\n",
    "# 덧셈\n",
    "class Add(Function):\n",
    "    # 정전파 : 두 변수를 더한다.\n",
    "    def forward(self, x_0, x_1):\n",
    "        self.x_0_shape = x_0.shape\n",
    "        self.x_1_shape = x_1.shape\n",
    "        y = x_0 + x_1\n",
    "        return y\n",
    "    # 역전파 : 뒷 단계에서 들어온 그레디언트를 양쪽으로 균등하게 흘려보낸다.\n",
    "    def backward(self, gy):\n",
    "        gx0, gx1 = gy, gy\n",
    "        if self.x_0_shape != self.x_1_shape:\n",
    "            gx0 = sumto(gx0, self.x_0_shape)\n",
    "            gx1 = sumto(gx1, self.x_1_shape)\n",
    "        return gx0 , gx1\n",
    "\n",
    "# 곱셈\n",
    "class Mul(Function):\n",
    "    # 정전파 : 두 변수를 곱한다.\n",
    "    def forward(self, x_0, x_1):\n",
    "        self.x_0_shape = x_0.shape\n",
    "        self.x_1_shape = x_1.shape\n",
    "        y = x_0 * x_1\n",
    "        return y\n",
    "    \n",
    "    # 역전파 : 방향을 스위치해서 뒷 단계의 그레디언트와 입력 변수를 곱해 흘려보낸다. \n",
    "    def backward(self, gy):\n",
    "        x_0 = self.input_list[0]\n",
    "        x_1 = self.input_list[1]\n",
    "        gy0, gy1 = gy, gy\n",
    "        gx_0 = x_0 * gy0 \n",
    "        gx_1 = x_1 * gy1\n",
    "        if self.x_0_shape != self.x_1_shape:\n",
    "            gx_0 = sumto(gx_0, self.x_0_shape)\n",
    "            gx_1 = sumto(gx_1, self.x_1_shape)\n",
    "        return gx_1, gx_0\n",
    "\n",
    "# 음수 변환\n",
    "class Neg(Function):\n",
    "    # 정전파 : 음수로 바꾼다.\n",
    "    def forward(self, x):\n",
    "        return -x\n",
    "    \n",
    "    # 역전파 : 음수로 바꿔 흘려보낸다.\n",
    "    def backward(self, gy):\n",
    "        return -gy\n",
    "\n",
    "# 뺄셈\n",
    "class Sub(Function):\n",
    "    # 정전파 : 두 변수를 뺀다.\n",
    "    def forward(self, x_0, x_1):\n",
    "        self.x_0_shape = x_0.shape\n",
    "        self.x_1_shape = x_1.shape\n",
    "        y = x_0 - x_1\n",
    "        return y\n",
    "    # 역전파 : 앞 변수는 그레디언트를, 뒤 변수는 그레디언트 음수를 흘려보낸다.\n",
    "    def backward(self, gy):\n",
    "        gx0, gx1 = gy, gy\n",
    "        if self.x_0_shape != self.x_1_shape:\n",
    "            gx0 = sumto(gx0, self.x_0_shape)\n",
    "            gx1 = sumto(gx1, self.x_1_shape)\n",
    "        return gx0, -gx1\n",
    "\n",
    "# 나눗셈\n",
    "class Div(Function):\n",
    "    # 정전파 : 변수간 나눗셈을 구한다.\n",
    "    def forward(self, x_0, x_1):\n",
    "        self.x_0_shape = x_0.shape\n",
    "        self.x_1_shape = x_1.shape\n",
    "        y = x_0 / x_1\n",
    "        return y\n",
    "    \n",
    "    # 역전파 : 앞 변수의 경우 1 / a를, 뒤 변수의 경우 (- a / b **2)를 그레디언트와 곱해 흘려보낸다.\n",
    "    def backward(self, gy):\n",
    "        x_0, x_1 = self.input_list\n",
    "        gx0, gx1 = gy, gy\n",
    "        gx_0 = (1 / x_1) * gx0\n",
    "        gx_1 = (- x_0 / (x_1) ** 2) * gx1\n",
    "        if self.x_0_shape != self.x_1_shape:\n",
    "            gx_0 = sumto(gx_0, self.x_0_shape)\n",
    "            gx_1 = sumto(gx_1, self.x_1_shape)\n",
    "\n",
    "        return gx_0 , gx_1 \n",
    "\n",
    "# 거듭제곱\n",
    "class Pow(Function):\n",
    "    # Function 클래스에 거듭제곱 수를 init으로 정의한다.\n",
    "    def __init__(self, power):\n",
    "        self.power = power\n",
    "    \n",
    "    # 정전파 : 변수에 거듭제곱을 한다.\n",
    "    def forward(self, x):\n",
    "        y = x ** self.power\n",
    "        return y\n",
    "    \n",
    "    #역전파 : power * x ^ (power - 1) 에 그레디언트를 곱해 흘려보낸다.\n",
    "    def backward(self, gy):\n",
    "        x = self.input_list[0]\n",
    "        gx = self.power * x ** (self.power - 1) * gy \n",
    "        return gx\n",
    "\n",
    "def add(x_0, x_1):\n",
    "    return Add()(x_0, x_1)\n",
    "\n",
    "def mul(x_0, x_1):\n",
    "    return Mul()(x_0, x_1)    \n",
    "    \n",
    "def neg(x):\n",
    "    return Neg()(x)\n",
    "\n",
    "def sub(x_0, x_1):\n",
    "    return Sub()(x_0,x_1)\n",
    "\n",
    "def rsub(x_0, x_1):\n",
    "    return Sub()(x_1, x_0)\n",
    "\n",
    "def div(x_0, x_1):\n",
    "    return Div()(x_0, x_1)\n",
    "\n",
    "def rdiv(x_0, x_1):\n",
    "    return Div()(x_1, x_0)\n",
    "\n",
    "def power(x, power):\n",
    "    return Pow(power)(x)\n",
    "\n",
    "# 연산 기본 메소드들을 덮어씌워\n",
    "# Variable과 연관된 연산은 기호(+, -, *, /)만 사용해도\n",
    "# 우리가 정의한 연산을 수행하도록 대치한다.\n",
    "Variable.__add__ = add\n",
    "Variable.__radd__ = add\n",
    "Variable.__mul__ = mul\n",
    "Variable.__rmul__ = mul\n",
    "Variable.__neg__ = neg\n",
    "Variable.__sub__ = sub\n",
    "Variable.__rsub__ = rsub\n",
    "Variable.__truediv__ = div\n",
    "Variable.__rtruediv__ = rdiv\n",
    "Variable.__pow__ = power"
   ]
  },
  {
   "cell_type": "code",
   "execution_count": 11,
   "id": "8170c313",
   "metadata": {},
   "outputs": [],
   "source": [
    "class Sum(Function):\n",
    "    def __init__(self, axis, keepdims):\n",
    "        # 합을 실시할 축, keepdims 여부를 인자로 받는다.\n",
    "        # keepdims란 텐서합 이후 원래의 텐서 요소 차원(즉, (n1, n2, ...))를 그대로 유지할것인가\n",
    "        self.axis = axis\n",
    "        self.keepdims = keepdims\n",
    "        \n",
    "    def forward(self, x):\n",
    "        # 원본 모양을 기억한다.\n",
    "        self.x_shape = x.shape\n",
    "        # axis와 keepdims로 합을 실시한다.\n",
    "        y = x.sum(axis = self.axis, keepdims = self.keepdims)\n",
    "        return y\n",
    "    \n",
    "    def backward(self, gy):\n",
    "        # \n",
    "        gy = backward_reshape(gy, \n",
    "                              x_shape = self.x_shape, \n",
    "                              axis = self.axis,\n",
    "                              keepdims = self.keepdims)\n",
    "        gx = broadcast_to(gy, x_shape = self.x_shape)\n",
    "        return gx\n",
    "    \n",
    "def flowsum(x,axis,keepdims):\n",
    "    return Sum(axis,keepdims)(x)"
   ]
  },
  {
   "cell_type": "code",
   "execution_count": 12,
   "id": "ef892e3e",
   "metadata": {},
   "outputs": [],
   "source": [
    "class MatMul(Function):\n",
    "    def forward(self, x, w):\n",
    "        y = np.matmul(x, w)\n",
    "        return y\n",
    "\n",
    "    def backward(self, gy):\n",
    "        x = self.input_list[0]\n",
    "        w = self.input_list[1]\n",
    "        gw = matmul(transpose(x), gy)\n",
    "        gx = matmul(gy, transpose(w))\n",
    "        return gx, gw\n",
    "    \n",
    "def matmul(x,w):\n",
    "    return MatMul()(x,w)"
   ]
  },
  {
   "cell_type": "markdown",
   "id": "65b4ab27",
   "metadata": {},
   "source": [
    "## 텐서 형상 함수"
   ]
  },
  {
   "cell_type": "code",
   "execution_count": 13,
   "id": "ad5035d9",
   "metadata": {},
   "outputs": [],
   "source": [
    "class Reshape(Function):\n",
    "    def __init__(self, shape):\n",
    "        # 변환을 원하는 모양을 지정한다.\n",
    "        self.shape = shape\n",
    "        \n",
    "    def forward(self, x):\n",
    "        # 원본 모양을 저장해준다.\n",
    "        self.x_shape = x.shape\n",
    "        # 모양을 reshpae로 바꾼다.\n",
    "        y = x.reshape(self.shape)\n",
    "        return y\n",
    "    \n",
    "    def backward(self, gy):\n",
    "        # 역전파시에는 원본 모양을 복원한다.\n",
    "        gx = reshape(gy, self.x_shape)\n",
    "        return gx\n",
    "        \n",
    "def reshape(x, shape):\n",
    "    return Reshape(shape)(x)\n"
   ]
  },
  {
   "cell_type": "code",
   "execution_count": 14,
   "id": "68bdb5fb",
   "metadata": {},
   "outputs": [],
   "source": [
    "class Transpose(Function):\n",
    "    def __init__(self, shape = None):\n",
    "        self.shape = shape\n",
    "    \n",
    "    def forward(self, x):\n",
    "        # 원본 텐서의 모양을 저장해둔다.\n",
    "        print(x)\n",
    "        self.x_shape = x.shape\n",
    "        # transpose를 실시한다.\n",
    "        if self.shape is not None:\n",
    "            axes_len = len(self.shape)\n",
    "            inv_axes = tuple(np.argsort([ax % axes_len for ax in self.shape]))\n",
    "            y = np.transpose(x, inv_axes)\n",
    "        else :\n",
    "            y = np.transpose(x)\n",
    "        return y\n",
    "    \n",
    "    def backward(self, gy):\n",
    "        # Variable 변수를 받으므로, np.transpose가 아닌 GoteoFlow의 transpose를 받는다.\n",
    "        # 저장되어있던 원본 모양을 복원한다.\n",
    "        gx = transpose(gy, shape = self.x_shape)\n",
    "        return gx\n",
    "    \n",
    "def transpose(x, shape = None):\n",
    "    return Transpose(shape)(x)\n",
    "    "
   ]
  },
  {
   "cell_type": "code",
   "execution_count": 15,
   "id": "90d4ab93",
   "metadata": {},
   "outputs": [],
   "source": [
    "def sum_to(x, shape):\n",
    "    \"\"\"Sum elements along axes to output an array of a given shape.\n",
    "    Args:\n",
    "        x (ndarray): Input array.\n",
    "        shape:\n",
    "    Returns:\n",
    "        ndarray: Output array of the shape.\n",
    "    \"\"\"\n",
    "    ndim = len(shape)\n",
    "    lead = x.ndim - ndim\n",
    "    lead_axis = tuple(range(lead))\n",
    "    \n",
    "    axis = tuple([i + lead for i, sx in enumerate(shape) if sx == 1])\n",
    "    y = x.sum(lead_axis + axis, keepdims=True)\n",
    "    if lead > 0:\n",
    "        y = y.squeeze(lead_axis)\n",
    "    return y\n"
   ]
  },
  {
   "cell_type": "code",
   "execution_count": 16,
   "id": "252b700e",
   "metadata": {},
   "outputs": [],
   "source": [
    "class SumTo(Function):\n",
    "    def __init__(self, shape):\n",
    "        # 모양을 바꾸면서 덧연산을 실시할 목표 모양을 지정한다.\n",
    "        self.shape = shape\n",
    "        \n",
    "    def forward(self, x):\n",
    "        # 원본 모양을 기억한다.\n",
    "        self.x_shape = x.shape\n",
    "        # sum_to 함수로 모양을 바꾸며 합을 실시한다.\n",
    "        y = sum_to(x, self.shape)\n",
    "        return y\n",
    "    \n",
    "    def backward(self, gy):\n",
    "        # 역전파시엔 sum_to로 인해 바뀌었던 모양을 원본 모양으로 복원한다.\n",
    "        gx = broadcast_to(gy, self.x_shape)\n",
    "        return gx\n",
    "    \n",
    "def sumto(x, shape):\n",
    "    return SumTo(shape)(x)"
   ]
  },
  {
   "cell_type": "code",
   "execution_count": 17,
   "id": "76c90ed5",
   "metadata": {},
   "outputs": [],
   "source": [
    "class BroadcastTo(Function):\n",
    "    def __init__(self, shape):\n",
    "        self.shape = shape\n",
    "        \n",
    "    def forward(self, x):\n",
    "        self.x_shape = x.shape\n",
    "        y = broadcast_to(x, self.shape)\n",
    "        return y\n",
    "    \n",
    "    def backward(self, gy):\n",
    "        gx = sumto(x, self.x_shape)\n",
    "        return gx\n",
    "    \n",
    "def broadcast_to(x,shape):\n",
    "    return BroadcastTo(shape)(x)"
   ]
  },
  {
   "cell_type": "markdown",
   "id": "5f501adc",
   "metadata": {},
   "source": [
    "## 특수함수"
   ]
  },
  {
   "cell_type": "code",
   "execution_count": 18,
   "id": "3be2b791",
   "metadata": {},
   "outputs": [],
   "source": [
    "# 특수함수\n",
    "\n",
    "class Exp(Function):\n",
    "    def forward(self, x):\n",
    "        y = np.exp(x)\n",
    "        return y\n",
    "    \n",
    "    def backward(self, gy):\n",
    "        x = self.input_list\n",
    "        gx = np.exp(x) * gy\n",
    "        return gx \n",
    "    \n",
    "def exp(x):\n",
    "    return Exp()(x)"
   ]
  },
  {
   "cell_type": "code",
   "execution_count": 19,
   "id": "9eaff373",
   "metadata": {},
   "outputs": [],
   "source": [
    "class Sin(Function):\n",
    "    def forward(self, x):\n",
    "        y = np.sin(x)\n",
    "        return y\n",
    "    \n",
    "    def backward(self, gy):\n",
    "        x = self.input_list[0]\n",
    "        gx = cos(x) * gy\n",
    "        return gx\n",
    "    \n",
    "def sin(x):\n",
    "    return Sin()(x)"
   ]
  },
  {
   "cell_type": "code",
   "execution_count": 20,
   "id": "4d9ce310",
   "metadata": {},
   "outputs": [],
   "source": [
    "class Cos(Function):\n",
    "    def forward(self, x):\n",
    "        y = np.cos(x)\n",
    "        return y\n",
    "    \n",
    "    def backward(self, gy):\n",
    "        x = self.input_list[0]\n",
    "        return -sin(x) * gy\n",
    "    \n",
    "def cos(x):\n",
    "    return Cos()(x)"
   ]
  },
  {
   "cell_type": "code",
   "execution_count": 21,
   "id": "194715a2",
   "metadata": {},
   "outputs": [],
   "source": [
    "a = Variable(np.array([3.0,2.0,3.0]))\n",
    "b = Variable(np.array([3.0,2.0,3.0]))\n",
    "c = Variable(np.array([1.0,2.0,3.0]))"
   ]
  },
  {
   "cell_type": "code",
   "execution_count": 72,
   "id": "e4667653",
   "metadata": {},
   "outputs": [],
   "source": [
    "a = Variable(np.array([[1,3],[4,5], [6,8]]))\n",
    "b = Variable(np.array([[10,11],[13,14],[15,16]]))"
   ]
  },
  {
   "cell_type": "code",
   "execution_count": 73,
   "id": "651ce0d0",
   "metadata": {},
   "outputs": [],
   "source": [
    "class GradientTape():\n",
    "    def __init__(self):\n",
    "        global GRADIENT_TAPE\n",
    "        GRADIENT_TAPE = dict()\n",
    "    def __enter__(self):\n",
    "        return self\n",
    "    def __exit__(self, type, value, traceback):\n",
    "        global GRADIENT_TAPE\n",
    "        self.gradient_tape = GRADIENT_TAPE\n",
    "        del GRADIENT_TAPE\n",
    "    def CalcGradient(self, tapes = None):\n",
    "        if tapes is None:\n",
    "            tapes = self.gradient_tape\n",
    "        tapes = dict(reversed(tapes.items()))\n",
    "        def as_array(x):\n",
    "            if np.isscalar(x):\n",
    "                return np.array(x)\n",
    "            return x        \n",
    "        def as_variable(x):\n",
    "            if isinstance(x, Variable):\n",
    "                return x\n",
    "            return Variable(x)        \n",
    "        for i, tape in enumerate(tapes.items()):                     \n",
    "            outputs = tape[0]\n",
    "            if isinstance(outputs, Variable):\n",
    "                outputs = [outputs]\n",
    "            if i == 0:\n",
    "                for j in outputs:\n",
    "                    j.grad = Variable(np.ones_like(j.data))                      \n",
    "            inputs = tape[1][1]\n",
    "            x_list = [as_array(i.data) for i in inputs]                     \n",
    "            func = tape[1][0]\n",
    "\n",
    "            gy_list = [output.grad for output in outputs]\n",
    "\n",
    "            func.input_list = inputs\n",
    "            gx_list = func.backward(*gy_list)\n",
    "            if not isinstance(gx_list, tuple):\n",
    "                gx_list = (gx_list,)\n",
    "\n",
    "            for x, gx in zip(inputs, gx_list):\n",
    "                if x.grad is None:\n",
    "                    x.grad = gx\n",
    "                else:\n",
    "                    x.grad = x.grad + gx"
   ]
  },
  {
   "cell_type": "code",
   "execution_count": 74,
   "id": "bde2653a",
   "metadata": {},
   "outputs": [
    {
     "name": "stdout",
     "output_type": "stream",
     "text": [
      "inputs (<__main__.Variable object at 0x000001CEC819DA60>,)\n",
      "x_list [array([[1, 3],\n",
      "       [4, 5],\n",
      "       [6, 8]])]\n",
      "[[1 3]\n",
      " [4 5]\n",
      " [6 8]]\n",
      "func <__main__.Transpose object at 0x000001CEC80B0B20>\n",
      "inputs (<__main__.Variable object at 0x000001CEC819DCD0>, <__main__.Variable object at 0x000001CEC819D190>)\n",
      "x_list [array([[1, 4, 6],\n",
      "       [3, 5, 8]]), array([[10, 11],\n",
      "       [13, 14],\n",
      "       [15, 16]])]\n",
      "func <__main__.MatMul object at 0x000001CEC80B0820>\n",
      "inputs (<__main__.Variable object at 0x000001CEC819D9A0>,)\n",
      "x_list [array([[152, 163],\n",
      "       [215, 231]])]\n",
      "func <__main__.Pow object at 0x000001CEC80B0AF0>\n",
      "inputs (<__main__.Variable object at 0x000001CEC819D9A0>, 2)\n",
      "x_list [array([[152, 163],\n",
      "       [215, 231]]), array(2)]\n",
      "func <__main__.Mul object at 0x000001CEC819DAF0>\n",
      "inputs (<__main__.Variable object at 0x000001CEC819D9D0>, <__main__.Variable object at 0x000001CEC8197EE0>)\n",
      "x_list [array([[23104, 26569],\n",
      "       [46225, 53361]], dtype=int32), array([[304, 326],\n",
      "       [430, 462]])]\n",
      "func <__main__.Add object at 0x000001CEC819DFA0>\n"
     ]
    }
   ],
   "source": [
    "with GradientTape() as tape:\n",
    "    d = matmul(transpose(a),b)nariflow_tape\n",
    "    f = d ** 2 + d * 2"
   ]
  },
  {
   "cell_type": "code",
   "execution_count": 75,
   "id": "6df603b8",
   "metadata": {},
   "outputs": [
    {
     "data": {
      "text/plain": [
       "{<__main__.Variable at 0x1cec819dcd0>: (<__main__.Transpose at 0x1cec80b0b20>,\n",
       "  [<__main__.Variable at 0x1cec819da60>]),\n",
       " <__main__.Variable at 0x1cec819d9a0>: (<__main__.MatMul at 0x1cec80b0820>,\n",
       "  [<__main__.Variable at 0x1cec819dcd0>,\n",
       "   <__main__.Variable at 0x1cec819d190>]),\n",
       " <__main__.Variable at 0x1cec819d9d0>: (<__main__.Pow at 0x1cec80b0af0>,\n",
       "  [<__main__.Variable at 0x1cec819d9a0>]),\n",
       " <__main__.Variable at 0x1cec8197ee0>: (<__main__.Mul at 0x1cec819daf0>,\n",
       "  [<__main__.Variable at 0x1cec819d9a0>,\n",
       "   <__main__.Variable at 0x1cec8197610>]),\n",
       " <__main__.Variable at 0x1cec8197e20>: (<__main__.Add at 0x1cec819dfa0>,\n",
       "  [<__main__.Variable at 0x1cec819d9d0>,\n",
       "   <__main__.Variable at 0x1cec8197ee0>])}"
      ]
     },
     "execution_count": 75,
     "metadata": {},
     "output_type": "execute_result"
    }
   ],
   "source": [
    "tape.gradient_tape"
   ]
  },
  {
   "cell_type": "code",
   "execution_count": 76,
   "id": "7ab7ad45",
   "metadata": {},
   "outputs": [
    {
     "name": "stdout",
     "output_type": "stream",
     "text": [
      "outputs <__main__.Variable object at 0x000001CEC8197E20>\n",
      "gy_list [<__main__.Variable object at 0x000001CEC8095280>]\n",
      "outputs <__main__.Variable object at 0x000001CEC8197EE0>\n",
      "gy_list [<__main__.Variable object at 0x000001CEC8095280>]\n",
      "inputs (<__main__.Variable object at 0x000001CEC819D9A0>, <__main__.Variable object at 0x000001CEC8095280>)\n",
      "x_list [array([[152, 163],\n",
      "       [215, 231]]), array([[1, 1],\n",
      "       [1, 1]])]\n",
      "func <__main__.Mul object at 0x000001CEC819DA30>\n",
      "inputs (<__main__.Variable object at 0x000001CEC8197610>, <__main__.Variable object at 0x000001CEC8095280>)\n",
      "x_list [array(2), array([[1, 1],\n",
      "       [1, 1]])]\n",
      "func <__main__.Mul object at 0x000001CEC819DA30>\n",
      "inputs (<__main__.Variable object at 0x000001CEC819D490>,)\n",
      "x_list [array([[152, 163],\n",
      "       [215, 231]])]\n",
      "func <__main__.SumTo object at 0x000001CEC80B0EB0>\n",
      "inputs (<__main__.Variable object at 0x000001CEC8197FD0>,)\n",
      "x_list [array([[2, 2],\n",
      "       [2, 2]])]\n",
      "func <__main__.SumTo object at 0x000001CEC80B0EB0>\n",
      "outputs <__main__.Variable object at 0x000001CEC819D9D0>\n",
      "gy_list [<__main__.Variable object at 0x000001CEC8095280>]\n",
      "inputs (<__main__.Variable object at 0x000001CEC819D9A0>,)\n",
      "x_list [array([[152, 163],\n",
      "       [215, 231]])]\n",
      "func <__main__.Pow object at 0x000001CEC819BA90>\n",
      "inputs (<__main__.Variable object at 0x000001CEC819BF40>, 2)\n",
      "x_list [array([[152, 163],\n",
      "       [215, 231]], dtype=int32), array(2)]\n",
      "func <__main__.Mul object at 0x000001CEC819BA90>\n",
      "inputs (<__main__.Variable object at 0x000001CEC804C5B0>, <__main__.Variable object at 0x000001CEC8095280>)\n",
      "x_list [array([[304, 326],\n",
      "       [430, 462]], dtype=int32), array([[1, 1],\n",
      "       [1, 1]])]\n",
      "func <__main__.Mul object at 0x000001CEC8072490>\n",
      "inputs (<__main__.Variable object at 0x000001CEC8197700>, <__main__.Variable object at 0x000001CEC804CCA0>)\n",
      "x_list [array(8), array([[304, 326],\n",
      "       [430, 462]])]\n",
      "func <__main__.Add object at 0x000001CEC819BF40>\n",
      "outputs <__main__.Variable object at 0x000001CEC819D9A0>\n",
      "gy_list [<__main__.Variable object at 0x000001CEC819D2B0>]\n",
      "inputs (<__main__.Variable object at 0x000001CEC819DCD0>,)\n",
      "x_list [array([[1, 4, 6],\n",
      "       [3, 5, 8]])]\n",
      "[[1 4 6]\n",
      " [3 5 8]]\n",
      "func <__main__.Transpose object at 0x000001CEC8095190>\n",
      "inputs (<__main__.Variable object at 0x000001CEC8095970>, <__main__.Variable object at 0x000001CEC819D2B0>)\n",
      "x_list [array([[1, 3],\n",
      "       [4, 5],\n",
      "       [6, 8]]), array([[312, 334],\n",
      "       [438, 470]])]\n",
      "func <__main__.MatMul object at 0x000001CEC8095190>\n",
      "inputs (<__main__.Variable object at 0x000001CEC819D190>,)\n",
      "x_list [array([[10, 11],\n",
      "       [13, 14],\n",
      "       [15, 16]])]\n",
      "[[10 11]\n",
      " [13 14]\n",
      " [15 16]]\n",
      "func <__main__.Transpose object at 0x000001CEC8095970>\n",
      "inputs (<__main__.Variable object at 0x000001CEC819D2B0>, <__main__.Variable object at 0x000001CEC5F5A550>)\n",
      "x_list [array([[312, 334],\n",
      "       [438, 470]]), array([[10, 13, 15],\n",
      "       [11, 14, 16]])]\n",
      "func <__main__.MatMul object at 0x000001CEC8095970>\n",
      "outputs <__main__.Variable object at 0x000001CEC819DCD0>\n",
      "gy_list [<__main__.Variable object at 0x000001CEC819BBB0>]\n",
      "inputs (<__main__.Variable object at 0x000001CEC819BBB0>,)\n",
      "x_list [array([[ 6794,  8732, 10024],\n",
      "       [ 9550, 12274, 14090]])]\n",
      "[[ 6794  8732 10024]\n",
      " [ 9550 12274 14090]]\n",
      "func <__main__.Transpose object at 0x000001CEC80DC250>\n"
     ]
    }
   ],
   "source": [
    "tape.CalcGradient()"
   ]
  },
  {
   "cell_type": "code",
   "execution_count": 59,
   "id": "a1baf5ca",
   "metadata": {},
   "outputs": [],
   "source": [
    "f.resetgrad()"
   ]
  },
  {
   "cell_type": "code",
   "execution_count": 77,
   "id": "d268f472",
   "metadata": {},
   "outputs": [
    {
     "data": {
      "text/plain": [
       "array([[ 6794,  9550],\n",
       "       [ 8732, 12274],\n",
       "       [10024, 14090]])"
      ]
     },
     "execution_count": 77,
     "metadata": {},
     "output_type": "execute_result"
    }
   ],
   "source": [
    "a.grad.data"
   ]
  },
  {
   "cell_type": "code",
   "execution_count": 78,
   "id": "7c63ffb6",
   "metadata": {},
   "outputs": [
    {
     "data": {
      "text/plain": [
       "array([[1626, 1744],\n",
       "       [3438, 3686],\n",
       "       [5376, 5764]])"
      ]
     },
     "execution_count": 78,
     "metadata": {},
     "output_type": "execute_result"
    }
   ],
   "source": [
    "b.grad.data"
   ]
  },
  {
   "cell_type": "code",
   "execution_count": 33,
   "id": "b37af564",
   "metadata": {},
   "outputs": [
    {
     "data": {
      "text/plain": [
       "array([[1, 1],\n",
       "       [1, 1],\n",
       "       [1, 1]])"
      ]
     },
     "execution_count": 33,
     "metadata": {},
     "output_type": "execute_result"
    }
   ],
   "source": []
  },
  {
   "cell_type": "code",
   "execution_count": 132,
   "id": "b8c8ac7f",
   "metadata": {},
   "outputs": [
    {
     "data": {
      "text/plain": [
       "array([[10, 11],\n",
       "       [13, 14],\n",
       "       [15, 16]])"
      ]
     },
     "execution_count": 132,
     "metadata": {},
     "output_type": "execute_result"
    }
   ],
   "source": [
    "b.data"
   ]
  },
  {
   "cell_type": "code",
   "execution_count": 130,
   "id": "b00fa1e6",
   "metadata": {},
   "outputs": [
    {
     "data": {
      "text/plain": [
       "array([[ 4866,  5246],\n",
       "       [ 9964, 10734],\n",
       "       [15136, 16306]])"
      ]
     },
     "execution_count": 130,
     "metadata": {},
     "output_type": "execute_result"
    }
   ],
   "source": [
    "a.grad.data"
   ]
  },
  {
   "cell_type": "code",
   "execution_count": 450,
   "id": "0fb3a29d",
   "metadata": {},
   "outputs": [],
   "source": [
    "class CalcGradient():\n",
    "    \n",
    "    def __call__(self, *inputs):\n",
    "        def as_array(x):\n",
    "            if np.isscalar(x):\n",
    "                return np.array(x)\n",
    "            return x\n",
    "        \n",
    "        def as_variable(x):\n",
    "            if isinstance(x, Variable):\n",
    "                return x\n",
    "            return Variable(x)\n",
    "        \n",
    "        def add_func(func):\n",
    "            if func not in seen_set:\n",
    "                funcs.append(func)\n",
    "                seen_set.add(func)\n",
    "                funcs.sort(key = lambda x : x.generation)\n",
    "                \n",
    "        inputs = [as_variable(x) for x in inputs]\n",
    "        x_list = [as_array(i.data) for i in inputs]\n",
    "        self.grad = [Variable(np.ones_like(i)) for i in x_list]\n",
    "\n",
    "        seen_set = set()\n",
    "        funcs = []\n",
    "\n",
    "        # add_func는 variable에 저장되어있는 세대 정보(0,1,2,....)를 기준으로 \n",
    "        # Function을 정렬한다.\n",
    "        # 이는 노드가 분할되어 하나의 노드에 엣지가 두개 연결될 시(a - b & a - c)\n",
    "        # b와 c를 먼저!!!! 처리하고 그 이후에 a로 역전파 되도록 보장한다.\n",
    "\n",
    "        # 스택 탐색 알고리즘을 이용하여 가장 뒷 단계 Variable에서 정의된 노드 함수를 가져온다.\n",
    "        # 즉, 역전파를 시작하기 위한 초기값을 준비한다.\n",
    "        for i in inputs:\n",
    "            add_func(inputs.node_function)\n",
    "       \n",
    "        while funcs:\n",
    "            func = funcs.pop()\n",
    "             # 현재단계의 뒤에서 전달해온 gradient값을 리스트로 저장한다.\n",
    "            gy_list = [output().grad for output in func.output_list]\n",
    "            # 뒷단계 gradient를 노드 함수(즉, 현 연산 함수)에 투입하여 현재단계 grad를 구한다.\n",
    "            gx_list = func.backward(*gy_list)\n",
    "            if not isinstance(gx_list, tuple):\n",
    "                gx_list = (gx_list,)\n",
    "\n",
    "            # 현 단계의 Variable을 불러와 Variable.grad에 Gradient 연산 결과물을 저장한다.\n",
    "            for x, gx in zip(func.input_list, gx_list):\n",
    "                # 동일 변수 사용시 gx가 단순히 덧씌워지는 문제를 해결한다.\n",
    "                if x.grad is None:\n",
    "                    x.grad = gx\n",
    "                else:\n",
    "                    x.grad = x.grad + gx\n",
    "                # 현 단계에 연결되어 있는 노드 함수(즉, 앞 단계 연산 함수)를 다음 node_function으로\n",
    "                # 저장한다.\n",
    "                if x.node_function is not None :\n",
    "                    add_func(x.node_function)"
   ]
  },
  {
   "cell_type": "code",
   "execution_count": 451,
   "id": "0e04e1a5",
   "metadata": {},
   "outputs": [
    {
     "name": "stdout",
     "output_type": "stream",
     "text": [
      "(<__main__.Variable object at 0x00000263BC244AC0>, <__main__.Variable object at 0x00000263BB50CFD0>)\n",
      "[array([[[1, 1, 1],\n",
      "        [1, 1, 1],\n",
      "        [1, 1, 1]]]), array([[[1, 1, 1],\n",
      "        [1, 1, 1],\n",
      "        [1, 1, 1]]])]\n",
      "<__main__.Add object at 0x00000263BB50CD30>\n",
      "(<__main__.Variable object at 0x00000263BC244AC0>, <__main__.Variable object at 0x00000263BB50CFD0>)\n",
      "[array([[[1, 1, 1],\n",
      "        [1, 1, 1],\n",
      "        [1, 1, 1]]]), array([[[1, 1, 1],\n",
      "        [1, 1, 1],\n",
      "        [1, 1, 1]]])]\n",
      "<__main__.Add object at 0x00000263BB50CD30>\n",
      "(<__main__.Variable object at 0x00000263BC42BF40>, <__main__.Variable object at 0x00000263BC526B20>)\n",
      "[array([[ 43,  55,  63],\n",
      "       [ 95, 122, 140],\n",
      "       [148, 190, 218]]), array([[[2, 2, 2],\n",
      "        [2, 2, 2],\n",
      "        [2, 2, 2]]])]\n",
      "<__main__.Mul object at 0x00000263BC8E4520>\n",
      "(<__main__.Variable object at 0x00000263BC9CC760>, <__main__.Variable object at 0x00000263BC526B20>)\n",
      "[array(2), array([[[2, 2, 2],\n",
      "        [2, 2, 2],\n",
      "        [2, 2, 2]]])]\n",
      "<__main__.Mul object at 0x00000263BC8E4520>\n",
      "(<__main__.Variable object at 0x00000263BC936A60>,)\n",
      "[array([[[ 86, 110, 126],\n",
      "        [190, 244, 280],\n",
      "        [296, 380, 436]]])]\n",
      "<__main__.SumTo object at 0x00000263BC8E4520>\n",
      "((<__main__.Variable object at 0x00000263BC936430>,),)\n",
      "[(<__main__.Variable object at 0x00000263BC936430>,)]\n"
     ]
    },
    {
     "ename": "AttributeError",
     "evalue": "'tuple' object has no attribute 'shape'",
     "output_type": "error",
     "traceback": [
      "\u001b[1;31m---------------------------------------------------------------------------\u001b[0m",
      "\u001b[1;31mAttributeError\u001b[0m                            Traceback (most recent call last)",
      "\u001b[1;32m<ipython-input-451-82178a95ac59>\u001b[0m in \u001b[0;36m<module>\u001b[1;34m\u001b[0m\n\u001b[1;32m----> 1\u001b[1;33m \u001b[0mtape\u001b[0m\u001b[1;33m.\u001b[0m\u001b[0mCalcGradient\u001b[0m\u001b[1;33m(\u001b[0m\u001b[1;33m)\u001b[0m\u001b[1;33m\u001b[0m\u001b[1;33m\u001b[0m\u001b[0m\n\u001b[0m",
      "\u001b[1;32m<ipython-input-445-f6cfa61dbc6a>\u001b[0m in \u001b[0;36mCalcGradient\u001b[1;34m(self, tapes)\u001b[0m\n\u001b[0;32m     46\u001b[0m             \u001b[1;31m# 뒷단계 gradient를 노드 함수(즉, 현 연산 함수)에 투입하여 현재단계 grad를 구한다.\u001b[0m\u001b[1;33m\u001b[0m\u001b[1;33m\u001b[0m\u001b[1;33m\u001b[0m\u001b[0m\n\u001b[0;32m     47\u001b[0m             \u001b[0mfunc\u001b[0m\u001b[1;33m.\u001b[0m\u001b[0minput_list\u001b[0m \u001b[1;33m=\u001b[0m \u001b[0minputs\u001b[0m\u001b[1;33m\u001b[0m\u001b[1;33m\u001b[0m\u001b[0m\n\u001b[1;32m---> 48\u001b[1;33m             \u001b[0mgx_list\u001b[0m \u001b[1;33m=\u001b[0m \u001b[0mfunc\u001b[0m\u001b[1;33m.\u001b[0m\u001b[0mbackward\u001b[0m\u001b[1;33m(\u001b[0m\u001b[1;33m*\u001b[0m\u001b[0mgy_list\u001b[0m\u001b[1;33m)\u001b[0m\u001b[1;33m\u001b[0m\u001b[1;33m\u001b[0m\u001b[0m\n\u001b[0m\u001b[0;32m     49\u001b[0m             \u001b[1;32mif\u001b[0m \u001b[1;32mnot\u001b[0m \u001b[0misinstance\u001b[0m\u001b[1;33m(\u001b[0m\u001b[0mgx_list\u001b[0m\u001b[1;33m,\u001b[0m \u001b[0mtuple\u001b[0m\u001b[1;33m)\u001b[0m\u001b[1;33m:\u001b[0m\u001b[1;33m\u001b[0m\u001b[1;33m\u001b[0m\u001b[0m\n\u001b[0;32m     50\u001b[0m                 \u001b[0mgx_list\u001b[0m \u001b[1;33m=\u001b[0m \u001b[1;33m(\u001b[0m\u001b[0mgx_list\u001b[0m\u001b[1;33m,\u001b[0m\u001b[1;33m)\u001b[0m\u001b[1;33m\u001b[0m\u001b[1;33m\u001b[0m\u001b[0m\n",
      "\u001b[1;32m<ipython-input-432-758f66da0b75>\u001b[0m in \u001b[0;36mbackward\u001b[1;34m(self, gy)\u001b[0m\n\u001b[0;32m     33\u001b[0m         \u001b[1;32mif\u001b[0m \u001b[0mself\u001b[0m\u001b[1;33m.\u001b[0m\u001b[0mx_0_shape\u001b[0m \u001b[1;33m!=\u001b[0m \u001b[0mself\u001b[0m\u001b[1;33m.\u001b[0m\u001b[0mx_1_shape\u001b[0m\u001b[1;33m:\u001b[0m\u001b[1;33m\u001b[0m\u001b[1;33m\u001b[0m\u001b[0m\n\u001b[0;32m     34\u001b[0m             \u001b[0mgx_0\u001b[0m \u001b[1;33m=\u001b[0m \u001b[0msumto\u001b[0m\u001b[1;33m(\u001b[0m\u001b[0mgx_0\u001b[0m\u001b[1;33m,\u001b[0m \u001b[0mself\u001b[0m\u001b[1;33m.\u001b[0m\u001b[0mx_0_shape\u001b[0m\u001b[1;33m)\u001b[0m\u001b[1;33m\u001b[0m\u001b[1;33m\u001b[0m\u001b[0m\n\u001b[1;32m---> 35\u001b[1;33m             \u001b[0mgx_1\u001b[0m \u001b[1;33m=\u001b[0m \u001b[0msumto\u001b[0m\u001b[1;33m(\u001b[0m\u001b[0mgx_1\u001b[0m\u001b[1;33m,\u001b[0m \u001b[0mself\u001b[0m\u001b[1;33m.\u001b[0m\u001b[0mx_1_shape\u001b[0m\u001b[1;33m)\u001b[0m\u001b[1;33m\u001b[0m\u001b[1;33m\u001b[0m\u001b[0m\n\u001b[0m\u001b[0;32m     36\u001b[0m         \u001b[1;32mreturn\u001b[0m \u001b[0mgx1\u001b[0m\u001b[1;33m,\u001b[0m \u001b[0mgx0\u001b[0m\u001b[1;33m\u001b[0m\u001b[1;33m\u001b[0m\u001b[0m\n\u001b[0;32m     37\u001b[0m \u001b[1;33m\u001b[0m\u001b[0m\n",
      "\u001b[1;32m<ipython-input-438-8a8973dc8de5>\u001b[0m in \u001b[0;36msumto\u001b[1;34m(x, shape)\u001b[0m\n\u001b[0;32m     17\u001b[0m \u001b[1;33m\u001b[0m\u001b[0m\n\u001b[0;32m     18\u001b[0m \u001b[1;32mdef\u001b[0m \u001b[0msumto\u001b[0m\u001b[1;33m(\u001b[0m\u001b[0mx\u001b[0m\u001b[1;33m,\u001b[0m \u001b[0mshape\u001b[0m\u001b[1;33m)\u001b[0m\u001b[1;33m:\u001b[0m\u001b[1;33m\u001b[0m\u001b[1;33m\u001b[0m\u001b[0m\n\u001b[1;32m---> 19\u001b[1;33m     \u001b[1;32mreturn\u001b[0m \u001b[0mSumTo\u001b[0m\u001b[1;33m(\u001b[0m\u001b[0mshape\u001b[0m\u001b[1;33m)\u001b[0m\u001b[1;33m(\u001b[0m\u001b[0mx\u001b[0m\u001b[1;33m)\u001b[0m\u001b[1;33m\u001b[0m\u001b[1;33m\u001b[0m\u001b[0m\n\u001b[0m",
      "\u001b[1;32m<ipython-input-430-cf2a0aed7843>\u001b[0m in \u001b[0;36m__call__\u001b[1;34m(self, *inputs)\u001b[0m\n\u001b[0;32m     17\u001b[0m         \u001b[0mprint\u001b[0m\u001b[1;33m(\u001b[0m\u001b[0mx_list\u001b[0m\u001b[1;33m)\u001b[0m\u001b[1;33m\u001b[0m\u001b[1;33m\u001b[0m\u001b[0m\n\u001b[0;32m     18\u001b[0m         \u001b[1;31m# forward 실시, 이 때 x_list는 이미 i.data로 내부 scalar값들이 노출된 상태다.\u001b[0m\u001b[1;33m\u001b[0m\u001b[1;33m\u001b[0m\u001b[1;33m\u001b[0m\u001b[0m\n\u001b[1;32m---> 19\u001b[1;33m         \u001b[0my_list\u001b[0m \u001b[1;33m=\u001b[0m \u001b[0mself\u001b[0m\u001b[1;33m.\u001b[0m\u001b[0mforward\u001b[0m\u001b[1;33m(\u001b[0m\u001b[1;33m*\u001b[0m\u001b[0mx_list\u001b[0m\u001b[1;33m)\u001b[0m\u001b[1;33m\u001b[0m\u001b[1;33m\u001b[0m\u001b[0m\n\u001b[0m\u001b[0;32m     20\u001b[0m         \u001b[0mprint\u001b[0m\u001b[1;33m(\u001b[0m\u001b[0mself\u001b[0m\u001b[1;33m)\u001b[0m\u001b[1;33m\u001b[0m\u001b[1;33m\u001b[0m\u001b[0m\n\u001b[0;32m     21\u001b[0m         \u001b[1;31m# 출력 결과물이 tuple이 아니면 tuple로 변환해준다.\u001b[0m\u001b[1;33m\u001b[0m\u001b[1;33m\u001b[0m\u001b[1;33m\u001b[0m\u001b[0m\n",
      "\u001b[1;32m<ipython-input-438-8a8973dc8de5>\u001b[0m in \u001b[0;36mforward\u001b[1;34m(self, x)\u001b[0m\n\u001b[0;32m      6\u001b[0m     \u001b[1;32mdef\u001b[0m \u001b[0mforward\u001b[0m\u001b[1;33m(\u001b[0m\u001b[0mself\u001b[0m\u001b[1;33m,\u001b[0m \u001b[0mx\u001b[0m\u001b[1;33m)\u001b[0m\u001b[1;33m:\u001b[0m\u001b[1;33m\u001b[0m\u001b[1;33m\u001b[0m\u001b[0m\n\u001b[0;32m      7\u001b[0m         \u001b[1;31m# 원본 모양을 기억한다.\u001b[0m\u001b[1;33m\u001b[0m\u001b[1;33m\u001b[0m\u001b[1;33m\u001b[0m\u001b[0m\n\u001b[1;32m----> 8\u001b[1;33m         \u001b[0mself\u001b[0m\u001b[1;33m.\u001b[0m\u001b[0mx_shape\u001b[0m \u001b[1;33m=\u001b[0m \u001b[0mx\u001b[0m\u001b[1;33m.\u001b[0m\u001b[0mshape\u001b[0m\u001b[1;33m\u001b[0m\u001b[1;33m\u001b[0m\u001b[0m\n\u001b[0m\u001b[0;32m      9\u001b[0m         \u001b[1;31m# sum_to 함수로 모양을 바꾸며 합을 실시한다.\u001b[0m\u001b[1;33m\u001b[0m\u001b[1;33m\u001b[0m\u001b[1;33m\u001b[0m\u001b[0m\n\u001b[0;32m     10\u001b[0m         \u001b[0my\u001b[0m \u001b[1;33m=\u001b[0m \u001b[0msum_to\u001b[0m\u001b[1;33m(\u001b[0m\u001b[0mx\u001b[0m\u001b[1;33m,\u001b[0m \u001b[0mself\u001b[0m\u001b[1;33m.\u001b[0m\u001b[0mshape\u001b[0m\u001b[1;33m)\u001b[0m\u001b[1;33m\u001b[0m\u001b[1;33m\u001b[0m\u001b[0m\n",
      "\u001b[1;31mAttributeError\u001b[0m: 'tuple' object has no attribute 'shape'"
     ]
    }
   ],
   "source": [
    "tape.CalcGradient()"
   ]
  },
  {
   "cell_type": "code",
   "execution_count": 452,
   "id": "add68331",
   "metadata": {},
   "outputs": [],
   "source": [
    "a = list(tapes.values())[1][0]"
   ]
  },
  {
   "cell_type": "code",
   "execution_count": 291,
   "id": "40492418",
   "metadata": {},
   "outputs": [],
   "source": [
    "def sphere(x,y):\n",
    "    z = x ** 2 + y ** 2\n",
    "    return z"
   ]
  },
  {
   "cell_type": "code",
   "execution_count": 223,
   "id": "3d9067a6",
   "metadata": {},
   "outputs": [],
   "source": [
    "def matyas(x, y):\n",
    "    z = 0.26 * (x ** 2 + y ** 2) - 0.48 * x * y\n",
    "    return z"
   ]
  },
  {
   "cell_type": "code",
   "execution_count": 224,
   "id": "bed29295",
   "metadata": {},
   "outputs": [],
   "source": [
    "def goldstein(x,y):\n",
    "    z = (1 + (x + y + 1) ** 2 * (19 - 14 * x + 3 * x **2 - 14 * y + 6 * x * y + 3 * y ** 2)) * \\\n",
    "    (30 + (2 * x - 3 * y)**2 * (18 - 32*x + 12*x**2 + 48*y - 36*x*y + 27*y**2))\n",
    "    \n",
    "    return z"
   ]
  },
  {
   "cell_type": "code",
   "execution_count": 225,
   "id": "7e49a826",
   "metadata": {},
   "outputs": [],
   "source": [
    "def rosenbrock(x_0, x_1):\n",
    "    z = 100 * (x_1 - x_0 ** 2) ** 2 + (1 - x_0) ** 2\n",
    "    return z"
   ]
  },
  {
   "cell_type": "code",
   "execution_count": 226,
   "id": "7d988ba6",
   "metadata": {},
   "outputs": [],
   "source": [
    "?np.transpose"
   ]
  },
  {
   "cell_type": "code",
   "execution_count": 227,
   "id": "823e52ff",
   "metadata": {},
   "outputs": [
    {
     "ename": "AttributeError",
     "evalue": "'NoneType' object has no attribute 'generation'",
     "output_type": "error",
     "traceback": [
      "\u001b[1;31m---------------------------------------------------------------------------\u001b[0m",
      "\u001b[1;31mAttributeError\u001b[0m                            Traceback (most recent call last)",
      "\u001b[1;32m<ipython-input-227-a2b99fc94840>\u001b[0m in \u001b[0;36m<module>\u001b[1;34m\u001b[0m\n\u001b[1;32m----> 1\u001b[1;33m \u001b[0mx\u001b[0m\u001b[1;33m.\u001b[0m\u001b[0mbackward\u001b[0m\u001b[1;33m(\u001b[0m\u001b[1;33m)\u001b[0m\u001b[1;33m\u001b[0m\u001b[1;33m\u001b[0m\u001b[0m\n\u001b[0m",
      "\u001b[1;32m<ipython-input-3-4bbfc7d865fa>\u001b[0m in \u001b[0;36mbackward\u001b[1;34m(self)\u001b[0m\n\u001b[0;32m     39\u001b[0m         \u001b[1;31m# 스택 탐색 알고리즘을 이용하여 가장 뒷 단계 Variable에서 정의된 노드 함수를 가져온다.\u001b[0m\u001b[1;33m\u001b[0m\u001b[1;33m\u001b[0m\u001b[1;33m\u001b[0m\u001b[0m\n\u001b[0;32m     40\u001b[0m         \u001b[1;31m# 즉, 역전파를 시작하기 위한 초기값을 준비한다.\u001b[0m\u001b[1;33m\u001b[0m\u001b[1;33m\u001b[0m\u001b[1;33m\u001b[0m\u001b[0m\n\u001b[1;32m---> 41\u001b[1;33m         \u001b[0madd_func\u001b[0m\u001b[1;33m(\u001b[0m\u001b[0mself\u001b[0m\u001b[1;33m.\u001b[0m\u001b[0mnode_function\u001b[0m\u001b[1;33m)\u001b[0m\u001b[1;33m\u001b[0m\u001b[1;33m\u001b[0m\u001b[0m\n\u001b[0m\u001b[0;32m     42\u001b[0m \u001b[1;33m\u001b[0m\u001b[0m\n\u001b[0;32m     43\u001b[0m         \u001b[1;32mwhile\u001b[0m \u001b[0mfuncs\u001b[0m\u001b[1;33m:\u001b[0m\u001b[1;33m\u001b[0m\u001b[1;33m\u001b[0m\u001b[0m\n",
      "\u001b[1;32m<ipython-input-3-4bbfc7d865fa>\u001b[0m in \u001b[0;36madd_func\u001b[1;34m(func)\u001b[0m\n\u001b[0;32m     36\u001b[0m                 \u001b[0mfuncs\u001b[0m\u001b[1;33m.\u001b[0m\u001b[0mappend\u001b[0m\u001b[1;33m(\u001b[0m\u001b[0mfunc\u001b[0m\u001b[1;33m)\u001b[0m\u001b[1;33m\u001b[0m\u001b[1;33m\u001b[0m\u001b[0m\n\u001b[0;32m     37\u001b[0m                 \u001b[0mseen_set\u001b[0m\u001b[1;33m.\u001b[0m\u001b[0madd\u001b[0m\u001b[1;33m(\u001b[0m\u001b[0mfunc\u001b[0m\u001b[1;33m)\u001b[0m\u001b[1;33m\u001b[0m\u001b[1;33m\u001b[0m\u001b[0m\n\u001b[1;32m---> 38\u001b[1;33m                 \u001b[0mfuncs\u001b[0m\u001b[1;33m.\u001b[0m\u001b[0msort\u001b[0m\u001b[1;33m(\u001b[0m\u001b[0mkey\u001b[0m \u001b[1;33m=\u001b[0m \u001b[1;32mlambda\u001b[0m \u001b[0mx\u001b[0m \u001b[1;33m:\u001b[0m \u001b[0mx\u001b[0m\u001b[1;33m.\u001b[0m\u001b[0mgeneration\u001b[0m\u001b[1;33m)\u001b[0m\u001b[1;33m\u001b[0m\u001b[1;33m\u001b[0m\u001b[0m\n\u001b[0m\u001b[0;32m     39\u001b[0m         \u001b[1;31m# 스택 탐색 알고리즘을 이용하여 가장 뒷 단계 Variable에서 정의된 노드 함수를 가져온다.\u001b[0m\u001b[1;33m\u001b[0m\u001b[1;33m\u001b[0m\u001b[1;33m\u001b[0m\u001b[0m\n\u001b[0;32m     40\u001b[0m         \u001b[1;31m# 즉, 역전파를 시작하기 위한 초기값을 준비한다.\u001b[0m\u001b[1;33m\u001b[0m\u001b[1;33m\u001b[0m\u001b[1;33m\u001b[0m\u001b[0m\n",
      "\u001b[1;32m<ipython-input-3-4bbfc7d865fa>\u001b[0m in \u001b[0;36m<lambda>\u001b[1;34m(x)\u001b[0m\n\u001b[0;32m     36\u001b[0m                 \u001b[0mfuncs\u001b[0m\u001b[1;33m.\u001b[0m\u001b[0mappend\u001b[0m\u001b[1;33m(\u001b[0m\u001b[0mfunc\u001b[0m\u001b[1;33m)\u001b[0m\u001b[1;33m\u001b[0m\u001b[1;33m\u001b[0m\u001b[0m\n\u001b[0;32m     37\u001b[0m                 \u001b[0mseen_set\u001b[0m\u001b[1;33m.\u001b[0m\u001b[0madd\u001b[0m\u001b[1;33m(\u001b[0m\u001b[0mfunc\u001b[0m\u001b[1;33m)\u001b[0m\u001b[1;33m\u001b[0m\u001b[1;33m\u001b[0m\u001b[0m\n\u001b[1;32m---> 38\u001b[1;33m                 \u001b[0mfuncs\u001b[0m\u001b[1;33m.\u001b[0m\u001b[0msort\u001b[0m\u001b[1;33m(\u001b[0m\u001b[0mkey\u001b[0m \u001b[1;33m=\u001b[0m \u001b[1;32mlambda\u001b[0m \u001b[0mx\u001b[0m \u001b[1;33m:\u001b[0m \u001b[0mx\u001b[0m\u001b[1;33m.\u001b[0m\u001b[0mgeneration\u001b[0m\u001b[1;33m)\u001b[0m\u001b[1;33m\u001b[0m\u001b[1;33m\u001b[0m\u001b[0m\n\u001b[0m\u001b[0;32m     39\u001b[0m         \u001b[1;31m# 스택 탐색 알고리즘을 이용하여 가장 뒷 단계 Variable에서 정의된 노드 함수를 가져온다.\u001b[0m\u001b[1;33m\u001b[0m\u001b[1;33m\u001b[0m\u001b[1;33m\u001b[0m\u001b[0m\n\u001b[0;32m     40\u001b[0m         \u001b[1;31m# 즉, 역전파를 시작하기 위한 초기값을 준비한다.\u001b[0m\u001b[1;33m\u001b[0m\u001b[1;33m\u001b[0m\u001b[1;33m\u001b[0m\u001b[0m\n",
      "\u001b[1;31mAttributeError\u001b[0m: 'NoneType' object has no attribute 'generation'"
     ]
    }
   ],
   "source": [
    "x.backward()"
   ]
  },
  {
   "cell_type": "code",
   "execution_count": 228,
   "id": "404269b0",
   "metadata": {},
   "outputs": [],
   "source": [
    "#z = rosenbrock(x_0, x_1)"
   ]
  },
  {
   "cell_type": "code",
   "execution_count": 229,
   "id": "ee792846",
   "metadata": {},
   "outputs": [],
   "source": [
    "#z = goldstein(x_0, x_1)"
   ]
  },
  {
   "cell_type": "code",
   "execution_count": 230,
   "id": "0f3f546d",
   "metadata": {},
   "outputs": [],
   "source": [
    "x_0 = Variable(np.array([[1,2,3],[4,5,6]]))\n",
    "x_1 = Variable(np.array(1.0))"
   ]
  },
  {
   "cell_type": "code",
   "execution_count": 297,
   "id": "b5dc0cdb",
   "metadata": {},
   "outputs": [],
   "source": [
    "x_0 = reshape(x_0, [6,])"
   ]
  },
  {
   "cell_type": "code",
   "execution_count": 302,
   "id": "ddeff73b",
   "metadata": {},
   "outputs": [],
   "source": [
    "x_0.backward()"
   ]
  },
  {
   "cell_type": "code",
   "execution_count": 304,
   "id": "d6135e2c",
   "metadata": {},
   "outputs": [
    {
     "data": {
      "text/plain": [
       "array([1, 1, 1, 1, 1, 1])"
      ]
     },
     "execution_count": 304,
     "metadata": {},
     "output_type": "execute_result"
    }
   ],
   "source": [
    "x_0.grad.data"
   ]
  },
  {
   "cell_type": "code",
   "execution_count": 288,
   "id": "d0f4ca59",
   "metadata": {},
   "outputs": [],
   "source": [
    "def functions(x):\n",
    "    y = x ** 4 - 2 * x ** 2\n",
    "    return y"
   ]
  },
  {
   "cell_type": "code",
   "execution_count": 289,
   "id": "a1536ff2",
   "metadata": {},
   "outputs": [],
   "source": [
    "z = functions(x_0)"
   ]
  },
  {
   "cell_type": "code",
   "execution_count": 290,
   "id": "fcdccaba",
   "metadata": {},
   "outputs": [
    {
     "name": "stdout",
     "output_type": "stream",
     "text": [
      "24.0\n",
      "44.0\n"
     ]
    }
   ],
   "source": [
    "for i in range(0,2):\n",
    "    if i == 0:\n",
    "        z.backward()\n",
    "        print(x_0.grad.data)\n",
    "    else:\n",
    "        gx = x_0.grad\n",
    "        x_0.resetgrad()\n",
    "        gx.backward()\n",
    "        print(x_0.grad.data)"
   ]
  },
  {
   "cell_type": "code",
   "execution_count": 177,
   "id": "bc5edb27",
   "metadata": {},
   "outputs": [],
   "source": [
    "gx = x_0.grad"
   ]
  },
  {
   "cell_type": "code",
   "execution_count": 178,
   "id": "5314c479",
   "metadata": {},
   "outputs": [],
   "source": [
    "x_0.resetgrad()"
   ]
  },
  {
   "cell_type": "code",
   "execution_count": 179,
   "id": "cded8e58",
   "metadata": {},
   "outputs": [],
   "source": [
    "gx.backward()"
   ]
  },
  {
   "cell_type": "code",
   "execution_count": 180,
   "id": "de6940ec",
   "metadata": {},
   "outputs": [
    {
     "data": {
      "text/plain": [
       "array(0.54030231)"
      ]
     },
     "execution_count": 180,
     "metadata": {},
     "output_type": "execute_result"
    }
   ],
   "source": [
    "x_0.grad.data"
   ]
  },
  {
   "cell_type": "code",
   "execution_count": null,
   "id": "16922f65",
   "metadata": {},
   "outputs": [],
   "source": []
  }
 ],
 "metadata": {
  "kernelspec": {
   "display_name": "Python 3",
   "language": "python",
   "name": "python3"
  },
  "language_info": {
   "codemirror_mode": {
    "name": "ipython",
    "version": 3
   },
   "file_extension": ".py",
   "mimetype": "text/x-python",
   "name": "python",
   "nbconvert_exporter": "python",
   "pygments_lexer": "ipython3",
   "version": "3.8.5"
  }
 },
 "nbformat": 4,
 "nbformat_minor": 5
}
